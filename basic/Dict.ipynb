{
 "cells": [
  {
   "cell_type": "markdown",
   "metadata": {},
   "source": [
    "# Zadanie 1"
   ]
  },
  {
   "cell_type": "code",
   "execution_count": 5,
   "metadata": {},
   "outputs": [],
   "source": [
    "dict = {\n",
    "\"A\": \"Alfa\",\n",
    "\"B\": \"Bravo\",\n",
    "\"C\": \"Charlie\",\n",
    "\"D\": \"Delta\",\n",
    "\"E\": \"Echo\",\n",
    "\"F\": \"Foxtrot\",\n",
    "\"G\": \"Golf\",\n",
    "\"H\": \"Hotel\",\n",
    "\"I\": \"India\",\n",
    "\"J\": \"Juliet\",\n",
    "\"K\": \"Kilo\",\n",
    "\"L\": \"Lima\",\n",
    "\"M\": \"Mike\",\n",
    "\"N\": \"November\",\n",
    "\"O\": \"Oscar\",\n",
    "\"P\": \"Papa\",\n",
    "\"Q\": \"Quebec\",\n",
    "\"R\": \"Romeo\",\n",
    "\"S\": \"Sierra\",\n",
    "\"T\": \"Tango\",\n",
    "\"U\": \"Uniform\",\n",
    "\"V\": \"Victor\",\n",
    "\"W\": \"Whisky\",\n",
    "\"X\": \"X-Ray\",\n",
    "\"Y\": \"Yankee\",\n",
    "\"Z\": \"Zulu\"\n",
    "}"
   ]
  },
  {
   "cell_type": "code",
   "execution_count": 10,
   "metadata": {},
   "outputs": [
    {
     "name": "stdout",
     "output_type": "stream",
     "text": [
      "Wpisz litere: 1\n"
     ]
    }
   ],
   "source": [
    "litera = input('Wpisz litere: ').upper()\n"
   ]
  },
  {
   "cell_type": "code",
   "execution_count": 9,
   "metadata": {},
   "outputs": [
    {
     "data": {
      "text/plain": [
       "'Alfa'"
      ]
     },
     "execution_count": 9,
     "metadata": {},
     "output_type": "execute_result"
    }
   ],
   "source": [
    "dict.get(litera, \"Pilots don't say that\")"
   ]
  },
  {
   "cell_type": "code",
   "execution_count": null,
   "metadata": {},
   "outputs": [],
   "source": []
  }
 ],
 "metadata": {
  "kernelspec": {
   "display_name": "Python 3",
   "language": "python",
   "name": "python3"
  },
  "language_info": {
   "codemirror_mode": {
    "name": "ipython",
    "version": 3
   },
   "file_extension": ".py",
   "mimetype": "text/x-python",
   "name": "python",
   "nbconvert_exporter": "python",
   "pygments_lexer": "ipython3",
   "version": "3.7.0"
  }
 },
 "nbformat": 4,
 "nbformat_minor": 2
}
