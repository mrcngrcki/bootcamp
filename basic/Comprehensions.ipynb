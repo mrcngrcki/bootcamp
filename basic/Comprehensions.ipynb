{
 "cells": [
  {
   "cell_type": "code",
   "execution_count": 1,
   "metadata": {},
   "outputs": [],
   "source": [
    "# output = [<RETURN> for <VARIABLE> in <ITERABLE>]"
   ]
  },
  {
   "cell_type": "code",
   "execution_count": 1,
   "metadata": {},
   "outputs": [],
   "source": [
    "INPUT = [\n",
    "    ('Sepal length', 'Sepal width', 'Petal length', 'Petal width', 'Species'),\n",
    "    (5.8, 2.7, 5.1, 1.9, 'virginica'),\n",
    "    (5.1, 3.5, 1.4, 0.2, 'setosa'),\n",
    "    (5.7, 2.8, 4.1, 1.3, 'versicolor'),\n",
    "    (6.3, 2.9, 5.6, 1.8, 'virginica'),\n",
    "    (6.4, 3.2, 4.5, 1.5, 'versicolor'),\n",
    "    (4.7, 3.2, 1.3, 0.2, 'setosa'),\n",
    "    (7.0, 3.2, 4.7, 1.4, 'versicolor'),\n",
    "    (7.6, 3.0, 6.6, 2.1, 'virginica'),\n",
    "    (4.9, 3.0, 1.4, 0.2, 'setosa'),\n",
    "    (4.9, 2.5, 4.5, 1.7, 'virginica'),\n",
    "    (7.1, 3.0, 5.9, 2.1, 'virginica'),\n",
    "    (4.6, 3.4, 1.4, 0.3, 'setosa'),\n",
    "    (5.4, 3.9, 1.7, 0.4, 'setosa'),\n",
    "    (5.7, 2.8, 4.5, 1.3, 'versicolor'),\n",
    "    (5.0, 3.6, 1.4, 0.3, 'setosa'),\n",
    "    (5.5, 2.3, 4.0, 1.3, 'versicolor'),\n",
    "    (6.5, 3.0, 5.8, 2.2, 'virginica'),\n",
    "    (6.5, 2.8, 4.6, 1.5, 'versicolor'),\n",
    "    (6.3, 3.3, 6.0, 2.5, 'virginica'),\n",
    "    (6.9, 3.1, 4.9, 1.5, 'versicolor'),\n",
    "    (4.6, 3.1, 1.5, 0.2, 'setosa'),\n",
    "]"
   ]
  },
  {
   "cell_type": "code",
   "execution_count": 17,
   "metadata": {},
   "outputs": [],
   "source": [
    "headers, *data = INPUT"
   ]
  },
  {
   "cell_type": "code",
   "execution_count": 35,
   "metadata": {},
   "outputs": [],
   "source": [
    "LEARN_PERCENTAGE = 0.6\n",
    "\n",
    "split_point = int(LEARN_PERCENTAGE*len(data))"
   ]
  },
  {
   "cell_type": "code",
   "execution_count": 36,
   "metadata": {},
   "outputs": [],
   "source": [
    "features_learn = [tuple(X) for *X,y in data[:split_point]]\n",
    "features_test = [tuple(X) for *X,y in data[:split_point]]\n",
    "\n",
    "labels_learn = [y for *X,y in data[:split_point]]\n",
    "labels_test = [y for *X,y in data[:split_point]]"
   ]
  },
  {
   "cell_type": "code",
   "execution_count": 37,
   "metadata": {},
   "outputs": [],
   "source": [
    "OUTPUT = (features_learn,features_test,labels_learn,labels_test)"
   ]
  },
  {
   "cell_type": "code",
   "execution_count": 38,
   "metadata": {},
   "outputs": [
    {
     "data": {
      "text/plain": [
       "([(5.8, 2.7, 5.1, 1.9),\n",
       "  (5.1, 3.5, 1.4, 0.2),\n",
       "  (5.7, 2.8, 4.1, 1.3),\n",
       "  (6.3, 2.9, 5.6, 1.8),\n",
       "  (6.4, 3.2, 4.5, 1.5),\n",
       "  (4.7, 3.2, 1.3, 0.2),\n",
       "  (7.0, 3.2, 4.7, 1.4),\n",
       "  (7.6, 3.0, 6.6, 2.1),\n",
       "  (4.9, 3.0, 1.4, 0.2),\n",
       "  (4.9, 2.5, 4.5, 1.7),\n",
       "  (7.1, 3.0, 5.9, 2.1),\n",
       "  (4.6, 3.4, 1.4, 0.3)],\n",
       " [(5.8, 2.7, 5.1, 1.9),\n",
       "  (5.1, 3.5, 1.4, 0.2),\n",
       "  (5.7, 2.8, 4.1, 1.3),\n",
       "  (6.3, 2.9, 5.6, 1.8),\n",
       "  (6.4, 3.2, 4.5, 1.5),\n",
       "  (4.7, 3.2, 1.3, 0.2),\n",
       "  (7.0, 3.2, 4.7, 1.4),\n",
       "  (7.6, 3.0, 6.6, 2.1),\n",
       "  (4.9, 3.0, 1.4, 0.2),\n",
       "  (4.9, 2.5, 4.5, 1.7),\n",
       "  (7.1, 3.0, 5.9, 2.1),\n",
       "  (4.6, 3.4, 1.4, 0.3)],\n",
       " ['virginica',\n",
       "  'setosa',\n",
       "  'versicolor',\n",
       "  'virginica',\n",
       "  'versicolor',\n",
       "  'setosa',\n",
       "  'versicolor',\n",
       "  'virginica',\n",
       "  'setosa',\n",
       "  'virginica',\n",
       "  'virginica',\n",
       "  'setosa'],\n",
       " ['virginica',\n",
       "  'setosa',\n",
       "  'versicolor',\n",
       "  'virginica',\n",
       "  'versicolor',\n",
       "  'setosa',\n",
       "  'versicolor',\n",
       "  'virginica',\n",
       "  'setosa',\n",
       "  'virginica',\n",
       "  'virginica',\n",
       "  'setosa'])"
      ]
     },
     "execution_count": 38,
     "metadata": {},
     "output_type": "execute_result"
    }
   ],
   "source": [
    "OUTPUT"
   ]
  },
  {
   "cell_type": "code",
   "execution_count": null,
   "metadata": {},
   "outputs": [],
   "source": []
  }
 ],
 "metadata": {
  "kernelspec": {
   "display_name": "Python 3",
   "language": "python",
   "name": "python3"
  },
  "language_info": {
   "codemirror_mode": {
    "name": "ipython",
    "version": 3
   },
   "file_extension": ".py",
   "mimetype": "text/x-python",
   "name": "python",
   "nbconvert_exporter": "python",
   "pygments_lexer": "ipython3",
   "version": "3.7.0"
  }
 },
 "nbformat": 4,
 "nbformat_minor": 2
}
