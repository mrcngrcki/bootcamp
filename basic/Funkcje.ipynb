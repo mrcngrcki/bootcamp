{
 "cells": [
  {
   "cell_type": "markdown",
   "metadata": {},
   "source": [
    "# Zadanie 1"
   ]
  },
  {
   "cell_type": "code",
   "execution_count": null,
   "metadata": {},
   "outputs": [],
   "source": [
    "def hello():\n",
    "    print('Ehlo world')\n",
    "    \n",
    "for i in range(0,3):\n",
    "    hello()"
   ]
  },
  {
   "cell_type": "markdown",
   "metadata": {},
   "source": [
    "# Zadanie 2"
   ]
  },
  {
   "cell_type": "code",
   "execution_count": null,
   "metadata": {},
   "outputs": [],
   "source": [
    "def add():\n",
    "    return 42 + 21.37\n",
    "\n",
    "result = add()\n",
    "result"
   ]
  },
  {
   "cell_type": "markdown",
   "metadata": {},
   "source": [
    "# Zadanie 3"
   ]
  },
  {
   "cell_type": "code",
   "execution_count": null,
   "metadata": {},
   "outputs": [],
   "source": [
    "def divide(a,b):\n",
    "    try:\n",
    "        return a/b\n",
    "    except:\n",
    "        print('Cannot divide by zero!')"
   ]
  },
  {
   "cell_type": "code",
   "execution_count": null,
   "metadata": {},
   "outputs": [],
   "source": [
    "divide(10, 3)"
   ]
  },
  {
   "cell_type": "code",
   "execution_count": null,
   "metadata": {},
   "outputs": [],
   "source": [
    "divide(10, 0)"
   ]
  },
  {
   "cell_type": "markdown",
   "metadata": {},
   "source": [
    "# Zadanie 4"
   ]
  },
  {
   "cell_type": "code",
   "execution_count": null,
   "metadata": {},
   "outputs": [],
   "source": [
    "def power(a,b=None):\n",
    "    if b is None:\n",
    "        b = a\n",
    "    return a**b"
   ]
  },
  {
   "cell_type": "code",
   "execution_count": null,
   "metadata": {},
   "outputs": [],
   "source": [
    "power(3)"
   ]
  },
  {
   "cell_type": "code",
   "execution_count": null,
   "metadata": {},
   "outputs": [],
   "source": [
    "power(10,2)"
   ]
  },
  {
   "cell_type": "markdown",
   "metadata": {},
   "source": [
    "# Zadanie 6"
   ]
  },
  {
   "cell_type": "code",
   "execution_count": null,
   "metadata": {},
   "outputs": [],
   "source": [
    "def convert_speech(number):\n",
    "    dictionary = {0:\"zero\",\n",
    "    1:\"one\",\n",
    "    2:\"two\",\n",
    "    3:\"tree\",\n",
    "    4:\"fower\",\n",
    "    5:\"fife\",\n",
    "    6:\"six\",\n",
    "    7:\"seven\",\n",
    "    8:\"ait\",\n",
    "    9:\"niner\"}\n",
    "    \n",
    "    result = ''\n",
    "    for x in str(number):\n",
    "        if x.isnumeric():\n",
    "            result += ' ' + dictionary[int(x)]\n",
    "        elif x == '-':\n",
    "            result += ' minus'\n",
    "        elif x == '.':\n",
    "            result += ' and'\n",
    "            \n",
    "    return result.strip()"
   ]
  },
  {
   "cell_type": "code",
   "execution_count": null,
   "metadata": {},
   "outputs": [],
   "source": [
    "convert_speech(-13.37)"
   ]
  },
  {
   "cell_type": "code",
   "execution_count": null,
   "metadata": {},
   "outputs": [],
   "source": [
    "INPUT = [1969,\n",
    "31337,\n",
    "13.37,\n",
    "31.337,\n",
    "-1969,\n",
    "-31.337,\n",
    "-49.35]"
   ]
  },
  {
   "cell_type": "code",
   "execution_count": null,
   "metadata": {},
   "outputs": [],
   "source": [
    "result = [convert_speech(number) for number in INPUT]"
   ]
  },
  {
   "cell_type": "code",
   "execution_count": null,
   "metadata": {},
   "outputs": [],
   "source": [
    "result"
   ]
  },
  {
   "cell_type": "markdown",
   "metadata": {},
   "source": [
    "# Zadanie 7"
   ]
  },
  {
   "cell_type": "code",
   "execution_count": null,
   "metadata": {},
   "outputs": [],
   "source": [
    "INPUT = [\n",
    "    ('Sepal length', 'Sepal width', 'Petal length', 'Petal width', 'Species'),\n",
    "    (5.8, 2.7, 5.1, 1.9, 'virginica'),\n",
    "    (5.1, 3.5, 1.4, 0.2, 'setosa'),\n",
    "    (5.7, 2.8, 4.1, 1.3, 'versicolor'),\n",
    "    (6.3, 2.9, 5.6, 1.8, 'virginica'),\n",
    "    (6.4, 3.2, 4.5, 1.5, 'versicolor'),\n",
    "    (4.7, 3.2, 1.3, 0.2, 'setosa'),\n",
    "    (7.0, 3.2, 4.7, 1.4, 'versicolor'),\n",
    "    (7.6, 3.0, 6.6, 2.1, 'virginica'),\n",
    "    (4.9, 3.0, 1.4, 0.2, 'setosa'),\n",
    "]\n",
    "\n",
    "WANTED = {'setosa, versicolor'}\n",
    "\n",
    "data = INPUT[1:]\n",
    "\n",
    "features = []\n",
    "labels = []\n"
   ]
  },
  {
   "cell_type": "code",
   "execution_count": null,
   "metadata": {},
   "outputs": [],
   "source": [
    "for element in data:\n",
    "    *measurements, label = element\n",
    "    features.append(measurements)\n",
    "    labels.append(label)\n",
    "    "
   ]
  },
  {
   "cell_type": "code",
   "execution_count": null,
   "metadata": {},
   "outputs": [],
   "source": [
    "features"
   ]
  },
  {
   "cell_type": "code",
   "execution_count": null,
   "metadata": {},
   "outputs": [],
   "source": [
    "def sum_if_wanted(features, labels):\n",
    "    i = 0\n",
    "    for label in labels:\n",
    "        print(label)\n",
    "        if label in WANTED:\n",
    "            print(sum(features[i]))\n",
    "        else:\n",
    "            print(0)\n",
    "        i += 1\n",
    "        print(i)"
   ]
  },
  {
   "cell_type": "code",
   "execution_count": null,
   "metadata": {},
   "outputs": [],
   "source": [
    "sum_if_wanted(features, labels)"
   ]
  },
  {
   "cell_type": "markdown",
   "metadata": {},
   "source": [
    "# Doctests"
   ]
  },
  {
   "cell_type": "code",
   "execution_count": 1,
   "metadata": {},
   "outputs": [
    {
     "data": {
      "text/plain": [
       "TestResults(failed=0, attempted=0)"
      ]
     },
     "execution_count": 1,
     "metadata": {},
     "output_type": "execute_result"
    }
   ],
   "source": [
    "import doctest\n",
    "doctest.testmod()"
   ]
  },
  {
   "cell_type": "code",
   "execution_count": null,
   "metadata": {},
   "outputs": [],
   "source": [
    "AGE_ADULT = 18\n",
    "\n",
    "def is_adult(age):\n",
    "    \"\"\"\n",
    "    Function checks if person is adult.\n",
    "    Adult person is over 18 years old.\n",
    "\n",
    "    >>> is_adult(18)\n",
    "    True\n",
    "\n",
    "    >>> is_adult(17.9)\n",
    "    False\n",
    "    \"\"\"\n",
    "    if age >= AGE_ADULT:\n",
    "        return True\n",
    "    else:\n",
    "        return False"
   ]
  },
  {
   "cell_type": "code",
   "execution_count": null,
   "metadata": {},
   "outputs": [],
   "source": [
    "doctest.testmod()"
   ]
  },
  {
   "cell_type": "code",
   "execution_count": 2,
   "metadata": {},
   "outputs": [
    {
     "data": {
      "text/plain": [
       "[('a', 99, 1), ('b', 88, 2), ('c', 77, 3), ('d', 66, 4)]"
      ]
     },
     "execution_count": 2,
     "metadata": {},
     "output_type": "execute_result"
    }
   ],
   "source": [
    "header = ['a','b','c','d']\n",
    "data = [99,88,77,66,55]\n",
    "row = [1,2,3,4]\n",
    "[(k,v,r) for k,v,r in zip(header,data,row)]"
   ]
  },
  {
   "cell_type": "code",
   "execution_count": 5,
   "metadata": {},
   "outputs": [
    {
     "data": {
      "text/plain": [
       "TestResults(failed=0, attempted=5)"
      ]
     },
     "execution_count": 5,
     "metadata": {},
     "output_type": "execute_result"
    }
   ],
   "source": [
    "def add_numbers(a,b):\n",
    "    \"\"\"\n",
    "    >>> add_numbers(1,0)\n",
    "    1\n",
    "    >>> add_numbers(-1,1)\n",
    "    0\n",
    "    >>> add_numbers(1.5,2.5)\n",
    "    4.0\n",
    "    >>> add_numbers('a','b')\n",
    "    Traceback (most recent call last):\n",
    "        ...\n",
    "    TypeError: A is not a number\n",
    "    >>> add_numbers(True,1)\n",
    "    Traceback (most recent call last):\n",
    "        ...\n",
    "    TypeError: A is not a number\n",
    "    \"\"\"\n",
    "    if type(a) not in (float,int):\n",
    "        raise TypeError('A is not a number')\n",
    "    \n",
    "    if type(b) not in (float,int):\n",
    "        raise TypeError('B is not a number')\n",
    "        \n",
    "    return a+b\n",
    "\n",
    "doctest.testmod()"
   ]
  },
  {
   "cell_type": "markdown",
   "metadata": {},
   "source": [
    "## Zadanie 1"
   ]
  },
  {
   "cell_type": "code",
   "execution_count": 19,
   "metadata": {},
   "outputs": [
    {
     "name": "stdout",
     "output_type": "stream",
     "text": [
      "**********************************************************************\n",
      "File \"__main__\", line 15, in __main__.celsius_to_kelvin\n",
      "Failed example:\n",
      "    celsius_to_kelvin((0, 1))\n",
      "Exception raised:\n",
      "    Traceback (most recent call last):\n",
      "      File \"/home/kodolamacz/anaconda3/lib/python3.7/doctest.py\", line 1329, in __run\n",
      "        compileflags, 1), test.globs)\n",
      "      File \"<doctest __main__.celsius_to_kelvin[5]>\", line 1, in <module>\n",
      "        celsius_to_kelvin((0, 1))\n",
      "      File \"<ipython-input-19-1e3d95645037>\", line 29, in celsius_to_kelvin\n",
      "        degrees[i] += kelvin\n",
      "    TypeError: 'tuple' object does not support item assignment\n",
      "**********************************************************************\n",
      "File \"__main__\", line 17, in __main__.celsius_to_kelvin\n",
      "Failed example:\n",
      "    celsius_to_kelvin({0, 1})\n",
      "Exception raised:\n",
      "    Traceback (most recent call last):\n",
      "      File \"/home/kodolamacz/anaconda3/lib/python3.7/doctest.py\", line 1329, in __run\n",
      "        compileflags, 1), test.globs)\n",
      "      File \"<doctest __main__.celsius_to_kelvin[6]>\", line 1, in <module>\n",
      "        celsius_to_kelvin({0, 1})\n",
      "      File \"<ipython-input-19-1e3d95645037>\", line 29, in celsius_to_kelvin\n",
      "        degrees[i] += kelvin\n",
      "    TypeError: 'set' object does not support indexing\n",
      "**********************************************************************\n",
      "1 items had failures:\n",
      "   2 of   7 in __main__.celsius_to_kelvin\n",
      "***Test Failed*** 2 failures.\n"
     ]
    },
    {
     "data": {
      "text/plain": [
       "TestResults(failed=2, attempted=12)"
      ]
     },
     "execution_count": 19,
     "metadata": {},
     "output_type": "execute_result"
    }
   ],
   "source": [
    "def celsius_to_kelvin(degrees):\n",
    "    \"\"\"\n",
    "    >>> celsius_to_kelvin(0)\n",
    "    273.15\n",
    "    >>> celsius_to_kelvin(1)\n",
    "    274.15\n",
    "    >>> celsius_to_kelvin(-1)\n",
    "    272.15\n",
    "    >>> celsius_to_kelvin('a')\n",
    "    Traceback (most recent call last):\n",
    "        ...\n",
    "    TypeError: Invalid argument\n",
    "    >>> celsius_to_kelvin([0, 1])\n",
    "    [273.15, 274.15]\n",
    "    >>> celsius_to_kelvin((0, 1))\n",
    "    (273.15, 274.15)\n",
    "    >>> celsius_to_kelvin({0, 1})\n",
    "    {273.15, 274.15}\n",
    "    \"\"\"\n",
    "    kelvin = 273.15\n",
    "    \n",
    "    if type(degrees) in (int, float):\n",
    "        return degrees + kelvin\n",
    "    \n",
    "    if type(degrees) == str:\n",
    "        raise TypeError('Invalid argument')\n",
    "    \n",
    "    for i in range(0,len(degrees)):\n",
    "        degrees[i] += kelvin\n",
    "        \n",
    "    \n",
    "    return degrees\n",
    "\n",
    "doctest.testmod()"
   ]
  },
  {
   "cell_type": "code",
   "execution_count": null,
   "metadata": {},
   "outputs": [],
   "source": []
  }
 ],
 "metadata": {
  "kernelspec": {
   "display_name": "Python 3",
   "language": "python",
   "name": "python3"
  },
  "language_info": {
   "codemirror_mode": {
    "name": "ipython",
    "version": 3
   },
   "file_extension": ".py",
   "mimetype": "text/x-python",
   "name": "python",
   "nbconvert_exporter": "python",
   "pygments_lexer": "ipython3",
   "version": "3.7.0"
  }
 },
 "nbformat": 4,
 "nbformat_minor": 2
}
