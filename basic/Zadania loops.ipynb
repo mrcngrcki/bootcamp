{
 "cells": [
  {
   "cell_type": "markdown",
   "metadata": {},
   "source": [
    "# Zadanie while"
   ]
  },
  {
   "cell_type": "code",
   "execution_count": 2,
   "metadata": {},
   "outputs": [],
   "source": [
    "INPUT = (2, 3, 3.5, 4, 4.5, 5)"
   ]
  },
  {
   "cell_type": "code",
   "execution_count": 15,
   "metadata": {},
   "outputs": [],
   "source": [
    "i = 0\n",
    "degreesList = []\n",
    "while i < len(INPUT):\n",
    "    degreesList.append(float(INPUT[i]))\n",
    "    i += 1"
   ]
  },
  {
   "cell_type": "code",
   "execution_count": 16,
   "metadata": {},
   "outputs": [
    {
     "data": {
      "text/plain": [
       "[2.0, 3.0, 3.5, 4.0, 4.5, 5.0]"
      ]
     },
     "execution_count": 16,
     "metadata": {},
     "output_type": "execute_result"
    }
   ],
   "source": [
    "degreesList"
   ]
  },
  {
   "cell_type": "code",
   "execution_count": 19,
   "metadata": {},
   "outputs": [
    {
     "name": "stdout",
     "output_type": "stream",
     "text": [
      "Podaj ocene: 5\n",
      "Podaj ocene: 5\n",
      "Podaj ocene: 5\n",
      "Podaj ocene: 4\n",
      "Podaj ocene: 3\n",
      "Podaj ocene: 4\n",
      "Podaj ocene: \n",
      "4.333333333333333\n"
     ]
    }
   ],
   "source": [
    "while True:\n",
    "    degree = input('Podaj ocene: ')\n",
    "    if not degree:\n",
    "        break\n",
    "    \n",
    "    degree = float(degree)\n",
    "    \n",
    "    if degree in degreesList:\n",
    "        sum += degree\n",
    "        counter += 1\n",
    "    else:\n",
    "        print('Grade is not allowed')\n",
    "        \n",
    "mean = sum/counter\n",
    "print(mean)\n",
    "    "
   ]
  },
  {
   "cell_type": "code",
   "execution_count": 18,
   "metadata": {},
   "outputs": [
    {
     "data": {
      "text/plain": [
       "3.5"
      ]
     },
     "execution_count": 18,
     "metadata": {},
     "output_type": "execute_result"
    }
   ],
   "source": [
    "mean"
   ]
  },
  {
   "cell_type": "markdown",
   "metadata": {},
   "source": [
    "# Petla for"
   ]
  },
  {
   "cell_type": "markdown",
   "metadata": {},
   "source": [
    "## Zadanie 1"
   ]
  },
  {
   "cell_type": "code",
   "execution_count": 28,
   "metadata": {},
   "outputs": [],
   "source": [
    "INPUT = [1, 4, 6, 7, 4, 4, 4, 5, 1, 7, 0,\n",
    "         0, 6, 5, 0, 0, 9, 7, 0, 4, 4, 8,\n",
    "         2, 4, 0, 0, 1, 9, 1, 7, 8, 8, 9,\n",
    "         1, 3, 5, 6, 8, 2, 8, 1, 3, 9, 5,\n",
    "         4, 8, 1, 9, 6, 3]\n",
    "OUTPUT = {}"
   ]
  },
  {
   "cell_type": "code",
   "execution_count": 29,
   "metadata": {},
   "outputs": [
    {
     "data": {
      "text/plain": [
       "{1: 7, 4: 8, 6: 4, 7: 4, 5: 4, 0: 7, 9: 5, 8: 6, 2: 2, 3: 3}"
      ]
     },
     "execution_count": 29,
     "metadata": {},
     "output_type": "execute_result"
    }
   ],
   "source": [
    "for number in INPUT:\n",
    "    if number in OUTPUT:\n",
    "        OUTPUT[number] += 1\n",
    "    else:\n",
    "        OUTPUT[number] = 1\n",
    "    \n",
    "OUTPUT"
   ]
  },
  {
   "cell_type": "markdown",
   "metadata": {},
   "source": [
    "## Zadanie 2"
   ]
  },
  {
   "cell_type": "code",
   "execution_count": 32,
   "metadata": {},
   "outputs": [],
   "source": [
    "INPUT = [1, 4, 6, 7, 4, 4, 4, 5, 1, 7, 0,\n",
    "         0, 6, 5, 0, 0, 9, 7, 0, 4, 4, 8,\n",
    "         2, 4, 0, 0, 1, 9, 1, 7, 8, 8, 9,\n",
    "         1, 3, 5, 6, 8, 2, 8, 1, 3, 9, 5,\n",
    "         4, 8, 1, 9, 6, 3]\n",
    "OUTPUT = {\n",
    "    'small': 0,\n",
    "    'medium': 0,\n",
    "    'large': 0\n",
    "}"
   ]
  },
  {
   "cell_type": "code",
   "execution_count": 34,
   "metadata": {},
   "outputs": [
    {
     "data": {
      "text/plain": [
       "{'small': 32, 'medium': 57, 'large': 11}"
      ]
     },
     "execution_count": 34,
     "metadata": {},
     "output_type": "execute_result"
    }
   ],
   "source": [
    "for liczba in INPUT:\n",
    "    if 0 <= liczba <=2:\n",
    "        OUTPUT['small'] += 1\n",
    "    elif 3 <= liczba <= 7:\n",
    "        OUTPUT['medium'] += 1\n",
    "    elif 8 <= liczba <= 9:\n",
    "        OUTPUT['large'] += 1\n",
    "        \n",
    "OUTPUT"
   ]
  },
  {
   "cell_type": "markdown",
   "metadata": {},
   "source": [
    "## Zadanie 3"
   ]
  },
  {
   "cell_type": "code",
   "execution_count": 35,
   "metadata": {},
   "outputs": [],
   "source": [
    "TEXT = 'We choose to go to the Moon. We choose to go to the Moon in this decade and do the other things. Not because they are easy, but because they are hard. Because that goal will serve to organize and measure the best of our energies and skills. Because that challenge is one that we are willing to accept. One we are unwilling to postpone. And one we intend to win'"
   ]
  },
  {
   "cell_type": "code",
   "execution_count": 36,
   "metadata": {},
   "outputs": [
    {
     "data": {
      "text/plain": [
       "'We choose to go to the Moon. We choose to go to the Moon in this decade and do the other things. Not because they are easy, but because they are hard. Because that goal will serve to organize and measure the best of our energies and skills. Because that challenge is one that we are willing to accept. One we are unwilling to postpone. And one we intend to win'"
      ]
     },
     "execution_count": 36,
     "metadata": {},
     "output_type": "execute_result"
    }
   ],
   "source": [
    "TEXT"
   ]
  },
  {
   "cell_type": "code",
   "execution_count": 84,
   "metadata": {},
   "outputs": [],
   "source": [
    "zdania = TEXT.split('.')\n",
    "zdania\n",
    "\n",
    "SLOWNIK = {}\n",
    "przyslowki = 0\n",
    "sumaSlow = 0"
   ]
  },
  {
   "cell_type": "code",
   "execution_count": 87,
   "metadata": {},
   "outputs": [
    {
     "data": {
      "text/plain": [
       "{'We choose to go to the Moon': 7,\n",
       " 'We choose to go to the Moon in this decade and do the other things': 15,\n",
       " 'Not because they are easy, but because they are hard': 10,\n",
       " 'Because that goal will serve to organize and measure the best of our energies and skills': 16,\n",
       " 'Because that challenge is one that we are willing to accept': 11,\n",
       " 'One we are unwilling to postpone': 6,\n",
       " 'And one we intend to win': 6}"
      ]
     },
     "execution_count": 87,
     "metadata": {},
     "output_type": "execute_result"
    }
   ],
   "source": [
    "for zdanie in zdania:\n",
    "    zdanie = zdanie.strip()\n",
    "    slowaWzdaniu = zdanie.split( )\n",
    "    liczbaSlow = len(slowaWzdaniu)\n",
    "    sumaSlow += liczbaSlow\n",
    "    SLOWNIK[zdanie] = liczbaSlow\n",
    "    \n",
    "    for slowo in slowaWzdaniu:\n",
    "        if slowo.endswith('ly'):\n",
    "            przyslowki += 1\n",
    "        \n",
    "    \n",
    "    \n",
    "SLOWNIK"
   ]
  },
  {
   "cell_type": "code",
   "execution_count": 88,
   "metadata": {},
   "outputs": [
    {
     "name": "stdout",
     "output_type": "stream",
     "text": [
      "liczba przyslowkow: 0\n",
      "liczba zdan: 7\n",
      "liczba slow: 142\n"
     ]
    }
   ],
   "source": [
    "print(f'liczba przyslowkow: {przyslowki}')\n",
    "print(f'liczba zdan: {len(zdania)}')\n",
    "print(f'liczba slow: {sumaSlow}')"
   ]
  },
  {
   "cell_type": "markdown",
   "metadata": {},
   "source": [
    "# Nested\n",
    "## Zadanie 1"
   ]
  },
  {
   "cell_type": "code",
   "execution_count": 105,
   "metadata": {},
   "outputs": [],
   "source": [
    "INPUT = [\n",
    "    ('Sepal length', 'Sepal width', 'Petal length', 'Petal width', 'Species'),\n",
    "    (5.8, 2.7, 5.1, 1.9, {'virginica'}),\n",
    "    (5.1, 3.5, 1.4, 0.2, {'setosa'}),\n",
    "    (5.7, 2.8, 4.1, 1.3, {'versicolor'}),\n",
    "    (6.3, 2.9, 5.6, 1.8, {'virginica'}),\n",
    "    (6.4, 3.2, 4.5, 1.5, {'versicolor'}),\n",
    "    (4.7, 3.2, 1.3, 0.2, {'setosa'}),\n",
    "    (7.0, 3.2, 4.7, 1.4, {'versicolor'}),\n",
    "    (7.6, 3.0, 6.6, 2.1, {'virginica'}),\n",
    "    (4.6, 3.1, 1.5, 0.2, {'setosa'}),\n",
    "]"
   ]
  },
  {
   "cell_type": "code",
   "execution_count": 90,
   "metadata": {},
   "outputs": [],
   "source": [
    "header = INPUT[0]"
   ]
  },
  {
   "cell_type": "code",
   "execution_count": 91,
   "metadata": {},
   "outputs": [
    {
     "data": {
      "text/plain": [
       "[(5.8, 2.7, 5.1, 1.9, {'virginica'}),\n",
       " (5.1, 3.5, 1.4, 0.2, {'setosa'}),\n",
       " (5.7, 2.8, 4.1, 1.3, {'versicolor'}),\n",
       " (6.3, 2.9, 5.6, 1.8, {'virginica'}),\n",
       " (6.4, 3.2, 4.5, 1.5, {'versicolor'}),\n",
       " (4.7, 3.2, 1.3, 0.2, {'setosa'}),\n",
       " (7.0, 3.2, 4.7, 1.4, {'versicolor'}),\n",
       " (7.6, 3.0, 6.6, 2.1, {'virginica'}),\n",
       " (4.6, 3.1, 1.5, 0.2, {'setosa'})]"
      ]
     },
     "execution_count": 91,
     "metadata": {},
     "output_type": "execute_result"
    }
   ],
   "source": [
    "data = INPUT[1:]\n",
    "data"
   ]
  },
  {
   "cell_type": "code",
   "execution_count": 101,
   "metadata": {},
   "outputs": [
    {
     "name": "stdout",
     "output_type": "stream",
     "text": [
      "virginica\n",
      "setosa\n",
      "virginica\n",
      "setosa\n",
      "virginica\n",
      "setosa\n"
     ]
    }
   ],
   "source": [
    "for row in data:\n",
    "    for info in row:\n",
    "        if isinstance(info, set):\n",
    "            for word in info:\n",
    "                if word.endswith('ca') or word.endswith('sa'):\n",
    "                    print(word)"
   ]
  },
  {
   "cell_type": "code",
   "execution_count": 106,
   "metadata": {},
   "outputs": [
    {
     "name": "stdout",
     "output_type": "stream",
     "text": [
      "virginica\n",
      "setosa\n",
      "virginica\n",
      "setosa\n",
      "virginica\n",
      "setosa\n"
     ]
    }
   ],
   "source": [
    "header, *data = INPUT\n",
    "\n",
    "for *pomiary, gatunek in data:\n",
    "    #pop pobiera ostatni element (i go kasuje)\n",
    "    gatunek = gatunek.pop()\n",
    "    \n",
    "    if gatunek.endswith('ca') or gatunek.endswith('sa'):\n",
    "        print(gatunek)"
   ]
  },
  {
   "cell_type": "markdown",
   "metadata": {},
   "source": [
    "## Zadanie 2"
   ]
  },
  {
   "cell_type": "code",
   "execution_count": 107,
   "metadata": {},
   "outputs": [],
   "source": [
    "INPUT = [\n",
    "    {'Sepal length': 5.1, 'Sepal width': 3.5, 'Species': 'setosa'},\n",
    "    {'Petal length': 4.1, 'Petal width': 1.3, 'Species': 'versicolor'},\n",
    "    {'Sepal length': 6.3, 'Petal width': 1.8, 'Species': 'virginica'},\n",
    "    {'Sepal length': 5.0, 'Petal width': 0.2, 'Species': 'setosa'},\n",
    "    {'Sepal width': 2.8, 'Petal length': 4.1, 'Species': 'versicolor'},\n",
    "    {'Sepal width': 2.9, 'Petal width': 1.8, 'Species': 'virginica'},\n",
    "]"
   ]
  },
  {
   "cell_type": "code",
   "execution_count": 108,
   "metadata": {},
   "outputs": [],
   "source": [
    "klucze = set()\n",
    "\n",
    "for row in INPUT:\n",
    "    klucze.update(row.keys())"
   ]
  },
  {
   "cell_type": "code",
   "execution_count": 109,
   "metadata": {},
   "outputs": [
    {
     "data": {
      "text/plain": [
       "{'Petal length', 'Petal width', 'Sepal length', 'Sepal width', 'Species'}"
      ]
     },
     "execution_count": 109,
     "metadata": {},
     "output_type": "execute_result"
    }
   ],
   "source": [
    "klucze"
   ]
  },
  {
   "cell_type": "markdown",
   "metadata": {},
   "source": [
    "# Loop over dict"
   ]
  },
  {
   "cell_type": "markdown",
   "metadata": {},
   "source": [
    "## Zadanie 1"
   ]
  },
  {
   "cell_type": "code",
   "execution_count": 120,
   "metadata": {},
   "outputs": [],
   "source": [
    "INPUT = {\n",
    "    6: ['Doctorate', 'Prof-school'],\n",
    "    5: ['Masters', 'Bachelor', 'Engineer'],\n",
    "    4: ['HS-grad'],\n",
    "    3: ['Junior High'],\n",
    "    2: ['Primary School'],\n",
    "    1: ['Kindergarten'],\n",
    "}\n",
    "\n",
    "OUTPUT2 = {}"
   ]
  },
  {
   "cell_type": "code",
   "execution_count": 121,
   "metadata": {},
   "outputs": [],
   "source": [
    "for key, value in INPUT.items():\n",
    "    for degree in value:\n",
    "        OUTPUT2[degree] = str(key)"
   ]
  },
  {
   "cell_type": "code",
   "execution_count": 122,
   "metadata": {},
   "outputs": [
    {
     "data": {
      "text/plain": [
       "{'Doctorate': '6',\n",
       " 'Prof-school': '6',\n",
       " 'Masters': '5',\n",
       " 'Bachelor': '5',\n",
       " 'Engineer': '5',\n",
       " 'HS-grad': '4',\n",
       " 'Junior High': '3',\n",
       " 'Primary School': '2',\n",
       " 'Kindergarten': '1'}"
      ]
     },
     "execution_count": 122,
     "metadata": {},
     "output_type": "execute_result"
    }
   ],
   "source": [
    "OUTPUT2"
   ]
  },
  {
   "cell_type": "markdown",
   "metadata": {},
   "source": [
    "## Zadanie 2"
   ]
  },
  {
   "cell_type": "code",
   "execution_count": 126,
   "metadata": {},
   "outputs": [],
   "source": [
    "INPUT = [\n",
    "    ('Sepal length', 'Sepal width', 'Petal length', 'Petal width', 'Species'),\n",
    "    (5.8, 2.7, 5.1, 1.9, 'virginica'),\n",
    "    (5.1, 3.5, 1.4, 0.2, 'setosa'),\n",
    "    (5.7, 2.8, 4.1, 1.3, 'versicolor'),\n",
    "    (6.3, 2.9, 5.6, 1.8, 'virginica'),\n",
    "    (6.4, 3.2, 4.5, 1.5, 'versicolor'),\n",
    "    (4.7, 3.2, 1.3, 0.2, 'setosa'),\n",
    "    (7.0, 3.2, 4.7, 1.4, 'versicolor'),\n",
    "    (7.6, 3.0, 6.6, 2.1, 'virginica'),\n",
    "    (4.9, 3.0, 1.4, 0.2, 'setosa'),\n",
    "    (4.9, 2.5, 4.5, 1.7, 'virginica'),\n",
    "    (7.1, 3.0, 5.9, 2.1, 'virginica'),\n",
    "    (4.6, 3.4, 1.4, 0.3, 'setosa'),\n",
    "    (5.4, 3.9, 1.7, 0.4, 'setosa'),\n",
    "    (5.7, 2.8, 4.5, 1.3, 'versicolor'),\n",
    "    (5.0, 3.6, 1.4, 0.3, 'setosa'),\n",
    "    (5.5, 2.3, 4.0, 1.3, 'versicolor'),\n",
    "    (6.5, 3.0, 5.8, 2.2, 'virginica'),\n",
    "    (6.5, 2.8, 4.6, 1.5, 'versicolor'),\n",
    "    (6.3, 3.3, 6.0, 2.5, 'virginica'),\n",
    "    (6.9, 3.1, 4.9, 1.5, 'versicolor'),\n",
    "    (4.6, 3.1, 1.5, 0.2, 'setosa'),\n",
    "]"
   ]
  },
  {
   "cell_type": "code",
   "execution_count": 127,
   "metadata": {},
   "outputs": [],
   "source": [
    "header, *data = INPUT"
   ]
  },
  {
   "cell_type": "code",
   "execution_count": 128,
   "metadata": {},
   "outputs": [
    {
     "data": {
      "text/plain": [
       "('Sepal length', 'Sepal width', 'Petal length', 'Petal width', 'Species')"
      ]
     },
     "execution_count": 128,
     "metadata": {},
     "output_type": "execute_result"
    }
   ],
   "source": [
    "header"
   ]
  },
  {
   "cell_type": "code",
   "execution_count": 129,
   "metadata": {},
   "outputs": [
    {
     "data": {
      "text/plain": [
       "[(5.8, 2.7, 5.1, 1.9, 'virginica'),\n",
       " (5.1, 3.5, 1.4, 0.2, 'setosa'),\n",
       " (5.7, 2.8, 4.1, 1.3, 'versicolor'),\n",
       " (6.3, 2.9, 5.6, 1.8, 'virginica'),\n",
       " (6.4, 3.2, 4.5, 1.5, 'versicolor'),\n",
       " (4.7, 3.2, 1.3, 0.2, 'setosa'),\n",
       " (7.0, 3.2, 4.7, 1.4, 'versicolor'),\n",
       " (7.6, 3.0, 6.6, 2.1, 'virginica'),\n",
       " (4.9, 3.0, 1.4, 0.2, 'setosa'),\n",
       " (4.9, 2.5, 4.5, 1.7, 'virginica'),\n",
       " (7.1, 3.0, 5.9, 2.1, 'virginica'),\n",
       " (4.6, 3.4, 1.4, 0.3, 'setosa'),\n",
       " (5.4, 3.9, 1.7, 0.4, 'setosa'),\n",
       " (5.7, 2.8, 4.5, 1.3, 'versicolor'),\n",
       " (5.0, 3.6, 1.4, 0.3, 'setosa'),\n",
       " (5.5, 2.3, 4.0, 1.3, 'versicolor'),\n",
       " (6.5, 3.0, 5.8, 2.2, 'virginica'),\n",
       " (6.5, 2.8, 4.6, 1.5, 'versicolor'),\n",
       " (6.3, 3.3, 6.0, 2.5, 'virginica'),\n",
       " (6.9, 3.1, 4.9, 1.5, 'versicolor'),\n",
       " (4.6, 3.1, 1.5, 0.2, 'setosa')]"
      ]
     },
     "execution_count": 129,
     "metadata": {},
     "output_type": "execute_result"
    }
   ],
   "source": [
    "data"
   ]
  },
  {
   "cell_type": "code",
   "execution_count": 134,
   "metadata": {},
   "outputs": [],
   "source": [
    "OUTPUT3 = []"
   ]
  },
  {
   "cell_type": "code",
   "execution_count": 135,
   "metadata": {},
   "outputs": [],
   "source": [
    "for row in data:\n",
    "    pairs = zip(header, row)\n",
    "    OUTPUT3.append(dict(pairs))"
   ]
  },
  {
   "cell_type": "code",
   "execution_count": 136,
   "metadata": {},
   "outputs": [
    {
     "data": {
      "text/plain": [
       "[{'Sepal length': 5.8,\n",
       "  'Sepal width': 2.7,\n",
       "  'Petal length': 5.1,\n",
       "  'Petal width': 1.9,\n",
       "  'Species': 'virginica'},\n",
       " {'Sepal length': 5.1,\n",
       "  'Sepal width': 3.5,\n",
       "  'Petal length': 1.4,\n",
       "  'Petal width': 0.2,\n",
       "  'Species': 'setosa'},\n",
       " {'Sepal length': 5.7,\n",
       "  'Sepal width': 2.8,\n",
       "  'Petal length': 4.1,\n",
       "  'Petal width': 1.3,\n",
       "  'Species': 'versicolor'},\n",
       " {'Sepal length': 6.3,\n",
       "  'Sepal width': 2.9,\n",
       "  'Petal length': 5.6,\n",
       "  'Petal width': 1.8,\n",
       "  'Species': 'virginica'},\n",
       " {'Sepal length': 6.4,\n",
       "  'Sepal width': 3.2,\n",
       "  'Petal length': 4.5,\n",
       "  'Petal width': 1.5,\n",
       "  'Species': 'versicolor'},\n",
       " {'Sepal length': 4.7,\n",
       "  'Sepal width': 3.2,\n",
       "  'Petal length': 1.3,\n",
       "  'Petal width': 0.2,\n",
       "  'Species': 'setosa'},\n",
       " {'Sepal length': 7.0,\n",
       "  'Sepal width': 3.2,\n",
       "  'Petal length': 4.7,\n",
       "  'Petal width': 1.4,\n",
       "  'Species': 'versicolor'},\n",
       " {'Sepal length': 7.6,\n",
       "  'Sepal width': 3.0,\n",
       "  'Petal length': 6.6,\n",
       "  'Petal width': 2.1,\n",
       "  'Species': 'virginica'},\n",
       " {'Sepal length': 4.9,\n",
       "  'Sepal width': 3.0,\n",
       "  'Petal length': 1.4,\n",
       "  'Petal width': 0.2,\n",
       "  'Species': 'setosa'},\n",
       " {'Sepal length': 4.9,\n",
       "  'Sepal width': 2.5,\n",
       "  'Petal length': 4.5,\n",
       "  'Petal width': 1.7,\n",
       "  'Species': 'virginica'},\n",
       " {'Sepal length': 7.1,\n",
       "  'Sepal width': 3.0,\n",
       "  'Petal length': 5.9,\n",
       "  'Petal width': 2.1,\n",
       "  'Species': 'virginica'},\n",
       " {'Sepal length': 4.6,\n",
       "  'Sepal width': 3.4,\n",
       "  'Petal length': 1.4,\n",
       "  'Petal width': 0.3,\n",
       "  'Species': 'setosa'},\n",
       " {'Sepal length': 5.4,\n",
       "  'Sepal width': 3.9,\n",
       "  'Petal length': 1.7,\n",
       "  'Petal width': 0.4,\n",
       "  'Species': 'setosa'},\n",
       " {'Sepal length': 5.7,\n",
       "  'Sepal width': 2.8,\n",
       "  'Petal length': 4.5,\n",
       "  'Petal width': 1.3,\n",
       "  'Species': 'versicolor'},\n",
       " {'Sepal length': 5.0,\n",
       "  'Sepal width': 3.6,\n",
       "  'Petal length': 1.4,\n",
       "  'Petal width': 0.3,\n",
       "  'Species': 'setosa'},\n",
       " {'Sepal length': 5.5,\n",
       "  'Sepal width': 2.3,\n",
       "  'Petal length': 4.0,\n",
       "  'Petal width': 1.3,\n",
       "  'Species': 'versicolor'},\n",
       " {'Sepal length': 6.5,\n",
       "  'Sepal width': 3.0,\n",
       "  'Petal length': 5.8,\n",
       "  'Petal width': 2.2,\n",
       "  'Species': 'virginica'},\n",
       " {'Sepal length': 6.5,\n",
       "  'Sepal width': 2.8,\n",
       "  'Petal length': 4.6,\n",
       "  'Petal width': 1.5,\n",
       "  'Species': 'versicolor'},\n",
       " {'Sepal length': 6.3,\n",
       "  'Sepal width': 3.3,\n",
       "  'Petal length': 6.0,\n",
       "  'Petal width': 2.5,\n",
       "  'Species': 'virginica'},\n",
       " {'Sepal length': 6.9,\n",
       "  'Sepal width': 3.1,\n",
       "  'Petal length': 4.9,\n",
       "  'Petal width': 1.5,\n",
       "  'Species': 'versicolor'},\n",
       " {'Sepal length': 4.6,\n",
       "  'Sepal width': 3.1,\n",
       "  'Petal length': 1.5,\n",
       "  'Petal width': 0.2,\n",
       "  'Species': 'setosa'}]"
      ]
     },
     "execution_count": 136,
     "metadata": {},
     "output_type": "execute_result"
    }
   ],
   "source": [
    "OUTPUT3"
   ]
  },
  {
   "cell_type": "markdown",
   "metadata": {},
   "source": [
    "## Zadanie 3"
   ]
  },
  {
   "cell_type": "code",
   "execution_count": 154,
   "metadata": {},
   "outputs": [],
   "source": [
    "INPUT = [\n",
    "    ('Sepal length', 'Sepal width', 'Petal length', 'Petal width', 'Species'),\n",
    "    (5.8, 2.7, 5.1, 1.9, 'virginica'),\n",
    "    (5.1, 3.5, 1.4, 0.2, 'setosa'),\n",
    "    (5.7, 2.8, 4.1, 1.3, 'versicolor'),\n",
    "    (6.3, 2.9, 5.6, 1.8, 'virginica'),\n",
    "    (6.4, 3.2, 4.5, 1.5, 'versicolor'),\n",
    "    (4.7, 3.2, 1.3, 0.2, 'setosa'),\n",
    "    (7.0, 3.2, 4.7, 1.4, 'versicolor'),\n",
    "    (7.6, 3.0, 6.6, 2.1, 'virginica'),\n",
    "    (4.9, 3.0, 1.4, 0.2, 'setosa'),\n",
    "    (4.9, 2.5, 4.5, 1.7, 'virginica'),\n",
    "    (7.1, 3.0, 5.9, 2.1, 'virginica'),\n",
    "    (4.6, 3.4, 1.4, 0.3, 'setosa'),\n",
    "    (5.4, 3.9, 1.7, 0.4, 'setosa'),\n",
    "    (5.7, 2.8, 4.5, 1.3, 'versicolor'),\n",
    "    (5.0, 3.6, 1.4, 0.3, 'setosa'),\n",
    "    (5.5, 2.3, 4.0, 1.3, 'versicolor'),\n",
    "    (6.5, 3.0, 5.8, 2.2, 'virginica'),\n",
    "    (6.5, 2.8, 4.6, 1.5, 'versicolor'),\n",
    "    (6.3, 3.3, 6.0, 2.5, 'virginica'),\n",
    "    (6.9, 3.1, 4.9, 1.5, 'versicolor'),\n",
    "    (4.6, 3.1, 1.5, 0.2, 'setosa'),\n",
    "]"
   ]
  },
  {
   "cell_type": "code",
   "execution_count": 158,
   "metadata": {},
   "outputs": [
    {
     "name": "stdout",
     "output_type": "stream",
     "text": [
      "(4.6, 3.1, 1.5, 0.2)\n",
      "[]\n",
      "[]\n",
      "{}\n"
     ]
    }
   ],
   "source": [
    "header, *data = INPUT\n",
    "features = []\n",
    "labels = []\n",
    "label_encoder = {}\n",
    "\n",
    "for row in data:\n",
    "    pomiary = row[0:4]\n",
    "    gatunek = row[4]\n",
    "    \n",
    "#     if gatunek not in label_encoder.values():\n",
    "#         nr = len(label_encoder)\n",
    "#         label_encoder[nr] = gatunek\n",
    "    \n",
    "#     for nr, gat in label_encoder.items():\n",
    "#         if gat == gatunek:\n",
    "#             labels.append(nr)\n",
    "    \n",
    "print(pomiary)\n",
    "    #features.append(tuple(pomiary))\n",
    "    \n",
    "print(features)\n",
    "print(labels)\n",
    "print(label_encoder)"
   ]
  },
  {
   "cell_type": "code",
   "execution_count": 146,
   "metadata": {},
   "outputs": [
    {
     "data": {
      "text/plain": [
       "[[5.8, 2.7, 5.1, 1.9],\n",
       " [5.1, 3.5, 1.4, 0.2],\n",
       " [5.7, 2.8, 4.1, 1.3],\n",
       " [6.3, 2.9, 5.6, 1.8],\n",
       " [6.4, 3.2, 4.5, 1.5],\n",
       " [4.7, 3.2, 1.3, 0.2],\n",
       " [7.0, 3.2, 4.7, 1.4],\n",
       " [7.6, 3.0, 6.6, 2.1],\n",
       " [4.9, 3.0, 1.4, 0.2],\n",
       " [4.9, 2.5, 4.5, 1.7],\n",
       " [7.1, 3.0, 5.9, 2.1],\n",
       " [4.6, 3.4, 1.4, 0.3],\n",
       " [5.4, 3.9, 1.7, 0.4],\n",
       " [5.7, 2.8, 4.5, 1.3],\n",
       " [5.0, 3.6, 1.4, 0.3],\n",
       " [5.5, 2.3, 4.0, 1.3],\n",
       " [6.5, 3.0, 5.8, 2.2],\n",
       " [6.5, 2.8, 4.6, 1.5],\n",
       " [6.3, 3.3, 6.0, 2.5],\n",
       " [6.9, 3.1, 4.9, 1.5],\n",
       " [4.6, 3.1, 1.5, 0.2]]"
      ]
     },
     "execution_count": 146,
     "metadata": {},
     "output_type": "execute_result"
    }
   ],
   "source": [
    "features"
   ]
  },
  {
   "cell_type": "code",
   "execution_count": null,
   "metadata": {},
   "outputs": [],
   "source": []
  }
 ],
 "metadata": {
  "kernelspec": {
   "display_name": "Python 3",
   "language": "python",
   "name": "python3"
  },
  "language_info": {
   "codemirror_mode": {
    "name": "ipython",
    "version": 3
   },
   "file_extension": ".py",
   "mimetype": "text/x-python",
   "name": "python",
   "nbconvert_exporter": "python",
   "pygments_lexer": "ipython3",
   "version": "3.7.0"
  }
 },
 "nbformat": 4,
 "nbformat_minor": 2
}
