{
 "cells": [
  {
   "cell_type": "markdown",
   "metadata": {},
   "source": [
    "# Zadanie 1"
   ]
  },
  {
   "cell_type": "code",
   "execution_count": 5,
   "metadata": {},
   "outputs": [],
   "source": [
    "a = (0,1,2,3)\n",
    "b = [2,3,4,5]\n",
    "c = set()\n",
    "c.update(a[::2])\n",
    "c.update(b[::2])"
   ]
  },
  {
   "cell_type": "code",
   "execution_count": 6,
   "metadata": {
    "scrolled": true
   },
   "outputs": [
    {
     "name": "stdout",
     "output_type": "stream",
     "text": [
      "{0, 2, 4}\n"
     ]
    }
   ],
   "source": [
    "print(c)"
   ]
  },
  {
   "cell_type": "markdown",
   "metadata": {},
   "source": [
    "# Zadanie 2"
   ]
  },
  {
   "cell_type": "code",
   "execution_count": 7,
   "metadata": {},
   "outputs": [],
   "source": [
    "INPUT = [\n",
    "    ('Sepal length', 'Sepal width', 'Petal length', 'Petal width', 'Species'),\n",
    "    (5.8, 2.7, 5.1, 1.9, 'virginica'),\n",
    "    (5.1, 3.5, 1.4, 0.2, 'setosa'),\n",
    "    (5.7, 2.8, 4.1, 1.3, 'versicolor'),\n",
    "    (6.3, 2.9, 5.6, 1.8, 'virginica'),\n",
    "    (6.4, 3.2, 4.5, 1.5, 'versicolor'),\n",
    "    (4.7, 3.2, 1.3, 0.2, 'setosa'),\n",
    "    (7.0, 3.2, 4.7, 1.4, 'versicolor'),\n",
    "    (7.6, 3.0, 6.6, 2.1, 'virginica'),\n",
    "    (4.9, 3.0, 1.4, 0.2, 'setosa'),\n",
    "    (4.9, 2.5, 4.5, 1.7, 'virginica'),\n",
    "    (7.1, 3.0, 5.9, 2.1, 'virginica'),\n",
    "    (4.6, 3.4, 1.4, 0.3, 'setosa'),\n",
    "    (5.4, 3.9, 1.7, 0.4, 'setosa'),\n",
    "    (5.7, 2.8, 4.5, 1.3, 'versicolor'),\n",
    "    (5.0, 3.6, 1.4, 0.3, 'setosa'),\n",
    "    (5.5, 2.3, 4.0, 1.3, 'versicolor'),\n",
    "    (6.5, 3.0, 5.8, 2.2, 'virginica'),\n",
    "    (6.5, 2.8, 4.6, 1.5, 'versicolor'),\n",
    "    (6.3, 3.3, 6.0, 2.5, 'virginica'),\n",
    "    (6.9, 3.1, 4.9, 1.5, 'versicolor'),\n",
    "    (4.6, 3.1, 1.5, 0.2, 'setosa'),\n",
    "]"
   ]
  },
  {
   "cell_type": "code",
   "execution_count": 8,
   "metadata": {},
   "outputs": [
    {
     "name": "stdout",
     "output_type": "stream",
     "text": [
      "('Sepal length', 'Sepal width', 'Petal length', 'Petal width', 'Species')\n"
     ]
    }
   ],
   "source": [
    "header = INPUT[0]\n",
    "print(header)"
   ]
  },
  {
   "cell_type": "code",
   "execution_count": 9,
   "metadata": {},
   "outputs": [
    {
     "name": "stdout",
     "output_type": "stream",
     "text": [
      "[(5.8, 2.7, 5.1, 1.9, 'virginica'), (5.1, 3.5, 1.4, 0.2, 'setosa'), (5.7, 2.8, 4.1, 1.3, 'versicolor'), (6.3, 2.9, 5.6, 1.8, 'virginica'), (6.4, 3.2, 4.5, 1.5, 'versicolor'), (4.7, 3.2, 1.3, 0.2, 'setosa'), (7.0, 3.2, 4.7, 1.4, 'versicolor'), (7.6, 3.0, 6.6, 2.1, 'virginica'), (4.9, 3.0, 1.4, 0.2, 'setosa'), (4.9, 2.5, 4.5, 1.7, 'virginica'), (7.1, 3.0, 5.9, 2.1, 'virginica'), (4.6, 3.4, 1.4, 0.3, 'setosa'), (5.4, 3.9, 1.7, 0.4, 'setosa'), (5.7, 2.8, 4.5, 1.3, 'versicolor'), (5.0, 3.6, 1.4, 0.3, 'setosa'), (5.5, 2.3, 4.0, 1.3, 'versicolor'), (6.5, 3.0, 5.8, 2.2, 'virginica'), (6.5, 2.8, 4.6, 1.5, 'versicolor'), (6.3, 3.3, 6.0, 2.5, 'virginica'), (6.9, 3.1, 4.9, 1.5, 'versicolor'), (4.6, 3.1, 1.5, 0.2, 'setosa')]\n"
     ]
    }
   ],
   "source": [
    "data = INPUT[1:]\n",
    "print(data)"
   ]
  },
  {
   "cell_type": "code",
   "execution_count": 11,
   "metadata": {},
   "outputs": [
    {
     "name": "stdout",
     "output_type": "stream",
     "text": [
      "12\n"
     ]
    }
   ],
   "source": [
    "podzial = int(len(data) * 0.6)\n",
    "print(podzial)"
   ]
  },
  {
   "cell_type": "code",
   "execution_count": 12,
   "metadata": {},
   "outputs": [],
   "source": [
    "features = data[:podzial]\n",
    "labels = data[podzial:]"
   ]
  },
  {
   "cell_type": "code",
   "execution_count": 13,
   "metadata": {},
   "outputs": [
    {
     "name": "stdout",
     "output_type": "stream",
     "text": [
      "[(5.8, 2.7, 5.1, 1.9, 'virginica'), (5.1, 3.5, 1.4, 0.2, 'setosa'), (5.7, 2.8, 4.1, 1.3, 'versicolor'), (6.3, 2.9, 5.6, 1.8, 'virginica'), (6.4, 3.2, 4.5, 1.5, 'versicolor'), (4.7, 3.2, 1.3, 0.2, 'setosa'), (7.0, 3.2, 4.7, 1.4, 'versicolor'), (7.6, 3.0, 6.6, 2.1, 'virginica'), (4.9, 3.0, 1.4, 0.2, 'setosa'), (4.9, 2.5, 4.5, 1.7, 'virginica'), (7.1, 3.0, 5.9, 2.1, 'virginica'), (4.6, 3.4, 1.4, 0.3, 'setosa')]\n"
     ]
    }
   ],
   "source": [
    "print(features)"
   ]
  },
  {
   "cell_type": "code",
   "execution_count": 14,
   "metadata": {},
   "outputs": [
    {
     "name": "stdout",
     "output_type": "stream",
     "text": [
      "[(5.4, 3.9, 1.7, 0.4, 'setosa'), (5.7, 2.8, 4.5, 1.3, 'versicolor'), (5.0, 3.6, 1.4, 0.3, 'setosa'), (5.5, 2.3, 4.0, 1.3, 'versicolor'), (6.5, 3.0, 5.8, 2.2, 'virginica'), (6.5, 2.8, 4.6, 1.5, 'versicolor'), (6.3, 3.3, 6.0, 2.5, 'virginica'), (6.9, 3.1, 4.9, 1.5, 'versicolor'), (4.6, 3.1, 1.5, 0.2, 'setosa')]\n"
     ]
    }
   ],
   "source": [
    "print(labels)"
   ]
  },
  {
   "cell_type": "markdown",
   "metadata": {},
   "source": [
    "# Zadanie 3"
   ]
  },
  {
   "cell_type": "code",
   "execution_count": 15,
   "metadata": {},
   "outputs": [],
   "source": [
    "INPUT = (\n",
    "    5.8, 2.7, 5.1, 1.9, 'virginica',\n",
    "    5.1, 3.5, 1.4, 0.2, 'setosa',\n",
    "    5.7, 2.8, 4.1, 1.3, 'versicolor',\n",
    "    6.3, 2.9, 5.6, 1.8, 'virginica',\n",
    "    6.4, 3.2, 4.5, 1.5, 'versicolor',\n",
    "    4.7, 3.2, 1.3, 0.2, 'setosa',\n",
    ")"
   ]
  },
  {
   "cell_type": "code",
   "execution_count": 25,
   "metadata": {},
   "outputs": [],
   "source": [
    "start = 0\n",
    "stop = 4"
   ]
  },
  {
   "cell_type": "code",
   "execution_count": 26,
   "metadata": {},
   "outputs": [
    {
     "data": {
      "text/plain": [
       "30"
      ]
     },
     "execution_count": 26,
     "metadata": {},
     "output_type": "execute_result"
    }
   ],
   "source": [
    "len(INPUT)"
   ]
  },
  {
   "cell_type": "code",
   "execution_count": 27,
   "metadata": {},
   "outputs": [],
   "source": [
    "features = []"
   ]
  },
  {
   "cell_type": "code",
   "execution_count": 28,
   "metadata": {},
   "outputs": [],
   "source": [
    "features.append(tuple(INPUT[start:stop]))\n",
    "start += 5\n",
    "stop += 5"
   ]
  },
  {
   "cell_type": "code",
   "execution_count": 29,
   "metadata": {},
   "outputs": [
    {
     "name": "stdout",
     "output_type": "stream",
     "text": [
      "[(5.8, 2.7, 5.1, 1.9, 'virginica')]\n"
     ]
    }
   ],
   "source": [
    "print(features)"
   ]
  },
  {
   "cell_type": "code",
   "execution_count": 30,
   "metadata": {},
   "outputs": [],
   "source": [
    "features.append(tuple(INPUT[start:stop]))\n",
    "start += 5\n",
    "stop += 5"
   ]
  },
  {
   "cell_type": "code",
   "execution_count": 31,
   "metadata": {},
   "outputs": [],
   "source": [
    "features.append(tuple(INPUT[start:stop]))\n",
    "start += 5\n",
    "stop += 5"
   ]
  },
  {
   "cell_type": "code",
   "execution_count": 32,
   "metadata": {},
   "outputs": [
    {
     "name": "stdout",
     "output_type": "stream",
     "text": [
      "[(5.8, 2.7, 5.1, 1.9, 'virginica'), (5.1, 3.5, 1.4, 0.2, 'setosa'), (5.7, 2.8, 4.1, 1.3, 'versicolor')]\n"
     ]
    }
   ],
   "source": [
    "print(features)"
   ]
  },
  {
   "cell_type": "code",
   "execution_count": 33,
   "metadata": {},
   "outputs": [],
   "source": [
    "features.append(tuple(INPUT[start:stop]))\n",
    "start += 5\n",
    "stop += 5\n",
    "features.append(tuple(INPUT[start:stop]))\n",
    "start += 5\n",
    "stop += 5\n",
    "features.append(tuple(INPUT[start:stop]))\n",
    "start += 5\n",
    "stop += 5"
   ]
  },
  {
   "cell_type": "code",
   "execution_count": 34,
   "metadata": {},
   "outputs": [
    {
     "name": "stdout",
     "output_type": "stream",
     "text": [
      "[(5.8, 2.7, 5.1, 1.9, 'virginica'), (5.1, 3.5, 1.4, 0.2, 'setosa'), (5.7, 2.8, 4.1, 1.3, 'versicolor'), (6.3, 2.9, 5.6, 1.8, 'virginica'), (6.4, 3.2, 4.5, 1.5, 'versicolor'), (4.7, 3.2, 1.3, 0.2, 'setosa')]\n"
     ]
    }
   ],
   "source": [
    "print(features)"
   ]
  },
  {
   "cell_type": "code",
   "execution_count": 38,
   "metadata": {},
   "outputs": [
    {
     "name": "stdout",
     "output_type": "stream",
     "text": [
      "('virginica', 'setosa', 'versicolor', 'virginica', 'versicolor', 'setosa')\n"
     ]
    }
   ],
   "source": [
    "labels = INPUT[4::5]\n",
    "print(labels)"
   ]
  },
  {
   "cell_type": "code",
   "execution_count": 39,
   "metadata": {},
   "outputs": [],
   "source": [
    "species = set()"
   ]
  },
  {
   "cell_type": "code",
   "execution_count": 40,
   "metadata": {},
   "outputs": [
    {
     "name": "stdout",
     "output_type": "stream",
     "text": [
      "{'setosa', 'versicolor', 'virginica'}\n"
     ]
    }
   ],
   "source": [
    "species.update(labels)\n",
    "print(species)"
   ]
  },
  {
   "cell_type": "code",
   "execution_count": null,
   "metadata": {},
   "outputs": [],
   "source": []
  }
 ],
 "metadata": {
  "kernelspec": {
   "display_name": "Python 3",
   "language": "python",
   "name": "python3"
  },
  "language_info": {
   "codemirror_mode": {
    "name": "ipython",
    "version": 3
   },
   "file_extension": ".py",
   "mimetype": "text/x-python",
   "name": "python",
   "nbconvert_exporter": "python",
   "pygments_lexer": "ipython3",
   "version": "3.7.0"
  }
 },
 "nbformat": 4,
 "nbformat_minor": 2
}
