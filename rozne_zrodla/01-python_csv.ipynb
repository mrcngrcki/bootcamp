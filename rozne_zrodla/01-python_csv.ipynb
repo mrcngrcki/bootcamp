{
 "cells": [
  {
   "cell_type": "code",
   "execution_count": null,
   "metadata": {},
   "outputs": [],
   "source": [
    "import numpy as np\n",
    "import pandas as pd\n",
    "import matplotlib.pyplot as plt\n",
    "from io import StringIO"
   ]
  },
  {
   "cell_type": "markdown",
   "metadata": {},
   "source": [
    "## Wczytanie pliku CSV"
   ]
  },
  {
   "cell_type": "code",
   "execution_count": null,
   "metadata": {},
   "outputs": [],
   "source": [
    "df = pd.read_csv('../data/iris.csv')\n",
    "# df1 = pd.read_csv('https://raw.githubusercontent.com/uiuc-cse/data-fa14/gh-pages/data/iris.csv')\n",
    "\n",
    "print(df['sepal_length'].dtype)\n",
    "print(df['species'].dtype)\n",
    "\n",
    "df2 = pd.read_csv('../data/LaqnData.csv')\n",
    "df2['ReadingDateTime'].dtype\n"
   ]
  },
  {
   "cell_type": "code",
   "execution_count": null,
   "metadata": {},
   "outputs": [],
   "source": [
    "from io import StringIO\n",
    "# sepal_length,sepal_width,petal_length,petal_width,species\n",
    "csv_data = \"\"\"\n",
    "\n",
    "5.1,3.5,1.4,0.2,setosa\n",
    "4.9,3,1.4,0.2,setosa\n",
    "4.7,3.2,1.3,0.2,setosa\n",
    "4.6,3.1,1.5,0.2,setosa\n",
    "5,3.6,1.4,0.2,setosa\n",
    "5.4,3.9,1.7,0.4,setosa\n",
    "4.6,3.4,1.4,0.3,setosa\n",
    "5,3.4,1.5,0.2,setosa\n",
    "7,3.2,4.7,1.4,versicolor\n",
    "6.4,3.2,4.5,1.5,versicolor\n",
    "6.9,3.1,4.9,1.5,versicolor\n",
    "5.5,2.3,4,1.3,versicolor\n",
    "6.5,2.8,4.6,1.5,versicolor\n",
    "5.7,2.8,4.5,1.3,versicolor\n",
    "6.3,3.3,4.7,1.6,versicolor\n",
    "4.9,2.4,3.3,1,versicolor\n",
    "6.3,3.3,6,2.5,virginica\n",
    "5.8,2.7,5.1,1.9,virginica\n",
    "7.1,3,5.9,2.1,virginica\n",
    "6.3,2.9,5.6,1.8,virginica\n",
    "6.5,3,5.8,2.2,virginica\n",
    "7.6,3,6.6,2.1,virginica\n",
    "4.9,2.5,4.5,1.7,virginica\n",
    "7.3,2.9,6.3,1.8,virginica\n",
    "6.7,2.5,5.8,1.8,virginica\n",
    "\"\"\"\n"
   ]
  },
  {
   "cell_type": "code",
   "execution_count": null,
   "metadata": {},
   "outputs": [],
   "source": [
    "strio = StringIO(csv_data)\n",
    "df = pd.read_csv(strio, header=None, names='abcdef')\n",
    "df"
   ]
  },
  {
   "cell_type": "code",
   "execution_count": null,
   "metadata": {},
   "outputs": [],
   "source": [
    "missing_values = \"\"\"\n",
    "sepal_length,sepal_width,petal_length,petal_width,species\n",
    "5.1,,1.4,0.2,setosa\n",
    "4.9,3,1.4,0.2,setosa\n",
    "4.7,3.2,1.3,0.2,setosa\n",
    "4.6,3.1,,0.2,setosa\n",
    "5,3.6,1.4,0.2,setosa\n",
    "5.4,3.9,1.7,0.4,setosa\n",
    ",3.4,1.4,0.3,setosa\n",
    ",3.4,1.5,0.2,setosa\n",
    "7,3.2,4.7,,versicolor\n",
    "6.4,3.2,4.5,1.5,versicolor\n",
    "6.9,3.1,4.9,1.5,versicolor\n",
    "5.5,2.3,4,1.3,versicolor\n",
    "6.5,,,1.5,versicolor\n",
    "5.7,2.8,4.5,1.3,versicolor\n",
    "6.3,,4.7,1.6,versicolor\n",
    "4.9,2.4,,1,versicolor\n",
    "6.3,3.3,,2.5,virginica\n",
    "5.8,2.7,5.1,1.9,virginica\n",
    "7.1,3,5.9,2.1,virginica\n",
    "6.3,,5.6,1.8,virginica\n",
    "6.5,3,,2.2,virginica\n",
    "7.6,3,6.6,2.1,virginica\n",
    "4.9,,4.5,1.7,virginica\n",
    ",2.9,6.3,,virginica\n",
    "6.7,,5.8,1.8,virginica\n",
    ",,,,\n",
    "\"\"\""
   ]
  },
  {
   "cell_type": "code",
   "execution_count": null,
   "metadata": {},
   "outputs": [],
   "source": [
    "# csv_data: str\n",
    "csv_strio = StringIO(missing_values)\n",
    "df = pd.read_csv(csv_strio)\n",
    "df.dropna(subset=['sepal_length','sepal_width'])"
   ]
  },
  {
   "cell_type": "code",
   "execution_count": null,
   "metadata": {},
   "outputs": [],
   "source": [
    "df.fillna(0)\n"
   ]
  },
  {
   "cell_type": "code",
   "execution_count": null,
   "metadata": {},
   "outputs": [],
   "source": [
    "df.fillna(-99, inplace=True)\n",
    "df"
   ]
  },
  {
   "cell_type": "code",
   "execution_count": null,
   "metadata": {},
   "outputs": [],
   "source": [
    "df2 = pd.DataFrame([[1,2,3], [4, 5, 6], [7, 8, 9], [0, np.NaN, 0], [0, 0, np.NaN]], columns=list('ABC'))\n",
    "df2"
   ]
  },
  {
   "cell_type": "code",
   "execution_count": null,
   "metadata": {},
   "outputs": [],
   "source": [
    "df2 = pd.DataFrame([[1,2,3], [4, 5, 6], [7, 8, 9], [0, np.NaN, 0], [0, 0, np.NaN]], columns=list('ABC'))\n",
    "print(df2.mean())\n",
    "print(df2.fillna(df2.mean()))"
   ]
  },
  {
   "cell_type": "code",
   "execution_count": null,
   "metadata": {},
   "outputs": [],
   "source": [
    "a = 10\n",
    "s1 = 'A: ' + str(a)\n",
    "s2 = 'A: {}'.format(a)\n",
    "s3 = f'A: {a}'\n",
    "print(s1, s2, s3)"
   ]
  },
  {
   "cell_type": "code",
   "execution_count": null,
   "metadata": {},
   "outputs": [],
   "source": [
    "df = pd.DataFrame([[1, 'abc;def;ghi'],[2, 'jkl;mno'], [3, 'pqr;stu;vwx']], columns=list('AB'))\n",
    "\n",
    "split_B = df.B.str.split(';', expand=True).rename(columns=lambda x: f'B_{x}')\n",
    "\n",
    "df.join(split_B)\n",
    "\n"
   ]
  },
  {
   "cell_type": "markdown",
   "metadata": {},
   "source": [
    "# Grupowanie i agregacja"
   ]
  },
  {
   "cell_type": "code",
   "execution_count": null,
   "metadata": {},
   "outputs": [],
   "source": [
    "nycflights13_csv = \"\"\"\n",
    "\"year\",\"month\",\"day\",\"dep_time\",\"dep_delay\",\"arr_time\",\"arr_delay\",\"carrier\",\"tailnum\",\"flight\",\"origin\",\"dest\",\"air_time\",\"distance\",\"hour\",\"minute\"\n",
    "2013,1,1,517,2,830,11,\"UA\",\"N14228\",1545,\"EWR\",\"IAH\",227,1400,5,17\n",
    "2013,1,1,533,4,850,20,\"UA\",\"N24211\",1714,\"LGA\",\"IAH\",227,1416,5,33\n",
    "2013,1,1,542,2,923,33,\"AA\",\"N619AA\",1141,\"JFK\",\"MIA\",160,1089,5,42\n",
    "2013,1,1,544,-1,1004,-18,\"B6\",\"N804JB\",725,\"JFK\",\"BQN\",183,1576,5,44\n",
    "2013,1,1,554,-6,812,-25,\"DL\",\"N668DN\",461,\"LGA\",\"ATL\",116,762,5,54\n",
    "2013,1,1,554,-4,740,12,\"UA\",\"N39463\",1696,\"EWR\",\"ORD\",150,719,5,54\n",
    "2013,1,5,555,-5,913,19,\"B6\",\"N516JB\",507,\"EWR\",\"FLL\",158,1065,5,55\n",
    "2013,1,5,557,-3,709,-14,\"EV\",\"N829AS\",5708,\"LGA\",\"IAD\",53,229,5,57\n",
    "2013,1,5,557,-3,838,-8,\"B6\",\"N593JB\",79,\"JFK\",\"MCO\",140,944,5,57\n",
    "2013,1,1,558,-2,753,8,\"AA\",\"N3ALAA\",301,\"LGA\",\"ORD\",138,733,5,58\n",
    "2013,1,1,558,-2,849,-2,\"B6\",\"N793JB\",49,\"JFK\",\"PBI\",149,1028,5,58\n",
    "2013,1,1,558,-2,853,-3,\"B6\",\"N657JB\",71,\"JFK\",\"TPA\",158,1005,5,58\n",
    "2013,1,1,558,-2,924,7,\"UA\",\"N29129\",194,\"JFK\",\"LAX\",345,2475,5,58\n",
    "2013,3,1,454,-6,633,-15,\"US\",\"N177US\",1117,\"EWR\",\"CLT\",79,529,4,54\n",
    "2013,3,1,505,-10,746,-24,\"UA\",\"N527UA\",475,\"EWR\",\"IAH\",199,1400,5,5\n",
    "2013,3,1,521,-9,813,-14,\"UA\",\"N76523\",1714,\"LGA\",\"IAH\",213,1416,5,21\n",
    "2013,3,1,537,-3,856,6,\"AA\",\"N5EPAA\",1141,\"JFK\",\"MIA\",173,1089,5,37\n",
    "2013,3,1,541,-4,1014,-9,\"B6\",\"N653JB\",725,\"JFK\",\"BQN\",191,1576,5,41\n",
    "2013,3,1,549,-11,639,-24,\"US\",\"N749US\",2114,\"LGA\",\"BOS\",31,184,5,49\n",
    "2013,3,1,550,-10,747,-14,\"EV\",\"N760EV\",4911,\"EWR\",\"DTW\",89,488,5,50\n",
    "2013,3,4,551,-8,722,-1,\"EV\",\"N26549\",4608,\"EWR\",\"MKE\",119,725,5,51\n",
    "2013,3,4,551,-9,717,-28,\"AA\",\"N3DCAA\",301,\"LGA\",\"ORD\",113,733,5,51\n",
    "2013,3,4,551,-9,845,-16,\"B6\",\"N566JB\",371,\"LGA\",\"FLL\",155,1076,5,51\n",
    "2013,3,4,552,-8,656,-39,\"MQ\",\"N520MQ\",3768,\"EWR\",\"ORD\",108,719,5,52\n",
    "2013,5,1,9,434,308,408,\"VX\",\"N628VA\",413,\"JFK\",\"LAX\",341,2475,0,9\n",
    "2013,5,1,451,-9,641,1,\"US\",\"N196UW\",1219,\"EWR\",\"CLT\",94,529,4,51\n",
    "2013,5,1,537,-3,836,-4,\"AA\",\"N5BYAA\",701,\"JFK\",\"MIA\",144,1089,5,37\n",
    "2013,5,1,544,-1,818,-9,\"UA\",\"N494UA\",450,\"LGA\",\"IAH\",190,1416,5,44\n",
    "2013,5,1,548,-12,831,-23,\"B6\",\"N523JB\",371,\"LGA\",\"FLL\",140,1076,5,48\n",
    "2013,5,1,549,-11,804,-6,\"MQ\",\"N520MQ\",4650,\"LGA\",\"ATL\",113,762,5,49\n",
    "2013,5,1,553,-7,700,-12,\"EV\",\"N877AS\",5747,\"LGA\",\"IAD\",48,229,5,53\n",
    "2013,5,2,553,-7,655,-6,\"US\",\"N702UW\",2114,\"LGA\",\"BOS\",35,184,5,53\n",
    "2013,5,2,554,-6,731,-25,\"DL\",\"N327NB\",731,\"LGA\",\"DTW\",74,502,5,54\n",
    "2013,5,2,554,-6,707,-18,\"UA\",\"N439UA\",635,\"LGA\",\"ORD\",112,733,5,54\n",
    "\n",
    "\"\"\"\n"
   ]
  },
  {
   "cell_type": "code",
   "execution_count": null,
   "metadata": {},
   "outputs": [],
   "source": [
    "nycflights13 = StringIO(nycflights13_csv)\n"
   ]
  },
  {
   "cell_type": "code",
   "execution_count": null,
   "metadata": {},
   "outputs": [],
   "source": [
    "nycflights13 = StringIO(nycflights13_csv)\n",
    "df13 = pd.read_csv(nycflights13)\n",
    "df13.describe()"
   ]
  },
  {
   "cell_type": "code",
   "execution_count": null,
   "metadata": {},
   "outputs": [],
   "source": [
    "df13.groupby('month').median()"
   ]
  },
  {
   "cell_type": "code",
   "execution_count": null,
   "metadata": {},
   "outputs": [],
   "source": [
    "df13.groupby(['month', 'day']).mean()"
   ]
  },
  {
   "cell_type": "code",
   "execution_count": null,
   "metadata": {},
   "outputs": [],
   "source": [
    "df13.groupby('month', as_index=False).aggregate({\"distance\": \"sum\"})\n"
   ]
  },
  {
   "cell_type": "code",
   "execution_count": null,
   "metadata": {},
   "outputs": [],
   "source": [
    "aggregations = {\n",
    "    'arr_time': [min, max, sum],        \n",
    "    'arr_delay': 'mean',            \n",
    "    'day': ['first', 'nunique']\n",
    "}\n",
    "\n",
    "df13.groupby('month').agg(aggregations)"
   ]
  },
  {
   "cell_type": "code",
   "execution_count": null,
   "metadata": {},
   "outputs": [],
   "source": [
    "df13['air_time'].groupby(df13['month']).apply(np.sum)\n",
    "\n",
    "df13.groupby('month').sum()"
   ]
  },
  {
   "cell_type": "markdown",
   "metadata": {},
   "source": [
    "# Złączenia"
   ]
  },
  {
   "cell_type": "code",
   "execution_count": null,
   "metadata": {},
   "outputs": [],
   "source": [
    "data = \"\"\"\n",
    "measure_id,Site,Species,Value,Units,Provisional or Ratified\n",
    "1,BX1,WSPD,2.9,m/s,P\n",
    "1,BX1,FINE,13.0,ug/m3,P\n",
    "2,BX1,WSPD,0.8,m/s,P\n",
    "3,BX1,WSPD,3.3,m/s,P\n",
    "2,BX1,FINE,10.0,ug/m3,P\n",
    "4,BX1,FINE,4.0,ug/m3,P\n",
    "\"\"\"\n",
    "\n",
    "data_strio = StringIO(data)\n",
    "df = pd.read_csv(data_strio)\n",
    "df"
   ]
  },
  {
   "cell_type": "code",
   "execution_count": null,
   "metadata": {},
   "outputs": [],
   "source": [
    "d1 = df[df.Species == \"WSPD\"]\n",
    "d2 = df[df.Species == \"FINE\"]\n"
   ]
  },
  {
   "cell_type": "code",
   "execution_count": null,
   "metadata": {},
   "outputs": [],
   "source": [
    "d1"
   ]
  },
  {
   "cell_type": "code",
   "execution_count": null,
   "metadata": {},
   "outputs": [],
   "source": [
    "d2"
   ]
  }
 ],
 "metadata": {
  "kernelspec": {
   "display_name": "Python 3",
   "language": "python",
   "name": "python3"
  },
  "language_info": {
   "codemirror_mode": {
    "name": "ipython",
    "version": 3
   },
   "file_extension": ".py",
   "mimetype": "text/x-python",
   "name": "python",
   "nbconvert_exporter": "python",
   "pygments_lexer": "ipython3",
   "version": "3.7.0"
  }
 },
 "nbformat": 4,
 "nbformat_minor": 2
}
