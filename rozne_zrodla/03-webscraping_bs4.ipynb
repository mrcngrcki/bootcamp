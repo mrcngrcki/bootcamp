{
 "cells": [
  {
   "cell_type": "markdown",
   "metadata": {},
   "source": [
    "\n",
    "# HTML\n",
    "\n",
    "## Wymagania\n",
    "\n",
    "Do wykonania ćwiczeń należy zainstalować parser lxml oraz bibliotekę BeautifulSoup4:\n",
    "\n",
    "```\n",
    "pip install beautifulsoup4 lxml\n",
    "```\n"
   ]
  },
  {
   "cell_type": "markdown",
   "metadata": {},
   "source": [
    "## Dane do parse'owania"
   ]
  },
  {
   "cell_type": "code",
   "execution_count": null,
   "metadata": {},
   "outputs": [],
   "source": [
    "!pip install beautifulsoup4 lxml"
   ]
  },
  {
   "cell_type": "code",
   "execution_count": 2,
   "metadata": {},
   "outputs": [],
   "source": [
    "website = \"\"\"\n",
    "<!DOCTYPE html>\n",
    "<html lang=\"en\">\n",
    "<head>\n",
    "        <title>The Linux Kernel Archives</title>\n",
    "        <meta charset=\"utf-8\" />\n",
    "\t<link rel=\"icon\" type=\"image/png\" href=\"./theme/images/logos/favicon.png\" />\n",
    "        <link rel=\"stylesheet\" href=\"./theme/css/main.css\" type=\"text/css\" />\n",
    "                <link href=\"https://www.kernel.org/feeds/all.atom.xml\" type=\"application/atom+xml\" rel=\"alternate\" title=\"The Linux Kernel Archives Atom Feed\" />\n",
    "                \n",
    "        <link href=\"https://www.kernel.org/feeds/kdist.xml\" type=\"application/atom+xml\" rel=\"alternate\" title=\"Latest Linux Kernel Releases\" />\n",
    "\n",
    "        <!--[if IE]>\n",
    "                <script src=\"https://html5shiv.googlecode.com/svn/trunk/html5.js\"></script><![endif]-->\n",
    "\n",
    "        <!--[if lte IE 7]>\n",
    "                <link rel=\"stylesheet\" type=\"text/css\" media=\"all\" href=\"./css/ie.css\"/>\n",
    "                <script src=\"./js/IE8.js\" type=\"text/javascript\"></script><![endif]-->\n",
    "\n",
    "        <!--[if lt IE 7]>\n",
    "                <link rel=\"stylesheet\" type=\"text/css\" media=\"all\" href=\"./css/ie6.css\"/><![endif]-->\n",
    "\n",
    "</head>\n",
    "\n",
    "<body id=\"index\" class=\"home\">\n",
    "        <header id=\"banner\" class=\"body\">\n",
    "\t        <div id=\"tux-gear\"></div>\n",
    "                <h1><a href=\"./\">The Linux Kernel Archives </a></h1>\n",
    "                <nav><ul>\n",
    "                                                                                                    <li ><a href=\"./category/about.html\">About</a></li>\n",
    "                                    <li ><a href=\"./category/contact-us.html\">Contact us</a></li>\n",
    "                                    <li ><a href=\"./category/faq.html\">FAQ</a></li>\n",
    "                                    <li ><a href=\"./category/releases.html\">Releases</a></li>\n",
    "                                    <li ><a href=\"./category/signatures.html\">Signatures</a></li>\n",
    "                                    <li ><a href=\"./category/site-news.html\">Site news</a></li>\n",
    "                                </ul></nav>\n",
    "        </header><!-- /#banner -->\n",
    "                \n",
    "    <aside id=\"featured\" class=\"body\">\n",
    "    <article>\n",
    "        <table id=\"protocols\">\n",
    "        <tr>\n",
    "          <th>Protocol</th>\n",
    "          <th>Location</th>\n",
    "        </tr>\n",
    "        <tr>\n",
    "          <td><a href=\"https://www.ietf.org/rfc/rfc2616.txt\">HTTP</a></td>\n",
    "          <td><a href=\"https://www.kernel.org/pub/\">https://www.kernel.org/pub/</a></td>\n",
    "        </tr>\n",
    "\n",
    "        <tr>\n",
    "          <td><a href=\"https://git-scm.com/\">GIT</a></td>\n",
    "          <td><a href=\"https://git.kernel.org/\">https://git.kernel.org/</a></td>\n",
    "        </tr>\n",
    "\n",
    "        <tr>\n",
    "            <td><a href=\"https://rsync.samba.org/\">RSYNC</a></td>\n",
    "            <td>rsync://rsync.kernel.org/pub/</td>\n",
    "        </tr>\n",
    "        </table>\n",
    "\n",
    "        <table id=\"latest\">\n",
    "        <tr>\n",
    "            <td colspan=\"2\" id=\"latest_label\">\n",
    "                <strong>Latest Stable Kernel:</strong>\n",
    "            </td>\n",
    "        </tr>\n",
    "        <tr>\n",
    "            <td id=\"latest_button\">\n",
    "                <a href=\"https://cdn.kernel.org/pub/linux/kernel/v4.x/linux-4.18.9.tar.xz\"><img src=\"./theme/images/icons/downloadarrow_small.png\" width=\"48\" height=\"48\" border=\"0\" alt=\"Download\"/></a>\n",
    "            </td>\n",
    "            <td id=\"latest_link\">\n",
    "                <a href=\"https://cdn.kernel.org/pub/linux/kernel/v4.x/linux-4.18.9.tar.xz\">4.18.9</a>\n",
    "            </td>\n",
    "        </tr>\n",
    "        </table>\n",
    "\n",
    "        <table id=\"releases\">\n",
    "                <tr align=\"left\">\n",
    "            <td>mainline:</td>\n",
    "            <td><strong>4.19-rc4</strong></td>\n",
    "            <td>2018-09-16</td>\n",
    "            <td>[<a href=\"https://git.kernel.org/torvalds/t/linux-4.19-rc4.tar.gz\" title=\"Download complete tarball\">tarball</a>] </td>\n",
    "            <td> </td>\n",
    "            <td>[<a href=\"https://git.kernel.org/torvalds/p/v4.19-rc4/v4.18\" title=\"Download patch to previous mainline\">patch</a>] </td>\n",
    "            <td>[<a href=\"https://git.kernel.org/torvalds/p/v4.19-rc4/v4.19-rc3\" title=\"Download incremental patch\">inc.&nbsp;patch</a>] </td>\n",
    "            <td>[<a href=\"https://git.kernel.org/torvalds/ds/v4.19-rc4/v4.19-rc3\" title=\"View diff in cgit\">view&nbsp;diff</a>] </td>\n",
    "            <td>[<a href=\"https://git.kernel.org/torvalds/h/v4.19-rc4\" title=\"Browse the git tree using cgit\">browse</a>]  </td>\n",
    "            <td> </td>\n",
    "        </tr>\n",
    "                <tr align=\"left\">\n",
    "            <td>stable:</td>\n",
    "            <td><strong>4.18.9</strong></td>\n",
    "            <td>2018-09-19</td>\n",
    "            <td>[<a href=\"https://cdn.kernel.org/pub/linux/kernel/v4.x/linux-4.18.9.tar.xz\" title=\"Download complete tarball\">tarball</a>] </td>\n",
    "            <td>[<a href=\"https://cdn.kernel.org/pub/linux/kernel/v4.x/linux-4.18.9.tar.sign\" title=\"Download PGP verification signature\">pgp</a>]  </td>\n",
    "            <td>[<a href=\"https://cdn.kernel.org/pub/linux/kernel/v4.x/patch-4.18.9.xz\" title=\"Download patch to previous mainline\">patch</a>] </td>\n",
    "            <td>[<a href=\"https://cdn.kernel.org/pub/linux/kernel/v4.x/incr/patch-4.18.8-9.xz\" title=\"Download incremental patch\">inc.&nbsp;patch</a>] </td>\n",
    "            <td>[<a href=\"https://git.kernel.org/stable/ds/v4.18.9/v4.18.8\" title=\"View diff in cgit\">view&nbsp;diff</a>] </td>\n",
    "            <td>[<a href=\"https://git.kernel.org/stable/h/v4.18.9\" title=\"Browse the git tree using cgit\">browse</a>]  </td>\n",
    "            <td>[<a href=\"https://cdn.kernel.org/pub/linux/kernel/v4.x/ChangeLog-4.18.9\" title=\"View detailed change logs\">changelog</a>] </td>\n",
    "        </tr>\n",
    "                <tr align=\"left\">\n",
    "            <td>stable:</td>\n",
    "            <td><strong>4.17.19 <span class=\"eolkernel\" title=\"This release is End-of-Life\">[EOL]</span></strong></td>\n",
    "            <td>2018-08-24</td>\n",
    "            <td>[<a href=\"https://cdn.kernel.org/pub/linux/kernel/v4.x/linux-4.17.19.tar.xz\" title=\"Download complete tarball\">tarball</a>] </td>\n",
    "            <td>[<a href=\"https://cdn.kernel.org/pub/linux/kernel/v4.x/linux-4.17.19.tar.sign\" title=\"Download PGP verification signature\">pgp</a>]  </td>\n",
    "            <td>[<a href=\"https://cdn.kernel.org/pub/linux/kernel/v4.x/patch-4.17.19.xz\" title=\"Download patch to previous mainline\">patch</a>] </td>\n",
    "            <td>[<a href=\"https://cdn.kernel.org/pub/linux/kernel/v4.x/incr/patch-4.17.18-19.xz\" title=\"Download incremental patch\">inc.&nbsp;patch</a>] </td>\n",
    "            <td>[<a href=\"https://git.kernel.org/stable/ds/v4.17.19/v4.17.18\" title=\"View diff in cgit\">view&nbsp;diff</a>] </td>\n",
    "            <td>[<a href=\"https://git.kernel.org/stable/h/v4.17.19\" title=\"Browse the git tree using cgit\">browse</a>]  </td>\n",
    "            <td>[<a href=\"https://cdn.kernel.org/pub/linux/kernel/v4.x/ChangeLog-4.17.19\" title=\"View detailed change logs\">changelog</a>] </td>\n",
    "        </tr>\n",
    "                <tr align=\"left\">\n",
    "            <td>longterm:</td>\n",
    "            <td><strong>4.14.71</strong></td>\n",
    "            <td>2018-09-19</td>\n",
    "            <td>[<a href=\"https://cdn.kernel.org/pub/linux/kernel/v4.x/linux-4.14.71.tar.xz\" title=\"Download complete tarball\">tarball</a>] </td>\n",
    "            <td>[<a href=\"https://cdn.kernel.org/pub/linux/kernel/v4.x/linux-4.14.71.tar.sign\" title=\"Download PGP verification signature\">pgp</a>]  </td>\n",
    "            <td>[<a href=\"https://cdn.kernel.org/pub/linux/kernel/v4.x/patch-4.14.71.xz\" title=\"Download patch to previous mainline\">patch</a>] </td>\n",
    "            <td>[<a href=\"https://cdn.kernel.org/pub/linux/kernel/v4.x/incr/patch-4.14.70-71.xz\" title=\"Download incremental patch\">inc.&nbsp;patch</a>] </td>\n",
    "            <td>[<a href=\"https://git.kernel.org/stable/ds/v4.14.71/v4.14.70\" title=\"View diff in cgit\">view&nbsp;diff</a>] </td>\n",
    "            <td>[<a href=\"https://git.kernel.org/stable/h/v4.14.71\" title=\"Browse the git tree using cgit\">browse</a>]  </td>\n",
    "            <td>[<a href=\"https://cdn.kernel.org/pub/linux/kernel/v4.x/ChangeLog-4.14.71\" title=\"View detailed change logs\">changelog</a>] </td>\n",
    "        </table>\n",
    "    </article>\n",
    "</aside>\n",
    "        <section id=\"extras\" class=\"body\">\n",
    "                        <div class=\"blogroll\">\n",
    "                        <h2>Other resources</h2>\n",
    "                        <ul>\n",
    "                                                    <li><a href=\"https://git.kernel.org/\">Cgit</a></li>\n",
    "                                                    <li><a href=\"https://www.kernel.org/doc/html/latest/\">Documentation</a></li>\n",
    "                                                    <li><a href=\"https://www.wiki.kernel.org/\">Wikis</a></li>\n",
    "                                                    <li><a href=\"https://bugzilla.kernel.org/\">Bugzilla</a></li>\n",
    "                                                </ul>\n",
    "                </div><!-- /.blogroll -->\n",
    "                                <div class=\"social\">\n",
    "                        <h2>Social</h2>\n",
    "                        <ul>\n",
    "                            <li><a href=\"https://www.kernel.org/feeds/all.atom.xml\" type=\"application/atom+xml\" rel=\"alternate\">Site Atom feed</a></li>\n",
    "                                                        <li><a href=\"https://www.kernel.org/feeds/kdist.xml\" type=\"application/atom+xml\" rel=\"alternate\">Releases Atom Feed</a></li>\n",
    "\n",
    "                                                    <li><a href=\"http://planet.kernel.org/\">Kernel Planet</a></li>\n",
    "                                                </ul>\n",
    "                </div><!-- /.social -->\n",
    "                </section><!-- /#extras -->\n",
    "\n",
    "        <footer id=\"contentinfo\" class=\"body\">\n",
    "                <address id=\"about\" class=\"vcard body\">\n",
    "                    This site is operated by the Linux Kernel Organization, Inc., a <a href=\"./nonprofit.html\">501(c)3 nonprofit corporation</a>, with support from the following sponsors.\n",
    "                </address><!-- /#about -->\n",
    "\n",
    "                <address id=\"donors\">\n",
    "                  <a href=\"https://www.redhat.com/\"><img src=\"./theme/images/logos/redhat-logo.png\"\n",
    "                  alt=\"Red Hat\" height=\"36\" width=\"108\" /></a>\n",
    "                  &nbsp;\n",
    "                  <a href=\"https://www.packet.net/\"><img src=\"./theme/images/logos/packetnet.png\"\n",
    "                  alt=\"Packet\" height=\"36\" width=\"106\" /></a>\n",
    "                  &nbsp;\n",
    "                  <a href=\"https://www.fastly.com/\"><img src=\"./theme/images/logos/fastly-logo.png\"\n",
    "                  alt=\"Fastly\" width=\"91\" height=\"35\" /></a>\n",
    "                  &nbsp;\n",
    "                  <a href=\"https://www.google.com/\"><img src=\"./theme/images/logos/google.png\"\n",
    "                  alt=\"Google\" height=\"42\" width=\"128\" /></a>\n",
    "                  <br/>\n",
    "                  <a href=\"https://www.constellix.com/\"><img src=\"./theme/images/logos/constellix-green-logo.png\"\n",
    "                  alt=\"Constellix\" width=\"193\" height=\"21\" style=\"vertical-align: bottom; padding-bottom: 4px\" /></a>\n",
    "                  &nbsp;\n",
    "                  <a href=\"https://www.purestorage.com/\"><img src=\"./theme/images/logos/purestorage.png\"\n",
    "                  alt=\"PureStorage\" width=\"179\" height=\"45\" /></a>\n",
    "                  <br/>&nbsp;<br/>\n",
    "                  <a href=\"https://www.linuxfoundation.org/\"><img src=\"./theme/images/logos/thelinuxfoundation.png\"\n",
    "                  alt=\"The Linux Foundation\" width=\"137\" height=\"45\" /></a>\n",
    "                </address><!-- /#about -->\n",
    "        </footer><!-- /#contentinfo -->\n",
    "\n",
    "</body>\n",
    "</html>\n",
    "\"\"\""
   ]
  },
  {
   "cell_type": "markdown",
   "metadata": {},
   "source": [
    "## Uruchomienie parsera"
   ]
  },
  {
   "cell_type": "code",
   "execution_count": 3,
   "metadata": {},
   "outputs": [],
   "source": [
    "from bs4 import BeautifulSoup\n",
    "\n",
    "soup = BeautifulSoup(website, 'lxml')"
   ]
  },
  {
   "cell_type": "markdown",
   "metadata": {},
   "source": [
    "## Wyciąganie tagów"
   ]
  },
  {
   "cell_type": "code",
   "execution_count": null,
   "metadata": {},
   "outputs": [],
   "source": [
    "print(soup.head)"
   ]
  },
  {
   "cell_type": "code",
   "execution_count": null,
   "metadata": {},
   "outputs": [],
   "source": [
    "print(soup.head.title)"
   ]
  },
  {
   "cell_type": "code",
   "execution_count": null,
   "metadata": {},
   "outputs": [],
   "source": [
    "print(soup.head.title.name)\n",
    "print(soup.head.title.text)"
   ]
  },
  {
   "cell_type": "markdown",
   "metadata": {},
   "source": [
    "## Wyciąganie atrybutów"
   ]
  },
  {
   "cell_type": "code",
   "execution_count": null,
   "metadata": {},
   "outputs": [],
   "source": [
    "print(soup.body['id'])\n",
    "print(soup.body.table['id'])"
   ]
  },
  {
   "cell_type": "code",
   "execution_count": null,
   "metadata": {},
   "outputs": [],
   "source": [
    "print(soup.body.attrs)"
   ]
  },
  {
   "cell_type": "markdown",
   "metadata": {},
   "source": [
    "## Wyszukiwanie"
   ]
  },
  {
   "cell_type": "code",
   "execution_count": null,
   "metadata": {},
   "outputs": [],
   "source": [
    "print(soup.body.find_all('table'))\n",
    "print(len(soup.body.find_all('table')))\n",
    "print(soup.find_all(id='protocols'))\n",
    "print(len(soup.find_all(id='protocols')))"
   ]
  },
  {
   "cell_type": "code",
   "execution_count": null,
   "metadata": {},
   "outputs": [],
   "source": [
    "import re\n",
    "\n",
    "def is_cdn(url):\n",
    "    if url:\n",
    "        return url.startswith('https://cdn.')\n",
    "    return False\n",
    "\n",
    "\n",
    "\n",
    "soup.find_all(href=lambda url: url and re.compile(r'git\\.').search(url))\n",
    "\n",
    "soup.find_all(href=is_cdn)"
   ]
  },
  {
   "cell_type": "markdown",
   "metadata": {},
   "source": [
    "## Przechodzenie po drzewie DOM"
   ]
  },
  {
   "cell_type": "code",
   "execution_count": null,
   "metadata": {},
   "outputs": [],
   "source": [
    "tag = soup.find_all('table')[0]\n",
    "print(type(tag.contents))\n",
    "tag.contents"
   ]
  },
  {
   "cell_type": "code",
   "execution_count": null,
   "metadata": {},
   "outputs": [],
   "source": [
    "tag = soup.find_all('table')[0]\n",
    "print(type(tag.children))\n",
    "\n",
    "for child in tag.children:\n",
    "    print(child)"
   ]
  },
  {
   "cell_type": "code",
   "execution_count": null,
   "metadata": {},
   "outputs": [],
   "source": [
    "tag = soup.find_all('table')[0]\n",
    "print(tag.parent)"
   ]
  },
  {
   "cell_type": "markdown",
   "metadata": {},
   "source": [
    "## CSS Selectors"
   ]
  },
  {
   "cell_type": "markdown",
   "metadata": {},
   "source": [
    "### Wybieranie taga"
   ]
  },
  {
   "cell_type": "code",
   "execution_count": null,
   "metadata": {},
   "outputs": [],
   "source": [
    "soup.select(\"title\")[0]"
   ]
  },
  {
   "cell_type": "code",
   "execution_count": null,
   "metadata": {},
   "outputs": [],
   "source": [
    "soup.select(\"table:nth-of-type(3)\")"
   ]
  },
  {
   "cell_type": "markdown",
   "metadata": {},
   "source": [
    "### Wybieranie tagów wewnątrz innych"
   ]
  },
  {
   "cell_type": "code",
   "execution_count": null,
   "metadata": {},
   "outputs": [],
   "source": [
    "soup.select(\"table tr td\")"
   ]
  },
  {
   "cell_type": "markdown",
   "metadata": {},
   "source": [
    "### Wybieranie tagów będących bezpośrednimi dziećmi innych."
   ]
  },
  {
   "cell_type": "code",
   "execution_count": null,
   "metadata": {},
   "outputs": [],
   "source": [
    "soup.select(\"table > tr > td\")"
   ]
  },
  {
   "cell_type": "markdown",
   "metadata": {},
   "source": [
    "### Wybór \"rodzeństwa\" tagów"
   ]
  },
  {
   "cell_type": "code",
   "execution_count": null,
   "metadata": {},
   "outputs": [],
   "source": [
    "soup.select(\"#protocols ~ table\")"
   ]
  },
  {
   "cell_type": "code",
   "execution_count": null,
   "metadata": {},
   "outputs": [],
   "source": [
    "soup.select(\"#protocols + table\")"
   ]
  },
  {
   "cell_type": "markdown",
   "metadata": {},
   "source": [
    "### Wybór wg. id i class"
   ]
  },
  {
   "cell_type": "code",
   "execution_count": null,
   "metadata": {},
   "outputs": [],
   "source": [
    "soup.select('#about')"
   ]
  },
  {
   "cell_type": "code",
   "execution_count": null,
   "metadata": {},
   "outputs": [],
   "source": [
    "soup.select('.body')"
   ]
  },
  {
   "cell_type": "markdown",
   "metadata": {},
   "source": [
    "# JSON"
   ]
  },
  {
   "cell_type": "code",
   "execution_count": null,
   "metadata": {},
   "outputs": [],
   "source": [
    "import json\n",
    "\n",
    "print(soup.body.attrs)\n",
    "\n",
    "json_string = json.dumps(soup.body.attrs)\n",
    "\n",
    "print(json_string)\n"
   ]
  },
  {
   "cell_type": "code",
   "execution_count": null,
   "metadata": {},
   "outputs": [],
   "source": [
    "json_dict = json.loads(json_string)\n",
    "print(json_dict)"
   ]
  },
  {
   "cell_type": "markdown",
   "metadata": {},
   "source": [
    "# Zadanie 1\n",
    "\n",
    "Należy wydobyć dane ze strony http://otomoto.pl. \n",
    "1. Wejść w przeglądarce na stronę otomoto.pl i wyświetlić stronę z ogłozeniami sprzedaży używanych samochodów osobowych z Warszawy. Skopiować odpowiedni URL.\n",
    "\n",
    "2. Napisać skrypt z użyciem BeautifulSoup wydobywający ze strony następujące dane n.t. samochodów:\n",
    "\n",
    "    - Marka oraz model (z nagłówka ogłoszenia)\n",
    "    - Rok produkcji\n",
    "    - Przebieg\n",
    "    - Rodzaj paliwa\n",
    "    - Cena\n",
    "\n",
    "3. Zapisać wydobyte dane w pliku CSV na dysku komputera.\n",
    "\n",
    "4. Rozszerzyć działanie programu na wydobywanie danych z n kolejnych podstron."
   ]
  },
  {
   "cell_type": "code",
   "execution_count": 4,
   "metadata": {},
   "outputs": [],
   "source": [
    "import requests\n"
   ]
  },
  {
   "cell_type": "code",
   "execution_count": 5,
   "metadata": {},
   "outputs": [],
   "source": [
    "import requests\n",
    "import numpy as np\n",
    "import pandas as pd\n",
    "\n",
    "myList = []"
   ]
  },
  {
   "cell_type": "code",
   "execution_count": 6,
   "metadata": {},
   "outputs": [],
   "source": [
    "# from selenium import webdriver\n",
    "# from selenium.webdriver.common.keys import Keys\n",
    "# from selenium.webdriver.common.by import By\n",
    "# from selenium.webdriver.support.ui import WebDriverWait\n",
    "# from selenium.webdriver.support import expected_conditions as EC\n",
    "\n",
    "\n",
    "# driver = webdriver.Firefox(executable_path='/home/kodolamacz/gorecki/rozne_zrodla/geckodriver')"
   ]
  },
  {
   "cell_type": "code",
   "execution_count": 9,
   "metadata": {},
   "outputs": [
    {
     "name": "stdout",
     "output_type": "stream",
     "text": [
      "Strona 1\n",
      "test\n",
      "test\n"
     ]
    },
    {
     "ename": "NoSuchElementException",
     "evalue": "Message: Unable to locate element: /html/body/div[3]/main/div[1]/div[2]/div[1]/div[2]/div[5]/div[2]/div/a\n",
     "output_type": "error",
     "traceback": [
      "\u001b[0;31m---------------------------------------------------------------------------\u001b[0m",
      "\u001b[0;31mNoSuchElementException\u001b[0m                    Traceback (most recent call last)",
      "\u001b[0;32m<ipython-input-9-c73134920946>\u001b[0m in \u001b[0;36m<module>\u001b[0;34m()\u001b[0m\n\u001b[1;32m     32\u001b[0m         \u001b[0mwait\u001b[0m \u001b[0;34m=\u001b[0m \u001b[0mWebDriverWait\u001b[0m\u001b[0;34m(\u001b[0m\u001b[0mdriver\u001b[0m\u001b[0;34m,\u001b[0m \u001b[0;36m30\u001b[0m\u001b[0;34m)\u001b[0m\u001b[0;34m\u001b[0m\u001b[0m\n\u001b[1;32m     33\u001b[0m \u001b[0;34m\u001b[0m\u001b[0m\n\u001b[0;32m---> 34\u001b[0;31m         \u001b[0mel\u001b[0m \u001b[0;34m=\u001b[0m \u001b[0mdriver\u001b[0m\u001b[0;34m.\u001b[0m\u001b[0mfind_element_by_xpath\u001b[0m\u001b[0;34m(\u001b[0m\u001b[0;34m'/html/body/div[3]/main/div[1]/div[2]/div[1]/div[2]/div[5]/div[2]/div/a'\u001b[0m\u001b[0;34m)\u001b[0m\u001b[0;34m\u001b[0m\u001b[0m\n\u001b[0m\u001b[1;32m     35\u001b[0m         \u001b[0mdriver\u001b[0m\u001b[0;34m.\u001b[0m\u001b[0mexecute_script\u001b[0m\u001b[0;34m(\u001b[0m\u001b[0;34m'arguments[0].click()'\u001b[0m\u001b[0;34m,\u001b[0m \u001b[0mel\u001b[0m\u001b[0;34m)\u001b[0m\u001b[0;34m\u001b[0m\u001b[0m\n\u001b[1;32m     36\u001b[0m         \u001b[0mwait\u001b[0m\u001b[0;34m.\u001b[0m\u001b[0muntil\u001b[0m\u001b[0;34m(\u001b[0m\u001b[0mEC\u001b[0m\u001b[0;34m.\u001b[0m\u001b[0mpresence_of_element_located\u001b[0m\u001b[0;34m(\u001b[0m\u001b[0;34m(\u001b[0m\u001b[0mBy\u001b[0m\u001b[0;34m.\u001b[0m\u001b[0mXPATH\u001b[0m\u001b[0;34m,\u001b[0m \u001b[0;34m'/html/body/div[3]/main/div[1]/div[2]/div[1]/div[2]/div[5]/div[2]/div/span[2]'\u001b[0m\u001b[0;34m)\u001b[0m\u001b[0;34m)\u001b[0m\u001b[0;34m)\u001b[0m\u001b[0;34m\u001b[0m\u001b[0m\n",
      "\u001b[0;32m~/anaconda3/lib/python3.7/site-packages/selenium/webdriver/remote/webdriver.py\u001b[0m in \u001b[0;36mfind_element_by_xpath\u001b[0;34m(self, xpath)\u001b[0m\n\u001b[1;32m    392\u001b[0m             \u001b[0melement\u001b[0m \u001b[0;34m=\u001b[0m \u001b[0mdriver\u001b[0m\u001b[0;34m.\u001b[0m\u001b[0mfind_element_by_xpath\u001b[0m\u001b[0;34m(\u001b[0m\u001b[0;34m'//div/td[1]'\u001b[0m\u001b[0;34m)\u001b[0m\u001b[0;34m\u001b[0m\u001b[0m\n\u001b[1;32m    393\u001b[0m         \"\"\"\n\u001b[0;32m--> 394\u001b[0;31m         \u001b[0;32mreturn\u001b[0m \u001b[0mself\u001b[0m\u001b[0;34m.\u001b[0m\u001b[0mfind_element\u001b[0m\u001b[0;34m(\u001b[0m\u001b[0mby\u001b[0m\u001b[0;34m=\u001b[0m\u001b[0mBy\u001b[0m\u001b[0;34m.\u001b[0m\u001b[0mXPATH\u001b[0m\u001b[0;34m,\u001b[0m \u001b[0mvalue\u001b[0m\u001b[0;34m=\u001b[0m\u001b[0mxpath\u001b[0m\u001b[0;34m)\u001b[0m\u001b[0;34m\u001b[0m\u001b[0m\n\u001b[0m\u001b[1;32m    395\u001b[0m \u001b[0;34m\u001b[0m\u001b[0m\n\u001b[1;32m    396\u001b[0m     \u001b[0;32mdef\u001b[0m \u001b[0mfind_elements_by_xpath\u001b[0m\u001b[0;34m(\u001b[0m\u001b[0mself\u001b[0m\u001b[0;34m,\u001b[0m \u001b[0mxpath\u001b[0m\u001b[0;34m)\u001b[0m\u001b[0;34m:\u001b[0m\u001b[0;34m\u001b[0m\u001b[0m\n",
      "\u001b[0;32m~/anaconda3/lib/python3.7/site-packages/selenium/webdriver/remote/webdriver.py\u001b[0m in \u001b[0;36mfind_element\u001b[0;34m(self, by, value)\u001b[0m\n\u001b[1;32m    976\u001b[0m         return self.execute(Command.FIND_ELEMENT, {\n\u001b[1;32m    977\u001b[0m             \u001b[0;34m'using'\u001b[0m\u001b[0;34m:\u001b[0m \u001b[0mby\u001b[0m\u001b[0;34m,\u001b[0m\u001b[0;34m\u001b[0m\u001b[0m\n\u001b[0;32m--> 978\u001b[0;31m             'value': value})['value']\n\u001b[0m\u001b[1;32m    979\u001b[0m \u001b[0;34m\u001b[0m\u001b[0m\n\u001b[1;32m    980\u001b[0m     \u001b[0;32mdef\u001b[0m \u001b[0mfind_elements\u001b[0m\u001b[0;34m(\u001b[0m\u001b[0mself\u001b[0m\u001b[0;34m,\u001b[0m \u001b[0mby\u001b[0m\u001b[0;34m=\u001b[0m\u001b[0mBy\u001b[0m\u001b[0;34m.\u001b[0m\u001b[0mID\u001b[0m\u001b[0;34m,\u001b[0m \u001b[0mvalue\u001b[0m\u001b[0;34m=\u001b[0m\u001b[0;32mNone\u001b[0m\u001b[0;34m)\u001b[0m\u001b[0;34m:\u001b[0m\u001b[0;34m\u001b[0m\u001b[0m\n",
      "\u001b[0;32m~/anaconda3/lib/python3.7/site-packages/selenium/webdriver/remote/webdriver.py\u001b[0m in \u001b[0;36mexecute\u001b[0;34m(self, driver_command, params)\u001b[0m\n\u001b[1;32m    319\u001b[0m         \u001b[0mresponse\u001b[0m \u001b[0;34m=\u001b[0m \u001b[0mself\u001b[0m\u001b[0;34m.\u001b[0m\u001b[0mcommand_executor\u001b[0m\u001b[0;34m.\u001b[0m\u001b[0mexecute\u001b[0m\u001b[0;34m(\u001b[0m\u001b[0mdriver_command\u001b[0m\u001b[0;34m,\u001b[0m \u001b[0mparams\u001b[0m\u001b[0;34m)\u001b[0m\u001b[0;34m\u001b[0m\u001b[0m\n\u001b[1;32m    320\u001b[0m         \u001b[0;32mif\u001b[0m \u001b[0mresponse\u001b[0m\u001b[0;34m:\u001b[0m\u001b[0;34m\u001b[0m\u001b[0m\n\u001b[0;32m--> 321\u001b[0;31m             \u001b[0mself\u001b[0m\u001b[0;34m.\u001b[0m\u001b[0merror_handler\u001b[0m\u001b[0;34m.\u001b[0m\u001b[0mcheck_response\u001b[0m\u001b[0;34m(\u001b[0m\u001b[0mresponse\u001b[0m\u001b[0;34m)\u001b[0m\u001b[0;34m\u001b[0m\u001b[0m\n\u001b[0m\u001b[1;32m    322\u001b[0m             response['value'] = self._unwrap_value(\n\u001b[1;32m    323\u001b[0m                 response.get('value', None))\n",
      "\u001b[0;32m~/anaconda3/lib/python3.7/site-packages/selenium/webdriver/remote/errorhandler.py\u001b[0m in \u001b[0;36mcheck_response\u001b[0;34m(self, response)\u001b[0m\n\u001b[1;32m    240\u001b[0m                 \u001b[0malert_text\u001b[0m \u001b[0;34m=\u001b[0m \u001b[0mvalue\u001b[0m\u001b[0;34m[\u001b[0m\u001b[0;34m'alert'\u001b[0m\u001b[0;34m]\u001b[0m\u001b[0;34m.\u001b[0m\u001b[0mget\u001b[0m\u001b[0;34m(\u001b[0m\u001b[0;34m'text'\u001b[0m\u001b[0;34m)\u001b[0m\u001b[0;34m\u001b[0m\u001b[0m\n\u001b[1;32m    241\u001b[0m             \u001b[0;32mraise\u001b[0m \u001b[0mexception_class\u001b[0m\u001b[0;34m(\u001b[0m\u001b[0mmessage\u001b[0m\u001b[0;34m,\u001b[0m \u001b[0mscreen\u001b[0m\u001b[0;34m,\u001b[0m \u001b[0mstacktrace\u001b[0m\u001b[0;34m,\u001b[0m \u001b[0malert_text\u001b[0m\u001b[0;34m)\u001b[0m\u001b[0;34m\u001b[0m\u001b[0m\n\u001b[0;32m--> 242\u001b[0;31m         \u001b[0;32mraise\u001b[0m \u001b[0mexception_class\u001b[0m\u001b[0;34m(\u001b[0m\u001b[0mmessage\u001b[0m\u001b[0;34m,\u001b[0m \u001b[0mscreen\u001b[0m\u001b[0;34m,\u001b[0m \u001b[0mstacktrace\u001b[0m\u001b[0;34m)\u001b[0m\u001b[0;34m\u001b[0m\u001b[0m\n\u001b[0m\u001b[1;32m    243\u001b[0m \u001b[0;34m\u001b[0m\u001b[0m\n\u001b[1;32m    244\u001b[0m     \u001b[0;32mdef\u001b[0m \u001b[0m_value_or_default\u001b[0m\u001b[0;34m(\u001b[0m\u001b[0mself\u001b[0m\u001b[0;34m,\u001b[0m \u001b[0mobj\u001b[0m\u001b[0;34m,\u001b[0m \u001b[0mkey\u001b[0m\u001b[0;34m,\u001b[0m \u001b[0mdefault\u001b[0m\u001b[0;34m)\u001b[0m\u001b[0;34m:\u001b[0m\u001b[0;34m\u001b[0m\u001b[0m\n",
      "\u001b[0;31mNoSuchElementException\u001b[0m: Message: Unable to locate element: /html/body/div[3]/main/div[1]/div[2]/div[1]/div[2]/div[5]/div[2]/div/a\n"
     ]
    }
   ],
   "source": [
    "PAGES_TO_SCRAP = 2\n",
    "for page in range(1,PAGES_TO_SCRAP):\n",
    "    print(f'Strona {page}')\n",
    "    url = f'https://www.otomoto.pl/osobowe/warszawa/?search%5Bbrand_program_id%5D%5B0%5D=&search%5Bdist%5D=5&search%5Bcountry%5D=&page={page}'\n",
    "    html = requests.get(url).text\n",
    "    otomoto = BeautifulSoup(html, 'lxml')\n",
    "    offers = otomoto.select('.offer-item__content')\n",
    "    \n",
    "    print('test')\n",
    "    for offer in offers:\n",
    "        name = offer.select('.offer-title__link')[0].attrs['title']\n",
    "        offer_url = offer.select('.offer-title__link')[0].attrs['href']\n",
    "        year = offer.find('li', {'data-code':'year'}).text.strip()\n",
    "        mileage = offer.find('li', {'data-code':'mileage'}).text.strip()\n",
    "        fuel_type = offer.find('li', {'data-code':'fuel_type'}).text.strip()\n",
    "        price = offer.select('.offer-price__number')[0].span.text.strip()\n",
    "        \n",
    "        #enter offer details\n",
    "        html_offer = requests.get(offer_url).text\n",
    "        otomoto_offer = BeautifulSoup(html_offer, 'lxml')\n",
    "        parameters = otomoto_offer.select('.offer-params__item')\n",
    "        for parameter in parameters:\n",
    "            label = parameter.select('.offer-params__label')[0].text\n",
    "            if label == 'Skrzynia biegów':\n",
    "                gear = parameter.select('.offer-params__value')[0].text.strip()\n",
    "                break\n",
    "        \n",
    "#         # telefon\n",
    "#         print('test')\n",
    "#         driver.get(offer_url)\n",
    "\n",
    "#         wait = WebDriverWait(driver, 30)\n",
    "\n",
    "#         el = driver.find_element_by_xpath('/html/body/div[3]/main/div[1]/div[2]/div[1]/div[2]/div[5]/div[2]/div/a')\n",
    "#         driver.execute_script('arguments[0].click()', el)\n",
    "#         wait.until(EC.presence_of_element_located((By.XPATH, '/html/body/div[3]/main/div[1]/div[2]/div[1]/div[2]/div[5]/div[2]/div/span[2]')))\n",
    "#         phone_number = driver.find_element_by_xpath('/html/body/div[3]/main/div[1]/div[2]/div[1]/div[2]/div[5]/div[2]/div/span[2]').text\n",
    "#         #koniec telefon\n",
    "        \n",
    "        \n",
    "        \n",
    "        myList.append([name, year, mileage, fuel_type, price, gear])\n",
    "        break\n"
   ]
  },
  {
   "cell_type": "code",
   "execution_count": null,
   "metadata": {},
   "outputs": [],
   "source": [
    "df = pd.DataFrame(myList, columns=['Marka_model', 'Rok produkcji', 'Przebieg', 'Rodzaj paliwa', 'Cena', 'Skrzynia biegow'])"
   ]
  },
  {
   "cell_type": "markdown",
   "metadata": {},
   "source": [
    "## Ile diesli a ile benzynowych w kazdym roku"
   ]
  },
  {
   "cell_type": "code",
   "execution_count": null,
   "metadata": {},
   "outputs": [],
   "source": [
    "df.groupby(['Rok produkcji', 'Rodzaj paliwa']).count()"
   ]
  },
  {
   "cell_type": "code",
   "execution_count": null,
   "metadata": {},
   "outputs": [],
   "source": [
    "df.to_csv('otomoto.csv')"
   ]
  },
  {
   "cell_type": "markdown",
   "metadata": {},
   "source": [
    "# Zadanie 2"
   ]
  },
  {
   "cell_type": "markdown",
   "metadata": {},
   "source": [
    "Należy ściągnąć dane ze sklepu internetowego Agencji Mienia Wojskowego, ze strony:\n",
    "\n",
    "https://sklep.amw.com.pl/pl/c/Odziez-i-elementy-umundurowania/16/1/full\n",
    "\n",
    "1. Ze strony należy wydobyć dane takie jak:\n",
    "    - Nazwa towaru\n",
    "    - dostępność\n",
    "    - cena\n",
    "2. Z wyciągniętych danych należy wygenerować JSON w formacie:\n",
    "\n",
    "```json\n",
    "[\n",
    "    {\n",
    "       'name': \"nazwa towaru\",\n",
    "       'availbility': \"dostępność\",\n",
    "       'price': 10.50\n",
    "    },\n",
    "        {\n",
    "       'name': \"nazwa innego towaru\",\n",
    "       'availbility': \"mała\",\n",
    "       'price': 12.00\n",
    "    }\n",
    "]\n",
    "```\n",
    "3. Z podanych danych w formacie JSON wygenerować plik CSV z danymi n.t. towarów w kolejnych wierszach.\n",
    "\n",
    "Nazwy kolumn w pliku CSV: `name`, `availbility`, `price`\n",
    "\n",
    "**Linki**\n",
    "\n",
    "Dokumentacja Beautiful Soup:\n",
    "\n",
    "https://www.crummy.com/software/BeautifulSoup/bs4/doc/\n",
    "\n",
    "Dokumentacja modułu `json`:\n",
    "\n",
    "https://docs.python.org/3/library/json.html\n",
    "\n",
    "Dokumentacja modułu `csv`:\n",
    "\n",
    "https://docs.python.org/3/library/csv.html"
   ]
  },
  {
   "cell_type": "code",
   "execution_count": null,
   "metadata": {},
   "outputs": [],
   "source": [
    "url = 'https://sklep.amw.com.pl/pl/c/Odziez-i-elementy-umundurowania/16/1/full'\n",
    "html = requests.get(url).text\n",
    "amw = BeautifulSoup(html, 'lxml')\n",
    "offers = amw.select('.product')\n",
    "\n",
    "myList = []\n",
    "\n",
    "for offer in offers:\n",
    "    name = offer.select('.productname')[0].text.strip()\n",
    "    availability = offer.select('.availability')[1].text.strip()\n",
    "    price = offer.select('.price')[0].em.text.strip()\n",
    "    myList.append([name, availability, price])\n",
    "    \n",
    "df = pd.DataFrame(myList, columns=['name', 'availability', 'price'])\n",
    "df\n",
    "\n",
    "df.to_json('amw_json', orient='records')"
   ]
  },
  {
   "cell_type": "markdown",
   "metadata": {},
   "source": [
    "# Books to scrape"
   ]
  },
  {
   "cell_type": "code",
   "execution_count": null,
   "metadata": {},
   "outputs": [],
   "source": [
    "import requests\n",
    "\n"
   ]
  },
  {
   "cell_type": "code",
   "execution_count": null,
   "metadata": {},
   "outputs": [],
   "source": [
    "!pip install word2number"
   ]
  },
  {
   "cell_type": "code",
   "execution_count": null,
   "metadata": {},
   "outputs": [],
   "source": [
    "from word2number import w2n"
   ]
  },
  {
   "cell_type": "code",
   "execution_count": null,
   "metadata": {},
   "outputs": [],
   "source": [
    "PAGES_TO_SCRAP = 6\n",
    "\n",
    "for i in range(1,PAGES_TO_SCRAP):\n",
    "    print(f'Strona {i}')\n",
    "    resp = requests.get(f'http://books.toscrape.com/catalogue/page-{i}.html')\n",
    "    website = resp.text\n",
    "    soup = BeautifulSoup(website, 'lxml')\n",
    "    offers = soup.select('.product_pod')\n",
    "    offers\n",
    "    for offer in offers:\n",
    "        title = offer.h3.a.attrs['title']\n",
    "        price = offer.select('.price_color')[0].text[1:]\n",
    "        availability = offer.select('.instock')[0].text.strip()\n",
    "        rating = offer.select('.star-rating')[0].attrs['class'][1]\n",
    "        rating = w2n.word_to_num(rating)\n",
    "        print(f'Tytul: {title}, Cena: {price}, Dostepnosc: {availability}, Ocena: {rating}')\n",
    "    "
   ]
  },
  {
   "cell_type": "markdown",
   "metadata": {},
   "source": [
    "# Selenium"
   ]
  },
  {
   "cell_type": "code",
   "execution_count": null,
   "metadata": {},
   "outputs": [],
   "source": [
    "!pip install selenium\n",
    "!pip install geckodriver"
   ]
  },
  {
   "cell_type": "code",
   "execution_count": null,
   "metadata": {},
   "outputs": [],
   "source": [
    "import sys\n",
    "#sys.path.append('/home/kodolamacz/gorecki/rozne_zrodla')\n",
    "\n",
    "sys.path"
   ]
  },
  {
   "cell_type": "code",
   "execution_count": null,
   "metadata": {},
   "outputs": [],
   "source": [
    "from selenium import webdriver\n",
    "from selenium.webdriver.common.keys import Keys\n",
    "from selenium.webdriver.common.by import By\n",
    "from selenium.webdriver.support.ui import WebDriverWait\n",
    "from selenium.webdriver.support import expected_conditions as EC\n",
    "\n",
    "\n",
    "driver = webdriver.Firefox(executable_path='/home/kodolamacz/gorecki/rozne_zrodla/geckodriver')\n",
    "url = 'https://www.otomoto.pl/oferta/nissan-x-trail-1-3-160km-n-connecta-pakiet-premium-szyberach-automat-dct-ID6Ctwoy.html'\n",
    "driver.get(url)\n",
    "\n",
    "wait = WebDriverWait(driver, 30)\n",
    "\n",
    "el = driver.find_element_by_xpath('/html/body/div[3]/main/div[1]/div[2]/div[1]/div[2]/div[5]/div[2]/div/a')\n",
    "driver.execute_script('arguments[0].click()', el)\n",
    "wait.until(EC.presence_of_element_located((By.XPATH, '/html/body/div[3]/main/div[1]/div[2]/div[1]/div[2]/div[5]/div[2]/div/span[2]')))\n",
    "print(driver.find_element_by_xpath('/html/body/div[3]/main/div[1]/div[2]/div[1]/div[2]/div[5]/div[2]/div/span[2]').text)"
   ]
  },
  {
   "cell_type": "code",
   "execution_count": null,
   "metadata": {},
   "outputs": [],
   "source": []
  }
 ],
 "metadata": {
  "kernelspec": {
   "display_name": "Python 3",
   "language": "python",
   "name": "python3"
  },
  "language_info": {
   "codemirror_mode": {
    "name": "ipython",
    "version": 3
   },
   "file_extension": ".py",
   "mimetype": "text/x-python",
   "name": "python",
   "nbconvert_exporter": "python",
   "pygments_lexer": "ipython3",
   "version": "3.7.0"
  }
 },
 "nbformat": 4,
 "nbformat_minor": 2
}
