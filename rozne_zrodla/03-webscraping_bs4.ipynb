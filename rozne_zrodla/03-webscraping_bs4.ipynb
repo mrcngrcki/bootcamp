{
 "cells": [
  {
   "cell_type": "markdown",
   "metadata": {},
   "source": [
    "\n",
    "# HTML\n",
    "\n",
    "## Wymagania\n",
    "\n",
    "Do wykonania ćwiczeń należy zainstalować parser lxml oraz bibliotekę BeautifulSoup4:\n",
    "\n",
    "```\n",
    "pip install beautifulsoup4 lxml\n",
    "```\n"
   ]
  },
  {
   "cell_type": "markdown",
   "metadata": {},
   "source": [
    "## Dane do parse'owania"
   ]
  },
  {
   "cell_type": "code",
   "execution_count": 1,
   "metadata": {},
   "outputs": [
    {
     "name": "stdout",
     "output_type": "stream",
     "text": [
      "Requirement already satisfied: beautifulsoup4 in /home/kodolamacz/anaconda3/lib/python3.7/site-packages (4.6.3)\r\n",
      "Requirement already satisfied: lxml in /home/kodolamacz/anaconda3/lib/python3.7/site-packages (4.2.5)\r\n"
     ]
    }
   ],
   "source": [
    "!pip install beautifulsoup4 lxml"
   ]
  },
  {
   "cell_type": "code",
   "execution_count": 2,
   "metadata": {},
   "outputs": [],
   "source": [
    "website = \"\"\"\n",
    "<!DOCTYPE html>\n",
    "<html lang=\"en\">\n",
    "<head>\n",
    "        <title>The Linux Kernel Archives</title>\n",
    "        <meta charset=\"utf-8\" />\n",
    "\t<link rel=\"icon\" type=\"image/png\" href=\"./theme/images/logos/favicon.png\" />\n",
    "        <link rel=\"stylesheet\" href=\"./theme/css/main.css\" type=\"text/css\" />\n",
    "                <link href=\"https://www.kernel.org/feeds/all.atom.xml\" type=\"application/atom+xml\" rel=\"alternate\" title=\"The Linux Kernel Archives Atom Feed\" />\n",
    "                \n",
    "        <link href=\"https://www.kernel.org/feeds/kdist.xml\" type=\"application/atom+xml\" rel=\"alternate\" title=\"Latest Linux Kernel Releases\" />\n",
    "\n",
    "        <!--[if IE]>\n",
    "                <script src=\"https://html5shiv.googlecode.com/svn/trunk/html5.js\"></script><![endif]-->\n",
    "\n",
    "        <!--[if lte IE 7]>\n",
    "                <link rel=\"stylesheet\" type=\"text/css\" media=\"all\" href=\"./css/ie.css\"/>\n",
    "                <script src=\"./js/IE8.js\" type=\"text/javascript\"></script><![endif]-->\n",
    "\n",
    "        <!--[if lt IE 7]>\n",
    "                <link rel=\"stylesheet\" type=\"text/css\" media=\"all\" href=\"./css/ie6.css\"/><![endif]-->\n",
    "\n",
    "</head>\n",
    "\n",
    "<body id=\"index\" class=\"home\">\n",
    "        <header id=\"banner\" class=\"body\">\n",
    "\t        <div id=\"tux-gear\"></div>\n",
    "                <h1><a href=\"./\">The Linux Kernel Archives </a></h1>\n",
    "                <nav><ul>\n",
    "                                                                                                    <li ><a href=\"./category/about.html\">About</a></li>\n",
    "                                    <li ><a href=\"./category/contact-us.html\">Contact us</a></li>\n",
    "                                    <li ><a href=\"./category/faq.html\">FAQ</a></li>\n",
    "                                    <li ><a href=\"./category/releases.html\">Releases</a></li>\n",
    "                                    <li ><a href=\"./category/signatures.html\">Signatures</a></li>\n",
    "                                    <li ><a href=\"./category/site-news.html\">Site news</a></li>\n",
    "                                </ul></nav>\n",
    "        </header><!-- /#banner -->\n",
    "                \n",
    "    <aside id=\"featured\" class=\"body\">\n",
    "    <article>\n",
    "        <table id=\"protocols\">\n",
    "        <tr>\n",
    "          <th>Protocol</th>\n",
    "          <th>Location</th>\n",
    "        </tr>\n",
    "        <tr>\n",
    "          <td><a href=\"https://www.ietf.org/rfc/rfc2616.txt\">HTTP</a></td>\n",
    "          <td><a href=\"https://www.kernel.org/pub/\">https://www.kernel.org/pub/</a></td>\n",
    "        </tr>\n",
    "\n",
    "        <tr>\n",
    "          <td><a href=\"https://git-scm.com/\">GIT</a></td>\n",
    "          <td><a href=\"https://git.kernel.org/\">https://git.kernel.org/</a></td>\n",
    "        </tr>\n",
    "\n",
    "        <tr>\n",
    "            <td><a href=\"https://rsync.samba.org/\">RSYNC</a></td>\n",
    "            <td>rsync://rsync.kernel.org/pub/</td>\n",
    "        </tr>\n",
    "        </table>\n",
    "\n",
    "        <table id=\"latest\">\n",
    "        <tr>\n",
    "            <td colspan=\"2\" id=\"latest_label\">\n",
    "                <strong>Latest Stable Kernel:</strong>\n",
    "            </td>\n",
    "        </tr>\n",
    "        <tr>\n",
    "            <td id=\"latest_button\">\n",
    "                <a href=\"https://cdn.kernel.org/pub/linux/kernel/v4.x/linux-4.18.9.tar.xz\"><img src=\"./theme/images/icons/downloadarrow_small.png\" width=\"48\" height=\"48\" border=\"0\" alt=\"Download\"/></a>\n",
    "            </td>\n",
    "            <td id=\"latest_link\">\n",
    "                <a href=\"https://cdn.kernel.org/pub/linux/kernel/v4.x/linux-4.18.9.tar.xz\">4.18.9</a>\n",
    "            </td>\n",
    "        </tr>\n",
    "        </table>\n",
    "\n",
    "        <table id=\"releases\">\n",
    "                <tr align=\"left\">\n",
    "            <td>mainline:</td>\n",
    "            <td><strong>4.19-rc4</strong></td>\n",
    "            <td>2018-09-16</td>\n",
    "            <td>[<a href=\"https://git.kernel.org/torvalds/t/linux-4.19-rc4.tar.gz\" title=\"Download complete tarball\">tarball</a>] </td>\n",
    "            <td> </td>\n",
    "            <td>[<a href=\"https://git.kernel.org/torvalds/p/v4.19-rc4/v4.18\" title=\"Download patch to previous mainline\">patch</a>] </td>\n",
    "            <td>[<a href=\"https://git.kernel.org/torvalds/p/v4.19-rc4/v4.19-rc3\" title=\"Download incremental patch\">inc.&nbsp;patch</a>] </td>\n",
    "            <td>[<a href=\"https://git.kernel.org/torvalds/ds/v4.19-rc4/v4.19-rc3\" title=\"View diff in cgit\">view&nbsp;diff</a>] </td>\n",
    "            <td>[<a href=\"https://git.kernel.org/torvalds/h/v4.19-rc4\" title=\"Browse the git tree using cgit\">browse</a>]  </td>\n",
    "            <td> </td>\n",
    "        </tr>\n",
    "                <tr align=\"left\">\n",
    "            <td>stable:</td>\n",
    "            <td><strong>4.18.9</strong></td>\n",
    "            <td>2018-09-19</td>\n",
    "            <td>[<a href=\"https://cdn.kernel.org/pub/linux/kernel/v4.x/linux-4.18.9.tar.xz\" title=\"Download complete tarball\">tarball</a>] </td>\n",
    "            <td>[<a href=\"https://cdn.kernel.org/pub/linux/kernel/v4.x/linux-4.18.9.tar.sign\" title=\"Download PGP verification signature\">pgp</a>]  </td>\n",
    "            <td>[<a href=\"https://cdn.kernel.org/pub/linux/kernel/v4.x/patch-4.18.9.xz\" title=\"Download patch to previous mainline\">patch</a>] </td>\n",
    "            <td>[<a href=\"https://cdn.kernel.org/pub/linux/kernel/v4.x/incr/patch-4.18.8-9.xz\" title=\"Download incremental patch\">inc.&nbsp;patch</a>] </td>\n",
    "            <td>[<a href=\"https://git.kernel.org/stable/ds/v4.18.9/v4.18.8\" title=\"View diff in cgit\">view&nbsp;diff</a>] </td>\n",
    "            <td>[<a href=\"https://git.kernel.org/stable/h/v4.18.9\" title=\"Browse the git tree using cgit\">browse</a>]  </td>\n",
    "            <td>[<a href=\"https://cdn.kernel.org/pub/linux/kernel/v4.x/ChangeLog-4.18.9\" title=\"View detailed change logs\">changelog</a>] </td>\n",
    "        </tr>\n",
    "                <tr align=\"left\">\n",
    "            <td>stable:</td>\n",
    "            <td><strong>4.17.19 <span class=\"eolkernel\" title=\"This release is End-of-Life\">[EOL]</span></strong></td>\n",
    "            <td>2018-08-24</td>\n",
    "            <td>[<a href=\"https://cdn.kernel.org/pub/linux/kernel/v4.x/linux-4.17.19.tar.xz\" title=\"Download complete tarball\">tarball</a>] </td>\n",
    "            <td>[<a href=\"https://cdn.kernel.org/pub/linux/kernel/v4.x/linux-4.17.19.tar.sign\" title=\"Download PGP verification signature\">pgp</a>]  </td>\n",
    "            <td>[<a href=\"https://cdn.kernel.org/pub/linux/kernel/v4.x/patch-4.17.19.xz\" title=\"Download patch to previous mainline\">patch</a>] </td>\n",
    "            <td>[<a href=\"https://cdn.kernel.org/pub/linux/kernel/v4.x/incr/patch-4.17.18-19.xz\" title=\"Download incremental patch\">inc.&nbsp;patch</a>] </td>\n",
    "            <td>[<a href=\"https://git.kernel.org/stable/ds/v4.17.19/v4.17.18\" title=\"View diff in cgit\">view&nbsp;diff</a>] </td>\n",
    "            <td>[<a href=\"https://git.kernel.org/stable/h/v4.17.19\" title=\"Browse the git tree using cgit\">browse</a>]  </td>\n",
    "            <td>[<a href=\"https://cdn.kernel.org/pub/linux/kernel/v4.x/ChangeLog-4.17.19\" title=\"View detailed change logs\">changelog</a>] </td>\n",
    "        </tr>\n",
    "                <tr align=\"left\">\n",
    "            <td>longterm:</td>\n",
    "            <td><strong>4.14.71</strong></td>\n",
    "            <td>2018-09-19</td>\n",
    "            <td>[<a href=\"https://cdn.kernel.org/pub/linux/kernel/v4.x/linux-4.14.71.tar.xz\" title=\"Download complete tarball\">tarball</a>] </td>\n",
    "            <td>[<a href=\"https://cdn.kernel.org/pub/linux/kernel/v4.x/linux-4.14.71.tar.sign\" title=\"Download PGP verification signature\">pgp</a>]  </td>\n",
    "            <td>[<a href=\"https://cdn.kernel.org/pub/linux/kernel/v4.x/patch-4.14.71.xz\" title=\"Download patch to previous mainline\">patch</a>] </td>\n",
    "            <td>[<a href=\"https://cdn.kernel.org/pub/linux/kernel/v4.x/incr/patch-4.14.70-71.xz\" title=\"Download incremental patch\">inc.&nbsp;patch</a>] </td>\n",
    "            <td>[<a href=\"https://git.kernel.org/stable/ds/v4.14.71/v4.14.70\" title=\"View diff in cgit\">view&nbsp;diff</a>] </td>\n",
    "            <td>[<a href=\"https://git.kernel.org/stable/h/v4.14.71\" title=\"Browse the git tree using cgit\">browse</a>]  </td>\n",
    "            <td>[<a href=\"https://cdn.kernel.org/pub/linux/kernel/v4.x/ChangeLog-4.14.71\" title=\"View detailed change logs\">changelog</a>] </td>\n",
    "        </table>\n",
    "    </article>\n",
    "</aside>\n",
    "        <section id=\"extras\" class=\"body\">\n",
    "                        <div class=\"blogroll\">\n",
    "                        <h2>Other resources</h2>\n",
    "                        <ul>\n",
    "                                                    <li><a href=\"https://git.kernel.org/\">Cgit</a></li>\n",
    "                                                    <li><a href=\"https://www.kernel.org/doc/html/latest/\">Documentation</a></li>\n",
    "                                                    <li><a href=\"https://www.wiki.kernel.org/\">Wikis</a></li>\n",
    "                                                    <li><a href=\"https://bugzilla.kernel.org/\">Bugzilla</a></li>\n",
    "                                                </ul>\n",
    "                </div><!-- /.blogroll -->\n",
    "                                <div class=\"social\">\n",
    "                        <h2>Social</h2>\n",
    "                        <ul>\n",
    "                            <li><a href=\"https://www.kernel.org/feeds/all.atom.xml\" type=\"application/atom+xml\" rel=\"alternate\">Site Atom feed</a></li>\n",
    "                                                        <li><a href=\"https://www.kernel.org/feeds/kdist.xml\" type=\"application/atom+xml\" rel=\"alternate\">Releases Atom Feed</a></li>\n",
    "\n",
    "                                                    <li><a href=\"http://planet.kernel.org/\">Kernel Planet</a></li>\n",
    "                                                </ul>\n",
    "                </div><!-- /.social -->\n",
    "                </section><!-- /#extras -->\n",
    "\n",
    "        <footer id=\"contentinfo\" class=\"body\">\n",
    "                <address id=\"about\" class=\"vcard body\">\n",
    "                    This site is operated by the Linux Kernel Organization, Inc., a <a href=\"./nonprofit.html\">501(c)3 nonprofit corporation</a>, with support from the following sponsors.\n",
    "                </address><!-- /#about -->\n",
    "\n",
    "                <address id=\"donors\">\n",
    "                  <a href=\"https://www.redhat.com/\"><img src=\"./theme/images/logos/redhat-logo.png\"\n",
    "                  alt=\"Red Hat\" height=\"36\" width=\"108\" /></a>\n",
    "                  &nbsp;\n",
    "                  <a href=\"https://www.packet.net/\"><img src=\"./theme/images/logos/packetnet.png\"\n",
    "                  alt=\"Packet\" height=\"36\" width=\"106\" /></a>\n",
    "                  &nbsp;\n",
    "                  <a href=\"https://www.fastly.com/\"><img src=\"./theme/images/logos/fastly-logo.png\"\n",
    "                  alt=\"Fastly\" width=\"91\" height=\"35\" /></a>\n",
    "                  &nbsp;\n",
    "                  <a href=\"https://www.google.com/\"><img src=\"./theme/images/logos/google.png\"\n",
    "                  alt=\"Google\" height=\"42\" width=\"128\" /></a>\n",
    "                  <br/>\n",
    "                  <a href=\"https://www.constellix.com/\"><img src=\"./theme/images/logos/constellix-green-logo.png\"\n",
    "                  alt=\"Constellix\" width=\"193\" height=\"21\" style=\"vertical-align: bottom; padding-bottom: 4px\" /></a>\n",
    "                  &nbsp;\n",
    "                  <a href=\"https://www.purestorage.com/\"><img src=\"./theme/images/logos/purestorage.png\"\n",
    "                  alt=\"PureStorage\" width=\"179\" height=\"45\" /></a>\n",
    "                  <br/>&nbsp;<br/>\n",
    "                  <a href=\"https://www.linuxfoundation.org/\"><img src=\"./theme/images/logos/thelinuxfoundation.png\"\n",
    "                  alt=\"The Linux Foundation\" width=\"137\" height=\"45\" /></a>\n",
    "                </address><!-- /#about -->\n",
    "        </footer><!-- /#contentinfo -->\n",
    "\n",
    "</body>\n",
    "</html>\n",
    "\"\"\""
   ]
  },
  {
   "cell_type": "markdown",
   "metadata": {},
   "source": [
    "## Uruchomienie parsera"
   ]
  },
  {
   "cell_type": "code",
   "execution_count": 3,
   "metadata": {},
   "outputs": [],
   "source": [
    "from bs4 import BeautifulSoup\n",
    "\n",
    "soup = BeautifulSoup(website, 'lxml')"
   ]
  },
  {
   "cell_type": "markdown",
   "metadata": {},
   "source": [
    "## Wyciąganie tagów"
   ]
  },
  {
   "cell_type": "code",
   "execution_count": 4,
   "metadata": {},
   "outputs": [
    {
     "name": "stdout",
     "output_type": "stream",
     "text": [
      "<head>\n",
      "<title>The Linux Kernel Archives</title>\n",
      "<meta charset=\"utf-8\"/>\n",
      "<link href=\"./theme/images/logos/favicon.png\" rel=\"icon\" type=\"image/png\"/>\n",
      "<link href=\"./theme/css/main.css\" rel=\"stylesheet\" type=\"text/css\"/>\n",
      "<link href=\"https://www.kernel.org/feeds/all.atom.xml\" rel=\"alternate\" title=\"The Linux Kernel Archives Atom Feed\" type=\"application/atom+xml\"/>\n",
      "<link href=\"https://www.kernel.org/feeds/kdist.xml\" rel=\"alternate\" title=\"Latest Linux Kernel Releases\" type=\"application/atom+xml\"/>\n",
      "<!--[if IE]>\n",
      "                <script src=\"https://html5shiv.googlecode.com/svn/trunk/html5.js\"></script><![endif]-->\n",
      "<!--[if lte IE 7]>\n",
      "                <link rel=\"stylesheet\" type=\"text/css\" media=\"all\" href=\"./css/ie.css\"/>\n",
      "                <script src=\"./js/IE8.js\" type=\"text/javascript\"></script><![endif]-->\n",
      "<!--[if lt IE 7]>\n",
      "                <link rel=\"stylesheet\" type=\"text/css\" media=\"all\" href=\"./css/ie6.css\"/><![endif]-->\n",
      "</head>\n"
     ]
    }
   ],
   "source": [
    "print(soup.head)"
   ]
  },
  {
   "cell_type": "code",
   "execution_count": 5,
   "metadata": {},
   "outputs": [
    {
     "name": "stdout",
     "output_type": "stream",
     "text": [
      "<title>The Linux Kernel Archives</title>\n"
     ]
    }
   ],
   "source": [
    "print(soup.head.title)"
   ]
  },
  {
   "cell_type": "code",
   "execution_count": 6,
   "metadata": {},
   "outputs": [
    {
     "name": "stdout",
     "output_type": "stream",
     "text": [
      "title\n",
      "The Linux Kernel Archives\n"
     ]
    }
   ],
   "source": [
    "print(soup.head.title.name)\n",
    "print(soup.head.title.text)"
   ]
  },
  {
   "cell_type": "markdown",
   "metadata": {},
   "source": [
    "## Wyciąganie atrybutów"
   ]
  },
  {
   "cell_type": "code",
   "execution_count": 7,
   "metadata": {},
   "outputs": [
    {
     "name": "stdout",
     "output_type": "stream",
     "text": [
      "index\n",
      "protocols\n"
     ]
    }
   ],
   "source": [
    "print(soup.body['id'])\n",
    "print(soup.body.table['id'])"
   ]
  },
  {
   "cell_type": "code",
   "execution_count": 8,
   "metadata": {},
   "outputs": [
    {
     "name": "stdout",
     "output_type": "stream",
     "text": [
      "{'id': 'index', 'class': ['home']}\n"
     ]
    }
   ],
   "source": [
    "print(soup.body.attrs)"
   ]
  },
  {
   "cell_type": "markdown",
   "metadata": {},
   "source": [
    "## Wyszukiwanie"
   ]
  },
  {
   "cell_type": "code",
   "execution_count": 9,
   "metadata": {},
   "outputs": [
    {
     "name": "stdout",
     "output_type": "stream",
     "text": [
      "[<table id=\"protocols\">\n",
      "<tr>\n",
      "<th>Protocol</th>\n",
      "<th>Location</th>\n",
      "</tr>\n",
      "<tr>\n",
      "<td><a href=\"https://www.ietf.org/rfc/rfc2616.txt\">HTTP</a></td>\n",
      "<td><a href=\"https://www.kernel.org/pub/\">https://www.kernel.org/pub/</a></td>\n",
      "</tr>\n",
      "<tr>\n",
      "<td><a href=\"https://git-scm.com/\">GIT</a></td>\n",
      "<td><a href=\"https://git.kernel.org/\">https://git.kernel.org/</a></td>\n",
      "</tr>\n",
      "<tr>\n",
      "<td><a href=\"https://rsync.samba.org/\">RSYNC</a></td>\n",
      "<td>rsync://rsync.kernel.org/pub/</td>\n",
      "</tr>\n",
      "</table>, <table id=\"latest\">\n",
      "<tr>\n",
      "<td colspan=\"2\" id=\"latest_label\">\n",
      "<strong>Latest Stable Kernel:</strong>\n",
      "</td>\n",
      "</tr>\n",
      "<tr>\n",
      "<td id=\"latest_button\">\n",
      "<a href=\"https://cdn.kernel.org/pub/linux/kernel/v4.x/linux-4.18.9.tar.xz\"><img alt=\"Download\" border=\"0\" height=\"48\" src=\"./theme/images/icons/downloadarrow_small.png\" width=\"48\"/></a>\n",
      "</td>\n",
      "<td id=\"latest_link\">\n",
      "<a href=\"https://cdn.kernel.org/pub/linux/kernel/v4.x/linux-4.18.9.tar.xz\">4.18.9</a>\n",
      "</td>\n",
      "</tr>\n",
      "</table>, <table id=\"releases\">\n",
      "<tr align=\"left\">\n",
      "<td>mainline:</td>\n",
      "<td><strong>4.19-rc4</strong></td>\n",
      "<td>2018-09-16</td>\n",
      "<td>[<a href=\"https://git.kernel.org/torvalds/t/linux-4.19-rc4.tar.gz\" title=\"Download complete tarball\">tarball</a>] </td>\n",
      "<td> </td>\n",
      "<td>[<a href=\"https://git.kernel.org/torvalds/p/v4.19-rc4/v4.18\" title=\"Download patch to previous mainline\">patch</a>] </td>\n",
      "<td>[<a href=\"https://git.kernel.org/torvalds/p/v4.19-rc4/v4.19-rc3\" title=\"Download incremental patch\">inc. patch</a>] </td>\n",
      "<td>[<a href=\"https://git.kernel.org/torvalds/ds/v4.19-rc4/v4.19-rc3\" title=\"View diff in cgit\">view diff</a>] </td>\n",
      "<td>[<a href=\"https://git.kernel.org/torvalds/h/v4.19-rc4\" title=\"Browse the git tree using cgit\">browse</a>]  </td>\n",
      "<td> </td>\n",
      "</tr>\n",
      "<tr align=\"left\">\n",
      "<td>stable:</td>\n",
      "<td><strong>4.18.9</strong></td>\n",
      "<td>2018-09-19</td>\n",
      "<td>[<a href=\"https://cdn.kernel.org/pub/linux/kernel/v4.x/linux-4.18.9.tar.xz\" title=\"Download complete tarball\">tarball</a>] </td>\n",
      "<td>[<a href=\"https://cdn.kernel.org/pub/linux/kernel/v4.x/linux-4.18.9.tar.sign\" title=\"Download PGP verification signature\">pgp</a>]  </td>\n",
      "<td>[<a href=\"https://cdn.kernel.org/pub/linux/kernel/v4.x/patch-4.18.9.xz\" title=\"Download patch to previous mainline\">patch</a>] </td>\n",
      "<td>[<a href=\"https://cdn.kernel.org/pub/linux/kernel/v4.x/incr/patch-4.18.8-9.xz\" title=\"Download incremental patch\">inc. patch</a>] </td>\n",
      "<td>[<a href=\"https://git.kernel.org/stable/ds/v4.18.9/v4.18.8\" title=\"View diff in cgit\">view diff</a>] </td>\n",
      "<td>[<a href=\"https://git.kernel.org/stable/h/v4.18.9\" title=\"Browse the git tree using cgit\">browse</a>]  </td>\n",
      "<td>[<a href=\"https://cdn.kernel.org/pub/linux/kernel/v4.x/ChangeLog-4.18.9\" title=\"View detailed change logs\">changelog</a>] </td>\n",
      "</tr>\n",
      "<tr align=\"left\">\n",
      "<td>stable:</td>\n",
      "<td><strong>4.17.19 <span class=\"eolkernel\" title=\"This release is End-of-Life\">[EOL]</span></strong></td>\n",
      "<td>2018-08-24</td>\n",
      "<td>[<a href=\"https://cdn.kernel.org/pub/linux/kernel/v4.x/linux-4.17.19.tar.xz\" title=\"Download complete tarball\">tarball</a>] </td>\n",
      "<td>[<a href=\"https://cdn.kernel.org/pub/linux/kernel/v4.x/linux-4.17.19.tar.sign\" title=\"Download PGP verification signature\">pgp</a>]  </td>\n",
      "<td>[<a href=\"https://cdn.kernel.org/pub/linux/kernel/v4.x/patch-4.17.19.xz\" title=\"Download patch to previous mainline\">patch</a>] </td>\n",
      "<td>[<a href=\"https://cdn.kernel.org/pub/linux/kernel/v4.x/incr/patch-4.17.18-19.xz\" title=\"Download incremental patch\">inc. patch</a>] </td>\n",
      "<td>[<a href=\"https://git.kernel.org/stable/ds/v4.17.19/v4.17.18\" title=\"View diff in cgit\">view diff</a>] </td>\n",
      "<td>[<a href=\"https://git.kernel.org/stable/h/v4.17.19\" title=\"Browse the git tree using cgit\">browse</a>]  </td>\n",
      "<td>[<a href=\"https://cdn.kernel.org/pub/linux/kernel/v4.x/ChangeLog-4.17.19\" title=\"View detailed change logs\">changelog</a>] </td>\n",
      "</tr>\n",
      "<tr align=\"left\">\n",
      "<td>longterm:</td>\n",
      "<td><strong>4.14.71</strong></td>\n",
      "<td>2018-09-19</td>\n",
      "<td>[<a href=\"https://cdn.kernel.org/pub/linux/kernel/v4.x/linux-4.14.71.tar.xz\" title=\"Download complete tarball\">tarball</a>] </td>\n",
      "<td>[<a href=\"https://cdn.kernel.org/pub/linux/kernel/v4.x/linux-4.14.71.tar.sign\" title=\"Download PGP verification signature\">pgp</a>]  </td>\n",
      "<td>[<a href=\"https://cdn.kernel.org/pub/linux/kernel/v4.x/patch-4.14.71.xz\" title=\"Download patch to previous mainline\">patch</a>] </td>\n",
      "<td>[<a href=\"https://cdn.kernel.org/pub/linux/kernel/v4.x/incr/patch-4.14.70-71.xz\" title=\"Download incremental patch\">inc. patch</a>] </td>\n",
      "<td>[<a href=\"https://git.kernel.org/stable/ds/v4.14.71/v4.14.70\" title=\"View diff in cgit\">view diff</a>] </td>\n",
      "<td>[<a href=\"https://git.kernel.org/stable/h/v4.14.71\" title=\"Browse the git tree using cgit\">browse</a>]  </td>\n",
      "<td>[<a href=\"https://cdn.kernel.org/pub/linux/kernel/v4.x/ChangeLog-4.14.71\" title=\"View detailed change logs\">changelog</a>] </td>\n",
      "</tr></table>]\n",
      "3\n",
      "[<table id=\"protocols\">\n",
      "<tr>\n",
      "<th>Protocol</th>\n",
      "<th>Location</th>\n",
      "</tr>\n",
      "<tr>\n",
      "<td><a href=\"https://www.ietf.org/rfc/rfc2616.txt\">HTTP</a></td>\n",
      "<td><a href=\"https://www.kernel.org/pub/\">https://www.kernel.org/pub/</a></td>\n",
      "</tr>\n",
      "<tr>\n",
      "<td><a href=\"https://git-scm.com/\">GIT</a></td>\n",
      "<td><a href=\"https://git.kernel.org/\">https://git.kernel.org/</a></td>\n",
      "</tr>\n",
      "<tr>\n",
      "<td><a href=\"https://rsync.samba.org/\">RSYNC</a></td>\n",
      "<td>rsync://rsync.kernel.org/pub/</td>\n",
      "</tr>\n",
      "</table>]\n",
      "1\n"
     ]
    }
   ],
   "source": [
    "print(soup.body.find_all('table'))\n",
    "print(len(soup.body.find_all('table')))\n",
    "print(soup.find_all(id='protocols'))\n",
    "print(len(soup.find_all(id='protocols')))"
   ]
  },
  {
   "cell_type": "code",
   "execution_count": null,
   "metadata": {},
   "outputs": [],
   "source": [
    "import re\n",
    "\n",
    "def is_cdn(url):\n",
    "    if url:\n",
    "        return url.startswith('https://cdn.')\n",
    "    return False\n",
    "\n",
    "\n",
    "\n",
    "soup.find_all(href=lambda url: url and re.compile(r'git\\.').search(url))\n",
    "\n",
    "soup.find_all(href=is_cdn)"
   ]
  },
  {
   "cell_type": "markdown",
   "metadata": {},
   "source": [
    "## Przechodzenie po drzewie DOM"
   ]
  },
  {
   "cell_type": "code",
   "execution_count": null,
   "metadata": {},
   "outputs": [],
   "source": [
    "tag = soup.find_all('table')[0]\n",
    "print(type(tag.contents))\n",
    "tag.contents"
   ]
  },
  {
   "cell_type": "code",
   "execution_count": null,
   "metadata": {},
   "outputs": [],
   "source": [
    "tag = soup.find_all('table')[0]\n",
    "print(type(tag.children))\n",
    "\n",
    "for child in tag.children:\n",
    "    print(child)"
   ]
  },
  {
   "cell_type": "code",
   "execution_count": null,
   "metadata": {},
   "outputs": [],
   "source": [
    "tag = soup.find_all('table')[0]\n",
    "print(tag.parent)"
   ]
  },
  {
   "cell_type": "markdown",
   "metadata": {},
   "source": [
    "## CSS Selectors"
   ]
  },
  {
   "cell_type": "markdown",
   "metadata": {},
   "source": [
    "### Wybieranie taga"
   ]
  },
  {
   "cell_type": "code",
   "execution_count": null,
   "metadata": {},
   "outputs": [],
   "source": [
    "soup.select(\"title\")[0]"
   ]
  },
  {
   "cell_type": "code",
   "execution_count": null,
   "metadata": {},
   "outputs": [],
   "source": [
    "soup.select(\"table:nth-of-type(3)\")"
   ]
  },
  {
   "cell_type": "markdown",
   "metadata": {},
   "source": [
    "### Wybieranie tagów wewnątrz innych"
   ]
  },
  {
   "cell_type": "code",
   "execution_count": null,
   "metadata": {},
   "outputs": [],
   "source": [
    "soup.select(\"table tr td\")"
   ]
  },
  {
   "cell_type": "markdown",
   "metadata": {},
   "source": [
    "### Wybieranie tagów będących bezpośrednimi dziećmi innych."
   ]
  },
  {
   "cell_type": "code",
   "execution_count": null,
   "metadata": {},
   "outputs": [],
   "source": [
    "soup.select(\"table > tr > td\")"
   ]
  },
  {
   "cell_type": "markdown",
   "metadata": {},
   "source": [
    "### Wybór \"rodzeństwa\" tagów"
   ]
  },
  {
   "cell_type": "code",
   "execution_count": null,
   "metadata": {},
   "outputs": [],
   "source": [
    "soup.select(\"#protocols ~ table\")"
   ]
  },
  {
   "cell_type": "code",
   "execution_count": null,
   "metadata": {},
   "outputs": [],
   "source": [
    "soup.select(\"#protocols + table\")"
   ]
  },
  {
   "cell_type": "markdown",
   "metadata": {},
   "source": [
    "### Wybór wg. id i class"
   ]
  },
  {
   "cell_type": "code",
   "execution_count": null,
   "metadata": {},
   "outputs": [],
   "source": [
    "soup.select('#about')"
   ]
  },
  {
   "cell_type": "code",
   "execution_count": null,
   "metadata": {},
   "outputs": [],
   "source": [
    "soup.select('.body')"
   ]
  },
  {
   "cell_type": "markdown",
   "metadata": {},
   "source": [
    "# JSON"
   ]
  },
  {
   "cell_type": "code",
   "execution_count": null,
   "metadata": {},
   "outputs": [],
   "source": [
    "import json\n",
    "\n",
    "print(soup.body.attrs)\n",
    "\n",
    "json_string = json.dumps(soup.body.attrs)\n",
    "\n",
    "print(json_string)\n"
   ]
  },
  {
   "cell_type": "code",
   "execution_count": null,
   "metadata": {},
   "outputs": [],
   "source": [
    "json_dict = json.loads(json_string)\n",
    "print(json_dict)"
   ]
  },
  {
   "cell_type": "markdown",
   "metadata": {},
   "source": [
    "# Zadanie 1\n",
    "\n",
    "Należy wydobyć dane ze strony http://otomoto.pl. \n",
    "1. Wejść w przeglądarce na stronę otomoto.pl i wyświetlić stronę z ogłozeniami sprzedaży używanych samochodów osobowych z Warszawy. Skopiować odpowiedni URL.\n",
    "\n",
    "2. Napisać skrypt z użyciem BeautifulSoup wydobywający ze strony następujące dane n.t. samochodów:\n",
    "\n",
    "    - Marka oraz model (z nagłówka ogłoszenia)\n",
    "    - Rok produkcji\n",
    "    - Przebieg\n",
    "    - Rodzaj paliwa\n",
    "    - Cena\n",
    "\n",
    "3. Zapisać wydobyte dane w pliku CSV na dysku komputera.\n",
    "\n",
    "4. Rozszerzyć działanie programu na wydobywanie danych z n kolejnych podstron."
   ]
  },
  {
   "cell_type": "code",
   "execution_count": 10,
   "metadata": {},
   "outputs": [],
   "source": [
    "import requests\n",
    "url = 'https://www.otomoto.pl/osobowe/warszawa/?search%5Bbrand_program_id%5D%5B0%5D=&search%5Bdist%5D=5&search%5Bcountry%5D='\n",
    "html = requests.get(url).text\n",
    "otomoto = BeautifulSoup(html, 'lxml')"
   ]
  },
  {
   "cell_type": "code",
   "execution_count": 11,
   "metadata": {},
   "outputs": [],
   "source": [
    "import requests\n",
    "import numpy as np\n",
    "import pandas as pd\n"
   ]
  },
  {
   "cell_type": "code",
   "execution_count": 33,
   "metadata": {},
   "outputs": [
    {
     "ename": "SyntaxError",
     "evalue": "keyword can't be an expression (<ipython-input-33-9c02ae6b032f>, line 5)",
     "output_type": "error",
     "traceback": [
      "\u001b[0;36m  File \u001b[0;32m\"<ipython-input-33-9c02ae6b032f>\"\u001b[0;36m, line \u001b[0;32m5\u001b[0m\n\u001b[0;31m    offer.find(data-code='year')\u001b[0m\n\u001b[0m              ^\u001b[0m\n\u001b[0;31mSyntaxError\u001b[0m\u001b[0;31m:\u001b[0m keyword can't be an expression\n"
     ]
    }
   ],
   "source": [
    "offers = otomoto.select('.offer-item__content')\n",
    "\n",
    "for offer in offers:\n",
    "    name = offer.select('.offer-title__link')[0].attrs['title']\n",
    "    offer.find(data-code='year')"
   ]
  },
  {
   "cell_type": "markdown",
   "metadata": {},
   "source": [
    "# Zadanie 2"
   ]
  },
  {
   "cell_type": "markdown",
   "metadata": {},
   "source": [
    "Należy ściągnąć dane ze sklepu internetowego Agencji Mienia Wojskowego, ze strony:\n",
    "\n",
    "https://sklep.amw.com.pl/pl/c/Odziez-i-elementy-umundurowania/16/1/full\n",
    "\n",
    "1. Ze strony należy wydobyć dane takie jak:\n",
    "    - Nazwa towaru\n",
    "    - dostępność\n",
    "    - cena\n",
    "2. Z wyciągniętych danych należy wygenerować JSON w formacie:\n",
    "\n",
    "```json\n",
    "[\n",
    "    {\n",
    "       'name': \"nazwa towaru\",\n",
    "       'availbility': \"dostępność\",\n",
    "       'price': 10.50\n",
    "    },\n",
    "        {\n",
    "       'name': \"nazwa innego towaru\",\n",
    "       'availbility': \"mała\",\n",
    "       'price': 12.00\n",
    "    }\n",
    "]\n",
    "```\n",
    "3. Z podanych danych w formacie JSON wygenerować plik CSV z danymi n.t. towarów w kolejnych wierszach.\n",
    "\n",
    "Nazwy kolumn w pliku CSV: `name`, `availbility`, `price`\n",
    "\n",
    "**Linki**\n",
    "\n",
    "Dokumentacja Beautiful Soup:\n",
    "\n",
    "https://www.crummy.com/software/BeautifulSoup/bs4/doc/\n",
    "\n",
    "Dokumentacja modułu `json`:\n",
    "\n",
    "https://docs.python.org/3/library/json.html\n",
    "\n",
    "Dokumentacja modułu `csv`:\n",
    "\n",
    "https://docs.python.org/3/library/csv.html"
   ]
  },
  {
   "cell_type": "markdown",
   "metadata": {},
   "source": [
    "# Books to scrape"
   ]
  },
  {
   "cell_type": "code",
   "execution_count": 35,
   "metadata": {},
   "outputs": [
    {
     "data": {
      "text/plain": [
       "'<!DOCTYPE html>\\n<!--[if lt IE 7]>      <html lang=\"en-us\" class=\"no-js lt-ie9 lt-ie8 lt-ie7\"> <![endif]-->\\n<!--[if IE 7]>         <html lang=\"en-us\" class=\"no-js lt-ie9 lt-ie8\"> <![endif]-->\\n<!--[if IE 8]>         <html lang=\"en-us\" class=\"no-js lt-ie9\"> <![endif]-->\\n<!--[if gt IE 8]><!--> <html lang=\"en-us\" class=\"no-js\"> <!--<![endif]-->\\n    <head>\\n        <title>\\n    All products | Books to Scrape - Sandbox\\n</title>\\n\\n        <meta http-equiv=\"content-type\" content=\"text/html; charset=UTF-8\" />\\n        <meta name=\"created\" content=\"24th Jun 2016 09:29\" />\\n        <meta name=\"description\" content=\"\" />\\n        <meta name=\"viewport\" content=\"width=device-width\" />\\n        <meta name=\"robots\" content=\"NOARCHIVE,NOCACHE\" />\\n\\n        <!-- Le HTML5 shim, for IE6-8 support of HTML elements -->\\n        <!--[if lt IE 9]>\\n        <script src=\"//html5shim.googlecode.com/svn/trunk/html5.js\"></script>\\n        <![endif]-->\\n\\n        \\n            <link rel=\"shortcut icon\" href=\"static/oscar/favicon.ico\" />\\n        \\n\\n        \\n        \\n    \\n    \\n        <link rel=\"stylesheet\" type=\"text/css\" href=\"static/oscar/css/styles.css\" />\\n    \\n    <link rel=\"stylesheet\" href=\"static/oscar/js/bootstrap-datetimepicker/bootstrap-datetimepicker.css\" />\\n    <link rel=\"stylesheet\" type=\"text/css\" href=\"static/oscar/css/datetimepicker.css\" />\\n\\n\\n        \\n        \\n\\n        \\n\\n        \\n            \\n            \\n\\n        \\n    </head>\\n\\n    <body id=\"default\" class=\"default\">\\n        \\n        \\n    \\n    \\n    <header class=\"header container-fluid\">\\n        <div class=\"page_inner\">\\n            <div class=\"row\">\\n                <div class=\"col-sm-8 h1\"><a href=\"index.html\">Books to Scrape</a><small> We love being scraped!</small>\\n</div>\\n\\n                \\n            </div>\\n        </div>\\n    </header>\\n\\n    \\n    \\n<div class=\"container-fluid page\">\\n    <div class=\"page_inner\">\\n        \\n    <ul class=\"breadcrumb\">\\n        <li>\\n            <a href=\"index.html\">Home</a>\\n        </li>\\n        <li class=\"active\">All products</li>\\n    </ul>\\n\\n        <div class=\"row\">\\n\\n            <aside class=\"sidebar col-sm-4 col-md-3\">\\n                \\n                <div id=\"promotions_left\">\\n                    \\n                </div>\\n                \\n    \\n    \\n        \\n        <div class=\"side_categories\">\\n            <ul class=\"nav nav-list\">\\n                \\n                    <li>\\n                        <a href=\"catalogue/category/books_1/index.html\">\\n                            \\n                                Books\\n                            \\n                        </a>\\n\\n                        <ul>\\n                        \\n                \\n                    <li>\\n                        <a href=\"catalogue/category/books/travel_2/index.html\">\\n                            \\n                                Travel\\n                            \\n                        </a>\\n\\n                        </li>\\n                        \\n                \\n                    <li>\\n                        <a href=\"catalogue/category/books/mystery_3/index.html\">\\n                            \\n                                Mystery\\n                            \\n                        </a>\\n\\n                        </li>\\n                        \\n                \\n                    <li>\\n                        <a href=\"catalogue/category/books/historical-fiction_4/index.html\">\\n                            \\n                                Historical Fiction\\n                            \\n                        </a>\\n\\n                        </li>\\n                        \\n                \\n                    <li>\\n                        <a href=\"catalogue/category/books/sequential-art_5/index.html\">\\n                            \\n                                Sequential Art\\n                            \\n                        </a>\\n\\n                        </li>\\n                        \\n                \\n                    <li>\\n                        <a href=\"catalogue/category/books/classics_6/index.html\">\\n                            \\n                                Classics\\n                            \\n                        </a>\\n\\n                        </li>\\n                        \\n                \\n                    <li>\\n                        <a href=\"catalogue/category/books/philosophy_7/index.html\">\\n                            \\n                                Philosophy\\n                            \\n                        </a>\\n\\n                        </li>\\n                        \\n                \\n                    <li>\\n                        <a href=\"catalogue/category/books/romance_8/index.html\">\\n                            \\n                                Romance\\n                            \\n                        </a>\\n\\n                        </li>\\n                        \\n                \\n                    <li>\\n                        <a href=\"catalogue/category/books/womens-fiction_9/index.html\">\\n                            \\n                                Womens Fiction\\n                            \\n                        </a>\\n\\n                        </li>\\n                        \\n                \\n                    <li>\\n                        <a href=\"catalogue/category/books/fiction_10/index.html\">\\n                            \\n                                Fiction\\n                            \\n                        </a>\\n\\n                        </li>\\n                        \\n                \\n                    <li>\\n                        <a href=\"catalogue/category/books/childrens_11/index.html\">\\n                            \\n                                Childrens\\n                            \\n                        </a>\\n\\n                        </li>\\n                        \\n                \\n                    <li>\\n                        <a href=\"catalogue/category/books/religion_12/index.html\">\\n                            \\n                                Religion\\n                            \\n                        </a>\\n\\n                        </li>\\n                        \\n                \\n                    <li>\\n                        <a href=\"catalogue/category/books/nonfiction_13/index.html\">\\n                            \\n                                Nonfiction\\n                            \\n                        </a>\\n\\n                        </li>\\n                        \\n                \\n                    <li>\\n                        <a href=\"catalogue/category/books/music_14/index.html\">\\n                            \\n                                Music\\n                            \\n                        </a>\\n\\n                        </li>\\n                        \\n                \\n                    <li>\\n                        <a href=\"catalogue/category/books/default_15/index.html\">\\n                            \\n                                Default\\n                            \\n                        </a>\\n\\n                        </li>\\n                        \\n                \\n                    <li>\\n                        <a href=\"catalogue/category/books/science-fiction_16/index.html\">\\n                            \\n                                Science Fiction\\n                            \\n                        </a>\\n\\n                        </li>\\n                        \\n                \\n                    <li>\\n                        <a href=\"catalogue/category/books/sports-and-games_17/index.html\">\\n                            \\n                                Sports and Games\\n                            \\n                        </a>\\n\\n                        </li>\\n                        \\n                \\n                    <li>\\n                        <a href=\"catalogue/category/books/add-a-comment_18/index.html\">\\n                            \\n                                Add a comment\\n                            \\n                        </a>\\n\\n                        </li>\\n                        \\n                \\n                    <li>\\n                        <a href=\"catalogue/category/books/fantasy_19/index.html\">\\n                            \\n                                Fantasy\\n                            \\n                        </a>\\n\\n                        </li>\\n                        \\n                \\n                    <li>\\n                        <a href=\"catalogue/category/books/new-adult_20/index.html\">\\n                            \\n                                New Adult\\n                            \\n                        </a>\\n\\n                        </li>\\n                        \\n                \\n                    <li>\\n                        <a href=\"catalogue/category/books/young-adult_21/index.html\">\\n                            \\n                                Young Adult\\n                            \\n                        </a>\\n\\n                        </li>\\n                        \\n                \\n                    <li>\\n                        <a href=\"catalogue/category/books/science_22/index.html\">\\n                            \\n                                Science\\n                            \\n                        </a>\\n\\n                        </li>\\n                        \\n                \\n                    <li>\\n                        <a href=\"catalogue/category/books/poetry_23/index.html\">\\n                            \\n                                Poetry\\n                            \\n                        </a>\\n\\n                        </li>\\n                        \\n                \\n                    <li>\\n                        <a href=\"catalogue/category/books/paranormal_24/index.html\">\\n                            \\n                                Paranormal\\n                            \\n                        </a>\\n\\n                        </li>\\n                        \\n                \\n                    <li>\\n                        <a href=\"catalogue/category/books/art_25/index.html\">\\n                            \\n                                Art\\n                            \\n                        </a>\\n\\n                        </li>\\n                        \\n                \\n                    <li>\\n                        <a href=\"catalogue/category/books/psychology_26/index.html\">\\n                            \\n                                Psychology\\n                            \\n                        </a>\\n\\n                        </li>\\n                        \\n                \\n                    <li>\\n                        <a href=\"catalogue/category/books/autobiography_27/index.html\">\\n                            \\n                                Autobiography\\n                            \\n                        </a>\\n\\n                        </li>\\n                        \\n                \\n                    <li>\\n                        <a href=\"catalogue/category/books/parenting_28/index.html\">\\n                            \\n                                Parenting\\n                            \\n                        </a>\\n\\n                        </li>\\n                        \\n                \\n                    <li>\\n                        <a href=\"catalogue/category/books/adult-fiction_29/index.html\">\\n                            \\n                                Adult Fiction\\n                            \\n                        </a>\\n\\n                        </li>\\n                        \\n                \\n                    <li>\\n                        <a href=\"catalogue/category/books/humor_30/index.html\">\\n                            \\n                                Humor\\n                            \\n                        </a>\\n\\n                        </li>\\n                        \\n                \\n                    <li>\\n                        <a href=\"catalogue/category/books/horror_31/index.html\">\\n                            \\n                                Horror\\n                            \\n                        </a>\\n\\n                        </li>\\n                        \\n                \\n                    <li>\\n                        <a href=\"catalogue/category/books/history_32/index.html\">\\n                            \\n                                History\\n                            \\n                        </a>\\n\\n                        </li>\\n                        \\n                \\n                    <li>\\n                        <a href=\"catalogue/category/books/food-and-drink_33/index.html\">\\n                            \\n                                Food and Drink\\n                            \\n                        </a>\\n\\n                        </li>\\n                        \\n                \\n                    <li>\\n                        <a href=\"catalogue/category/books/christian-fiction_34/index.html\">\\n                            \\n                                Christian Fiction\\n                            \\n                        </a>\\n\\n                        </li>\\n                        \\n                \\n                    <li>\\n                        <a href=\"catalogue/category/books/business_35/index.html\">\\n                            \\n                                Business\\n                            \\n                        </a>\\n\\n                        </li>\\n                        \\n                \\n                    <li>\\n                        <a href=\"catalogue/category/books/biography_36/index.html\">\\n                            \\n                                Biography\\n                            \\n                        </a>\\n\\n                        </li>\\n                        \\n                \\n                    <li>\\n                        <a href=\"catalogue/category/books/thriller_37/index.html\">\\n                            \\n                                Thriller\\n                            \\n                        </a>\\n\\n                        </li>\\n                        \\n                \\n                    <li>\\n                        <a href=\"catalogue/category/books/contemporary_38/index.html\">\\n                            \\n                                Contemporary\\n                            \\n                        </a>\\n\\n                        </li>\\n                        \\n                \\n                    <li>\\n                        <a href=\"catalogue/category/books/spirituality_39/index.html\">\\n                            \\n                                Spirituality\\n                            \\n                        </a>\\n\\n                        </li>\\n                        \\n                \\n                    <li>\\n                        <a href=\"catalogue/category/books/academic_40/index.html\">\\n                            \\n                                Academic\\n                            \\n                        </a>\\n\\n                        </li>\\n                        \\n                \\n                    <li>\\n                        <a href=\"catalogue/category/books/self-help_41/index.html\">\\n                            \\n                                Self Help\\n                            \\n                        </a>\\n\\n                        </li>\\n                        \\n                \\n                    <li>\\n                        <a href=\"catalogue/category/books/historical_42/index.html\">\\n                            \\n                                Historical\\n                            \\n                        </a>\\n\\n                        </li>\\n                        \\n                \\n                    <li>\\n                        <a href=\"catalogue/category/books/christian_43/index.html\">\\n                            \\n                                Christian\\n                            \\n                        </a>\\n\\n                        </li>\\n                        \\n                \\n                    <li>\\n                        <a href=\"catalogue/category/books/suspense_44/index.html\">\\n                            \\n                                Suspense\\n                            \\n                        </a>\\n\\n                        </li>\\n                        \\n                \\n                    <li>\\n                        <a href=\"catalogue/category/books/short-stories_45/index.html\">\\n                            \\n                                Short Stories\\n                            \\n                        </a>\\n\\n                        </li>\\n                        \\n                \\n                    <li>\\n                        <a href=\"catalogue/category/books/novels_46/index.html\">\\n                            \\n                                Novels\\n                            \\n                        </a>\\n\\n                        </li>\\n                        \\n                \\n                    <li>\\n                        <a href=\"catalogue/category/books/health_47/index.html\">\\n                            \\n                                Health\\n                            \\n                        </a>\\n\\n                        </li>\\n                        \\n                \\n                    <li>\\n                        <a href=\"catalogue/category/books/politics_48/index.html\">\\n                            \\n                                Politics\\n                            \\n                        </a>\\n\\n                        </li>\\n                        \\n                \\n                    <li>\\n                        <a href=\"catalogue/category/books/cultural_49/index.html\">\\n                            \\n                                Cultural\\n                            \\n                        </a>\\n\\n                        </li>\\n                        \\n                \\n                    <li>\\n                        <a href=\"catalogue/category/books/erotica_50/index.html\">\\n                            \\n                                Erotica\\n                            \\n                        </a>\\n\\n                        </li>\\n                        \\n                \\n                    <li>\\n                        <a href=\"catalogue/category/books/crime_51/index.html\">\\n                            \\n                                Crime\\n                            \\n                        </a>\\n\\n                        </li>\\n                        \\n                            </ul></li>\\n                        \\n                \\n            </ul>\\n        </div>\\n    \\n    \\n\\n            </aside>\\n\\n            <div class=\"col-sm-8 col-md-9\">\\n                \\n                <div class=\"page-header action\">\\n                    <h1>All products</h1>\\n                </div>\\n                \\n\\n                \\n\\n\\n\\n<div id=\"messages\">\\n\\n</div>\\n\\n\\n                <div id=\"promotions\">\\n                    \\n                </div>\\n\\n                \\n    <form method=\"get\" class=\"form-horizontal\">\\n        \\n        <div style=\"display:none\">\\n            \\n            \\n        </div>\\n\\n        \\n            \\n                \\n                    <strong>1000</strong> results - showing <strong>1</strong> to <strong>20</strong>.\\n                \\n            \\n            \\n        \\n    </form>\\n    \\n        <section>\\n            <div class=\"alert alert-warning\" role=\"alert\"><strong>Warning!</strong> This is a demo website for web scraping purposes. Prices and ratings here were randomly assigned and have no real meaning.</div>\\n\\n            <div>\\n                <ol class=\"row\">\\n                    \\n                        <li class=\"col-xs-6 col-sm-4 col-md-3 col-lg-3\">\\n\\n\\n\\n\\n\\n\\n    <article class=\"product_pod\">\\n        \\n            <div class=\"image_container\">\\n                \\n                    \\n                    <a href=\"catalogue/a-light-in-the-attic_1000/index.html\"><img src=\"media/cache/2c/da/2cdad67c44b002e7ead0cc35693c0e8b.jpg\" alt=\"A Light in the Attic\" class=\"thumbnail\"></a>\\n                    \\n                \\n            </div>\\n        \\n\\n        \\n            \\n                <p class=\"star-rating Three\">\\n                    <i class=\"icon-star\"></i>\\n                    <i class=\"icon-star\"></i>\\n                    <i class=\"icon-star\"></i>\\n                    <i class=\"icon-star\"></i>\\n                    <i class=\"icon-star\"></i>\\n                </p>\\n            \\n        \\n\\n        \\n            <h3><a href=\"catalogue/a-light-in-the-attic_1000/index.html\" title=\"A Light in the Attic\">A Light in the ...</a></h3>\\n        \\n\\n        \\n            <div class=\"product_price\">\\n                \\n\\n\\n\\n\\n\\n\\n    \\n        <p class=\"price_color\">Â£51.77</p>\\n    \\n\\n<p class=\"instock availability\">\\n    <i class=\"icon-ok\"></i>\\n    \\n        In stock\\n    \\n</p>\\n\\n                \\n                    \\n\\n\\n\\n\\n\\n\\n    \\n    <form>\\n        <button type=\"submit\" class=\"btn btn-primary btn-block\" data-loading-text=\"Adding...\">Add to basket</button>\\n    </form>\\n\\n\\n                \\n            </div>\\n        \\n    </article>\\n\\n</li>\\n                    \\n                        <li class=\"col-xs-6 col-sm-4 col-md-3 col-lg-3\">\\n\\n\\n\\n\\n\\n\\n    <article class=\"product_pod\">\\n        \\n            <div class=\"image_container\">\\n                \\n                    \\n                    <a href=\"catalogue/tipping-the-velvet_999/index.html\"><img src=\"media/cache/26/0c/260c6ae16bce31c8f8c95daddd9f4a1c.jpg\" alt=\"Tipping the Velvet\" class=\"thumbnail\"></a>\\n                    \\n                \\n            </div>\\n        \\n\\n        \\n            \\n                <p class=\"star-rating One\">\\n                    <i class=\"icon-star\"></i>\\n                    <i class=\"icon-star\"></i>\\n                    <i class=\"icon-star\"></i>\\n                    <i class=\"icon-star\"></i>\\n                    <i class=\"icon-star\"></i>\\n                </p>\\n            \\n        \\n\\n        \\n            <h3><a href=\"catalogue/tipping-the-velvet_999/index.html\" title=\"Tipping the Velvet\">Tipping the Velvet</a></h3>\\n        \\n\\n        \\n            <div class=\"product_price\">\\n                \\n\\n\\n\\n\\n\\n\\n    \\n        <p class=\"price_color\">Â£53.74</p>\\n    \\n\\n<p class=\"instock availability\">\\n    <i class=\"icon-ok\"></i>\\n    \\n        In stock\\n    \\n</p>\\n\\n                \\n                    \\n\\n\\n\\n\\n\\n\\n    \\n    <form>\\n        <button type=\"submit\" class=\"btn btn-primary btn-block\" data-loading-text=\"Adding...\">Add to basket</button>\\n    </form>\\n\\n\\n                \\n            </div>\\n        \\n    </article>\\n\\n</li>\\n                    \\n                        <li class=\"col-xs-6 col-sm-4 col-md-3 col-lg-3\">\\n\\n\\n\\n\\n\\n\\n    <article class=\"product_pod\">\\n        \\n            <div class=\"image_container\">\\n                \\n                    \\n                    <a href=\"catalogue/soumission_998/index.html\"><img src=\"media/cache/3e/ef/3eef99c9d9adef34639f510662022830.jpg\" alt=\"Soumission\" class=\"thumbnail\"></a>\\n                    \\n                \\n            </div>\\n        \\n\\n        \\n            \\n                <p class=\"star-rating One\">\\n                    <i class=\"icon-star\"></i>\\n                    <i class=\"icon-star\"></i>\\n                    <i class=\"icon-star\"></i>\\n                    <i class=\"icon-star\"></i>\\n                    <i class=\"icon-star\"></i>\\n                </p>\\n            \\n        \\n\\n        \\n            <h3><a href=\"catalogue/soumission_998/index.html\" title=\"Soumission\">Soumission</a></h3>\\n        \\n\\n        \\n            <div class=\"product_price\">\\n                \\n\\n\\n\\n\\n\\n\\n    \\n        <p class=\"price_color\">Â£50.10</p>\\n    \\n\\n<p class=\"instock availability\">\\n    <i class=\"icon-ok\"></i>\\n    \\n        In stock\\n    \\n</p>\\n\\n                \\n                    \\n\\n\\n\\n\\n\\n\\n    \\n    <form>\\n        <button type=\"submit\" class=\"btn btn-primary btn-block\" data-loading-text=\"Adding...\">Add to basket</button>\\n    </form>\\n\\n\\n                \\n            </div>\\n        \\n    </article>\\n\\n</li>\\n                    \\n                        <li class=\"col-xs-6 col-sm-4 col-md-3 col-lg-3\">\\n\\n\\n\\n\\n\\n\\n    <article class=\"product_pod\">\\n        \\n            <div class=\"image_container\">\\n                \\n                    \\n                    <a href=\"catalogue/sharp-objects_997/index.html\"><img src=\"media/cache/32/51/3251cf3a3412f53f339e42cac2134093.jpg\" alt=\"Sharp Objects\" class=\"thumbnail\"></a>\\n                    \\n                \\n            </div>\\n        \\n\\n        \\n            \\n                <p class=\"star-rating Four\">\\n                    <i class=\"icon-star\"></i>\\n                    <i class=\"icon-star\"></i>\\n                    <i class=\"icon-star\"></i>\\n                    <i class=\"icon-star\"></i>\\n                    <i class=\"icon-star\"></i>\\n                </p>\\n            \\n        \\n\\n        \\n            <h3><a href=\"catalogue/sharp-objects_997/index.html\" title=\"Sharp Objects\">Sharp Objects</a></h3>\\n        \\n\\n        \\n            <div class=\"product_price\">\\n                \\n\\n\\n\\n\\n\\n\\n    \\n        <p class=\"price_color\">Â£47.82</p>\\n    \\n\\n<p class=\"instock availability\">\\n    <i class=\"icon-ok\"></i>\\n    \\n        In stock\\n    \\n</p>\\n\\n                \\n                    \\n\\n\\n\\n\\n\\n\\n    \\n    <form>\\n        <button type=\"submit\" class=\"btn btn-primary btn-block\" data-loading-text=\"Adding...\">Add to basket</button>\\n    </form>\\n\\n\\n                \\n            </div>\\n        \\n    </article>\\n\\n</li>\\n                    \\n                        <li class=\"col-xs-6 col-sm-4 col-md-3 col-lg-3\">\\n\\n\\n\\n\\n\\n\\n    <article class=\"product_pod\">\\n        \\n            <div class=\"image_container\">\\n                \\n                    \\n                    <a href=\"catalogue/sapiens-a-brief-history-of-humankind_996/index.html\"><img src=\"media/cache/be/a5/bea5697f2534a2f86a3ef27b5a8c12a6.jpg\" alt=\"Sapiens: A Brief History of Humankind\" class=\"thumbnail\"></a>\\n                    \\n                \\n            </div>\\n        \\n\\n        \\n            \\n                <p class=\"star-rating Five\">\\n                    <i class=\"icon-star\"></i>\\n                    <i class=\"icon-star\"></i>\\n                    <i class=\"icon-star\"></i>\\n                    <i class=\"icon-star\"></i>\\n                    <i class=\"icon-star\"></i>\\n                </p>\\n            \\n        \\n\\n        \\n            <h3><a href=\"catalogue/sapiens-a-brief-history-of-humankind_996/index.html\" title=\"Sapiens: A Brief History of Humankind\">Sapiens: A Brief History ...</a></h3>\\n        \\n\\n        \\n            <div class=\"product_price\">\\n                \\n\\n\\n\\n\\n\\n\\n    \\n        <p class=\"price_color\">Â£54.23</p>\\n    \\n\\n<p class=\"instock availability\">\\n    <i class=\"icon-ok\"></i>\\n    \\n        In stock\\n    \\n</p>\\n\\n                \\n                    \\n\\n\\n\\n\\n\\n\\n    \\n    <form>\\n        <button type=\"submit\" class=\"btn btn-primary btn-block\" data-loading-text=\"Adding...\">Add to basket</button>\\n    </form>\\n\\n\\n                \\n            </div>\\n        \\n    </article>\\n\\n</li>\\n                    \\n                        <li class=\"col-xs-6 col-sm-4 col-md-3 col-lg-3\">\\n\\n\\n\\n\\n\\n\\n    <article class=\"product_pod\">\\n        \\n            <div class=\"image_container\">\\n                \\n                    \\n                    <a href=\"catalogue/the-requiem-red_995/index.html\"><img src=\"media/cache/68/33/68339b4c9bc034267e1da611ab3b34f8.jpg\" alt=\"The Requiem Red\" class=\"thumbnail\"></a>\\n                    \\n                \\n            </div>\\n        \\n\\n        \\n            \\n                <p class=\"star-rating One\">\\n                    <i class=\"icon-star\"></i>\\n                    <i class=\"icon-star\"></i>\\n                    <i class=\"icon-star\"></i>\\n                    <i class=\"icon-star\"></i>\\n                    <i class=\"icon-star\"></i>\\n                </p>\\n            \\n        \\n\\n        \\n            <h3><a href=\"catalogue/the-requiem-red_995/index.html\" title=\"The Requiem Red\">The Requiem Red</a></h3>\\n        \\n\\n        \\n            <div class=\"product_price\">\\n                \\n\\n\\n\\n\\n\\n\\n    \\n        <p class=\"price_color\">Â£22.65</p>\\n    \\n\\n<p class=\"instock availability\">\\n    <i class=\"icon-ok\"></i>\\n    \\n        In stock\\n    \\n</p>\\n\\n                \\n                    \\n\\n\\n\\n\\n\\n\\n    \\n    <form>\\n        <button type=\"submit\" class=\"btn btn-primary btn-block\" data-loading-text=\"Adding...\">Add to basket</button>\\n    </form>\\n\\n\\n                \\n            </div>\\n        \\n    </article>\\n\\n</li>\\n                    \\n                        <li class=\"col-xs-6 col-sm-4 col-md-3 col-lg-3\">\\n\\n\\n\\n\\n\\n\\n    <article class=\"product_pod\">\\n        \\n            <div class=\"image_container\">\\n                \\n                    \\n                    <a href=\"catalogue/the-dirty-little-secrets-of-getting-your-dream-job_994/index.html\"><img src=\"media/cache/92/27/92274a95b7c251fea59a2b8a78275ab4.jpg\" alt=\"The Dirty Little Secrets of Getting Your Dream Job\" class=\"thumbnail\"></a>\\n                    \\n                \\n            </div>\\n        \\n\\n        \\n            \\n                <p class=\"star-rating Four\">\\n                    <i class=\"icon-star\"></i>\\n                    <i class=\"icon-star\"></i>\\n                    <i class=\"icon-star\"></i>\\n                    <i class=\"icon-star\"></i>\\n                    <i class=\"icon-star\"></i>\\n                </p>\\n            \\n        \\n\\n        \\n            <h3><a href=\"catalogue/the-dirty-little-secrets-of-getting-your-dream-job_994/index.html\" title=\"The Dirty Little Secrets of Getting Your Dream Job\">The Dirty Little Secrets ...</a></h3>\\n        \\n\\n        \\n            <div class=\"product_price\">\\n                \\n\\n\\n\\n\\n\\n\\n    \\n        <p class=\"price_color\">Â£33.34</p>\\n    \\n\\n<p class=\"instock availability\">\\n    <i class=\"icon-ok\"></i>\\n    \\n        In stock\\n    \\n</p>\\n\\n                \\n                    \\n\\n\\n\\n\\n\\n\\n    \\n    <form>\\n        <button type=\"submit\" class=\"btn btn-primary btn-block\" data-loading-text=\"Adding...\">Add to basket</button>\\n    </form>\\n\\n\\n                \\n            </div>\\n        \\n    </article>\\n\\n</li>\\n                    \\n                        <li class=\"col-xs-6 col-sm-4 col-md-3 col-lg-3\">\\n\\n\\n\\n\\n\\n\\n    <article class=\"product_pod\">\\n        \\n            <div class=\"image_container\">\\n                \\n                    \\n                    <a href=\"catalogue/the-coming-woman-a-novel-based-on-the-life-of-the-infamous-feminist-victoria-woodhull_993/index.html\"><img src=\"media/cache/3d/54/3d54940e57e662c4dd1f3ff00c78cc64.jpg\" alt=\"The Coming Woman: A Novel Based on the Life of the Infamous Feminist, Victoria Woodhull\" class=\"thumbnail\"></a>\\n                    \\n                \\n            </div>\\n        \\n\\n        \\n            \\n                <p class=\"star-rating Three\">\\n                    <i class=\"icon-star\"></i>\\n                    <i class=\"icon-star\"></i>\\n                    <i class=\"icon-star\"></i>\\n                    <i class=\"icon-star\"></i>\\n                    <i class=\"icon-star\"></i>\\n                </p>\\n            \\n        \\n\\n        \\n            <h3><a href=\"catalogue/the-coming-woman-a-novel-based-on-the-life-of-the-infamous-feminist-victoria-woodhull_993/index.html\" title=\"The Coming Woman: A Novel Based on the Life of the Infamous Feminist, Victoria Woodhull\">The Coming Woman: A ...</a></h3>\\n        \\n\\n        \\n            <div class=\"product_price\">\\n                \\n\\n\\n\\n\\n\\n\\n    \\n        <p class=\"price_color\">Â£17.93</p>\\n    \\n\\n<p class=\"instock availability\">\\n    <i class=\"icon-ok\"></i>\\n    \\n        In stock\\n    \\n</p>\\n\\n                \\n                    \\n\\n\\n\\n\\n\\n\\n    \\n    <form>\\n        <button type=\"submit\" class=\"btn btn-primary btn-block\" data-loading-text=\"Adding...\">Add to basket</button>\\n    </form>\\n\\n\\n                \\n            </div>\\n        \\n    </article>\\n\\n</li>\\n                    \\n                        <li class=\"col-xs-6 col-sm-4 col-md-3 col-lg-3\">\\n\\n\\n\\n\\n\\n\\n    <article class=\"product_pod\">\\n        \\n            <div class=\"image_container\">\\n                \\n                    \\n                    <a href=\"catalogue/the-boys-in-the-boat-nine-americans-and-their-epic-quest-for-gold-at-the-1936-berlin-olympics_992/index.html\"><img src=\"media/cache/66/88/66883b91f6804b2323c8369331cb7dd1.jpg\" alt=\"The Boys in the Boat: Nine Americans and Their Epic Quest for Gold at the 1936 Berlin Olympics\" class=\"thumbnail\"></a>\\n                    \\n                \\n            </div>\\n        \\n\\n        \\n            \\n                <p class=\"star-rating Four\">\\n                    <i class=\"icon-star\"></i>\\n                    <i class=\"icon-star\"></i>\\n                    <i class=\"icon-star\"></i>\\n                    <i class=\"icon-star\"></i>\\n                    <i class=\"icon-star\"></i>\\n                </p>\\n            \\n        \\n\\n        \\n            <h3><a href=\"catalogue/the-boys-in-the-boat-nine-americans-and-their-epic-quest-for-gold-at-the-1936-berlin-olympics_992/index.html\" title=\"The Boys in the Boat: Nine Americans and Their Epic Quest for Gold at the 1936 Berlin Olympics\">The Boys in the ...</a></h3>\\n        \\n\\n        \\n            <div class=\"product_price\">\\n                \\n\\n\\n\\n\\n\\n\\n    \\n        <p class=\"price_color\">Â£22.60</p>\\n    \\n\\n<p class=\"instock availability\">\\n    <i class=\"icon-ok\"></i>\\n    \\n        In stock\\n    \\n</p>\\n\\n                \\n                    \\n\\n\\n\\n\\n\\n\\n    \\n    <form>\\n        <button type=\"submit\" class=\"btn btn-primary btn-block\" data-loading-text=\"Adding...\">Add to basket</button>\\n    </form>\\n\\n\\n                \\n            </div>\\n        \\n    </article>\\n\\n</li>\\n                    \\n                        <li class=\"col-xs-6 col-sm-4 col-md-3 col-lg-3\">\\n\\n\\n\\n\\n\\n\\n    <article class=\"product_pod\">\\n        \\n            <div class=\"image_container\">\\n                \\n                    \\n                    <a href=\"catalogue/the-black-maria_991/index.html\"><img src=\"media/cache/58/46/5846057e28022268153beff6d352b06c.jpg\" alt=\"The Black Maria\" class=\"thumbnail\"></a>\\n                    \\n                \\n            </div>\\n        \\n\\n        \\n            \\n                <p class=\"star-rating One\">\\n                    <i class=\"icon-star\"></i>\\n                    <i class=\"icon-star\"></i>\\n                    <i class=\"icon-star\"></i>\\n                    <i class=\"icon-star\"></i>\\n                    <i class=\"icon-star\"></i>\\n                </p>\\n            \\n        \\n\\n        \\n            <h3><a href=\"catalogue/the-black-maria_991/index.html\" title=\"The Black Maria\">The Black Maria</a></h3>\\n        \\n\\n        \\n            <div class=\"product_price\">\\n                \\n\\n\\n\\n\\n\\n\\n    \\n        <p class=\"price_color\">Â£52.15</p>\\n    \\n\\n<p class=\"instock availability\">\\n    <i class=\"icon-ok\"></i>\\n    \\n        In stock\\n    \\n</p>\\n\\n                \\n                    \\n\\n\\n\\n\\n\\n\\n    \\n    <form>\\n        <button type=\"submit\" class=\"btn btn-primary btn-block\" data-loading-text=\"Adding...\">Add to basket</button>\\n    </form>\\n\\n\\n                \\n            </div>\\n        \\n    </article>\\n\\n</li>\\n                    \\n                        <li class=\"col-xs-6 col-sm-4 col-md-3 col-lg-3\">\\n\\n\\n\\n\\n\\n\\n    <article class=\"product_pod\">\\n        \\n            <div class=\"image_container\">\\n                \\n                    \\n                    <a href=\"catalogue/starving-hearts-triangular-trade-trilogy-1_990/index.html\"><img src=\"media/cache/be/f4/bef44da28c98f905a3ebec0b87be8530.jpg\" alt=\"Starving Hearts (Triangular Trade Trilogy, #1)\" class=\"thumbnail\"></a>\\n                    \\n                \\n            </div>\\n        \\n\\n        \\n            \\n                <p class=\"star-rating Two\">\\n                    <i class=\"icon-star\"></i>\\n                    <i class=\"icon-star\"></i>\\n                    <i class=\"icon-star\"></i>\\n                    <i class=\"icon-star\"></i>\\n                    <i class=\"icon-star\"></i>\\n                </p>\\n            \\n        \\n\\n        \\n            <h3><a href=\"catalogue/starving-hearts-triangular-trade-trilogy-1_990/index.html\" title=\"Starving Hearts (Triangular Trade Trilogy, #1)\">Starving Hearts (Triangular Trade ...</a></h3>\\n        \\n\\n        \\n            <div class=\"product_price\">\\n                \\n\\n\\n\\n\\n\\n\\n    \\n        <p class=\"price_color\">Â£13.99</p>\\n    \\n\\n<p class=\"instock availability\">\\n    <i class=\"icon-ok\"></i>\\n    \\n        In stock\\n    \\n</p>\\n\\n                \\n                    \\n\\n\\n\\n\\n\\n\\n    \\n    <form>\\n        <button type=\"submit\" class=\"btn btn-primary btn-block\" data-loading-text=\"Adding...\">Add to basket</button>\\n    </form>\\n\\n\\n                \\n            </div>\\n        \\n    </article>\\n\\n</li>\\n                    \\n                        <li class=\"col-xs-6 col-sm-4 col-md-3 col-lg-3\">\\n\\n\\n\\n\\n\\n\\n    <article class=\"product_pod\">\\n        \\n            <div class=\"image_container\">\\n                \\n                    \\n                    <a href=\"catalogue/shakespeares-sonnets_989/index.html\"><img src=\"media/cache/10/48/1048f63d3b5061cd2f424d20b3f9b666.jpg\" alt=\"Shakespeare&#39;s Sonnets\" class=\"thumbnail\"></a>\\n                    \\n                \\n            </div>\\n        \\n\\n        \\n            \\n                <p class=\"star-rating Four\">\\n                    <i class=\"icon-star\"></i>\\n                    <i class=\"icon-star\"></i>\\n                    <i class=\"icon-star\"></i>\\n                    <i class=\"icon-star\"></i>\\n                    <i class=\"icon-star\"></i>\\n                </p>\\n            \\n        \\n\\n        \\n            <h3><a href=\"catalogue/shakespeares-sonnets_989/index.html\" title=\"Shakespeare&#39;s Sonnets\">Shakespeare&#39;s Sonnets</a></h3>\\n        \\n\\n        \\n            <div class=\"product_price\">\\n                \\n\\n\\n\\n\\n\\n\\n    \\n        <p class=\"price_color\">Â£20.66</p>\\n    \\n\\n<p class=\"instock availability\">\\n    <i class=\"icon-ok\"></i>\\n    \\n        In stock\\n    \\n</p>\\n\\n                \\n                    \\n\\n\\n\\n\\n\\n\\n    \\n    <form>\\n        <button type=\"submit\" class=\"btn btn-primary btn-block\" data-loading-text=\"Adding...\">Add to basket</button>\\n    </form>\\n\\n\\n                \\n            </div>\\n        \\n    </article>\\n\\n</li>\\n                    \\n                        <li class=\"col-xs-6 col-sm-4 col-md-3 col-lg-3\">\\n\\n\\n\\n\\n\\n\\n    <article class=\"product_pod\">\\n        \\n            <div class=\"image_container\">\\n                \\n                    \\n                    <a href=\"catalogue/set-me-free_988/index.html\"><img src=\"media/cache/5b/88/5b88c52633f53cacf162c15f4f823153.jpg\" alt=\"Set Me Free\" class=\"thumbnail\"></a>\\n                    \\n                \\n            </div>\\n        \\n\\n        \\n            \\n                <p class=\"star-rating Five\">\\n                    <i class=\"icon-star\"></i>\\n                    <i class=\"icon-star\"></i>\\n                    <i class=\"icon-star\"></i>\\n                    <i class=\"icon-star\"></i>\\n                    <i class=\"icon-star\"></i>\\n                </p>\\n            \\n        \\n\\n        \\n            <h3><a href=\"catalogue/set-me-free_988/index.html\" title=\"Set Me Free\">Set Me Free</a></h3>\\n        \\n\\n        \\n            <div class=\"product_price\">\\n                \\n\\n\\n\\n\\n\\n\\n    \\n        <p class=\"price_color\">Â£17.46</p>\\n    \\n\\n<p class=\"instock availability\">\\n    <i class=\"icon-ok\"></i>\\n    \\n        In stock\\n    \\n</p>\\n\\n                \\n                    \\n\\n\\n\\n\\n\\n\\n    \\n    <form>\\n        <button type=\"submit\" class=\"btn btn-primary btn-block\" data-loading-text=\"Adding...\">Add to basket</button>\\n    </form>\\n\\n\\n                \\n            </div>\\n        \\n    </article>\\n\\n</li>\\n                    \\n                        <li class=\"col-xs-6 col-sm-4 col-md-3 col-lg-3\">\\n\\n\\n\\n\\n\\n\\n    <article class=\"product_pod\">\\n        \\n            <div class=\"image_container\">\\n                \\n                    \\n                    <a href=\"catalogue/scott-pilgrims-precious-little-life-scott-pilgrim-1_987/index.html\"><img src=\"media/cache/94/b1/94b1b8b244bce9677c2f29ccc890d4d2.jpg\" alt=\"Scott Pilgrim&#39;s Precious Little Life (Scott Pilgrim #1)\" class=\"thumbnail\"></a>\\n                    \\n                \\n            </div>\\n        \\n\\n        \\n            \\n                <p class=\"star-rating Five\">\\n                    <i class=\"icon-star\"></i>\\n                    <i class=\"icon-star\"></i>\\n                    <i class=\"icon-star\"></i>\\n                    <i class=\"icon-star\"></i>\\n                    <i class=\"icon-star\"></i>\\n                </p>\\n            \\n        \\n\\n        \\n            <h3><a href=\"catalogue/scott-pilgrims-precious-little-life-scott-pilgrim-1_987/index.html\" title=\"Scott Pilgrim&#39;s Precious Little Life (Scott Pilgrim #1)\">Scott Pilgrim&#39;s Precious Little ...</a></h3>\\n        \\n\\n        \\n            <div class=\"product_price\">\\n                \\n\\n\\n\\n\\n\\n\\n    \\n        <p class=\"price_color\">Â£52.29</p>\\n    \\n\\n<p class=\"instock availability\">\\n    <i class=\"icon-ok\"></i>\\n    \\n        In stock\\n    \\n</p>\\n\\n                \\n                    \\n\\n\\n\\n\\n\\n\\n    \\n    <form>\\n        <button type=\"submit\" class=\"btn btn-primary btn-block\" data-loading-text=\"Adding...\">Add to basket</button>\\n    </form>\\n\\n\\n                \\n            </div>\\n        \\n    </article>\\n\\n</li>\\n                    \\n                        <li class=\"col-xs-6 col-sm-4 col-md-3 col-lg-3\">\\n\\n\\n\\n\\n\\n\\n    <article class=\"product_pod\">\\n        \\n            <div class=\"image_container\">\\n                \\n                    \\n                    <a href=\"catalogue/rip-it-up-and-start-again_986/index.html\"><img src=\"media/cache/81/c4/81c4a973364e17d01f217e1188253d5e.jpg\" alt=\"Rip it Up and Start Again\" class=\"thumbnail\"></a>\\n                    \\n                \\n            </div>\\n        \\n\\n        \\n            \\n                <p class=\"star-rating Five\">\\n                    <i class=\"icon-star\"></i>\\n                    <i class=\"icon-star\"></i>\\n                    <i class=\"icon-star\"></i>\\n                    <i class=\"icon-star\"></i>\\n                    <i class=\"icon-star\"></i>\\n                </p>\\n            \\n        \\n\\n        \\n            <h3><a href=\"catalogue/rip-it-up-and-start-again_986/index.html\" title=\"Rip it Up and Start Again\">Rip it Up and ...</a></h3>\\n        \\n\\n        \\n            <div class=\"product_price\">\\n                \\n\\n\\n\\n\\n\\n\\n    \\n        <p class=\"price_color\">Â£35.02</p>\\n    \\n\\n<p class=\"instock availability\">\\n    <i class=\"icon-ok\"></i>\\n    \\n        In stock\\n    \\n</p>\\n\\n                \\n                    \\n\\n\\n\\n\\n\\n\\n    \\n    <form>\\n        <button type=\"submit\" class=\"btn btn-primary btn-block\" data-loading-text=\"Adding...\">Add to basket</button>\\n    </form>\\n\\n\\n                \\n            </div>\\n        \\n    </article>\\n\\n</li>\\n                    \\n                        <li class=\"col-xs-6 col-sm-4 col-md-3 col-lg-3\">\\n\\n\\n\\n\\n\\n\\n    <article class=\"product_pod\">\\n        \\n            <div class=\"image_container\">\\n                \\n                    \\n                    <a href=\"catalogue/our-band-could-be-your-life-scenes-from-the-american-indie-underground-1981-1991_985/index.html\"><img src=\"media/cache/54/60/54607fe8945897cdcced0044103b10b6.jpg\" alt=\"Our Band Could Be Your Life: Scenes from the American Indie Underground, 1981-1991\" class=\"thumbnail\"></a>\\n                    \\n                \\n            </div>\\n        \\n\\n        \\n            \\n                <p class=\"star-rating Three\">\\n                    <i class=\"icon-star\"></i>\\n                    <i class=\"icon-star\"></i>\\n                    <i class=\"icon-star\"></i>\\n                    <i class=\"icon-star\"></i>\\n                    <i class=\"icon-star\"></i>\\n                </p>\\n            \\n        \\n\\n        \\n            <h3><a href=\"catalogue/our-band-could-be-your-life-scenes-from-the-american-indie-underground-1981-1991_985/index.html\" title=\"Our Band Could Be Your Life: Scenes from the American Indie Underground, 1981-1991\">Our Band Could Be ...</a></h3>\\n        \\n\\n        \\n            <div class=\"product_price\">\\n                \\n\\n\\n\\n\\n\\n\\n    \\n        <p class=\"price_color\">Â£57.25</p>\\n    \\n\\n<p class=\"instock availability\">\\n    <i class=\"icon-ok\"></i>\\n    \\n        In stock\\n    \\n</p>\\n\\n                \\n                    \\n\\n\\n\\n\\n\\n\\n    \\n    <form>\\n        <button type=\"submit\" class=\"btn btn-primary btn-block\" data-loading-text=\"Adding...\">Add to basket</button>\\n    </form>\\n\\n\\n                \\n            </div>\\n        \\n    </article>\\n\\n</li>\\n                    \\n                        <li class=\"col-xs-6 col-sm-4 col-md-3 col-lg-3\">\\n\\n\\n\\n\\n\\n\\n    <article class=\"product_pod\">\\n        \\n            <div class=\"image_container\">\\n                \\n                    \\n                    <a href=\"catalogue/olio_984/index.html\"><img src=\"media/cache/55/33/553310a7162dfbc2c6d19a84da0df9e1.jpg\" alt=\"Olio\" class=\"thumbnail\"></a>\\n                    \\n                \\n            </div>\\n        \\n\\n        \\n            \\n                <p class=\"star-rating One\">\\n                    <i class=\"icon-star\"></i>\\n                    <i class=\"icon-star\"></i>\\n                    <i class=\"icon-star\"></i>\\n                    <i class=\"icon-star\"></i>\\n                    <i class=\"icon-star\"></i>\\n                </p>\\n            \\n        \\n\\n        \\n            <h3><a href=\"catalogue/olio_984/index.html\" title=\"Olio\">Olio</a></h3>\\n        \\n\\n        \\n            <div class=\"product_price\">\\n                \\n\\n\\n\\n\\n\\n\\n    \\n        <p class=\"price_color\">Â£23.88</p>\\n    \\n\\n<p class=\"instock availability\">\\n    <i class=\"icon-ok\"></i>\\n    \\n        In stock\\n    \\n</p>\\n\\n                \\n                    \\n\\n\\n\\n\\n\\n\\n    \\n    <form>\\n        <button type=\"submit\" class=\"btn btn-primary btn-block\" data-loading-text=\"Adding...\">Add to basket</button>\\n    </form>\\n\\n\\n                \\n            </div>\\n        \\n    </article>\\n\\n</li>\\n                    \\n                        <li class=\"col-xs-6 col-sm-4 col-md-3 col-lg-3\">\\n\\n\\n\\n\\n\\n\\n    <article class=\"product_pod\">\\n        \\n            <div class=\"image_container\">\\n                \\n                    \\n                    <a href=\"catalogue/mesaerion-the-best-science-fiction-stories-1800-1849_983/index.html\"><img src=\"media/cache/09/a3/09a3aef48557576e1a85ba7efea8ecb7.jpg\" alt=\"Mesaerion: The Best Science Fiction Stories 1800-1849\" class=\"thumbnail\"></a>\\n                    \\n                \\n            </div>\\n        \\n\\n        \\n            \\n                <p class=\"star-rating One\">\\n                    <i class=\"icon-star\"></i>\\n                    <i class=\"icon-star\"></i>\\n                    <i class=\"icon-star\"></i>\\n                    <i class=\"icon-star\"></i>\\n                    <i class=\"icon-star\"></i>\\n                </p>\\n            \\n        \\n\\n        \\n            <h3><a href=\"catalogue/mesaerion-the-best-science-fiction-stories-1800-1849_983/index.html\" title=\"Mesaerion: The Best Science Fiction Stories 1800-1849\">Mesaerion: The Best Science ...</a></h3>\\n        \\n\\n        \\n            <div class=\"product_price\">\\n                \\n\\n\\n\\n\\n\\n\\n    \\n        <p class=\"price_color\">Â£37.59</p>\\n    \\n\\n<p class=\"instock availability\">\\n    <i class=\"icon-ok\"></i>\\n    \\n        In stock\\n    \\n</p>\\n\\n                \\n                    \\n\\n\\n\\n\\n\\n\\n    \\n    <form>\\n        <button type=\"submit\" class=\"btn btn-primary btn-block\" data-loading-text=\"Adding...\">Add to basket</button>\\n    </form>\\n\\n\\n                \\n            </div>\\n        \\n    </article>\\n\\n</li>\\n                    \\n                        <li class=\"col-xs-6 col-sm-4 col-md-3 col-lg-3\">\\n\\n\\n\\n\\n\\n\\n    <article class=\"product_pod\">\\n        \\n            <div class=\"image_container\">\\n                \\n                    \\n                    <a href=\"catalogue/libertarianism-for-beginners_982/index.html\"><img src=\"media/cache/0b/bc/0bbcd0a6f4bcd81ccb1049a52736406e.jpg\" alt=\"Libertarianism for Beginners\" class=\"thumbnail\"></a>\\n                    \\n                \\n            </div>\\n        \\n\\n        \\n            \\n                <p class=\"star-rating Two\">\\n                    <i class=\"icon-star\"></i>\\n                    <i class=\"icon-star\"></i>\\n                    <i class=\"icon-star\"></i>\\n                    <i class=\"icon-star\"></i>\\n                    <i class=\"icon-star\"></i>\\n                </p>\\n            \\n        \\n\\n        \\n            <h3><a href=\"catalogue/libertarianism-for-beginners_982/index.html\" title=\"Libertarianism for Beginners\">Libertarianism for Beginners</a></h3>\\n        \\n\\n        \\n            <div class=\"product_price\">\\n                \\n\\n\\n\\n\\n\\n\\n    \\n        <p class=\"price_color\">Â£51.33</p>\\n    \\n\\n<p class=\"instock availability\">\\n    <i class=\"icon-ok\"></i>\\n    \\n        In stock\\n    \\n</p>\\n\\n                \\n                    \\n\\n\\n\\n\\n\\n\\n    \\n    <form>\\n        <button type=\"submit\" class=\"btn btn-primary btn-block\" data-loading-text=\"Adding...\">Add to basket</button>\\n    </form>\\n\\n\\n                \\n            </div>\\n        \\n    </article>\\n\\n</li>\\n                    \\n                        <li class=\"col-xs-6 col-sm-4 col-md-3 col-lg-3\">\\n\\n\\n\\n\\n\\n\\n    <article class=\"product_pod\">\\n        \\n            <div class=\"image_container\">\\n                \\n                    \\n                    <a href=\"catalogue/its-only-the-himalayas_981/index.html\"><img src=\"media/cache/27/a5/27a53d0bb95bdd88288eaf66c9230d7e.jpg\" alt=\"It&#39;s Only the Himalayas\" class=\"thumbnail\"></a>\\n                    \\n                \\n            </div>\\n        \\n\\n        \\n            \\n                <p class=\"star-rating Two\">\\n                    <i class=\"icon-star\"></i>\\n                    <i class=\"icon-star\"></i>\\n                    <i class=\"icon-star\"></i>\\n                    <i class=\"icon-star\"></i>\\n                    <i class=\"icon-star\"></i>\\n                </p>\\n            \\n        \\n\\n        \\n            <h3><a href=\"catalogue/its-only-the-himalayas_981/index.html\" title=\"It&#39;s Only the Himalayas\">It&#39;s Only the Himalayas</a></h3>\\n        \\n\\n        \\n            <div class=\"product_price\">\\n                \\n\\n\\n\\n\\n\\n\\n    \\n        <p class=\"price_color\">Â£45.17</p>\\n    \\n\\n<p class=\"instock availability\">\\n    <i class=\"icon-ok\"></i>\\n    \\n        In stock\\n    \\n</p>\\n\\n                \\n                    \\n\\n\\n\\n\\n\\n\\n    \\n    <form>\\n        <button type=\"submit\" class=\"btn btn-primary btn-block\" data-loading-text=\"Adding...\">Add to basket</button>\\n    </form>\\n\\n\\n                \\n            </div>\\n        \\n    </article>\\n\\n</li>\\n                    \\n                </ol>\\n                \\n\\n\\n\\n    <div>\\n        <ul class=\"pager\">\\n            \\n            <li class=\"current\">\\n            \\n                Page 1 of 50\\n            \\n            </li>\\n            \\n                <li class=\"next\"><a href=\"catalogue/page-2.html\">next</a></li>\\n            \\n        </ul>\\n    </div>\\n\\n\\n            </div>\\n        </section>\\n    \\n\\n\\n            </div>\\n\\n        </div><!-- /row -->\\n    </div><!-- /page_inner -->\\n</div><!-- /container-fluid -->\\n\\n\\n    \\n<footer class=\"footer container-fluid\">\\n    \\n        \\n    \\n</footer>\\n\\n\\n        \\n        \\n  \\n            <!-- jQuery -->\\n            <script src=\"http://ajax.googleapis.com/ajax/libs/jquery/1.9.1/jquery.min.js\"></script>\\n            <script>window.jQuery || document.write(\\'<script src=\"static/oscar/js/jquery/jquery-1.9.1.min.js\"><\\\\/script>\\')</script>\\n        \\n  \\n\\n\\n        \\n        \\n    \\n        \\n    <!-- Twitter Bootstrap -->\\n    <script type=\"text/javascript\" src=\"static/oscar/js/bootstrap3/bootstrap.min.js\"></script>\\n    <!-- Oscar -->\\n    <script src=\"static/oscar/js/oscar/ui.js\" type=\"text/javascript\" charset=\"utf-8\"></script>\\n\\n    <script src=\"static/oscar/js/bootstrap-datetimepicker/bootstrap-datetimepicker.js\" type=\"text/javascript\" charset=\"utf-8\"></script>\\n    <script src=\"static/oscar/js/bootstrap-datetimepicker/locales/bootstrap-datetimepicker.all.js\" type=\"text/javascript\" charset=\"utf-8\"></script>\\n\\n\\n        \\n        \\n    \\n\\n    \\n\\n\\n        \\n        <script type=\"text/javascript\">\\n            $(function() {\\n                \\n    \\n    \\n    oscar.init();\\n\\n    oscar.search.init();\\n\\n            });\\n        </script>\\n\\n        \\n        <!-- Version: N/A -->\\n        \\n    </body>\\n</html>\\n'"
      ]
     },
     "execution_count": 35,
     "metadata": {},
     "output_type": "execute_result"
    }
   ],
   "source": [
    "import requests\n",
    "\n"
   ]
  },
  {
   "cell_type": "code",
   "execution_count": 72,
   "metadata": {},
   "outputs": [
    {
     "name": "stdout",
     "output_type": "stream",
     "text": [
      "Strona 1\n",
      "Tytul: A Light in the Attic, Cena: £51.77, Dostepnosc: In stock\n",
      "Tytul: Tipping the Velvet, Cena: £53.74, Dostepnosc: In stock\n",
      "Tytul: Soumission, Cena: £50.10, Dostepnosc: In stock\n",
      "Tytul: Sharp Objects, Cena: £47.82, Dostepnosc: In stock\n",
      "Tytul: Sapiens: A Brief History of Humankind, Cena: £54.23, Dostepnosc: In stock\n",
      "Tytul: The Requiem Red, Cena: £22.65, Dostepnosc: In stock\n",
      "Tytul: The Dirty Little Secrets of Getting Your Dream Job, Cena: £33.34, Dostepnosc: In stock\n",
      "Tytul: The Coming Woman: A Novel Based on the Life of the Infamous Feminist, Victoria Woodhull, Cena: £17.93, Dostepnosc: In stock\n",
      "Tytul: The Boys in the Boat: Nine Americans and Their Epic Quest for Gold at the 1936 Berlin Olympics, Cena: £22.60, Dostepnosc: In stock\n",
      "Tytul: The Black Maria, Cena: £52.15, Dostepnosc: In stock\n",
      "Tytul: Starving Hearts (Triangular Trade Trilogy, #1), Cena: £13.99, Dostepnosc: In stock\n",
      "Tytul: Shakespeare's Sonnets, Cena: £20.66, Dostepnosc: In stock\n",
      "Tytul: Set Me Free, Cena: £17.46, Dostepnosc: In stock\n",
      "Tytul: Scott Pilgrim's Precious Little Life (Scott Pilgrim #1), Cena: £52.29, Dostepnosc: In stock\n",
      "Tytul: Rip it Up and Start Again, Cena: £35.02, Dostepnosc: In stock\n",
      "Tytul: Our Band Could Be Your Life: Scenes from the American Indie Underground, 1981-1991, Cena: £57.25, Dostepnosc: In stock\n",
      "Tytul: Olio, Cena: £23.88, Dostepnosc: In stock\n",
      "Tytul: Mesaerion: The Best Science Fiction Stories 1800-1849, Cena: £37.59, Dostepnosc: In stock\n",
      "Tytul: Libertarianism for Beginners, Cena: £51.33, Dostepnosc: In stock\n",
      "Tytul: It's Only the Himalayas, Cena: £45.17, Dostepnosc: In stock\n",
      "Strona 2\n",
      "Tytul: In Her Wake, Cena: £12.84, Dostepnosc: In stock\n",
      "Tytul: How Music Works, Cena: £37.32, Dostepnosc: In stock\n",
      "Tytul: Foolproof Preserving: A Guide to Small Batch Jams, Jellies, Pickles, Condiments, and More: A Foolproof Guide to Making Small Batch Jams, Jellies, Pickles, Condiments, and More, Cena: £30.52, Dostepnosc: In stock\n",
      "Tytul: Chase Me (Paris Nights #2), Cena: £25.27, Dostepnosc: In stock\n",
      "Tytul: Black Dust, Cena: £34.53, Dostepnosc: In stock\n",
      "Tytul: Birdsong: A Story in Pictures, Cena: £54.64, Dostepnosc: In stock\n",
      "Tytul: America's Cradle of Quarterbacks: Western Pennsylvania's Football Factory from Johnny Unitas to Joe Montana, Cena: £22.50, Dostepnosc: In stock\n",
      "Tytul: Aladdin and His Wonderful Lamp, Cena: £53.13, Dostepnosc: In stock\n",
      "Tytul: Worlds Elsewhere: Journeys Around Shakespeareâs Globe, Cena: £40.30, Dostepnosc: In stock\n",
      "Tytul: Wall and Piece, Cena: £44.18, Dostepnosc: In stock\n",
      "Tytul: The Four Agreements: A Practical Guide to Personal Freedom, Cena: £17.66, Dostepnosc: In stock\n",
      "Tytul: The Five Love Languages: How to Express Heartfelt Commitment to Your Mate, Cena: £31.05, Dostepnosc: In stock\n",
      "Tytul: The Elephant Tree, Cena: £23.82, Dostepnosc: In stock\n",
      "Tytul: The Bear and the Piano, Cena: £36.89, Dostepnosc: In stock\n",
      "Tytul: Sophie's World, Cena: £15.94, Dostepnosc: In stock\n",
      "Tytul: Penny Maybe, Cena: £33.29, Dostepnosc: In stock\n",
      "Tytul: Maude (1883-1993):She Grew Up with the country, Cena: £18.02, Dostepnosc: In stock\n",
      "Tytul: In a Dark, Dark Wood, Cena: £19.63, Dostepnosc: In stock\n",
      "Tytul: Behind Closed Doors, Cena: £52.22, Dostepnosc: In stock\n",
      "Tytul: You can't bury them all: Poems, Cena: £33.63, Dostepnosc: In stock\n",
      "Strona 3\n",
      "Tytul: Slow States of Collapse: Poems, Cena: £57.31, Dostepnosc: In stock\n",
      "Tytul: Reasons to Stay Alive, Cena: £26.41, Dostepnosc: In stock\n",
      "Tytul: Private Paris (Private #10), Cena: £47.61, Dostepnosc: In stock\n",
      "Tytul: #HigherSelfie: Wake Up Your Life. Free Your Soul. Find Your Tribe., Cena: £23.11, Dostepnosc: In stock\n",
      "Tytul: Without Borders (Wanderlove #1), Cena: £45.07, Dostepnosc: In stock\n",
      "Tytul: When We Collided, Cena: £31.77, Dostepnosc: In stock\n",
      "Tytul: We Love You, Charlie Freeman, Cena: £50.27, Dostepnosc: In stock\n",
      "Tytul: Untitled Collection: Sabbath Poems 2014, Cena: £14.27, Dostepnosc: In stock\n",
      "Tytul: Unseen City: The Majesty of Pigeons, the Discreet Charm of Snails & Other Wonders of the Urban Wilderness, Cena: £44.18, Dostepnosc: In stock\n",
      "Tytul: Unicorn Tracks, Cena: £18.78, Dostepnosc: In stock\n",
      "Tytul: Unbound: How Eight Technologies Made Us Human, Transformed Society, and Brought Our World to the Brink, Cena: £25.52, Dostepnosc: In stock\n",
      "Tytul: Tsubasa: WoRLD CHRoNiCLE 2 (Tsubasa WoRLD CHRoNiCLE #2), Cena: £16.28, Dostepnosc: In stock\n",
      "Tytul: Throwing Rocks at the Google Bus: How Growth Became the Enemy of Prosperity, Cena: £31.12, Dostepnosc: In stock\n",
      "Tytul: This One Summer, Cena: £19.49, Dostepnosc: In stock\n",
      "Tytul: Thirst, Cena: £17.27, Dostepnosc: In stock\n",
      "Tytul: The Torch Is Passed: A Harding Family Story, Cena: £19.09, Dostepnosc: In stock\n",
      "Tytul: The Secret of Dreadwillow Carse, Cena: £56.13, Dostepnosc: In stock\n",
      "Tytul: The Pioneer Woman Cooks: Dinnertime: Comfort Classics, Freezer Food, 16-Minute Meals, and Other Delicious Ways to Solve Supper!, Cena: £56.41, Dostepnosc: In stock\n",
      "Tytul: The Past Never Ends, Cena: £56.50, Dostepnosc: In stock\n",
      "Tytul: The Natural History of Us (The Fine Art of Pretending #2), Cena: £45.22, Dostepnosc: In stock\n",
      "Strona 4\n",
      "Tytul: The Nameless City (The Nameless City #1), Cena: £38.16, Dostepnosc: In stock\n",
      "Tytul: The Murder That Never Was (Forensic Instincts #5), Cena: £54.11, Dostepnosc: In stock\n",
      "Tytul: The Most Perfect Thing: Inside (and Outside) a Bird's Egg, Cena: £42.96, Dostepnosc: In stock\n",
      "Tytul: The Mindfulness and Acceptance Workbook for Anxiety: A Guide to Breaking Free from Anxiety, Phobias, and Worry Using Acceptance and Commitment Therapy, Cena: £23.89, Dostepnosc: In stock\n",
      "Tytul: The Life-Changing Magic of Tidying Up: The Japanese Art of Decluttering and Organizing, Cena: £16.77, Dostepnosc: In stock\n",
      "Tytul: The Inefficiency Assassin: Time Management Tactics for Working Smarter, Not Longer, Cena: £20.59, Dostepnosc: In stock\n",
      "Tytul: The Gutsy Girl: Escapades for Your Life of Epic Adventure, Cena: £37.13, Dostepnosc: In stock\n",
      "Tytul: The Electric Pencil: Drawings from Inside State Hospital No. 3, Cena: £56.06, Dostepnosc: In stock\n",
      "Tytul: The Death of Humanity: and the Case for Life, Cena: £58.11, Dostepnosc: In stock\n",
      "Tytul: The Bulletproof Diet: Lose up to a Pound a Day, Reclaim Energy and Focus, Upgrade Your Life, Cena: £49.05, Dostepnosc: In stock\n",
      "Tytul: The Art Forger, Cena: £40.76, Dostepnosc: In stock\n",
      "Tytul: The Age of Genius: The Seventeenth Century and the Birth of the Modern Mind, Cena: £19.73, Dostepnosc: In stock\n",
      "Tytul: The Activist's Tao Te Ching: Ancient Advice for a Modern Revolution, Cena: £32.24, Dostepnosc: In stock\n",
      "Tytul: Spark Joy: An Illustrated Master Class on the Art of Organizing and Tidying Up, Cena: £41.83, Dostepnosc: In stock\n",
      "Tytul: Soul Reader, Cena: £39.58, Dostepnosc: In stock\n",
      "Tytul: Security, Cena: £39.25, Dostepnosc: In stock\n",
      "Tytul: Saga, Volume 6 (Saga (Collected Editions) #6), Cena: £25.02, Dostepnosc: In stock\n",
      "Tytul: Saga, Volume 5 (Saga (Collected Editions) #5), Cena: £51.04, Dostepnosc: In stock\n",
      "Tytul: Reskilling America: Learning to Labor in the Twenty-First Century, Cena: £19.83, Dostepnosc: In stock\n",
      "Tytul: Rat Queens, Vol. 3: Demons (Rat Queens (Collected Editions) #11-15), Cena: £50.40, Dostepnosc: In stock\n",
      "Strona 5\n",
      "Tytul: Princess Jellyfish 2-in-1 Omnibus, Vol. 01 (Princess Jellyfish 2-in-1 Omnibus #1), Cena: £13.61, Dostepnosc: In stock\n",
      "Tytul: Princess Between Worlds (Wide-Awake Princess #5), Cena: £13.34, Dostepnosc: In stock\n",
      "Tytul: Pop Gun War, Volume 1: Gift, Cena: £18.97, Dostepnosc: In stock\n",
      "Tytul: Political Suicide: Missteps, Peccadilloes, Bad Calls, Backroom Hijinx, Sordid Pasts, Rotten Breaks, and Just Plain Dumb Mistakes in the Annals of American Politics, Cena: £36.28, Dostepnosc: In stock\n",
      "Tytul: Patience, Cena: £10.16, Dostepnosc: In stock\n",
      "Tytul: Outcast, Vol. 1: A Darkness Surrounds Him (Outcast #1), Cena: £15.44, Dostepnosc: In stock\n",
      "Tytul: orange: The Complete Collection 1 (orange: The Complete Collection #1), Cena: £48.41, Dostepnosc: In stock\n",
      "Tytul: Online Marketing for Busy Authors: A Step-By-Step Guide, Cena: £46.35, Dostepnosc: In stock\n",
      "Tytul: On a Midnight Clear, Cena: £14.07, Dostepnosc: In stock\n",
      "Tytul: Obsidian (Lux #1), Cena: £14.86, Dostepnosc: In stock\n",
      "Tytul: My Paris Kitchen: Recipes and Stories, Cena: £33.37, Dostepnosc: In stock\n",
      "Tytul: Masks and Shadows, Cena: £56.40, Dostepnosc: In stock\n",
      "Tytul: Mama Tried: Traditional Italian Cooking for the Screwed, Crude, Vegan, and Tattooed, Cena: £14.02, Dostepnosc: In stock\n",
      "Tytul: Lumberjanes, Vol. 2: Friendship to the Max (Lumberjanes #5-8), Cena: £46.91, Dostepnosc: In stock\n",
      "Tytul: Lumberjanes, Vol. 1: Beware the Kitten Holy (Lumberjanes #1-4), Cena: £45.61, Dostepnosc: In stock\n",
      "Tytul: Lumberjanes Vol. 3: A Terrible Plan (Lumberjanes #9-12), Cena: £19.92, Dostepnosc: In stock\n",
      "Tytul: Layered: Baking, Building, and Styling Spectacular Cakes, Cena: £40.11, Dostepnosc: In stock\n",
      "Tytul: Judo: Seven Steps to Black Belt (an Introductory Guide for Beginners), Cena: £53.90, Dostepnosc: In stock\n",
      "Tytul: Join, Cena: £35.67, Dostepnosc: In stock\n",
      "Tytul: In the Country We Love: My Family Divided, Cena: £22.00, Dostepnosc: In stock\n"
     ]
    }
   ],
   "source": [
    "for i in range(1,6):\n",
    "    print(f'Strona {i}')\n",
    "    resp = requests.get(f'http://books.toscrape.com/catalogue/page-{i}.html')\n",
    "    website = resp.text\n",
    "    soup = BeautifulSoup(website, 'lxml')\n",
    "    offers = soup.select('.product_pod')\n",
    "    offers\n",
    "    for offer in offers:\n",
    "        title = offer.h3.a.attrs['title']\n",
    "        price = offer.select('.price_color')[0].text[1:]\n",
    "        availability = offer.select('.instock')[0].text.strip()\n",
    "        print(f'Tytul: {title}, Cena: {price}, Dostepnosc: {availability}')\n",
    "    "
   ]
  },
  {
   "cell_type": "code",
   "execution_count": null,
   "metadata": {},
   "outputs": [],
   "source": []
  }
 ],
 "metadata": {
  "kernelspec": {
   "display_name": "Python 3",
   "language": "python",
   "name": "python3"
  },
  "language_info": {
   "codemirror_mode": {
    "name": "ipython",
    "version": 3
   },
   "file_extension": ".py",
   "mimetype": "text/x-python",
   "name": "python",
   "nbconvert_exporter": "python",
   "pygments_lexer": "ipython3",
   "version": "3.7.0"
  }
 },
 "nbformat": 4,
 "nbformat_minor": 2
}
