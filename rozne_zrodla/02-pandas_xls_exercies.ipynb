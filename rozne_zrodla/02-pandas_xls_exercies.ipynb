{
 "cells": [
  {
   "cell_type": "markdown",
   "metadata": {},
   "source": [
    "# Zadanie\n",
    "\n",
    "**W plikach iris.xls oraz iris.xlsx znajdują się te same dane można użyć dowolnego z nich.**\n",
    "\n",
    "Kolumny przechowują następujące dane:\n",
    "- sepal_length - długość działki kielicha\n",
    "- sepal_width - szerokość działki kielicha\n",
    "- petal_length - długość płatka\n",
    "- petal_width - szerokość płatka\n",
    "- species - gatunek\n",
    "\n",
    "## Wykonaj następujące ćwiczenia:\n",
    "1. Wczytaj dane z odpowiedniego arkusza w pliku do ramki `DataFrame`\n",
    "2. Zmień nazwy kolumn tak, aby rozpoczynały się wielką literą i nie zawierały znaku podkreślenia.\n",
    "3. Wyświel podstawowe statystki n.t. ramki danych\n",
    "4. Zgrupuj dane tak po gatunku irysa (species).\n",
    "5. Wyznacz maksymalną i minimalną długość płatka dla każdego gatunku.\n",
    "6. Wyznacz średnią dłgość działki kielicha dla wszystkich gatunków i dla każdego z gatunków z osobna."
   ]
  },
  {
   "cell_type": "code",
   "execution_count": 31,
   "metadata": {},
   "outputs": [
    {
     "data": {
      "text/html": [
       "<div>\n",
       "<style scoped>\n",
       "    .dataframe tbody tr th:only-of-type {\n",
       "        vertical-align: middle;\n",
       "    }\n",
       "\n",
       "    .dataframe tbody tr th {\n",
       "        vertical-align: top;\n",
       "    }\n",
       "\n",
       "    .dataframe thead th {\n",
       "        text-align: right;\n",
       "    }\n",
       "</style>\n",
       "<table border=\"1\" class=\"dataframe\">\n",
       "  <thead>\n",
       "    <tr style=\"text-align: right;\">\n",
       "      <th></th>\n",
       "      <th>min</th>\n",
       "      <th>max</th>\n",
       "    </tr>\n",
       "    <tr>\n",
       "      <th>Species</th>\n",
       "      <th></th>\n",
       "      <th></th>\n",
       "    </tr>\n",
       "  </thead>\n",
       "  <tbody>\n",
       "    <tr>\n",
       "      <th>setosa</th>\n",
       "      <td>1.0</td>\n",
       "      <td>1.9</td>\n",
       "    </tr>\n",
       "    <tr>\n",
       "      <th>versicolor</th>\n",
       "      <td>3.0</td>\n",
       "      <td>5.1</td>\n",
       "    </tr>\n",
       "    <tr>\n",
       "      <th>virginica</th>\n",
       "      <td>4.5</td>\n",
       "      <td>6.9</td>\n",
       "    </tr>\n",
       "  </tbody>\n",
       "</table>\n",
       "</div>"
      ],
      "text/plain": [
       "            min  max\n",
       "Species             \n",
       "setosa      1.0  1.9\n",
       "versicolor  3.0  5.1\n",
       "virginica   4.5  6.9"
      ]
     },
     "execution_count": 31,
     "metadata": {},
     "output_type": "execute_result"
    }
   ],
   "source": [
    "import pandas as pd\n",
    "\n",
    "df = pd.read_excel('data/iris.xlsx', sheet_name='iris')\n",
    "#df.columns = map(str.capitalize, df.columns)\n",
    "df.columns = df.columns.str.capitalize().str.replace('_','')\n",
    "df.describe()\n",
    "\n",
    "df.groupby('Species')['Petallength'].agg(['min','max'])\n"
   ]
  },
  {
   "cell_type": "code",
   "execution_count": null,
   "metadata": {},
   "outputs": [],
   "source": []
  }
 ],
 "metadata": {
  "kernelspec": {
   "display_name": "Python 3",
   "language": "python",
   "name": "python3"
  },
  "language_info": {
   "codemirror_mode": {
    "name": "ipython",
    "version": 3
   },
   "file_extension": ".py",
   "mimetype": "text/x-python",
   "name": "python",
   "nbconvert_exporter": "python",
   "pygments_lexer": "ipython3",
   "version": "3.7.0"
  }
 },
 "nbformat": 4,
 "nbformat_minor": 2
}
