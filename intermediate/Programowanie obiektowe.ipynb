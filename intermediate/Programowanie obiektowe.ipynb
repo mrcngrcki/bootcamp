{
 "cells": [
  {
   "cell_type": "markdown",
   "metadata": {},
   "source": [
    "# Zadanie 1"
   ]
  },
  {
   "cell_type": "code",
   "execution_count": null,
   "metadata": {},
   "outputs": [],
   "source": [
    "class Astronaut:\n",
    "    pass\n",
    "\n",
    "class SpaceAgency:\n",
    "    pass\n",
    "\n",
    "twardowski = Astronaut()\n",
    "watney = Astronaut()\n",
    "nasa = SpaceAgency()\n",
    "esa = SpaceAgency()\n",
    "polsa = SpaceAgency()"
   ]
  },
  {
   "cell_type": "markdown",
   "metadata": {},
   "source": [
    "# Zadanie 2"
   ]
  },
  {
   "cell_type": "code",
   "execution_count": null,
   "metadata": {},
   "outputs": [],
   "source": [
    "class Astronaut:\n",
    "    pass\n",
    "\n",
    "class SpaceAgency:\n",
    "    pass"
   ]
  },
  {
   "cell_type": "code",
   "execution_count": null,
   "metadata": {},
   "outputs": [],
   "source": [
    "jan_twardowski = Astronaut()\n",
    "jan_twardowski.first_name = 'Jan'\n",
    "jan_twardowski.last_name = 'Twardowski'\n",
    "jan_twardowski.birth_date = '1961-04-12'\n",
    "\n",
    "mark_watney = Astronaut()\n",
    "mark_watney.first_name = 'Mark'\n",
    "mark_watney.last_name = 'Watney'\n",
    "mark_watney.birth_date = '1969-07-21'\n",
    "\n",
    "esa = SpaceAgency()\n",
    "esa.short_name = 'ESA'\n",
    "esa.long_name = 'European Space Agency'\n",
    "esa.location = 'Europe'\n",
    "\n",
    "nasa = SpaceAgency()\n",
    "nasa.short_name = 'NASA'\n",
    "nasa.long_name = 'National Aeronautics and Space Administration'\n",
    "nasa.location = 'USA'\n",
    "\n",
    "polsa = SpaceAgency()\n",
    "polsa.short_name = 'POLSA'\n",
    "polsa.long_name = 'Polish Space Agency'\n",
    "polsa.location = 'Poland'\n",
    "\n",
    "print(jan_twardowski.__dict__)\n",
    "print(mark_watney.__dict__)\n",
    "print(esa.__dict__)\n",
    "print(nasa.__dict__)\n",
    "print(polsa.__dict__)"
   ]
  },
  {
   "cell_type": "markdown",
   "metadata": {},
   "source": [
    "# Zadanie 3"
   ]
  },
  {
   "cell_type": "code",
   "execution_count": null,
   "metadata": {},
   "outputs": [],
   "source": [
    "class Temperature:\n",
    "    def __init__(self, temperature):\n",
    "        print(temperature)\n",
    "        \n",
    "        \n",
    "celsius = Temperature(36.6)\n",
    "kelvin = Temperature(309.75)\n",
    "fahrenheit = Temperature(97.88)"
   ]
  },
  {
   "cell_type": "markdown",
   "metadata": {},
   "source": [
    "# Zadanie 4"
   ]
  },
  {
   "cell_type": "code",
   "execution_count": null,
   "metadata": {},
   "outputs": [],
   "source": [
    "class Astronaut:\n",
    "    def __init__(self, first_name, last_name, birth_date):\n",
    "        self.first_name = first_name\n",
    "        self.last_name = last_name\n",
    "        self.birth_date = birth_date\n",
    "\n",
    "class SpaceAgency:\n",
    "    def __init__(self, short_name, long_name, location):\n",
    "        self.short_name = short_name\n",
    "        self.long_name = long_name\n",
    "        self.location = location\n",
    "        \n",
    "jan_twardowski = Astronaut('Jan','Twardowski','1961-04-12')\n",
    "mark_watney = Astronaut('Mark','Watney','1969-07-21')\n",
    "\n",
    "esa = SpaceAgency(short_name='ESA',long_name='European Space Agency',location='Europe')\n",
    "nasa = SpaceAgency(short_name='NASA',long_name='National Aeronautics and Space Administration',location='USA')\n",
    "polsa = SpaceAgency(short_name='POLSA',long_name='Polish Space Agency',location='Poland')"
   ]
  },
  {
   "cell_type": "code",
   "execution_count": null,
   "metadata": {},
   "outputs": [],
   "source": [
    "print(jan_twardowski.__dict__)\n",
    "print(mark_watney.__dict__)\n",
    "print(esa.__dict__)\n",
    "print(nasa.__dict__)\n",
    "print(polsa.__dict__)"
   ]
  },
  {
   "cell_type": "markdown",
   "metadata": {},
   "source": [
    "# Zadanie metody"
   ]
  },
  {
   "cell_type": "code",
   "execution_count": 2,
   "metadata": {},
   "outputs": [
    {
     "name": "stdout",
     "output_type": "stream",
     "text": [
      "Gatunek: virginica\n",
      "Total: 15.5\n",
      "Srednia: 3.875\n",
      "Gatunek: setosa\n",
      "Total: 10.2\n",
      "Srednia: 2.55\n"
     ]
    }
   ],
   "source": [
    "class Iris:\n",
    "    def __init__(self, sepal_length, sepal_width, petal_length, petal_width, species):\n",
    "        self.sepal_length = sepal_length\n",
    "        self.sepal_width = sepal_width\n",
    "        self.petal_length = petal_length\n",
    "        self.petal_width = petal_width\n",
    "        self.species = species\n",
    "    \n",
    "    def total(self):\n",
    "        return self.sepal_length + self.sepal_width + self.petal_length + self.petal_width\n",
    "    \n",
    "    def mean(self):\n",
    "        return self.total()/4\n",
    "    \n",
    "virginica = Iris(5.8,2.7,5.1,1.9,'virginica')\n",
    "setosa = Iris(5.1,3.5,1.4,0.2,'setosa')\n",
    "\n",
    "\n",
    "print(f'Gatunek: {virginica.species}')\n",
    "print(f'Total: {virginica.total()}')\n",
    "print(f'Srednia: {virginica.mean()}')\n",
    "\n",
    "print(f'Gatunek: {setosa.species}')\n",
    "print(f'Total: {setosa.total()}')\n",
    "print(f'Srednia: {setosa.mean()}')"
   ]
  },
  {
   "cell_type": "code",
   "execution_count": null,
   "metadata": {},
   "outputs": [],
   "source": []
  }
 ],
 "metadata": {
  "kernelspec": {
   "display_name": "Python 3",
   "language": "python",
   "name": "python3"
  },
  "language_info": {
   "codemirror_mode": {
    "name": "ipython",
    "version": 3
   },
   "file_extension": ".py",
   "mimetype": "text/x-python",
   "name": "python",
   "nbconvert_exporter": "python",
   "pygments_lexer": "ipython3",
   "version": "3.7.0"
  }
 },
 "nbformat": 4,
 "nbformat_minor": 2
}
