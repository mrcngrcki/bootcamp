{
 "cells": [
  {
   "cell_type": "code",
   "execution_count": 1,
   "metadata": {},
   "outputs": [
    {
     "name": "stdout",
     "output_type": "stream",
     "text": [
      "()\n",
      "(1,)\n",
      "(2, 3)\n",
      "('a', 'b')\n",
      "('a', 2, 3.3)\n"
     ]
    }
   ],
   "source": [
    "# *args to unlimited parametry pozycyjne\n",
    "def echo(*args):\n",
    "    print(args)\n",
    "\n",
    "\n",
    "echo()                     # ()\n",
    "echo(1)                    # (1,)\n",
    "echo(2, 3)                 # (2, 3)\n",
    "echo('a', 'b')             # ('a', 'b')\n",
    "echo('a', 2, 3.3)          # ('a', 2, 3.3)"
   ]
  },
  {
   "cell_type": "code",
   "execution_count": 2,
   "metadata": {},
   "outputs": [
    {
     "name": "stdout",
     "output_type": "stream",
     "text": [
      "{'a': 1}\n",
      "{'color': 'red'}\n",
      "{'first_name': 'Jan', 'last_name': 'Twardowski'}\n"
     ]
    }
   ],
   "source": [
    "# kwargs analogicznie ale dla keywordowych paramentrow\n",
    "def echo(**kwargs):\n",
    "    print(kwargs)\n",
    "\n",
    "\n",
    "echo(a=1)                                       # {'a': 1}\n",
    "echo(color='red')                               # {'color': 'red'}\n",
    "echo(first_name='Jan', last_name='Twardowski')  # {'first_name': 'Jan', 'last_name': Twardowski}"
   ]
  },
  {
   "cell_type": "code",
   "execution_count": 4,
   "metadata": {},
   "outputs": [
    {
     "name": "stdout",
     "output_type": "stream",
     "text": [
      "1\n",
      "2\n",
      "3\n",
      "(4, 5, 6)\n",
      "{'d': 7, 'e': 8}\n"
     ]
    }
   ],
   "source": [
    "# mozna oba na raz\n",
    "def echo(a, b, c=0, *args, **kwargs):\n",
    "    print(a)       # 1\n",
    "    print(b)       # 2\n",
    "    print(c)       # 3\n",
    "    print(args)    # (4, 5, 6)\n",
    "    print(kwargs)  # {'d': 7, 'e': 8}\n",
    "\n",
    "\n",
    "echo(1, 2, 3, 4, 5, 6, d=7, e=8)"
   ]
  },
  {
   "cell_type": "code",
   "execution_count": 5,
   "metadata": {},
   "outputs": [
    {
     "name": "stdout",
     "output_type": "stream",
     "text": [
      "1\n",
      "2\n"
     ]
    },
    {
     "ename": "TypeError",
     "evalue": "echo() takes 1 positional argument but 2 were given",
     "output_type": "error",
     "traceback": [
      "\u001b[0;31m---------------------------------------------------------------------------\u001b[0m",
      "\u001b[0;31mTypeError\u001b[0m                                 Traceback (most recent call last)",
      "\u001b[0;32m<ipython-input-5-14c15e7c924c>\u001b[0m in \u001b[0;36m<module>\u001b[0;34m()\u001b[0m\n\u001b[1;32m      7\u001b[0m \u001b[0;31m# 2\u001b[0m\u001b[0;34m\u001b[0m\u001b[0;34m\u001b[0m\u001b[0m\n\u001b[1;32m      8\u001b[0m \u001b[0;34m\u001b[0m\u001b[0m\n\u001b[0;32m----> 9\u001b[0;31m \u001b[0mecho\u001b[0m\u001b[0;34m(\u001b[0m\u001b[0;36m1\u001b[0m\u001b[0;34m,\u001b[0m \u001b[0;36m2\u001b[0m\u001b[0;34m)\u001b[0m\u001b[0;34m\u001b[0m\u001b[0m\n\u001b[0m\u001b[1;32m     10\u001b[0m \u001b[0;31m# TypeError: echo() takes 1 positional argument but 2 were given\u001b[0m\u001b[0;34m\u001b[0m\u001b[0;34m\u001b[0m\u001b[0m\n\u001b[1;32m     11\u001b[0m \u001b[0;34m\u001b[0m\u001b[0m\n",
      "\u001b[0;31mTypeError\u001b[0m: echo() takes 1 positional argument but 2 were given"
     ]
    }
   ],
   "source": [
    "# jezeli jest * to wszystkie po niej musza byc nazwane keywordem\n",
    "def echo(a, *, b):\n",
    "    print(a)\n",
    "    print(b)\n",
    "\n",
    "echo(1, b=2)\n",
    "# 1\n",
    "# 2\n",
    "\n",
    "echo(1, 2)\n",
    "# TypeError: echo() takes 1 positional argument but 2 were given\n",
    "\n",
    "echo(1)\n",
    "# TypeError: echo() missing 1 required keyword-only argument: 'b'\n"
   ]
  },
  {
   "cell_type": "code",
   "execution_count": 6,
   "metadata": {},
   "outputs": [
    {
     "ename": "SyntaxError",
     "evalue": "invalid syntax (<ipython-input-6-f83d4557a277>, line 2)",
     "output_type": "error",
     "traceback": [
      "\u001b[0;36m  File \u001b[0;32m\"<ipython-input-6-f83d4557a277>\"\u001b[0;36m, line \u001b[0;32m2\u001b[0m\n\u001b[0;31m    def echo(a, /, b, *, c):\u001b[0m\n\u001b[0m                ^\u001b[0m\n\u001b[0;31mSyntaxError\u001b[0m\u001b[0;31m:\u001b[0m invalid syntax\n"
     ]
    }
   ],
   "source": [
    "# / tak samo ale positional - od pythona 3.8\n",
    "def echo(a, /, b, *, c):\n",
    "    print(a, b, c)\n",
    "\n",
    "echo(1, 2, c=3)      # is valid\n",
    "echo(1, 2, 3)        # TypeError: echo() takes 2 positional arguments but 3 were given\n",
    "echo(1, b=2, c=3)    # TypeError: echo() takes 2 positional arguments but 1 positional arguments (and 2 keyword-only argument) were given"
   ]
  },
  {
   "cell_type": "code",
   "execution_count": 18,
   "metadata": {},
   "outputs": [],
   "source": [
    "def is_numeric(*args):\n",
    "    for x in args:\n",
    "        if (type(x) not in (float,int)):\n",
    "            return False\n",
    "    \n",
    "    return True\n",
    "    \n",
    "    \n",
    "    \n",
    "    \n",
    "    \n",
    "    \n",
    "    #return [True if type(x) in (float,int) else False for x in args]"
   ]
  },
  {
   "cell_type": "code",
   "execution_count": 20,
   "metadata": {},
   "outputs": [
    {
     "data": {
      "text/plain": [
       "True"
      ]
     },
     "execution_count": 20,
     "metadata": {},
     "output_type": "execute_result"
    }
   ],
   "source": [
    "is_numeric(1,2,3,4,5)"
   ]
  },
  {
   "cell_type": "code",
   "execution_count": 21,
   "metadata": {},
   "outputs": [
    {
     "data": {
      "text/plain": [
       "True"
      ]
     },
     "execution_count": 21,
     "metadata": {},
     "output_type": "execute_result"
    }
   ],
   "source": [
    "is_numeric()"
   ]
  },
  {
   "cell_type": "code",
   "execution_count": 27,
   "metadata": {},
   "outputs": [],
   "source": [
    "def is_numeric(*args, **kwargs):\n",
    "    for x in args:\n",
    "        if (type(x) not in (float,int)):\n",
    "            return False\n",
    "        \n",
    "    for y in kwargs.values():\n",
    "        if (type(y) not in (float,int)):\n",
    "            return False\n",
    "    \n",
    "    return True"
   ]
  },
  {
   "cell_type": "code",
   "execution_count": 30,
   "metadata": {},
   "outputs": [
    {
     "data": {
      "text/plain": [
       "True"
      ]
     },
     "execution_count": 30,
     "metadata": {},
     "output_type": "execute_result"
    }
   ],
   "source": [
    "is_numeric(1,2,3,4,5, a=6, b=7)"
   ]
  },
  {
   "cell_type": "code",
   "execution_count": null,
   "metadata": {},
   "outputs": [],
   "source": []
  }
 ],
 "metadata": {
  "kernelspec": {
   "display_name": "Python 3",
   "language": "python",
   "name": "python3"
  },
  "language_info": {
   "codemirror_mode": {
    "name": "ipython",
    "version": 3
   },
   "file_extension": ".py",
   "mimetype": "text/x-python",
   "name": "python",
   "nbconvert_exporter": "python",
   "pygments_lexer": "ipython3",
   "version": "3.7.0"
  }
 },
 "nbformat": 4,
 "nbformat_minor": 2
}
