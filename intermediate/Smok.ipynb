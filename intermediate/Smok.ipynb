{
 "cells": [
  {
   "cell_type": "code",
   "execution_count": 1,
   "metadata": {},
   "outputs": [],
   "source": [
    "from random import randint\n",
    "\n",
    "DRAGON_MIN_HP = 50\n",
    "DRAGON_MAX_HP = 100\n",
    "MIN_HIT = 5\n",
    "MAX_HIT = 20\n",
    "GOLD_MIN = 1\n",
    "GOLD_MAX = 100\n",
    "\n",
    "class Dragon:\n",
    "    def generate_hp(self, min, max):\n",
    "        return randint(min,max)\n",
    "    \n",
    "    def __init__(self, name:str, x:int=0, y:int=0):\n",
    "        self.name = name\n",
    "        self.x = x\n",
    "        self.y = y\n",
    "        self.texture_file = 'img/dragon/alive.png'\n",
    "        self.hp = self.generate_hp(DRAGON_MIN_HP,DRAGON_MAX_HP)\n",
    "        self.status = 'alive'\n",
    "    \n",
    "    def check_if_dead(self):\n",
    "        if self.hp <= 0:\n",
    "            self.status = 'dead'\n",
    "            print(f'{self.name} is dead')\n",
    "            self.texture_file = 'img/dragon/dead.png'\n",
    "            gold_loot = randint(GOLD_MIN,GOLD_MAX)\n",
    "            print(f'{self.name} dropped {gold_loot} gold!')\n",
    "            print(f'{self.name} died at position ({self.x},{self.y})')\n",
    "            return True\n",
    "        \n",
    "    def attack(self, min, max):\n",
    "        if self.status == 'alive':\n",
    "            hp_attacked = randint(min,max)\n",
    "            print(f'Dragon attacked for {hp_attacked} hp')\n",
    "        else:\n",
    "            print(f'{self.name} is dead, it cannot attack')\n",
    "    \n",
    "    def get_hit(self, hp):\n",
    "        if self.status == 'alive':        \n",
    "            self.hp -= hp\n",
    "            print(f'{self.name} got {hp} damage, {self.hp} hp left')\n",
    "            self.check_if_dead()\n",
    "        else:\n",
    "            print(f'{self.name} is dead, you cannot hurt it anymore')\n",
    "        \n",
    "    def move_by(self, x=0, y=0):\n",
    "        if self.status == 'alive': \n",
    "            self.x += x\n",
    "            self.y += y\n",
    "        else:\n",
    "            print(f'{self.name} is dead, it cannot move')\n",
    "        \n",
    "    def move_to(self, x, y):\n",
    "        if self.status == 'alive':\n",
    "            self.x = x\n",
    "            self.y = y\n",
    "        else:\n",
    "            print(f'{self.name} is dead, it cannot move')"
   ]
  },
  {
   "cell_type": "code",
   "execution_count": 2,
   "metadata": {},
   "outputs": [],
   "source": [
    "smok = Dragon('Wawelski', 50, 120)"
   ]
  },
  {
   "cell_type": "code",
   "execution_count": 3,
   "metadata": {},
   "outputs": [
    {
     "data": {
      "text/plain": [
       "{'name': 'Wawelski',\n",
       " 'x': 50,\n",
       " 'y': 120,\n",
       " 'texture_file': 'img/dragon/alive.png',\n",
       " 'hp': 62,\n",
       " 'status': 'alive'}"
      ]
     },
     "execution_count": 3,
     "metadata": {},
     "output_type": "execute_result"
    }
   ],
   "source": [
    "smok.__dict__"
   ]
  },
  {
   "cell_type": "code",
   "execution_count": 4,
   "metadata": {},
   "outputs": [],
   "source": [
    "smok.move_to(10,20)"
   ]
  },
  {
   "cell_type": "code",
   "execution_count": 5,
   "metadata": {},
   "outputs": [],
   "source": [
    "smok.move_by(-10,20)"
   ]
  },
  {
   "cell_type": "code",
   "execution_count": 6,
   "metadata": {},
   "outputs": [],
   "source": [
    "smok.move_by(-10)"
   ]
  },
  {
   "cell_type": "code",
   "execution_count": 7,
   "metadata": {},
   "outputs": [],
   "source": [
    "smok.move_by(15)"
   ]
  },
  {
   "cell_type": "code",
   "execution_count": 8,
   "metadata": {},
   "outputs": [],
   "source": [
    "smok.move_by(15,-5)"
   ]
  },
  {
   "cell_type": "code",
   "execution_count": 9,
   "metadata": {},
   "outputs": [],
   "source": [
    "smok.move_by(0,5)"
   ]
  },
  {
   "cell_type": "code",
   "execution_count": 10,
   "metadata": {},
   "outputs": [
    {
     "name": "stdout",
     "output_type": "stream",
     "text": [
      "Wawelski got 10 damage, 52 hp left\n",
      "Wawelski got 5 damage, 47 hp left\n",
      "Wawelski got 3 damage, 44 hp left\n",
      "Wawelski got 2 damage, 42 hp left\n",
      "Wawelski got 15 damage, 27 hp left\n",
      "Wawelski got 25 damage, 2 hp left\n",
      "Wawelski got 75 damage, -73 hp left\n",
      "Wawelski is dead\n",
      "Wawelski dropped 98 gold!\n",
      "Wawelski died at position (20,40)\n"
     ]
    },
    {
     "data": {
      "text/plain": [
       "[None, None, None, None, None, None, None]"
      ]
     },
     "execution_count": 10,
     "metadata": {},
     "output_type": "execute_result"
    }
   ],
   "source": [
    "DAMAGE = [10,5,3,2,15,25,75]\n",
    "\n",
    "[smok.get_hit(x) for x in DAMAGE]"
   ]
  },
  {
   "cell_type": "code",
   "execution_count": 11,
   "metadata": {},
   "outputs": [
    {
     "name": "stdout",
     "output_type": "stream",
     "text": [
      "Wawelski is dead, you cannot hurt it anymore\n",
      "Wawelski is dead, it cannot move\n",
      "Wawelski is dead, it cannot move\n",
      "Wawelski is dead, it cannot attack\n"
     ]
    }
   ],
   "source": [
    "smok.get_hit(100)\n",
    "smok.move_by(10,10)\n",
    "smok.move_to(10,10)\n",
    "smok.attack(10,20)"
   ]
  },
  {
   "cell_type": "code",
   "execution_count": null,
   "metadata": {},
   "outputs": [],
   "source": []
  }
 ],
 "metadata": {
  "kernelspec": {
   "display_name": "Python 3",
   "language": "python",
   "name": "python3"
  },
  "language_info": {
   "codemirror_mode": {
    "name": "ipython",
    "version": 3
   },
   "file_extension": ".py",
   "mimetype": "text/x-python",
   "name": "python",
   "nbconvert_exporter": "python",
   "pygments_lexer": "ipython3",
   "version": "3.7.0"
  }
 },
 "nbformat": 4,
 "nbformat_minor": 2
}
