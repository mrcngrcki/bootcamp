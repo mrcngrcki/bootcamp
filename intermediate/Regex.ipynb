{
 "cells": [
  {
   "cell_type": "markdown",
   "metadata": {},
   "source": [
    "# Regexy\n",
    "### http://python.astrotech.io/intermediate/index.html#regular-expressions\n",
    "\n",
    "[] - pojedyncze znaki\n",
    "^ - zaprzeczenie\n"
   ]
  },
  {
   "cell_type": "code",
   "execution_count": 5,
   "metadata": {},
   "outputs": [],
   "source": [
    "VALID=['+48 (12) 355 5678',\n",
    "'+48 123 555 678',\n",
    "'123 555 678',\n",
    "'+48 12 355 5678',\n",
    "'+48 123-555-678',\n",
    "'+48 123 555 6789',\n",
    "'+1 (123) 555-6789',\n",
    "'+1 (123).555.6789',\n",
    "'+1 800-python',\n",
    "'+48123555678',\n",
    "'+48 123 555 678 wew. 1337',\n",
    "'+48 123555678,1',\n",
    "'+48 123555678,1,2,3']"
   ]
  },
  {
   "cell_type": "code",
   "execution_count": 9,
   "metadata": {},
   "outputs": [
    {
     "data": {
      "text/plain": [
       "TestResults(failed=0, attempted=13)"
      ]
     },
     "execution_count": 9,
     "metadata": {},
     "output_type": "execute_result"
    }
   ],
   "source": [
    "import re\n",
    "import doctest\n",
    "\n",
    "\n",
    "def is_valid_phone_number(phone_number: str) -> bool:\n",
    "    \"\"\"Function check phone number against Regular Expression\n",
    "    >>> is_valid_phone_number('+48 (12) 355 5678')\n",
    "    False\n",
    "    >>> is_valid_phone_number('+48 123 555 678')\n",
    "    True\n",
    "    >>> is_valid_phone_number('123 555 678')\n",
    "    False\n",
    "    >>> is_valid_phone_number('+48 12 355 5678')\n",
    "    True\n",
    "    >>> is_valid_phone_number('+48 123-555-678')\n",
    "    False\n",
    "    >>> is_valid_phone_number('+48 123 555 6789')\n",
    "    False\n",
    "    >>> is_valid_phone_number('+1 (123) 555-6789')\n",
    "    False\n",
    "    >>> is_valid_phone_number('+1 (123).555.6789')\n",
    "    False\n",
    "    >>> is_valid_phone_number('+1 800-python')\n",
    "    False\n",
    "    >>> is_valid_phone_number('+48123555678')\n",
    "    False\n",
    "    >>> is_valid_phone_number('+48 123 555 678 wew. 1337')\n",
    "    False\n",
    "    >>> is_valid_phone_number('+48 123555678,1')\n",
    "    False\n",
    "    >>> is_valid_phone_number('+48 123555678,1,2,3')\n",
    "    False\n",
    "    \"\"\"\n",
    "    \n",
    "   # PATTERN = r'^(\\+[0-9]{2} [0-9]{2,3} [0-9]{3} [0-9]{3,4}$)'\n",
    "    PATTERN = r'^\\+[0-9]{2}\\s(' #country code\n",
    "    PATTERN += r'([0-9]{2}\\s[0-9]{3}\\s[0-9]{4})' # stacjonarny\n",
    "    PATTERN += r'|'\n",
    "    PATTERN += r'([0-9]{3}\\s[0-9]{3}\\s[0-9]{3})' # mobile\n",
    "    PATTERN += r')$'\n",
    "    \n",
    "    if re.match(PATTERN, phone_number):\n",
    "        return True\n",
    "    else:\n",
    "        return False\n",
    "\n",
    "doctest.testmod()"
   ]
  },
  {
   "cell_type": "code",
   "execution_count": null,
   "metadata": {},
   "outputs": [],
   "source": []
  }
 ],
 "metadata": {
  "kernelspec": {
   "display_name": "Python 3",
   "language": "python",
   "name": "python3"
  },
  "language_info": {
   "codemirror_mode": {
    "name": "ipython",
    "version": 3
   },
   "file_extension": ".py",
   "mimetype": "text/x-python",
   "name": "python",
   "nbconvert_exporter": "python",
   "pygments_lexer": "ipython3",
   "version": "3.7.0"
  }
 },
 "nbformat": 4,
 "nbformat_minor": 2
}
