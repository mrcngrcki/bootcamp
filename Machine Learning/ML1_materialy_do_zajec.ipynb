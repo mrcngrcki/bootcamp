{
 "cells": [
  {
   "cell_type": "code",
   "execution_count": 1,
   "metadata": {},
   "outputs": [
    {
     "name": "stdout",
     "output_type": "stream",
     "text": [
      "Collecting scikit-learn\n",
      "  Downloading scikit_learn-0.22.2.post1-cp37-cp37m-manylinux1_x86_64.whl (7.1 MB)\n",
      "\u001b[K     |████████████████████████████████| 7.1 MB 1.5 MB/s eta 0:00:01     |████████████████████████████▋   | 6.3 MB 1.5 MB/s eta 0:00:01\n",
      "\u001b[?25hRequirement already satisfied, skipping upgrade: scipy>=0.17.0 in /home/kodolamacz/anaconda3/lib/python3.7/site-packages (from scikit-learn) (1.1.0)\n",
      "Collecting joblib>=0.11\n",
      "  Downloading joblib-0.14.1-py2.py3-none-any.whl (294 kB)\n",
      "\u001b[K     |████████████████████████████████| 294 kB 264 kB/s eta 0:00:01\n",
      "\u001b[?25hRequirement already satisfied, skipping upgrade: numpy>=1.11.0 in /home/kodolamacz/anaconda3/lib/python3.7/site-packages (from scikit-learn) (1.15.1)\n",
      "Installing collected packages: joblib, scikit-learn\n",
      "  Attempting uninstall: scikit-learn\n",
      "    Found existing installation: scikit-learn 0.19.2\n",
      "    Uninstalling scikit-learn-0.19.2:\n",
      "      Successfully uninstalled scikit-learn-0.19.2\n",
      "Successfully installed joblib-0.14.1 scikit-learn-0.22.2.post1\n"
     ]
    }
   ],
   "source": [
    "#!pip3 install -U scikit-learn"
   ]
  },
  {
   "cell_type": "code",
   "execution_count": 1,
   "metadata": {},
   "outputs": [
    {
     "data": {
      "text/plain": [
       "'0.22.2.post1'"
      ]
     },
     "execution_count": 1,
     "metadata": {},
     "output_type": "execute_result"
    }
   ],
   "source": [
    "import sklearn\n",
    "sklearn.__version__\n",
    "\n",
    "# Jesli wersja nie jest przynajmnije 0.21 to:\n",
    "\n",
    "#!pip3 install -U sklearn\n",
    "#!pip3 install -U scikit-learn\n",
    "\n",
    "#i restart jądra"
   ]
  },
  {
   "cell_type": "markdown",
   "metadata": {},
   "source": [
    "# <center>Uczenie maszynowe</center>\n",
    "\n",
    "<br>\n",
    "\n",
    "<br>\n",
    "\n",
    "## <center>Proces rozwiązywania problemów z zastosowaniem uczenia maszynowego</center>\n",
    "\n",
    "<img src=\"Grafika/CRISP_DM_Process_Diagram.png\" width=\"350\">\n",
    "Źródło: https://upload.wikimedia.org/wikipedia/commons/thumb/b/b9/CRISP-DM_Process_Diagram.png/897px-CRISP-DM_Process_Diagram.png\n",
    "\n",
    "<br>\n",
    "\n",
    "<br>\n",
    "\n",
    "<br>\n",
    "\n",
    "<br>\n",
    "\n",
    "<br>\n",
    "\n",
    "\n",
    "\n",
    "\n",
    " <br>\n",
    "\n",
    "## Kilka faktów na temat uczenia maszynowego\n",
    "\n",
    "* ML to zarówno nauka jak i sztuka.\n",
    "\n",
    "* Nie istnieje metoda \"najlepsza\" - każdy problem wymaga indywidualnego podejścia.\n",
    "\n",
    "* Rozwiązanie problemu ML = reprezentacja danych + algorytm.\n",
    "\n",
    "  - w codziennej praktyce pierwszy czynnik często niedoceniany. Przetworzenie danych jest równie ważne jak same algorytmy, a nawet często dane są ważniejsze od algorytmu - większy wpływ na wyniki ma postać danych niż wybór konkretnego algorytmu.\n",
    "\n",
    "* Bardzo ważne jest zdefiniowanie celu jaki chcemy osiągnąć i rozumienie jak dane i algorytmy z tym celem się wiążą.\n",
    "\n",
    "\n",
    " <br>\n",
    " \n",
    " <br>\n",
    " \n",
    " <br>\n",
    " \n",
    " <br>\n",
    " \n",
    " <br>\n",
    " \n",
    " <br>\n",
    " \n",
    " <br>\n",
    " \n",
    " <br>\n",
    " \n",
    " ## Dwa główne nurty uczenia maszynowego:\n",
    "* uczenie nadzorowane (*supervised learning*)\n",
    "* uczenie nienadzorowane (*unsupervised learning*)\n",
    "\n",
    "  <br>\n",
    " \n",
    " <br>\n",
    " \n",
    " <br>\n",
    " \n",
    " <br>\n",
    " \n",
    " <br>\n",
    " \n",
    " <br>\n",
    " \n",
    " <br>\n",
    " \n",
    "## Uczenie nadzorowane\n",
    "\n",
    "Dla znanych par (X,Y) szukamy zależności między X a Y - budujemy model, który na podstawie X przewidzi Y.\n",
    " \n",
    "\n",
    "* regresja: Y jest zmienną rzeczywistą\n",
    "\n",
    "* klasyfikacja: Y jest zmienną dyskretną (np. binarną - o wartościach 0 i 1)\n",
    "\n",
    " <br>\n",
    " \n",
    " <br>\n",
    " \n",
    " <br>\n",
    " \n",
    " <br>\n",
    " \n",
    " <br>\n",
    " \n",
    " <br>\n",
    " \n",
    " <br>\n",
    " \n",
    "## Zagadnienie klasyfikacji - przykłady:\n",
    "- predykcja churnu - przewidywanie na podstawie cech klienta (opisujących m.in. jego zachowanie) czy klient odejdzie w najbliższym czasie (np. w ciągu miesiąca);\n",
    "- scoring kredytowy - na poziomie ostatecznej decyzji - dać czy nie dać kredyt;\n",
    "- rozpoznawanie choroby - rozpoznawanie na podstawie parametrów medycznych czy pacjent zachoruje/jest chory;\n",
    "- klasyfikacja tematyczna tekstu;\n",
    "- klasyfikacja wydźwięku opini;\n",
    "- rozpoznawanie zawartosci obrazów (dla okreslonej liczby typów obrazów)."
   ]
  },
  {
   "cell_type": "markdown",
   "metadata": {},
   "source": [
    "# Regresja logistyczna\n",
    "\n",
    "Rozważamy problem klasyfikacji binarnej: $X \\in \\mathbb{R}^p$, $Y \\in \\{0, 1\\}$.\n",
    "\n",
    "Założenia modelu:\n",
    "\n",
    "$$\n",
    "Y =\n",
    "\\begin{cases}\n",
    "1, \\text{ z prawdopodobieństwem } \\pi(x)\\\\\n",
    "0, \\text{ z prawdopodobieństwem } 1-\\pi(x).\\\\\n",
    "\\end{cases}$$\n",
    "\n",
    ", gdzie\n",
    "\n",
    "$\\pi(x)=P(Y=1 \\mid x)$.\n",
    "\n",
    "Czyli innymi słowy:\n",
    "\n",
    "$$\\large Y \\sim B(\\pi(x)),$$\n",
    "\n",
    "\n",
    "B($\\cdot$) - rozkład dwupunktowy, \n",
    "\n",
    "\n",
    "Model:\n",
    "\n",
    "$$\\large \\pi(x) = \\frac{1}{1+e^{-\\beta x}},$$\n",
    "\n",
    "$\\beta = (\\beta_0,\\beta_1, \\ldots, \\beta_p),$   $\\beta x = \\beta_0 + \\beta_1 x_1 + \\ldots + \\beta_p x_p.$\n",
    "\n",
    " <br>\n",
    " \n",
    " <br>\n",
    " \n",
    "Predykcja wartości Y przy użyciu regresji logistycznej:\n",
    "\n",
    "$$\n",
    "\\hat{y} =\n",
    "\\begin{cases}\n",
    "1, \\text{ gdy } \\pi(x) > 0.5\\\\\n",
    "0, \\text{ gdy } \\pi(x) \\leq 0.5\\\\\n",
    "\\end{cases}\n",
    "$$\n",
    " \n",
    " <br>\n",
    " \n",
    " <br>\n",
    " \n",
    " <br>\n",
    "\n",
    "Dopasowanie (uczenie) modelu = znalezienie optymalnych wartości współczynników wektora $\\beta$, czyli takich, które najlepiej opisują zależność $Y$ od $X$. \n",
    "\n",
    " <br>\n",
    " \n",
    " <br>\n",
    " \n",
    " <br>\n",
    " \n",
    "Najlepiej czyli jak?\n",
    " \n",
    "## Metoda największej wiarogodności\n",
    " \n",
    "Rozważmy sytuację binarną. tzn. $y \\in \\{0,1\\}$. Logarytm funkcji wiarogodności wygląda następująco (X zbiór obserwacji, Y - zbiór etykiet):\n",
    "\n",
    "$ \n",
    "\\begin{align}\n",
    "L(\\beta \\ | \\ X,Y) & = \\log \\prod\\limits_{i=1}^n P(Y_i=y_i \\ | \\ x_i) \\\\\n",
    "       & = \\log \\prod\\limits_{i=1}^n \\pi(x_i)^{y_i}(1-\\pi(x_i))^{1-y_i} \\\\\n",
    "       & = \\sum\\limits_{i=1}^n \\log\\big( \\pi(x_i)^{y_i}(1-\\pi(x_i))^{1-y_i}\\big) \\\\\n",
    "       & = \\sum\\limits_{i=1}^n y_i\\log(\\pi(x_i)) + (1-y_i)\\log(1-\\pi(x_i)) .\n",
    "\\end{align}\n",
    "$\n",
    "\n",
    "Przyjmijmy oznaczenie: $h(\\pi(x),y) = y\\log{(\\pi(x))} + (1-y)\\log{(1-\\pi(x))}.$\n",
    "Zauważmy, że:\n",
    "\n",
    "$h(\\pi(x),1) = \\log{(\\pi(x))}$\n",
    "\n",
    "$h(\\pi(x),0) = \\log{(1-\\pi(x))}$\n",
    "\n",
    "Jeżeli $y=1$ to model jest tym lepszy im $\\pi(x)$ jest większe. Jeżeli $y=0$, to model jest tym lepszy im $\\pi(x)$ jest mniejsze, czyli $1 - \\pi(x)$ większe.\n",
    "\n",
    "Dopasowywanie modelu regresji logistycznej polega na maksymalizacji funkcji wiarogodności (technicznie - jej logarytmu) - szukamy (numerycznie) takiego wektora $\\beta$, dla którego wiarogodność jest największa.\n"
   ]
  },
  {
   "cell_type": "code",
   "execution_count": 28,
   "metadata": {},
   "outputs": [],
   "source": [
    "from warnings import filterwarnings\n",
    "filterwarnings(\"ignore\")"
   ]
  },
  {
   "cell_type": "code",
   "execution_count": 110,
   "metadata": {},
   "outputs": [],
   "source": [
    "from sklearn.datasets import load_breast_cancer"
   ]
  },
  {
   "cell_type": "code",
   "execution_count": 4,
   "metadata": {},
   "outputs": [],
   "source": [
    "?load_breast_cancer"
   ]
  },
  {
   "cell_type": "code",
   "execution_count": 5,
   "metadata": {},
   "outputs": [],
   "source": [
    "data = load_breast_cancer()"
   ]
  },
  {
   "cell_type": "code",
   "execution_count": 6,
   "metadata": {},
   "outputs": [],
   "source": [
    "X, y = data.data, data.target"
   ]
  },
  {
   "cell_type": "code",
   "execution_count": 7,
   "metadata": {},
   "outputs": [
    {
     "data": {
      "text/plain": [
       "array([[1.799e+01, 1.038e+01, 1.228e+02, ..., 2.654e-01, 4.601e-01,\n",
       "        1.189e-01],\n",
       "       [2.057e+01, 1.777e+01, 1.329e+02, ..., 1.860e-01, 2.750e-01,\n",
       "        8.902e-02],\n",
       "       [1.969e+01, 2.125e+01, 1.300e+02, ..., 2.430e-01, 3.613e-01,\n",
       "        8.758e-02],\n",
       "       ...,\n",
       "       [1.660e+01, 2.808e+01, 1.083e+02, ..., 1.418e-01, 2.218e-01,\n",
       "        7.820e-02],\n",
       "       [2.060e+01, 2.933e+01, 1.401e+02, ..., 2.650e-01, 4.087e-01,\n",
       "        1.240e-01],\n",
       "       [7.760e+00, 2.454e+01, 4.792e+01, ..., 0.000e+00, 2.871e-01,\n",
       "        7.039e-02]])"
      ]
     },
     "execution_count": 7,
     "metadata": {},
     "output_type": "execute_result"
    }
   ],
   "source": [
    "X"
   ]
  },
  {
   "cell_type": "code",
   "execution_count": 8,
   "metadata": {},
   "outputs": [
    {
     "data": {
      "text/plain": [
       "(569, 30)"
      ]
     },
     "execution_count": 8,
     "metadata": {},
     "output_type": "execute_result"
    }
   ],
   "source": [
    "X.shape"
   ]
  },
  {
   "cell_type": "code",
   "execution_count": 9,
   "metadata": {},
   "outputs": [
    {
     "data": {
      "text/plain": [
       "array([0, 0, 0, 0, 0, 0, 0, 0, 0, 0, 0, 0, 0, 0, 0, 0, 0, 0, 0, 1, 1, 1,\n",
       "       0, 0, 0, 0, 0, 0, 0, 0, 0, 0, 0, 0, 0, 0, 0, 1, 0, 0, 0, 0, 0, 0,\n",
       "       0, 0, 1, 0, 1, 1, 1, 1, 1, 0, 0, 1, 0, 0, 1, 1, 1, 1, 0, 1, 0, 0,\n",
       "       1, 1, 1, 1, 0, 1, 0, 0, 1, 0, 1, 0, 0, 1, 1, 1, 0, 0, 1, 0, 0, 0,\n",
       "       1, 1, 1, 0, 1, 1, 0, 0, 1, 1, 1, 0, 0, 1, 1, 1, 1, 0, 1, 1, 0, 1,\n",
       "       1, 1, 1, 1, 1, 1, 1, 0, 0, 0, 1, 0, 0, 1, 1, 1, 0, 0, 1, 0, 1, 0,\n",
       "       0, 1, 0, 0, 1, 1, 0, 1, 1, 0, 1, 1, 1, 1, 0, 1, 1, 1, 1, 1, 1, 1,\n",
       "       1, 1, 0, 1, 1, 1, 1, 0, 0, 1, 0, 1, 1, 0, 0, 1, 1, 0, 0, 1, 1, 1,\n",
       "       1, 0, 1, 1, 0, 0, 0, 1, 0, 1, 0, 1, 1, 1, 0, 1, 1, 0, 0, 1, 0, 0,\n",
       "       0, 0, 1, 0, 0, 0, 1, 0, 1, 0, 1, 1, 0, 1, 0, 0, 0, 0, 1, 1, 0, 0,\n",
       "       1, 1, 1, 0, 1, 1, 1, 1, 1, 0, 0, 1, 1, 0, 1, 1, 0, 0, 1, 0, 1, 1,\n",
       "       1, 1, 0, 1, 1, 1, 1, 1, 0, 1, 0, 0, 0, 0, 0, 0, 0, 0, 0, 0, 0, 0,\n",
       "       0, 0, 1, 1, 1, 1, 1, 1, 0, 1, 0, 1, 1, 0, 1, 1, 0, 1, 0, 0, 1, 1,\n",
       "       1, 1, 1, 1, 1, 1, 1, 1, 1, 1, 1, 0, 1, 1, 0, 1, 0, 1, 1, 1, 1, 1,\n",
       "       1, 1, 1, 1, 1, 1, 1, 1, 1, 0, 1, 1, 1, 0, 1, 0, 1, 1, 1, 1, 0, 0,\n",
       "       0, 1, 1, 1, 1, 0, 1, 0, 1, 0, 1, 1, 1, 0, 1, 1, 1, 1, 1, 1, 1, 0,\n",
       "       0, 0, 1, 1, 1, 1, 1, 1, 1, 1, 1, 1, 1, 0, 0, 1, 0, 0, 0, 1, 0, 0,\n",
       "       1, 1, 1, 1, 1, 0, 1, 1, 1, 1, 1, 0, 1, 1, 1, 0, 1, 1, 0, 0, 1, 1,\n",
       "       1, 1, 1, 1, 0, 1, 1, 1, 1, 1, 1, 1, 0, 1, 1, 1, 1, 1, 0, 1, 1, 0,\n",
       "       1, 1, 1, 1, 1, 1, 1, 1, 1, 1, 1, 1, 0, 1, 0, 0, 1, 0, 1, 1, 1, 1,\n",
       "       1, 0, 1, 1, 0, 1, 0, 1, 1, 0, 1, 0, 1, 1, 1, 1, 1, 1, 1, 1, 0, 0,\n",
       "       1, 1, 1, 1, 1, 1, 0, 1, 1, 1, 1, 1, 1, 1, 1, 1, 1, 0, 1, 1, 1, 1,\n",
       "       1, 1, 1, 0, 1, 0, 1, 1, 0, 1, 1, 1, 1, 1, 0, 0, 1, 0, 1, 0, 1, 1,\n",
       "       1, 1, 1, 0, 1, 1, 0, 1, 0, 1, 0, 0, 1, 1, 1, 0, 1, 1, 1, 1, 1, 1,\n",
       "       1, 1, 1, 1, 1, 0, 1, 0, 0, 1, 1, 1, 1, 1, 1, 1, 1, 1, 1, 1, 1, 1,\n",
       "       1, 1, 1, 1, 1, 1, 1, 1, 1, 1, 1, 1, 0, 0, 0, 0, 0, 0, 1])"
      ]
     },
     "execution_count": 9,
     "metadata": {},
     "output_type": "execute_result"
    }
   ],
   "source": [
    "y"
   ]
  },
  {
   "cell_type": "code",
   "execution_count": 10,
   "metadata": {},
   "outputs": [
    {
     "data": {
      "text/plain": [
       "array(['mean radius', 'mean texture', 'mean perimeter', 'mean area',\n",
       "       'mean smoothness', 'mean compactness', 'mean concavity',\n",
       "       'mean concave points', 'mean symmetry', 'mean fractal dimension',\n",
       "       'radius error', 'texture error', 'perimeter error', 'area error',\n",
       "       'smoothness error', 'compactness error', 'concavity error',\n",
       "       'concave points error', 'symmetry error',\n",
       "       'fractal dimension error', 'worst radius', 'worst texture',\n",
       "       'worst perimeter', 'worst area', 'worst smoothness',\n",
       "       'worst compactness', 'worst concavity', 'worst concave points',\n",
       "       'worst symmetry', 'worst fractal dimension'], dtype='<U23')"
      ]
     },
     "execution_count": 10,
     "metadata": {},
     "output_type": "execute_result"
    }
   ],
   "source": [
    "data.feature_names"
   ]
  },
  {
   "cell_type": "code",
   "execution_count": 11,
   "metadata": {},
   "outputs": [
    {
     "data": {
      "text/plain": [
       "0.6274165202108963"
      ]
     },
     "execution_count": 11,
     "metadata": {},
     "output_type": "execute_result"
    }
   ],
   "source": [
    "y.mean()"
   ]
  },
  {
   "cell_type": "code",
   "execution_count": 12,
   "metadata": {},
   "outputs": [],
   "source": [
    "from sklearn.linear_model import LogisticRegression"
   ]
  },
  {
   "cell_type": "code",
   "execution_count": 13,
   "metadata": {},
   "outputs": [],
   "source": [
    "model = LogisticRegression()"
   ]
  },
  {
   "cell_type": "code",
   "execution_count": 14,
   "metadata": {},
   "outputs": [
    {
     "name": "stderr",
     "output_type": "stream",
     "text": [
      "/home/kodolamacz/anaconda3/lib/python3.7/site-packages/sklearn/linear_model/_logistic.py:940: ConvergenceWarning: lbfgs failed to converge (status=1):\n",
      "STOP: TOTAL NO. of ITERATIONS REACHED LIMIT.\n",
      "\n",
      "Increase the number of iterations (max_iter) or scale the data as shown in:\n",
      "    https://scikit-learn.org/stable/modules/preprocessing.html\n",
      "Please also refer to the documentation for alternative solver options:\n",
      "    https://scikit-learn.org/stable/modules/linear_model.html#logistic-regression\n",
      "  extra_warning_msg=_LOGISTIC_SOLVER_CONVERGENCE_MSG)\n"
     ]
    },
    {
     "data": {
      "text/plain": [
       "LogisticRegression(C=1.0, class_weight=None, dual=False, fit_intercept=True,\n",
       "                   intercept_scaling=1, l1_ratio=None, max_iter=100,\n",
       "                   multi_class='auto', n_jobs=None, penalty='l2',\n",
       "                   random_state=None, solver='lbfgs', tol=0.0001, verbose=0,\n",
       "                   warm_start=False)"
      ]
     },
     "execution_count": 14,
     "metadata": {},
     "output_type": "execute_result"
    }
   ],
   "source": [
    "model.fit(X,y)"
   ]
  },
  {
   "cell_type": "code",
   "execution_count": 15,
   "metadata": {},
   "outputs": [
    {
     "data": {
      "text/plain": [
       "(array([0.17602134]),\n",
       " array([[ 0.94461853,  0.45691059,  0.2771816 , -0.01588461, -0.03513972,\n",
       "         -0.16555268, -0.23179226, -0.09762309, -0.0486746 , -0.00971057,\n",
       "          0.04103891,  0.3728471 ,  0.14478376, -0.10911838, -0.00317849,\n",
       "         -0.03559393, -0.0495699 , -0.01271195, -0.0117498 , -0.00330507,\n",
       "          1.00423304, -0.50341623, -0.24890017, -0.0136843 , -0.06375634,\n",
       "         -0.51630135, -0.642547  , -0.18784388, -0.15433358, -0.04961099]]))"
      ]
     },
     "execution_count": 15,
     "metadata": {},
     "output_type": "execute_result"
    }
   ],
   "source": [
    "model.intercept_, model.coef_"
   ]
  },
  {
   "cell_type": "code",
   "execution_count": 16,
   "metadata": {},
   "outputs": [
    {
     "data": {
      "text/plain": [
       "array([0, 0, 0, 1, 0, 0, 0, 0, 0, 0, 0, 0, 0, 1, 1, 0, 0, 0, 0, 1, 1, 1,\n",
       "       0, 0, 0, 0, 0, 0, 0, 0, 0, 0, 0, 0, 0, 0, 0, 1, 1, 1, 1, 0, 0, 0,\n",
       "       1, 0, 1, 0, 1, 1, 1, 1, 1, 0, 0, 1, 0, 0, 1, 1, 1, 1, 0, 1, 0, 0,\n",
       "       1, 1, 1, 1, 0, 1, 0, 1, 1, 0, 1, 0, 0, 1, 1, 1, 0, 0, 1, 0, 0, 0,\n",
       "       1, 1, 1, 1, 0, 1, 0, 0, 1, 1, 1, 0, 0, 1, 1, 1, 1, 0, 1, 1, 0, 1,\n",
       "       1, 1, 1, 1, 1, 1, 1, 0, 0, 0, 1, 0, 0, 1, 1, 1, 0, 0, 1, 0, 1, 0,\n",
       "       0, 1, 0, 1, 1, 1, 0, 1, 1, 0, 1, 1, 1, 1, 1, 1, 1, 1, 1, 1, 1, 1,\n",
       "       1, 1, 0, 0, 1, 1, 1, 0, 0, 1, 0, 1, 1, 0, 0, 1, 1, 0, 0, 1, 1, 1,\n",
       "       1, 0, 1, 1, 0, 0, 0, 1, 1, 1, 0, 1, 1, 1, 0, 1, 1, 0, 1, 1, 0, 0,\n",
       "       0, 0, 1, 0, 0, 0, 1, 0, 1, 0, 1, 1, 0, 1, 0, 0, 0, 1, 1, 1, 0, 0,\n",
       "       1, 1, 1, 0, 1, 0, 1, 1, 1, 0, 0, 1, 1, 0, 1, 1, 0, 0, 0, 0, 1, 1,\n",
       "       1, 1, 0, 1, 1, 1, 1, 1, 0, 1, 0, 0, 0, 1, 0, 0, 0, 0, 0, 0, 0, 0,\n",
       "       0, 0, 1, 1, 1, 1, 1, 1, 0, 1, 0, 1, 1, 0, 1, 1, 0, 1, 0, 0, 1, 1,\n",
       "       1, 1, 1, 1, 1, 1, 1, 1, 1, 1, 1, 1, 1, 1, 0, 1, 0, 1, 1, 1, 1, 1,\n",
       "       1, 1, 1, 1, 1, 1, 1, 1, 1, 0, 1, 1, 1, 0, 1, 0, 1, 1, 1, 1, 0, 0,\n",
       "       0, 1, 1, 1, 1, 0, 1, 0, 1, 0, 1, 1, 1, 0, 1, 1, 1, 1, 1, 1, 1, 0,\n",
       "       0, 0, 1, 1, 1, 1, 1, 1, 1, 1, 1, 0, 1, 0, 0, 1, 0, 0, 0, 1, 0, 0,\n",
       "       1, 1, 1, 1, 1, 0, 1, 1, 1, 1, 1, 1, 1, 1, 1, 0, 1, 1, 0, 0, 1, 1,\n",
       "       1, 1, 1, 1, 0, 1, 1, 1, 1, 1, 1, 1, 0, 1, 0, 1, 1, 0, 0, 1, 1, 0,\n",
       "       1, 1, 1, 1, 1, 1, 1, 1, 1, 1, 1, 1, 0, 1, 0, 0, 1, 0, 1, 1, 1, 1,\n",
       "       1, 0, 1, 1, 0, 1, 0, 1, 0, 0, 1, 0, 1, 1, 1, 1, 1, 1, 1, 1, 0, 0,\n",
       "       1, 1, 1, 0, 1, 1, 0, 1, 1, 1, 1, 1, 1, 1, 0, 1, 1, 1, 1, 1, 1, 1,\n",
       "       1, 1, 1, 0, 1, 0, 1, 0, 0, 1, 1, 1, 1, 1, 0, 0, 1, 0, 1, 0, 1, 1,\n",
       "       1, 1, 1, 0, 1, 1, 0, 1, 0, 1, 0, 0, 1, 1, 1, 0, 1, 1, 1, 1, 1, 1,\n",
       "       1, 1, 1, 1, 1, 0, 1, 0, 1, 1, 1, 1, 1, 1, 1, 1, 1, 1, 1, 1, 1, 1,\n",
       "       1, 1, 1, 1, 1, 1, 1, 1, 1, 1, 1, 1, 0, 0, 0, 0, 0, 0, 1])"
      ]
     },
     "execution_count": 16,
     "metadata": {},
     "output_type": "execute_result"
    }
   ],
   "source": [
    "model.predict(X)"
   ]
  },
  {
   "cell_type": "code",
   "execution_count": 17,
   "metadata": {},
   "outputs": [
    {
     "data": {
      "text/plain": [
       "array([[1.00000000e+00, 4.82487200e-15],\n",
       "       [9.99999965e-01, 3.48778573e-08],\n",
       "       [9.99999728e-01, 2.72381241e-07],\n",
       "       ...,\n",
       "       [9.92229755e-01, 7.77024500e-03],\n",
       "       [1.00000000e+00, 1.90741226e-10],\n",
       "       [2.51880451e-02, 9.74811955e-01]])"
      ]
     },
     "execution_count": 17,
     "metadata": {},
     "output_type": "execute_result"
    }
   ],
   "source": [
    "model.predict_proba(X) #prawdopodobieństwa obliczone przez model"
   ]
  },
  {
   "cell_type": "code",
   "execution_count": 18,
   "metadata": {},
   "outputs": [
    {
     "data": {
      "text/plain": [
       "array([[1.  , 0.  ],\n",
       "       [1.  , 0.  ],\n",
       "       [1.  , 0.  ],\n",
       "       [0.16, 0.84],\n",
       "       [1.  , 0.  ],\n",
       "       [0.73, 0.27],\n",
       "       [1.  , 0.  ],\n",
       "       [0.97, 0.03],\n",
       "       [0.69, 0.31],\n",
       "       [0.98, 0.02]])"
      ]
     },
     "execution_count": 18,
     "metadata": {},
     "output_type": "execute_result"
    }
   ],
   "source": [
    "model.predict_proba(X)[:10].round(2)"
   ]
  },
  {
   "cell_type": "markdown",
   "metadata": {},
   "source": [
    "### Oceniamy klasyfikator - procent poprawnych klasyfikacji"
   ]
  },
  {
   "cell_type": "markdown",
   "metadata": {},
   "source": [
    "### Ocena dopasowania"
   ]
  },
  {
   "cell_type": "code",
   "execution_count": 19,
   "metadata": {},
   "outputs": [],
   "source": [
    "from sklearn.metrics import accuracy_score"
   ]
  },
  {
   "cell_type": "code",
   "execution_count": 20,
   "metadata": {},
   "outputs": [
    {
     "data": {
      "text/plain": [
       "0.9472759226713533"
      ]
     },
     "execution_count": 20,
     "metadata": {},
     "output_type": "execute_result"
    }
   ],
   "source": [
    "accuracy_score(y, model.predict(X))"
   ]
  },
  {
   "cell_type": "markdown",
   "metadata": {},
   "source": [
    "O czym nam mówi ta wartosć? O **dopasowaniu**, a nie o tym jak dobrze model przewiduje!\n",
    "\n",
    "### Podział na część uczącą i testową"
   ]
  },
  {
   "cell_type": "code",
   "execution_count": 21,
   "metadata": {},
   "outputs": [],
   "source": [
    "from sklearn.model_selection import train_test_split"
   ]
  },
  {
   "cell_type": "code",
   "execution_count": 22,
   "metadata": {},
   "outputs": [],
   "source": [
    "X_train, X_test , y_train, y_test = train_test_split(X,y,test_size=0.33)"
   ]
  },
  {
   "cell_type": "code",
   "execution_count": 23,
   "metadata": {},
   "outputs": [
    {
     "name": "stderr",
     "output_type": "stream",
     "text": [
      "/home/kodolamacz/anaconda3/lib/python3.7/site-packages/sklearn/linear_model/_logistic.py:940: ConvergenceWarning: lbfgs failed to converge (status=1):\n",
      "STOP: TOTAL NO. of ITERATIONS REACHED LIMIT.\n",
      "\n",
      "Increase the number of iterations (max_iter) or scale the data as shown in:\n",
      "    https://scikit-learn.org/stable/modules/preprocessing.html\n",
      "Please also refer to the documentation for alternative solver options:\n",
      "    https://scikit-learn.org/stable/modules/linear_model.html#logistic-regression\n",
      "  extra_warning_msg=_LOGISTIC_SOLVER_CONVERGENCE_MSG)\n"
     ]
    },
    {
     "data": {
      "text/plain": [
       "LogisticRegression(C=1.0, class_weight=None, dual=False, fit_intercept=True,\n",
       "                   intercept_scaling=1, l1_ratio=None, max_iter=100,\n",
       "                   multi_class='auto', n_jobs=None, penalty='l2',\n",
       "                   random_state=None, solver='lbfgs', tol=0.0001, verbose=0,\n",
       "                   warm_start=False)"
      ]
     },
     "execution_count": 23,
     "metadata": {},
     "output_type": "execute_result"
    }
   ],
   "source": [
    "model.fit(X_train,y_train)"
   ]
  },
  {
   "cell_type": "code",
   "execution_count": 24,
   "metadata": {},
   "outputs": [],
   "source": [
    "y_pred = model.predict(X_test)"
   ]
  },
  {
   "cell_type": "code",
   "execution_count": 25,
   "metadata": {},
   "outputs": [
    {
     "data": {
      "text/plain": [
       "0.9574468085106383"
      ]
     },
     "execution_count": 25,
     "metadata": {},
     "output_type": "execute_result"
    }
   ],
   "source": [
    "accuracy_score(y_pred,y_test)"
   ]
  },
  {
   "cell_type": "markdown",
   "metadata": {},
   "source": [
    "### Zadanie\n",
    "\n",
    "Wypisz accuracy dla 10-ciu losowych podziałów na część teningową i testową."
   ]
  },
  {
   "cell_type": "code",
   "execution_count": 29,
   "metadata": {},
   "outputs": [
    {
     "name": "stdout",
     "output_type": "stream",
     "text": [
      "accuracy: 0.9468085106382979\n",
      "accuracy: 0.9308510638297872\n",
      "accuracy: 0.898936170212766\n",
      "accuracy: 0.9627659574468085\n",
      "accuracy: 0.9361702127659575\n",
      "accuracy: 0.9414893617021277\n",
      "accuracy: 0.9574468085106383\n",
      "accuracy: 0.9468085106382979\n",
      "accuracy: 0.9202127659574468\n",
      "accuracy: 0.9414893617021277\n"
     ]
    }
   ],
   "source": [
    "for _ in range(10):\n",
    "    X_train, X_test , y_train, y_test = train_test_split(X,y,test_size=0.33)\n",
    "    model.fit(X_train,y_train)\n",
    "    y_pred = model.predict(X_test)\n",
    "    print(f'accuracy: {accuracy_score(y_pred,y_test)}')"
   ]
  },
  {
   "cell_type": "markdown",
   "metadata": {},
   "source": [
    "### Kroswalidacja - sposób na zwiększenie dokładności oceny\n",
    "\n",
    "<img src=\"Grafika/crossvalidation.png\" width=\"600\">\n",
    "Źródło: http://ethen8181.github.io/machine-learning/model_selection/model_selection.html"
   ]
  },
  {
   "cell_type": "code",
   "execution_count": 30,
   "metadata": {},
   "outputs": [],
   "source": [
    "from sklearn.model_selection import cross_val_score"
   ]
  },
  {
   "cell_type": "code",
   "execution_count": null,
   "metadata": {},
   "outputs": [],
   "source": [
    "?cross_val_score"
   ]
  },
  {
   "cell_type": "code",
   "execution_count": 31,
   "metadata": {},
   "outputs": [],
   "source": [
    "cv_scores = cross_val_score(LogisticRegression(), X,y, cv=10)"
   ]
  },
  {
   "cell_type": "code",
   "execution_count": 32,
   "metadata": {},
   "outputs": [
    {
     "data": {
      "text/plain": [
       "array([0.92982456, 0.92982456, 0.92982456, 0.92982456, 0.94736842,\n",
       "       0.96491228, 0.92982456, 0.94736842, 0.92982456, 0.96428571])"
      ]
     },
     "execution_count": 32,
     "metadata": {},
     "output_type": "execute_result"
    }
   ],
   "source": [
    "cv_scores"
   ]
  },
  {
   "cell_type": "code",
   "execution_count": 33,
   "metadata": {},
   "outputs": [
    {
     "data": {
      "text/plain": [
       "0.9402882205513784"
      ]
     },
     "execution_count": 33,
     "metadata": {},
     "output_type": "execute_result"
    }
   ],
   "source": [
    "cv_scores.mean()"
   ]
  },
  {
   "cell_type": "markdown",
   "metadata": {},
   "source": [
    "# Regularyzacja\n",
    "\n",
    "Regularyzacja - zabezpieczenie przed przeuczeniem.\n",
    "\n",
    "\n",
    "### Reguła decyzyjna w regresji logistycznej\n",
    "\n",
    "$\n",
    "\\begin{equation}\n",
    "  \\begin{aligned}\n",
    "  \\hat{y_i} =  & 1, \\ \\ \\text{ gdy }\\frac{1}{1+e^{-\\beta x_i}} \\geq 0.5, \\\\\n",
    "  \\hat{y_i} = & 0, \\ \\ \\text{ gdy } \\frac{1}{1+e^{-\\beta x_i}} < 0.5,\n",
    "\\end{aligned}\n",
    "\\end{equation}\n",
    "$\n",
    "\n",
    "Jest ona równoważna regule:\n",
    "\n",
    "$\n",
    "\\begin{equation}\n",
    "  \\begin{aligned}\n",
    "  \\hat{y_i} =  & 1, \\ \\ \\text{ gdy } \\beta x_i \\geq 0, \\\\\n",
    "\\end{aligned}\n",
    "\\end{equation}\n",
    "$\n",
    "\n",
    "W przypadku danych o dwóch zmiennych, reguła ma postać:\n",
    "\n",
    "$\n",
    "\\begin{equation}\n",
    "  \\begin{aligned}\n",
    "  \\hat{y_i} =  & 1, \\ \\ \\text{ gdy } \\beta_0 +\\beta_1x_1 + \\beta_2x_2 \\geq 0\n",
    "\\end{aligned}\n",
    "\\end{equation}\n",
    "$\n",
    "\n",
    "czyli\n",
    "\n",
    "$\n",
    "\\begin{equation}\n",
    "  \\begin{aligned}\n",
    "  \\hat{y_i} =  & 1, \\ \\ \\text{ gdy } x_2 \\geq \\frac{-\\beta_0}{\\beta_2} - \\frac{\\beta_1}{\\beta_2}x_1\n",
    "\\end{aligned}\n",
    "\\end{equation}\n",
    "$\n",
    "\n",
    "Oznacza to, że decyzja jest podejmowana na podstawia położenia względem pewnej prostej.\n",
    "\n",
    "### Stopnie dopasowania modelu\n",
    "\n",
    "<img src=\"Grafika/regularization.jpg\" width=\"600\">\n",
    "Źródło: https://i.ytimg.com/vi/nmHNXsDPPFQ/maxresdefault.jpg\n",
    "\n",
    "\n",
    "## Regularyzacja w regresji logistycznej\n",
    "\n",
    "Regularyzacja w regresji logistycznej polega na dodaniu do celu optymalizacyjnego kary za wielkości współczynników w $\\beta$.\n",
    "\n",
    "Przypomnijmy, że w regresji logistycznej estymator wektora $\\beta$ ma postać:\n",
    "\n",
    "$$\\hat{\\beta} = arg \\max\\limits_{\\beta} \\sum\\limits_{i=1}^n h(\\pi(x_i),y_i).$$\n",
    "\n",
    "W oczywisty sposób jest to równoważne rozwiązywaniu problemu:\n",
    "\n",
    "$$\\hat{\\beta} = arg \\min\\limits_{\\beta} -\\sum\\limits_{i=1}^n h(\\pi(x_i),y_i).$$\n",
    "\n",
    "### Regresja z regularyzacją L2:\n",
    "\n",
    "$$\\hat{\\beta} = arg \\min\\limits_{\\beta} \\big( -\\sum\\limits_{i=1}^n h(\\pi(x_i),y_i) + \\lambda\\|\\beta\\|_2^2 \\big),$$\n",
    "\n",
    "$\\|\\beta\\|_2$ - norma l2 wektora $\\beta$: $\\sqrt{\\sum\\limits_{i=1}^p\\beta_i^2}$,\n",
    "\n",
    "$\\lambda$ - współczynnik regularyzacji.\n",
    "\n",
    "Skąd wziąć wartość $\\lambda$? Trzeba wyznaczyć sobie empirycznie - przetestować model  z różnymi wartościami i wybrać tę, dla której wyniki są najlepsze.\n",
    "\n",
    "**W sklearnie za regularyzację odpowiada parametr C i jest on odwrotnoscią parametru $\\lambda$, tzn. $C = \\frac{1}{\\lambda}$. Zatem im mniejsze C, tym silniejsza regularyzacja.**\n",
    "\n",
    "\n",
    "### Równie często stosowana jest norma l1: $\\sum\\limits_{i=1}^p|\\beta_i|$. \n",
    "\n",
    "#### Uwaga: Norma L1 zeruje współczynniki! \n",
    "\n",
    "\n",
    "Na marginesie: w modelach w uczeniu maszynowym pojawiają sie bardzo różne formy regularyzacji, których często nawet nie będziemy świadomi."
   ]
  },
  {
   "cell_type": "code",
   "execution_count": 34,
   "metadata": {},
   "outputs": [],
   "source": [
    "import numpy as np\n",
    "import matplotlib.pyplot as plt"
   ]
  },
  {
   "cell_type": "code",
   "execution_count": null,
   "metadata": {},
   "outputs": [],
   "source": [
    "?LogisticRegression"
   ]
  },
  {
   "cell_type": "code",
   "execution_count": 35,
   "metadata": {},
   "outputs": [],
   "source": [
    "x = np.linspace(start=-1,stop=1,num=100)\n",
    "beta = np.array([-0.5, 5])"
   ]
  },
  {
   "cell_type": "code",
   "execution_count": 36,
   "metadata": {
    "scrolled": true
   },
   "outputs": [],
   "source": [
    "prob = 1/(1+np.exp(-beta[0]-beta[1]*x))\n",
    "y = np.random.binomial(1,prob)"
   ]
  },
  {
   "cell_type": "code",
   "execution_count": 37,
   "metadata": {},
   "outputs": [
    {
     "data": {
      "image/png": "[encoded data removed]",
      "text/plain": [
       "<Figure size 432x288 with 1 Axes>"
      ]
     },
     "metadata": {
      "needs_background": "light"
     },
     "output_type": "display_data"
    }
   ],
   "source": [
    "plt.plot(x,prob)\n",
    "plt.scatter(x,y)\n",
    "plt.show()"
   ]
  },
  {
   "cell_type": "code",
   "execution_count": 48,
   "metadata": {},
   "outputs": [
    {
     "data": {
      "text/plain": [
       "array([[-1.        ,  1.        , -1.        , ..., -1.        ,\n",
       "         1.        , -1.        ],\n",
       "       [-0.97979798,  0.96000408, -0.94061006, ..., -0.70684009,\n",
       "         0.69256049, -0.67856937],\n",
       "       [-0.95959596,  0.92082441, -0.88361938, ..., -0.49602433,\n",
       "         0.47598295, -0.45675131],\n",
       "       ...,\n",
       "       [ 0.95959596,  0.92082441,  0.88361938, ...,  0.49602433,\n",
       "         0.47598295,  0.45675131],\n",
       "       [ 0.97979798,  0.96000408,  0.94061006, ...,  0.70684009,\n",
       "         0.69256049,  0.67856937],\n",
       "       [ 1.        ,  1.        ,  1.        , ...,  1.        ,\n",
       "         1.        ,  1.        ]])"
      ]
     },
     "execution_count": 48,
     "metadata": {},
     "output_type": "execute_result"
    }
   ],
   "source": [
    "# X macierz, gdzie w pierwszej kolumnie jest siatka od -1 do 1, a w kolejny są kolejne potęgi tej wartości\n",
    "\n",
    "X = np.vstack([x**p for p in range(1,20)]).T\n",
    "X"
   ]
  },
  {
   "cell_type": "markdown",
   "metadata": {},
   "source": [
    "Dopasujmy model \"bez regularyzacji\" (bardzo duże C) od x:"
   ]
  },
  {
   "cell_type": "code",
   "execution_count": 44,
   "metadata": {},
   "outputs": [
    {
     "data": {
      "text/plain": [
       "(array([-0.18885914]), array([[4.58342835]]))"
      ]
     },
     "execution_count": 44,
     "metadata": {},
     "output_type": "execute_result"
    }
   ],
   "source": [
    "model = LogisticRegression(C=10e8)\n",
    "model.fit(X[:,:1],y)\n",
    "model.intercept_, model.coef_"
   ]
  },
  {
   "cell_type": "markdown",
   "metadata": {},
   "source": [
    "Teraz z regularyzacją nadal na podstawie samego x (bez potęg):"
   ]
  },
  {
   "cell_type": "code",
   "execution_count": 52,
   "metadata": {},
   "outputs": [
    {
     "data": {
      "text/plain": [
       "(array([-0.1361186]), array([[3.08114871]]))"
      ]
     },
     "execution_count": 52,
     "metadata": {},
     "output_type": "execute_result"
    }
   ],
   "source": [
    "model = LogisticRegression()\n",
    "model.fit(X[:,:1],y)\n",
    "model.intercept_, model.coef_"
   ]
  },
  {
   "cell_type": "markdown",
   "metadata": {},
   "source": [
    "Co stało się z współczynnikami?\n",
    "\n",
    "---\n",
    "\n",
    "Zobaczmy jaki to ma sens na przypadku, gdy mamy w modelu niepotrzebne zmienne.\n",
    "\n",
    "### Zadanie\n",
    "\n",
    "Dopasuj model bez regularyzacji na wszystkich kolumnach i wypisz wartości współczynników:"
   ]
  },
  {
   "cell_type": "code",
   "execution_count": 55,
   "metadata": {},
   "outputs": [
    {
     "data": {
      "text/plain": [
       "(array([0.16410038]),\n",
       " array([[   1.12524373,  -53.39250444,   13.1656258 ,  625.24798679,\n",
       "          372.83695518, -674.6263173 ,   63.87125265, -724.81825347,\n",
       "          -87.60181888, -471.28978197,  -48.6363041 , -192.91890479,\n",
       "           83.80986732,   50.47930471,  238.83405686,  247.97948136,\n",
       "          380.438508  ,  400.14952626,  494.3948719 ]]))"
      ]
     },
     "execution_count": 55,
     "metadata": {},
     "output_type": "execute_result"
    }
   ],
   "source": [
    "model = LogisticRegression(C=10e8)\n",
    "model.fit(X,y)\n",
    "model.intercept_, model.coef_"
   ]
  },
  {
   "cell_type": "markdown",
   "metadata": {},
   "source": [
    "Co obserwujesz?\n",
    "\n",
    "---\n",
    "\n",
    "Do poprzedniego wykresu dorysuj wykres prawpdopodobieństwa dla tego modelu:"
   ]
  },
  {
   "cell_type": "code",
   "execution_count": 56,
   "metadata": {},
   "outputs": [
    {
     "data": {
      "image/png": "[encoded data removed]",
      "text/plain": [
       "<Figure size 432x288 with 1 Axes>"
      ]
     },
     "metadata": {
      "needs_background": "light"
     },
     "output_type": "display_data"
    }
   ],
   "source": [
    "plt.plot(x,prob)\n",
    "plt.scatter(x,y)\n",
    "\n",
    "plt.plot(x, model.predict_proba(X)[:,1])\n",
    "\n",
    "plt.show()"
   ]
  },
  {
   "cell_type": "markdown",
   "metadata": {},
   "source": [
    "Powtórz powyższy punkt z modelem z regularyzacją:"
   ]
  },
  {
   "cell_type": "code",
   "execution_count": 57,
   "metadata": {},
   "outputs": [
    {
     "data": {
      "image/png": "[encoded data removed]",
      "text/plain": [
       "<Figure size 432x288 with 1 Axes>"
      ]
     },
     "metadata": {
      "needs_background": "light"
     },
     "output_type": "display_data"
    }
   ],
   "source": [
    "model = LogisticRegression()\n",
    "model.fit(X,y)\n",
    "model.intercept_, model.coef_\n",
    "\n",
    "plt.plot(x,prob)\n",
    "plt.scatter(x,y)\n",
    "\n",
    "plt.plot(x, model.predict_proba(X)[:,1])\n",
    "\n",
    "plt.show()"
   ]
  },
  {
   "cell_type": "markdown",
   "metadata": {},
   "source": [
    "### Zadanie: \n",
    "\n",
    "Narysować wykresy krzywych prawdopodobieństwa w zależności od C dla wartości $0.001, 0.01, 0.1, 1, 10, 100$."
   ]
  },
  {
   "cell_type": "code",
   "execution_count": 60,
   "metadata": {
    "scrolled": false
   },
   "outputs": [
    {
     "data": {
      "image/png": "[encoded data removed]",
      "text/plain": [
       "<Figure size 432x288 with 1 Axes>"
      ]
     },
     "metadata": {
      "needs_background": "light"
     },
     "output_type": "display_data"
    }
   ],
   "source": [
    "for c in [0.001, 0.01, 0.1, 1, 10, 100]:\n",
    "    model = LogisticRegression(C=c)\n",
    "    model.fit(X,y)\n",
    "    plt.plot(x, model.predict_proba(X)[:,1], label=str(c))\n",
    "    \n",
    "plt.plot(x, prob, c='black')\n",
    "plt.scatter(x,y)\n",
    "plt.legend()\n",
    "plt.show()"
   ]
  },
  {
   "cell_type": "markdown",
   "metadata": {},
   "source": [
    "### Jak stwierdzić czy model jest dobrze dopasowany? Czy nie za słabo, ani za mocno?\n",
    "\n",
    "1. Gdy na zbiorze testowym niski procent poprawnych predykcji (np. 60%), a na treningowym model bardzo dobrze dopasowany (np. 90%) -> model przeuczony\n",
    "\n",
    "2. Gdy na zbiorze treningowym model bardzo nisko dopasowany (np. rzędu pięćdziesiąt kilka procent) -> model słabo dopasowany.\n",
    "\n",
    "Co to jest niskie dopasowanie? -> zależy od danych...\n",
    "\n",
    "Co to jest duża różnica? -> zależy od danych... (i ich wielkości - istotność statystyczna!). Realnie, wyniki na testowym powinny być trochę niższe od dopasowania na treningowym (idealnie, gdy są takie same, ale to się nigdy nie zdarza). Klasyfikator w oczywisty sposób nie może działać lepiej niż dopasowanie na zbiorze treningowym - bo dopasowanie pokazuje jak dużo zależności wykrył w danych, na podstawie których będzie klasyfikował. Zatem jeżeli mamy dopasowanie na zbiorze treningowym np. 90%, to maksymalna moc predykcyjna jakiej możemy oczekiwać to 90%."
   ]
  },
  {
   "cell_type": "markdown",
   "metadata": {},
   "source": [
    "## Przygotowanie danych\n",
    "\n",
    "Czy wartości zmiennych mają wpływ na wynik modelu?\n",
    "\n",
    "Wyobraźmy sobie dwie zmienne, gdzie jedna ma wielkości rzędu 1, a druga rzędu 100, a rzeczywisty współczynnik przy pierwszej wynosi 1, a przy drugiej 0.01.\n",
    "\n",
    "Jak konsekwencje będzie miało zastosowanie regularyzacji?"
   ]
  },
  {
   "cell_type": "code",
   "execution_count": 61,
   "metadata": {},
   "outputs": [],
   "source": [
    "X_train, X_test , y_train, y_test = train_test_split(X,y,test_size=0.33)"
   ]
  },
  {
   "cell_type": "code",
   "execution_count": 62,
   "metadata": {},
   "outputs": [],
   "source": [
    "from sklearn.preprocessing import StandardScaler"
   ]
  },
  {
   "cell_type": "code",
   "execution_count": 63,
   "metadata": {},
   "outputs": [
    {
     "data": {
      "text/plain": [
       "StandardScaler(copy=True, with_mean=True, with_std=True)"
      ]
     },
     "execution_count": 63,
     "metadata": {},
     "output_type": "execute_result"
    }
   ],
   "source": [
    "sc = StandardScaler()\n",
    "sc.fit(X_train)"
   ]
  },
  {
   "cell_type": "code",
   "execution_count": 64,
   "metadata": {},
   "outputs": [],
   "source": [
    "X_tr = sc.transform(X_train)\n",
    "X_te = sc.transform(X_test)"
   ]
  },
  {
   "cell_type": "markdown",
   "metadata": {},
   "source": [
    "## Pipeline\n",
    "\n",
    "W powyższym przykładzie widzimy, że budowanie modelu składa się w rzeczywistości w dwóch kroków - transformacja zmiennych, a potem dopasowanie modelu. To są tzw. pipeline'y."
   ]
  },
  {
   "cell_type": "code",
   "execution_count": 65,
   "metadata": {},
   "outputs": [],
   "source": [
    "from sklearn.pipeline import Pipeline"
   ]
  },
  {
   "cell_type": "code",
   "execution_count": 66,
   "metadata": {},
   "outputs": [],
   "source": [
    "pipe = Pipeline([(\"scaler\", StandardScaler()),\n",
    "                 (\"model\", LogisticRegression())])"
   ]
  },
  {
   "cell_type": "code",
   "execution_count": 67,
   "metadata": {},
   "outputs": [
    {
     "data": {
      "text/plain": [
       "Pipeline(memory=None,\n",
       "         steps=[('scaler',\n",
       "                 StandardScaler(copy=True, with_mean=True, with_std=True)),\n",
       "                ('model',\n",
       "                 LogisticRegression(C=1.0, class_weight=None, dual=False,\n",
       "                                    fit_intercept=True, intercept_scaling=1,\n",
       "                                    l1_ratio=None, max_iter=100,\n",
       "                                    multi_class='auto', n_jobs=None,\n",
       "                                    penalty='l2', random_state=None,\n",
       "                                    solver='lbfgs', tol=0.0001, verbose=0,\n",
       "                                    warm_start=False))],\n",
       "         verbose=False)"
      ]
     },
     "execution_count": 67,
     "metadata": {},
     "output_type": "execute_result"
    }
   ],
   "source": [
    "pipe.fit(X_train,y_train)"
   ]
  },
  {
   "cell_type": "code",
   "execution_count": 68,
   "metadata": {},
   "outputs": [
    {
     "data": {
      "text/plain": [
       "array([1, 0, 1, 0, 1, 0, 0, 0, 0, 0, 1, 1, 1, 1, 1, 1, 0, 0, 1, 0, 1, 0,\n",
       "       1, 0, 1, 1, 1, 1, 0, 1, 1, 0, 0])"
      ]
     },
     "execution_count": 68,
     "metadata": {},
     "output_type": "execute_result"
    }
   ],
   "source": [
    "pipe.predict(X_test)"
   ]
  },
  {
   "cell_type": "code",
   "execution_count": 69,
   "metadata": {},
   "outputs": [
    {
     "data": {
      "text/plain": [
       "0.8181818181818182"
      ]
     },
     "execution_count": 69,
     "metadata": {},
     "output_type": "execute_result"
    }
   ],
   "source": [
    "accuracy_score(y_test, pipe.predict(X_test))"
   ]
  },
  {
   "cell_type": "markdown",
   "metadata": {},
   "source": [
    "Accuracy tego pipeline'a obliczone kroswalidacyjnie:"
   ]
  },
  {
   "cell_type": "code",
   "execution_count": 70,
   "metadata": {},
   "outputs": [
    {
     "data": {
      "text/plain": [
       "0.79"
      ]
     },
     "execution_count": 70,
     "metadata": {},
     "output_type": "execute_result"
    }
   ],
   "source": [
    "cross_val_score(pipe, X,y, cv=10).mean()"
   ]
  },
  {
   "cell_type": "markdown",
   "metadata": {},
   "source": [
    "# Optymalizacja parametrów\n",
    "\n",
    "GridSearch"
   ]
  },
  {
   "cell_type": "code",
   "execution_count": 71,
   "metadata": {},
   "outputs": [],
   "source": [
    "from sklearn.model_selection import GridSearchCV"
   ]
  },
  {
   "cell_type": "code",
   "execution_count": 72,
   "metadata": {},
   "outputs": [],
   "source": [
    "param_grid = {\"penalty\":[\"l1\",\"l2\"],\n",
    "              \"C\":[1000,100,10,1,0.1,0.01]}\n",
    "\n",
    "gs = GridSearchCV(LogisticRegression(), param_grid, cv = 5, n_jobs=-1)"
   ]
  },
  {
   "cell_type": "code",
   "execution_count": 73,
   "metadata": {},
   "outputs": [
    {
     "data": {
      "text/plain": [
       "GridSearchCV(cv=5, error_score=nan,\n",
       "             estimator=LogisticRegression(C=1.0, class_weight=None, dual=False,\n",
       "                                          fit_intercept=True,\n",
       "                                          intercept_scaling=1, l1_ratio=None,\n",
       "                                          max_iter=100, multi_class='auto',\n",
       "                                          n_jobs=None, penalty='l2',\n",
       "                                          random_state=None, solver='lbfgs',\n",
       "                                          tol=0.0001, verbose=0,\n",
       "                                          warm_start=False),\n",
       "             iid='deprecated', n_jobs=-1,\n",
       "             param_grid={'C': [1000, 100, 10, 1, 0.1, 0.01],\n",
       "                         'penalty': ['l1', 'l2']},\n",
       "             pre_dispatch='2*n_jobs', refit=True, return_train_score=False,\n",
       "             scoring=None, verbose=0)"
      ]
     },
     "execution_count": 73,
     "metadata": {},
     "output_type": "execute_result"
    }
   ],
   "source": [
    "gs.fit(X_train, y_train)"
   ]
  },
  {
   "cell_type": "code",
   "execution_count": 74,
   "metadata": {},
   "outputs": [
    {
     "data": {
      "text/plain": [
       "{'mean_fit_time': array([8.62598419e-05, 1.75650120e-02, 8.47339630e-05, 1.16497040e-02,\n",
       "        5.50270081e-05, 1.34493351e-02, 4.94480133e-05, 3.97257805e-03,\n",
       "        5.75542450e-05, 4.01840210e-03, 4.94003296e-05, 2.59928703e-03]),\n",
       " 'std_fit_time': array([3.84214777e-05, 5.13409779e-03, 2.83321536e-05, 2.20547575e-03,\n",
       "        7.98812545e-06, 5.69432346e-03, 5.66333212e-06, 1.16903002e-03,\n",
       "        2.02886226e-05, 1.22145559e-03, 8.18078038e-06, 3.14071081e-04]),\n",
       " 'mean_score_time': array([0.        , 0.00048571, 0.        , 0.00036645, 0.        ,\n",
       "        0.00035448, 0.        , 0.00047255, 0.        , 0.00044241,\n",
       "        0.        , 0.00030169]),\n",
       " 'std_score_time': array([0.00000000e+00, 9.10986627e-05, 0.00000000e+00, 4.95857915e-05,\n",
       "        0.00000000e+00, 7.67121773e-05, 0.00000000e+00, 2.56806893e-04,\n",
       "        0.00000000e+00, 2.29020752e-04, 0.00000000e+00, 1.11171595e-05]),\n",
       " 'param_C': masked_array(data=[1000, 1000, 100, 100, 10, 10, 1, 1, 0.1, 0.1, 0.01,\n",
       "                    0.01],\n",
       "              mask=[False, False, False, False, False, False, False, False,\n",
       "                    False, False, False, False],\n",
       "        fill_value='?',\n",
       "             dtype=object),\n",
       " 'param_penalty': masked_array(data=['l1', 'l2', 'l1', 'l2', 'l1', 'l2', 'l1', 'l2', 'l1',\n",
       "                    'l2', 'l1', 'l2'],\n",
       "              mask=[False, False, False, False, False, False, False, False,\n",
       "                    False, False, False, False],\n",
       "        fill_value='?',\n",
       "             dtype=object),\n",
       " 'params': [{'C': 1000, 'penalty': 'l1'},\n",
       "  {'C': 1000, 'penalty': 'l2'},\n",
       "  {'C': 100, 'penalty': 'l1'},\n",
       "  {'C': 100, 'penalty': 'l2'},\n",
       "  {'C': 10, 'penalty': 'l1'},\n",
       "  {'C': 10, 'penalty': 'l2'},\n",
       "  {'C': 1, 'penalty': 'l1'},\n",
       "  {'C': 1, 'penalty': 'l2'},\n",
       "  {'C': 0.1, 'penalty': 'l1'},\n",
       "  {'C': 0.1, 'penalty': 'l2'},\n",
       "  {'C': 0.01, 'penalty': 'l1'},\n",
       "  {'C': 0.01, 'penalty': 'l2'}],\n",
       " 'split0_test_score': array([       nan, 0.78571429,        nan, 0.78571429,        nan,\n",
       "        0.71428571,        nan, 0.71428571,        nan, 0.78571429,\n",
       "               nan, 0.57142857]),\n",
       " 'split1_test_score': array([       nan, 0.92857143,        nan, 0.92857143,        nan,\n",
       "        0.92857143,        nan, 0.92857143,        nan, 0.92857143,\n",
       "               nan, 0.78571429]),\n",
       " 'split2_test_score': array([       nan, 0.76923077,        nan, 0.76923077,        nan,\n",
       "        0.76923077,        nan, 0.76923077,        nan, 0.76923077,\n",
       "               nan, 0.76923077]),\n",
       " 'split3_test_score': array([       nan, 0.84615385,        nan, 0.92307692,        nan,\n",
       "        0.84615385,        nan, 0.84615385,        nan, 0.92307692,\n",
       "               nan, 0.84615385]),\n",
       " 'split4_test_score': array([       nan, 0.92307692,        nan, 0.92307692,        nan,\n",
       "        0.92307692,        nan, 0.92307692,        nan, 0.92307692,\n",
       "               nan, 0.92307692]),\n",
       " 'mean_test_score': array([       nan, 0.85054945,        nan, 0.86593407,        nan,\n",
       "        0.83626374,        nan, 0.83626374,        nan, 0.86593407,\n",
       "               nan, 0.77912088]),\n",
       " 'std_test_score': array([       nan, 0.06660827,        nan, 0.07244417,        nan,\n",
       "        0.08429367,        nan, 0.08429367,        nan, 0.07244417,\n",
       "               nan, 0.117042  ]),\n",
       " 'rank_test_score': array([ 7,  3,  8,  1,  9,  4, 10,  4, 11,  1, 12,  6], dtype=int32)}"
      ]
     },
     "execution_count": 74,
     "metadata": {},
     "output_type": "execute_result"
    }
   ],
   "source": [
    "gs.cv_results_"
   ]
  },
  {
   "cell_type": "code",
   "execution_count": 75,
   "metadata": {},
   "outputs": [
    {
     "data": {
      "text/plain": [
       "array([       nan, 0.85054945,        nan, 0.86593407,        nan,\n",
       "       0.83626374,        nan, 0.83626374,        nan, 0.86593407,\n",
       "              nan, 0.77912088])"
      ]
     },
     "execution_count": 75,
     "metadata": {},
     "output_type": "execute_result"
    }
   ],
   "source": [
    "gs.cv_results_['mean_test_score']"
   ]
  },
  {
   "cell_type": "code",
   "execution_count": 76,
   "metadata": {},
   "outputs": [
    {
     "data": {
      "text/plain": [
       "{'C': 100, 'penalty': 'l2'}"
      ]
     },
     "execution_count": 76,
     "metadata": {},
     "output_type": "execute_result"
    }
   ],
   "source": [
    "gs.best_params_\n",
    "\n",
    "# Uwaga: zwraca tylko parametey, które optymalizowaliśmy, a nie wszystkie parametry modeleu"
   ]
  },
  {
   "cell_type": "code",
   "execution_count": 77,
   "metadata": {},
   "outputs": [
    {
     "data": {
      "text/plain": [
       "LogisticRegression(C=100, class_weight=None, dual=False, fit_intercept=True,\n",
       "                   intercept_scaling=1, l1_ratio=None, max_iter=100,\n",
       "                   multi_class='auto', n_jobs=None, penalty='l2',\n",
       "                   random_state=None, solver='lbfgs', tol=0.0001, verbose=0,\n",
       "                   warm_start=False)"
      ]
     },
     "execution_count": 77,
     "metadata": {},
     "output_type": "execute_result"
    }
   ],
   "source": [
    "gs.best_estimator_"
   ]
  },
  {
   "cell_type": "code",
   "execution_count": 78,
   "metadata": {},
   "outputs": [
    {
     "data": {
      "text/plain": [
       "0.8181818181818182"
      ]
     },
     "execution_count": 78,
     "metadata": {},
     "output_type": "execute_result"
    }
   ],
   "source": [
    "accuracy_score(y_test, gs.best_estimator_.predict(X_test))"
   ]
  },
  {
   "cell_type": "code",
   "execution_count": 79,
   "metadata": {},
   "outputs": [
    {
     "data": {
      "text/plain": [
       "0.8181818181818182"
      ]
     },
     "execution_count": 79,
     "metadata": {},
     "output_type": "execute_result"
    }
   ],
   "source": [
    "accuracy_score(y_test, gs.predict(X_test))"
   ]
  },
  {
   "cell_type": "markdown",
   "metadata": {},
   "source": [
    "### Wersja z pipelinem:"
   ]
  },
  {
   "cell_type": "code",
   "execution_count": null,
   "metadata": {},
   "outputs": [],
   "source": [
    "pipe = Pipeline([(\"scaler\", StandardScaler()),\n",
    "                 (\"model\", LogisticRegression())])\n",
    "\n",
    "param_grid = {\"scaler__with_std\": [True, False],\n",
    "              \"model__penalty\": [\"l1\",\"l2\"],\n",
    "              \"model__C\": [1000, 100, 10, 1, 0.1, 0.01]}\n",
    "\n",
    "gs = GridSearchCV(pipe, param_grid, cv = 10, n_jobs=-1)\n",
    "\n",
    "gs.fit(X_train, y_train)"
   ]
  },
  {
   "cell_type": "markdown",
   "metadata": {},
   "source": [
    "Czyli do nazwy parametrów doklejamy na początku nazwę kroku, do którego przekazujemy parametry."
   ]
  },
  {
   "cell_type": "code",
   "execution_count": null,
   "metadata": {},
   "outputs": [],
   "source": [
    "accuracy_score(y_test, gs.best_estimator_.predict(X_test))"
   ]
  },
  {
   "cell_type": "markdown",
   "metadata": {},
   "source": [
    "### Zadanie.\n",
    "\n",
    "Stwórz pipeline ze zmiennymi wielomianowymi (sklearn.preprocessing -> PolynomialFeatures), zoptymalizuj go. Podaj najlepsze parametry i oceń najlepszy wariant."
   ]
  },
  {
   "cell_type": "code",
   "execution_count": 80,
   "metadata": {},
   "outputs": [
    {
     "data": {
      "text/plain": [
       "GridSearchCV(cv=10, error_score=nan,\n",
       "             estimator=Pipeline(memory=None,\n",
       "                                steps=[('poly',\n",
       "                                        PolynomialFeatures(degree=2,\n",
       "                                                           include_bias=True,\n",
       "                                                           interaction_only=False,\n",
       "                                                           order='C')),\n",
       "                                       ('scaler',\n",
       "                                        StandardScaler(copy=True,\n",
       "                                                       with_mean=True,\n",
       "                                                       with_std=True)),\n",
       "                                       ('model',\n",
       "                                        LogisticRegression(C=1.0,\n",
       "                                                           class_weight=None,\n",
       "                                                           dual=False,\n",
       "                                                           fit_intercept=True,\n",
       "                                                           intercept_scaling=1,\n",
       "                                                           l1_ratio=None,\n",
       "                                                           max_it...\n",
       "                                                           n_jobs=None,\n",
       "                                                           penalty='l2',\n",
       "                                                           random_state=None,\n",
       "                                                           solver='lbfgs',\n",
       "                                                           tol=0.0001,\n",
       "                                                           verbose=0,\n",
       "                                                           warm_start=False))],\n",
       "                                verbose=False),\n",
       "             iid='deprecated', n_jobs=-1,\n",
       "             param_grid={'model__C': [1000, 100, 10, 1, 0.1, 0.01],\n",
       "                         'model__penalty': ['l1', 'l2'], 'poly__degree': [1, 2],\n",
       "                         'scaler__with_std': [True, False]},\n",
       "             pre_dispatch='2*n_jobs', refit=True, return_train_score=False,\n",
       "             scoring=None, verbose=0)"
      ]
     },
     "execution_count": 80,
     "metadata": {},
     "output_type": "execute_result"
    }
   ],
   "source": [
    "from sklearn.preprocessing import PolynomialFeatures\n",
    "\n",
    "pipe = Pipeline([(\"poly\", PolynomialFeatures()),\n",
    "                 (\"scaler\", StandardScaler()),\n",
    "                 (\"model\", LogisticRegression())])\n",
    "\n",
    "param_grid = {\"poly__degree\":[1,2],\n",
    "              \"scaler__with_std\": [True, False],\n",
    "              \"model__penalty\": [\"l1\",\"l2\"],\n",
    "              \"model__C\": [1000, 100, 10, 1, 0.1, 0.01]}\n",
    "\n",
    "gs = GridSearchCV(pipe, param_grid, cv = 10, n_jobs=-1)\n",
    "\n",
    "gs.fit(X_train, y_train)"
   ]
  },
  {
   "cell_type": "code",
   "execution_count": 81,
   "metadata": {},
   "outputs": [
    {
     "data": {
      "text/plain": [
       "{'model__C': 10,\n",
       " 'model__penalty': 'l2',\n",
       " 'poly__degree': 2,\n",
       " 'scaler__with_std': False}"
      ]
     },
     "execution_count": 81,
     "metadata": {},
     "output_type": "execute_result"
    }
   ],
   "source": [
    "gs.best_params_"
   ]
  },
  {
   "cell_type": "code",
   "execution_count": 82,
   "metadata": {},
   "outputs": [
    {
     "data": {
      "text/plain": [
       "0.8181818181818182"
      ]
     },
     "execution_count": 82,
     "metadata": {},
     "output_type": "execute_result"
    }
   ],
   "source": [
    "accuracy_score(y_test, gs.predict(X_test))"
   ]
  },
  {
   "cell_type": "code",
   "execution_count": 91,
   "metadata": {},
   "outputs": [
    {
     "data": {
      "text/plain": [
       "Pipeline(memory=None,\n",
       "         steps=[('scaler',\n",
       "                 StandardScaler(copy=True, with_mean=True, with_std=True)),\n",
       "                ('model',\n",
       "                 DecisionTreeClassifier(ccp_alpha=0.0, class_weight=None,\n",
       "                                        criterion='gini', max_depth=None,\n",
       "                                        max_features=None, max_leaf_nodes=None,\n",
       "                                        min_impurity_decrease=0.0,\n",
       "                                        min_impurity_split=None,\n",
       "                                        min_samples_leaf=1, min_samples_split=2,\n",
       "                                        min_weight_fraction_leaf=0.0,\n",
       "                                        presort='deprecated', random_state=None,\n",
       "                                        splitter='best'))],\n",
       "         verbose=False)"
      ]
     },
     "execution_count": 91,
     "metadata": {},
     "output_type": "execute_result"
    }
   ],
   "source": [
    "pipe.fit(X_train,y_train)"
   ]
  },
  {
   "cell_type": "code",
   "execution_count": null,
   "metadata": {},
   "outputs": [],
   "source": [
    "pipe.predict(X)"
   ]
  },
  {
   "cell_type": "markdown",
   "metadata": {},
   "source": [
    "# Drzewo decyzyjne\n",
    "\n",
    "Załóżmy, że mamy dwie zmienne $X[0], X[1]$ i problem klasyfikacji binarnej ($Y \\in \\{0,1\\}$).\n",
    "\n",
    "\n",
    "<img src=\"Grafika/decision_tree.png\"style=\"width: 600px;\">\n",
    "\n",
    "\n",
    "## Jak rośnie drzewno?\n",
    "\n",
    "Drzewo rośnie od korzenia - tzn. budujemy model od góry. Będąc w aktualnym węźle szukamy najlepszego podziału - rozpatrujemy wszystkie zmienne ze wszystkimi możliwymi podziałami i tworzymy rozgałęzienie według najlepszej opcji.\n",
    "\n",
    "Co to znaczy najlpszy podział? \n",
    "<br>\n",
    "\n",
    "Rozważmy klasyfikację binarną.\n",
    "\n",
    "<br>\n",
    "\n",
    "<br>\n",
    "\n",
    "Opcja nr 1: Gini impurity (Miara Gini'ego niespójności węzła):\n",
    "- wybieramy podział, który minimalizuje ważoną miarę Giniego $g(p) = 2p(1-p)$:\n",
    "\n",
    "$$\\frac{n_1}{N}g(p_1) + \\frac{n_2}{N}g(p_2),$$\n",
    "\n",
    "gdzie $n_1, n_2$ liczności w pierwszym i drugim dziecku, $N = n_1 + n_2$, $p_1, p_2$ - procent obserwacji, dla których $Y=1$ w dzieciach 1 i 2.\n",
    "\n",
    "<img src=\"Grafika/gini_entropy.png\"style=\"width: 400px;\">\n",
    "\n",
    "<br>\n",
    "\n",
    "Opcja nr 2: Entropia.\n",
    "- wybieramy podział, który daje najmniejszą wartość ważonej entropii $h(p) = -p\\log{(p)} - (1-p)\\log{(1-p)}$:\n",
    "\n",
    "$$\\frac{n_1}{N} h(p_1) + \\frac{n_2}{N}h(p_2),$$\n",
    "\n",
    "gdzie $p_1, p_2$ - procent obserwacji, dla których $Y=1$ w dzieciach 1 i 2.\n",
    "\n",
    "## Do kiedy tworzymy nowe podziały? \n",
    "\n",
    "Możliwe są różne warunki stopu. Najpopularniejsze to:\n",
    "\n",
    "- maksymalna głębokość drzewa,\n",
    "- minimalna liczba obserwacji w liściu.\n",
    "\n",
    "Często stosowane w połączeniu."
   ]
  },
  {
   "cell_type": "code",
   "execution_count": 83,
   "metadata": {},
   "outputs": [],
   "source": [
    "from sklearn.tree import DecisionTreeClassifier"
   ]
  },
  {
   "cell_type": "code",
   "execution_count": 84,
   "metadata": {},
   "outputs": [],
   "source": [
    "?DecisionTreeClassifier"
   ]
  },
  {
   "cell_type": "markdown",
   "metadata": {},
   "source": [
    "Zwróćmy uwagę, że są tu dostępne również inne warunki stopu niż wyżej wymienione."
   ]
  },
  {
   "cell_type": "markdown",
   "metadata": {
    "collapsed": true
   },
   "source": [
    "#### Zadanie \n",
    "\n",
    "Wczytaj zbiór `zbiór1.txt` (funkcja loadtxt w numpy) i podziel go na część uczącą (200 obserwacji) i testową (100). Dopasuj model regresji logistycznej na zbiorze uczącym i oblicz accuracy na zbiorze testowym. Następnie oblicz procent poprawnych dopasowań na zbiorze treningowym.\n",
    "\n",
    "Spróbuj zauwazyć jakieś zalezności między zmiennymi na podstawie analizy graficznej, np. narysując histogramy wartości cech w pozbiorach wyznaczonych przez wartość $Y$.\n",
    "\n",
    "Następnie zbuduje drzewo klasyfikacyjne i policz dla niego accuracy."
   ]
  },
  {
   "cell_type": "code",
   "execution_count": 85,
   "metadata": {},
   "outputs": [],
   "source": [
    "import numpy as np"
   ]
  },
  {
   "cell_type": "code",
   "execution_count": 86,
   "metadata": {},
   "outputs": [],
   "source": [
    "dane = np.loadtxt(\"Dane/zbior1.txt\")"
   ]
  },
  {
   "cell_type": "code",
   "execution_count": 87,
   "metadata": {},
   "outputs": [],
   "source": [
    "X = dane[:,:2]\n",
    "y = dane[:,2]"
   ]
  },
  {
   "cell_type": "code",
   "execution_count": 88,
   "metadata": {},
   "outputs": [
    {
     "data": {
      "text/plain": [
       "(300, 2)"
      ]
     },
     "execution_count": 88,
     "metadata": {},
     "output_type": "execute_result"
    }
   ],
   "source": [
    "X.shape"
   ]
  },
  {
   "cell_type": "code",
   "execution_count": 104,
   "metadata": {},
   "outputs": [],
   "source": [
    "pipe = Pipeline([(\"scaler\", StandardScaler()),\n",
    "                 (\"model\", DecisionTreeClassifier())])"
   ]
  },
  {
   "cell_type": "code",
   "execution_count": 105,
   "metadata": {},
   "outputs": [],
   "source": [
    "X_train, X_test , y_train, y_test = train_test_split(X,y,test_size=0.33)"
   ]
  },
  {
   "cell_type": "code",
   "execution_count": 106,
   "metadata": {},
   "outputs": [
    {
     "data": {
      "text/plain": [
       "Pipeline(memory=None,\n",
       "         steps=[('scaler',\n",
       "                 StandardScaler(copy=True, with_mean=True, with_std=True)),\n",
       "                ('model',\n",
       "                 DecisionTreeClassifier(ccp_alpha=0.0, class_weight=None,\n",
       "                                        criterion='gini', max_depth=None,\n",
       "                                        max_features=None, max_leaf_nodes=None,\n",
       "                                        min_impurity_decrease=0.0,\n",
       "                                        min_impurity_split=None,\n",
       "                                        min_samples_leaf=1, min_samples_split=2,\n",
       "                                        min_weight_fraction_leaf=0.0,\n",
       "                                        presort='deprecated', random_state=None,\n",
       "                                        splitter='best'))],\n",
       "         verbose=False)"
      ]
     },
     "execution_count": 106,
     "metadata": {},
     "output_type": "execute_result"
    }
   ],
   "source": [
    "pipe.fit(X_train, y_train)"
   ]
  },
  {
   "cell_type": "code",
   "execution_count": 107,
   "metadata": {},
   "outputs": [
    {
     "data": {
      "text/plain": [
       "array([0., 0., 1., 0., 0., 0., 1., 0., 1., 1., 0., 0., 0., 1., 0., 0., 1.,\n",
       "       0., 1., 1., 1., 1., 1., 1., 1., 0., 0., 1., 0., 1., 0., 0., 1., 1.,\n",
       "       1., 0., 0., 1., 1., 0., 1., 0., 1., 0., 0., 0., 1., 0., 0., 1., 0.,\n",
       "       1., 0., 0., 0., 1., 1., 1., 1., 0., 0., 1., 0., 1., 0., 1., 0., 1.,\n",
       "       1., 1., 0., 1., 0., 0., 0., 1., 1., 0., 1., 0., 0., 1., 0., 1., 0.,\n",
       "       0., 0., 0., 0., 1., 1., 1., 0., 1., 1., 0., 1., 1., 1.])"
      ]
     },
     "execution_count": 107,
     "metadata": {},
     "output_type": "execute_result"
    }
   ],
   "source": [
    "pipe.predict(X_test)"
   ]
  },
  {
   "cell_type": "code",
   "execution_count": 108,
   "metadata": {},
   "outputs": [
    {
     "data": {
      "text/plain": [
       "1.0"
      ]
     },
     "execution_count": 108,
     "metadata": {},
     "output_type": "execute_result"
    }
   ],
   "source": [
    "accuracy_score(y_test, pipe.predict(X_test))"
   ]
  },
  {
   "cell_type": "code",
   "execution_count": 109,
   "metadata": {},
   "outputs": [
    {
     "data": {
      "text/plain": [
       "0.9866666666666667"
      ]
     },
     "execution_count": 109,
     "metadata": {},
     "output_type": "execute_result"
    }
   ],
   "source": [
    "cross_val_score(pipe, X,y, cv=10).mean()"
   ]
  },
  {
   "cell_type": "markdown",
   "metadata": {},
   "source": [
    "### Bardzo ważna sprawa: wnioskowanie o zależności zmiennych na podstawie analizy jednowymiarowej nie nie ma większego sensu!\n",
    "\n",
    "- jeśli nie widać zależności, to nie znaczy, że jej nie ma,\n",
    "- jeżeli widać zależność, to wcale nie musi oznaczać zależności przyczynowo-skutkowej (dana cecha może być skorelowana z inną cechą, która faktycznie wpływa na y).\n",
    "- zjawisko fałszywej korelacji - statystycznie rzecz biorąc, regularnie zdarzają się sytuacje, kiedy zmienne wyglądają na zależne, a tak naprawdę nie są...\n",
    "\n",
    "Naturalnie analiza wielowymiarowa też może nie wykryć zależności... Ale uczenie maszynowe polega właśnie na szukaniu tych zależności."
   ]
  },
  {
   "cell_type": "markdown",
   "metadata": {},
   "source": [
    "### Zadanie\n",
    "\n",
    "Przetestuj drzewo na danych breast_cancer. Uwzględnij optymalizację minimalnej liczby obserwacji w liściach."
   ]
  },
  {
   "cell_type": "code",
   "execution_count": 111,
   "metadata": {},
   "outputs": [],
   "source": [
    "data = load_breast_cancer()"
   ]
  },
  {
   "cell_type": "code",
   "execution_count": 112,
   "metadata": {},
   "outputs": [],
   "source": [
    "X, y = data.data, data.target"
   ]
  },
  {
   "cell_type": "code",
   "execution_count": 136,
   "metadata": {},
   "outputs": [],
   "source": [
    "pipe = Pipeline([(\"scaler\", StandardScaler()),\n",
    "                 (\"model\", DecisionTreeClassifier(min_samples_leaf=5))])"
   ]
  },
  {
   "cell_type": "code",
   "execution_count": 137,
   "metadata": {},
   "outputs": [],
   "source": [
    "X_train, X_test , y_train, y_test = train_test_split(X,y,test_size=0.33)"
   ]
  },
  {
   "cell_type": "code",
   "execution_count": 138,
   "metadata": {},
   "outputs": [
    {
     "data": {
      "text/plain": [
       "Pipeline(memory=None,\n",
       "         steps=[('scaler',\n",
       "                 StandardScaler(copy=True, with_mean=True, with_std=True)),\n",
       "                ('model',\n",
       "                 DecisionTreeClassifier(ccp_alpha=0.0, class_weight=None,\n",
       "                                        criterion='gini', max_depth=None,\n",
       "                                        max_features=None, max_leaf_nodes=None,\n",
       "                                        min_impurity_decrease=0.0,\n",
       "                                        min_impurity_split=None,\n",
       "                                        min_samples_leaf=5, min_samples_split=2,\n",
       "                                        min_weight_fraction_leaf=0.0,\n",
       "                                        presort='deprecated', random_state=None,\n",
       "                                        splitter='best'))],\n",
       "         verbose=False)"
      ]
     },
     "execution_count": 138,
     "metadata": {},
     "output_type": "execute_result"
    }
   ],
   "source": [
    "pipe.fit(X_train, y_train)"
   ]
  },
  {
   "cell_type": "code",
   "execution_count": 139,
   "metadata": {},
   "outputs": [
    {
     "data": {
      "text/plain": [
       "0.9414893617021277"
      ]
     },
     "execution_count": 139,
     "metadata": {},
     "output_type": "execute_result"
    }
   ],
   "source": [
    "accuracy_score(y_test, pipe.predict(X_test))"
   ]
  },
  {
   "cell_type": "code",
   "execution_count": 135,
   "metadata": {},
   "outputs": [
    {
     "data": {
      "text/plain": [
       "0.9333333333333332"
      ]
     },
     "execution_count": 135,
     "metadata": {},
     "output_type": "execute_result"
    }
   ],
   "source": [
    "cross_val_score(pipe, X,y, cv=10).mean()"
   ]
  },
  {
   "cell_type": "markdown",
   "metadata": {},
   "source": [
    "---\n",
    "\n",
    "Drzewo można sobie narysować (zapis do pliku):"
   ]
  },
  {
   "cell_type": "code",
   "execution_count": null,
   "metadata": {},
   "outputs": [],
   "source": [
    "?plot_tree"
   ]
  },
  {
   "cell_type": "code",
   "execution_count": null,
   "metadata": {},
   "outputs": [],
   "source": [
    "from sklearn.tree import plot_tree\n",
    "plt.figure(figsize=(10,10))\n",
    "plot_tree(model)\n",
    "plt.show()\n",
    "# zapis do pliku:\n",
    "#import sklearn\n",
    "#sklearn.tree.export_graphviz(model,out_file='tree.dot') "
   ]
  },
  {
   "cell_type": "markdown",
   "metadata": {},
   "source": [
    "# Klasyfikacja wieloklasowa\n",
    "\n",
    "## Regresja logistyczna\n",
    "\n",
    "\n",
    "\n",
    "\\begin{align}\n",
    "\\Pr(Y_i=1) &= \\frac{1}{Z} e^{\\boldsymbol\\beta_1 \\cdot \\mathbf{X}_i} \\, \\\\\n",
    "\\Pr(Y_i=2) &= \\frac{1}{Z} e^{\\boldsymbol\\beta_2 \\cdot \\mathbf{X}_i} \\, \\\\\n",
    "\\cdots & \\cdots \\\\\n",
    "\\Pr(Y_i=K-1) &= \\frac{1}{Z} e^{\\boldsymbol\\beta_{K-1} \\cdot \\mathbf{X}_i} \\, \\\\\n",
    "\\Pr(Y_i=K) &= \\frac{1}{Z} e^{\\boldsymbol\\beta_{K} \\cdot \\mathbf{X}_i}\\, \\\\\n",
    "\\end{align}\n",
    "\n",
    "\n",
    "$Z = \\sum_{k=1}^{K} e^{\\boldsymbol\\beta_k \\cdot \\mathbf{X}_i}$\n",
    "\n",
    "Możliwe są również inne warianty. https://en.wikipedia.org/wiki/Multinomial_logistic_regression\n",
    "\n",
    "\n",
    "Inny zapis powyższego:\n",
    "\n",
    "$$[P(Y=1), P(Y=2), \\ldots , P(Y=K)] = softmax([\\beta_1x, \\beta_2x, \\ldots , \\beta_Kx]) = $$\n",
    "$$[\\frac{e^{\\beta_1x}}{\\sum_{k=1}^{K}e^{\\beta_kx}}, \\frac{e^{\\beta_2x}}{\\sum_{k=1}^{K}e^{\\beta_kx}}, \\ldots, \\frac{e^{\\beta_Kx}}{\\sum_{k=1}^{K}e^{\\beta_k x}}]$$\n",
    "\n",
    "Na marginesie: w uczeniu maszynowym często pojawia sie funkcja \"softmax\". \n",
    "\n",
    "$$softmax(\\mathbf{x}) = softmax([x_1, x_2, \\ldots , x_p])= [\\frac{e^{x_1}}{\\sum_{k=1}^{p}e^{x_k}}, \\frac{e^{x_2}}{\\sum_{k=1}^{p}e^{x_k}}, \\ldots, \\frac{e^{x_p}}{\\sum_{k=1}^{p}e^{x_k}}]$$\n",
    "\n",
    "W literaturze czasem mozna spotkać nazwanie regresji logistycznej dla klasyfikacji wieloklasowej klasyfikatorem softmax.\n",
    "\n",
    "## Drzewo decyzyjne\n",
    "\n",
    "Przyjmujemy oznaczenie: $p = (p_1, p_2, \\ldots, p_K)$ - wektor prawdopodobieństw poszczególnych klas (procent obserwacji danej klasy).\n",
    "\n",
    "Opcja nr 1: Gini impurity (Miara Gini'ego niespójności węzła):\n",
    "- wybieramy podział, który minimalizuje ważoną miarę Gini'ego $g(p) = \\big( 1 - \\sum\\limits_{k=1}^K p_k^2 \\big)$:\n",
    "\n",
    "$$\\frac{n_1}{N} g(p_1) + \\frac{n_2}{N} g(p_2),$$\n",
    "\n",
    "gdzie $n_1, n_2$ liczności w pierwszym i drugim dziecku, $p_1, p_2$ - rozkłady klas w dzieciach 9wektory z iformacją ile procent jest jakiej klasy).\n",
    "\n",
    "<br>\n",
    "\n",
    "Opcja nr 2: Entropia.\n",
    "- wybieramy podział, który daje najmniejszą wartość ważonej entropii $h(p) = -\\sum\\limits_{k=1}^K p_k\\log p_k$:\n",
    "\n",
    "$$\\frac{n_1}{n}\\sum\\limits_{i=1}^{n_1} h(p_1) + \\frac{n_2}{n}\\sum\\limits_{i=1}^{n_2} h(p_2)$$\n"
   ]
  },
  {
   "cell_type": "code",
   "execution_count": null,
   "metadata": {},
   "outputs": [],
   "source": [
    "from sklearn import datasets\n",
    "\n",
    "iris = datasets.load_iris()\n",
    "X, y = iris.data, iris.target\n",
    "print(X.shape)\n",
    "\n",
    "m1 = LogisticRegression()\n",
    "m1.fit(X,y)\n",
    "m1.intercept_, m1.coef_"
   ]
  },
  {
   "cell_type": "markdown",
   "metadata": {},
   "source": [
    "#### Zadanie\n",
    "\n",
    "Wygenerować predykcje kroswalidacyjnie dla regresji logistycznej i drzewa decyzyjnego (użyj `cross_val_predict`), a następnie wypisz accuracy i przedstaw tablicę klasyfikacji (`confusion_matrix` z `sklearn.metrics`) dla obu modeli.\n",
    "\n",
    "Rozwiązanie:"
   ]
  },
  {
   "cell_type": "code",
   "execution_count": 143,
   "metadata": {},
   "outputs": [
    {
     "name": "stdout",
     "output_type": "stream",
     "text": [
      "(150, 4)\n"
     ]
    }
   ],
   "source": [
    "from sklearn import datasets\n",
    "from sklearn.model_selection import cross_val_predict\n",
    "\n",
    "iris = datasets.load_iris()\n",
    "X, y = iris.data, iris.target\n",
    "print(X.shape)"
   ]
  },
  {
   "cell_type": "code",
   "execution_count": 144,
   "metadata": {},
   "outputs": [
    {
     "data": {
      "text/plain": [
       "(array([  9.83921315,   2.21461011, -12.05382326]),\n",
       " array([[-0.4181548 ,  0.9664131 , -2.52143371, -1.08402272],\n",
       "        [ 0.53103652, -0.31447171, -0.19924922, -0.94919241],\n",
       "        [-0.11288172, -0.65194139,  2.72068294,  2.03321513]]))"
      ]
     },
     "execution_count": 144,
     "metadata": {},
     "output_type": "execute_result"
    }
   ],
   "source": [
    "m1 = LogisticRegression()\n",
    "m1.fit(X,y)\n",
    "m1.intercept_, m1.coef_"
   ]
  },
  {
   "cell_type": "code",
   "execution_count": 145,
   "metadata": {},
   "outputs": [
    {
     "data": {
      "text/plain": [
       "array([0, 0, 0, 0, 0, 0, 0, 0, 0, 0, 0, 0, 0, 0, 0, 0, 0, 0, 0, 0, 0, 0,\n",
       "       0, 0, 0, 0, 0, 0, 0, 0, 0, 0, 0, 0, 0, 0, 0, 0, 0, 0, 0, 0, 0, 0,\n",
       "       0, 0, 0, 0, 0, 0, 1, 1, 1, 1, 1, 1, 1, 1, 1, 1, 1, 1, 1, 1, 1, 1,\n",
       "       1, 1, 1, 1, 2, 1, 1, 1, 1, 1, 1, 2, 1, 1, 1, 1, 1, 2, 1, 1, 1, 1,\n",
       "       1, 1, 1, 1, 1, 1, 1, 1, 1, 1, 1, 1, 2, 2, 2, 2, 2, 2, 1, 2, 2, 2,\n",
       "       2, 2, 2, 2, 2, 2, 2, 2, 2, 2, 2, 2, 2, 2, 2, 2, 2, 2, 2, 2, 2, 2,\n",
       "       2, 2, 2, 2, 2, 2, 2, 2, 2, 2, 2, 2, 2, 2, 2, 2, 2, 2])"
      ]
     },
     "execution_count": 145,
     "metadata": {},
     "output_type": "execute_result"
    }
   ],
   "source": [
    "cross_val_predict(m1, X,y, cv=10)"
   ]
  },
  {
   "cell_type": "code",
   "execution_count": 147,
   "metadata": {},
   "outputs": [
    {
     "data": {
      "text/plain": [
       "DecisionTreeClassifier(ccp_alpha=0.0, class_weight=None, criterion='gini',\n",
       "                       max_depth=None, max_features=None, max_leaf_nodes=None,\n",
       "                       min_impurity_decrease=0.0, min_impurity_split=None,\n",
       "                       min_samples_leaf=1, min_samples_split=2,\n",
       "                       min_weight_fraction_leaf=0.0, presort='deprecated',\n",
       "                       random_state=None, splitter='best')"
      ]
     },
     "execution_count": 147,
     "metadata": {},
     "output_type": "execute_result"
    }
   ],
   "source": [
    "m2 = DecisionTreeClassifier()\n",
    "m2.fit(X,y)"
   ]
  },
  {
   "cell_type": "code",
   "execution_count": 148,
   "metadata": {},
   "outputs": [
    {
     "data": {
      "text/plain": [
       "array([0, 0, 0, 0, 0, 0, 0, 0, 0, 0, 0, 0, 0, 0, 0, 0, 0, 0, 0, 0, 0, 0,\n",
       "       0, 0, 0, 0, 0, 0, 0, 0, 0, 0, 0, 0, 0, 0, 0, 0, 0, 0, 0, 0, 0, 0,\n",
       "       0, 0, 0, 0, 0, 0, 1, 1, 1, 1, 1, 1, 1, 1, 1, 1, 1, 1, 1, 1, 1, 1,\n",
       "       1, 1, 1, 1, 2, 1, 1, 1, 1, 1, 1, 2, 1, 1, 1, 1, 1, 2, 1, 1, 1, 1,\n",
       "       1, 1, 1, 1, 1, 1, 1, 1, 1, 1, 1, 1, 2, 2, 2, 2, 2, 2, 1, 2, 2, 2,\n",
       "       2, 2, 2, 2, 2, 2, 2, 2, 2, 1, 2, 2, 2, 2, 2, 2, 2, 2, 2, 1, 2, 2,\n",
       "       2, 2, 2, 2, 2, 2, 2, 2, 2, 2, 2, 2, 2, 2, 2, 2, 2, 2])"
      ]
     },
     "execution_count": 148,
     "metadata": {},
     "output_type": "execute_result"
    }
   ],
   "source": [
    "cross_val_predict(m2, X,y, cv=10)"
   ]
  },
  {
   "cell_type": "code",
   "execution_count": 151,
   "metadata": {},
   "outputs": [
    {
     "data": {
      "text/plain": [
       "array([[50,  0,  0],\n",
       "       [ 0, 47,  3],\n",
       "       [ 0,  1, 49]])"
      ]
     },
     "execution_count": 151,
     "metadata": {},
     "output_type": "execute_result"
    }
   ],
   "source": [
    "from sklearn.metrics import confusion_matrix\n",
    "\n",
    "confusion_matrix(y, cross_val_predict(m1, X,y, cv=10))"
   ]
  },
  {
   "cell_type": "code",
   "execution_count": 152,
   "metadata": {},
   "outputs": [
    {
     "data": {
      "text/plain": [
       "array([[50,  0,  0],\n",
       "       [ 0, 47,  3],\n",
       "       [ 0,  3, 47]])"
      ]
     },
     "execution_count": 152,
     "metadata": {},
     "output_type": "execute_result"
    }
   ],
   "source": [
    "confusion_matrix(y, cross_val_predict(m2, X,y, cv=10))"
   ]
  },
  {
   "cell_type": "markdown",
   "metadata": {},
   "source": [
    "# Naiwny klasyfikator Bayes'a\n",
    "\n",
    "Rozważmy klasyfikację wieloklasową - $Y \\in \\{1, 2, \\ldots, K\\}$. \n",
    "\n",
    "Naiwny klasyfikator Bayesa klasyfikuje obserwacje na podstawie prawdopodobieństwa:\n",
    "\n",
    "$$p(Y = k \\mid x_1, \\dots, x_p)  = p(C_k \\mid x_1, \\dots, x_p).$$\n",
    "\n",
    "Predykcja klasyfikatora to najbardziej prawdopodobna klasa.\n",
    "\n",
    "Skąd klasyfikator bierze to prawdopodobieństwo? Oblicza je przyjmując pewne założenia...\n",
    "\n",
    "Z twierdzenia Bayesa:\n",
    "\n",
    "\n",
    "$$p(C_k \\mid \\mathbf{x}) = \\frac{p(C_k) \\ p(\\mathbf{x} \\mid C_k)}{p(\\mathbf{x})}.$$\n",
    "\n",
    "Zauważmy, że $p(\\mathbf{x})$, czyli rozkład X, jest nieistotny dla klasyfikatora, zatem: \n",
    "\n",
    "$$p(C_k \\mid \\mathbf{x}) \\sim p(C_k) \\ p(\\mathbf{x} \\mid C_k).$$\n",
    "\n",
    "$p(C_k)$ - prawdopodobieśtwo a priori klasy $C_k$ - czyli procent obserwacji w danych, dla których $Y = k$.\n",
    "\n",
    "$p(\\mathbf{x} \\mid C_k) = p(x_1, x_2, \\ldots, x_p \\mid C_k)$ - rozkład cech w pozbiorze danych, dla których $Y = C_k$.\n",
    "\n",
    "\n",
    "(**Naiwne**) założenie modelu:\n",
    "\n",
    "$$p(x_1, x_2, \\ldots, x_p \\mid C_k) = p(x_1 \\mid C_k)\\cdot p(x_2\\mid C_k) \\cdot \\ldots \\cdot p(x_p \\mid C_k)$$\n",
    "\n",
    "Zatem predykcja klasyfikatora ma postać:\n",
    "\n",
    "$$\\hat{y} = arg \\max\\limits_k  p(C_k \\mid \\mathbf{x}) = arg \\max\\limits_k p(C_k) \\prod\\limits_{i=1}^p p(x_i\\mid C_k)$$\n",
    "\n",
    "Skąd bierzemy $p(x_i\\mid C_k)$?\n",
    "\n",
    "Z postaci danych:\n",
    "- jeżeli zmienna $x_i$ jest binarna, to zakładamy, że rozkład jest dwupunktowy - prawdopodobieństwo sukcesu model wylicza empirycznie z danych,\n",
    "- jeżeli zmienna $x_i$ jest licznością, to zakładamy, że rozkład jest wielomianowy - prawdopodobieństwa poszczególnych wartości model wylicza empirycznie z danych,\n",
    "- jeżeli zmienna $x_i$ jest rzeczywista, to zakładamy, że rozkład jest normalny - parametry (średnią i wariancję) model estymuje z danych.\n",
    "\n",
    "Uwaga: ostatnia wersja w praktyce nieuzywana - nigdy nie daje dobrych wyników."
   ]
  },
  {
   "cell_type": "code",
   "execution_count": 153,
   "metadata": {},
   "outputs": [],
   "source": [
    "from sklearn.naive_bayes import MultinomialNB # wersja wielomianowa"
   ]
  },
  {
   "cell_type": "code",
   "execution_count": null,
   "metadata": {},
   "outputs": [],
   "source": [
    "?MultinomialNB"
   ]
  },
  {
   "cell_type": "markdown",
   "metadata": {},
   "source": [
    "# Case study\n",
    "\n",
    "Dane\n",
    "\n",
    "http://www.ritchieng.com/machine-learning-multinomial-naive-bayes-vectorization/"
   ]
  },
  {
   "cell_type": "code",
   "execution_count": 154,
   "metadata": {},
   "outputs": [
    {
     "data": {
      "text/plain": [
       "(5572, 2)"
      ]
     },
     "execution_count": 154,
     "metadata": {},
     "output_type": "execute_result"
    }
   ],
   "source": [
    "import pandas as pd\n",
    "\n",
    "sms = pd.read_table('Dane/sms.tsv', header=None, names=['label', 'message'])\n",
    "\n",
    "#url = 'https://raw.githubusercontent.com/justmarkham/pycon-2016-tutorial/master/data/sms.tsv'\n",
    "#sms = pd.read_table(url, header=None, names=['label', 'message'])\n",
    "\n",
    "sms.shape"
   ]
  },
  {
   "cell_type": "code",
   "execution_count": 155,
   "metadata": {},
   "outputs": [
    {
     "data": {
      "text/html": [
       "<div>\n",
       "<style scoped>\n",
       "    .dataframe tbody tr th:only-of-type {\n",
       "        vertical-align: middle;\n",
       "    }\n",
       "\n",
       "    .dataframe tbody tr th {\n",
       "        vertical-align: top;\n",
       "    }\n",
       "\n",
       "    .dataframe thead th {\n",
       "        text-align: right;\n",
       "    }\n",
       "</style>\n",
       "<table border=\"1\" class=\"dataframe\">\n",
       "  <thead>\n",
       "    <tr style=\"text-align: right;\">\n",
       "      <th></th>\n",
       "      <th>label</th>\n",
       "      <th>message</th>\n",
       "    </tr>\n",
       "  </thead>\n",
       "  <tbody>\n",
       "    <tr>\n",
       "      <th>0</th>\n",
       "      <td>ham</td>\n",
       "      <td>Go until jurong point, crazy.. Available only ...</td>\n",
       "    </tr>\n",
       "    <tr>\n",
       "      <th>1</th>\n",
       "      <td>ham</td>\n",
       "      <td>Ok lar... Joking wif u oni...</td>\n",
       "    </tr>\n",
       "    <tr>\n",
       "      <th>2</th>\n",
       "      <td>spam</td>\n",
       "      <td>Free entry in 2 a wkly comp to win FA Cup fina...</td>\n",
       "    </tr>\n",
       "    <tr>\n",
       "      <th>3</th>\n",
       "      <td>ham</td>\n",
       "      <td>U dun say so early hor... U c already then say...</td>\n",
       "    </tr>\n",
       "    <tr>\n",
       "      <th>4</th>\n",
       "      <td>ham</td>\n",
       "      <td>Nah I don't think he goes to usf, he lives aro...</td>\n",
       "    </tr>\n",
       "  </tbody>\n",
       "</table>\n",
       "</div>"
      ],
      "text/plain": [
       "  label                                            message\n",
       "0   ham  Go until jurong point, crazy.. Available only ...\n",
       "1   ham                      Ok lar... Joking wif u oni...\n",
       "2  spam  Free entry in 2 a wkly comp to win FA Cup fina...\n",
       "3   ham  U dun say so early hor... U c already then say...\n",
       "4   ham  Nah I don't think he goes to usf, he lives aro..."
      ]
     },
     "execution_count": 155,
     "metadata": {},
     "output_type": "execute_result"
    }
   ],
   "source": [
    "sms.head()"
   ]
  },
  {
   "cell_type": "code",
   "execution_count": 156,
   "metadata": {},
   "outputs": [
    {
     "data": {
      "text/html": [
       "<div>\n",
       "<style scoped>\n",
       "    .dataframe tbody tr th:only-of-type {\n",
       "        vertical-align: middle;\n",
       "    }\n",
       "\n",
       "    .dataframe tbody tr th {\n",
       "        vertical-align: top;\n",
       "    }\n",
       "\n",
       "    .dataframe thead th {\n",
       "        text-align: right;\n",
       "    }\n",
       "</style>\n",
       "<table border=\"1\" class=\"dataframe\">\n",
       "  <thead>\n",
       "    <tr style=\"text-align: right;\">\n",
       "      <th></th>\n",
       "      <th>label</th>\n",
       "      <th>message</th>\n",
       "    </tr>\n",
       "  </thead>\n",
       "  <tbody>\n",
       "    <tr>\n",
       "      <th>0</th>\n",
       "      <td>0</td>\n",
       "      <td>Go until jurong point, crazy.. Available only ...</td>\n",
       "    </tr>\n",
       "    <tr>\n",
       "      <th>1</th>\n",
       "      <td>0</td>\n",
       "      <td>Ok lar... Joking wif u oni...</td>\n",
       "    </tr>\n",
       "    <tr>\n",
       "      <th>2</th>\n",
       "      <td>1</td>\n",
       "      <td>Free entry in 2 a wkly comp to win FA Cup fina...</td>\n",
       "    </tr>\n",
       "    <tr>\n",
       "      <th>3</th>\n",
       "      <td>0</td>\n",
       "      <td>U dun say so early hor... U c already then say...</td>\n",
       "    </tr>\n",
       "    <tr>\n",
       "      <th>4</th>\n",
       "      <td>0</td>\n",
       "      <td>Nah I don't think he goes to usf, he lives aro...</td>\n",
       "    </tr>\n",
       "  </tbody>\n",
       "</table>\n",
       "</div>"
      ],
      "text/plain": [
       "   label                                            message\n",
       "0      0  Go until jurong point, crazy.. Available only ...\n",
       "1      0                      Ok lar... Joking wif u oni...\n",
       "2      1  Free entry in 2 a wkly comp to win FA Cup fina...\n",
       "3      0  U dun say so early hor... U c already then say...\n",
       "4      0  Nah I don't think he goes to usf, he lives aro..."
      ]
     },
     "execution_count": 156,
     "metadata": {},
     "output_type": "execute_result"
    }
   ],
   "source": [
    "sms['label'] = sms.label.map({'ham':0, 'spam':1})\n",
    "sms.head()"
   ]
  },
  {
   "cell_type": "code",
   "execution_count": 157,
   "metadata": {},
   "outputs": [
    {
     "data": {
      "text/plain": [
       "0    0.865937\n",
       "1    0.134063\n",
       "Name: label, dtype: float64"
      ]
     },
     "execution_count": 157,
     "metadata": {},
     "output_type": "execute_result"
    }
   ],
   "source": [
    "# examine the class distribution\n",
    "sms.label.value_counts(normalize=True)"
   ]
  },
  {
   "cell_type": "code",
   "execution_count": 158,
   "metadata": {},
   "outputs": [],
   "source": [
    "from sklearn.feature_extraction.text import CountVectorizer"
   ]
  },
  {
   "cell_type": "code",
   "execution_count": 159,
   "metadata": {},
   "outputs": [
    {
     "data": {
      "text/plain": [
       "0    Go until jurong point, crazy.. Available only ...\n",
       "1                        Ok lar... Joking wif u oni...\n",
       "2    Free entry in 2 a wkly comp to win FA Cup fina...\n",
       "3    U dun say so early hor... U c already then say...\n",
       "4    Nah I don't think he goes to usf, he lives aro...\n",
       "5    FreeMsg Hey there darling it's been 3 week's n...\n",
       "6    Even my brother is not like to speak with me. ...\n",
       "7    As per your request 'Melle Melle (Oru Minnamin...\n",
       "8    WINNER!! As a valued network customer you have...\n",
       "9    Had your mobile 11 months or more? U R entitle...\n",
       "Name: message, dtype: object"
      ]
     },
     "execution_count": 159,
     "metadata": {},
     "output_type": "execute_result"
    }
   ],
   "source": [
    "sms.message[:10]"
   ]
  },
  {
   "cell_type": "code",
   "execution_count": 160,
   "metadata": {},
   "outputs": [
    {
     "data": {
      "text/plain": [
       "<5572x3000 sparse matrix of type '<class 'numpy.int64'>'\n",
       "\twith 67227 stored elements in Compressed Sparse Row format>"
      ]
     },
     "execution_count": 160,
     "metadata": {},
     "output_type": "execute_result"
    }
   ],
   "source": [
    "vectorizer = CountVectorizer(max_features=3000)\n",
    "vectorizer.fit(sms.message)\n",
    "x = vectorizer.transform(sms.message)\n",
    "x"
   ]
  },
  {
   "cell_type": "code",
   "execution_count": 161,
   "metadata": {},
   "outputs": [
    {
     "data": {
      "text/plain": [
       "matrix([[0, 0, 0, 0, 0, 0, 0, 0, 0, 0],\n",
       "        [0, 0, 0, 0, 0, 0, 0, 0, 0, 0],\n",
       "        [0, 0, 0, 0, 0, 0, 0, 0, 0, 0],\n",
       "        [0, 0, 0, 0, 0, 0, 0, 0, 0, 0],\n",
       "        [0, 0, 0, 0, 0, 0, 0, 0, 0, 0],\n",
       "        [0, 0, 0, 0, 0, 0, 0, 0, 0, 0],\n",
       "        [0, 0, 0, 0, 0, 0, 0, 0, 0, 0],\n",
       "        [0, 0, 0, 0, 0, 0, 0, 0, 0, 0],\n",
       "        [0, 0, 0, 0, 0, 0, 0, 0, 0, 0],\n",
       "        [0, 0, 0, 0, 0, 0, 0, 0, 0, 0]])"
      ]
     },
     "execution_count": 161,
     "metadata": {},
     "output_type": "execute_result"
    }
   ],
   "source": [
    "x[:10,:10].todense()"
   ]
  },
  {
   "cell_type": "code",
   "execution_count": 162,
   "metadata": {},
   "outputs": [
    {
     "data": {
      "text/plain": [
       "{'go': 1134,\n",
       " 'until': 2754,\n",
       " 'point': 2009,\n",
       " 'crazy': 710,\n",
       " 'available': 356,\n",
       " 'only': 1866,\n",
       " 'in': 1319,\n",
       " 'bugis': 508,\n",
       " 'great': 1166,\n",
       " 'world': 2938,\n",
       " 'la': 1439,\n",
       " 'cine': 620,\n",
       " 'there': 2614,\n",
       " 'got': 1151,\n",
       " 'wat': 2848,\n",
       " 'ok': 1853,\n",
       " 'lar': 1448,\n",
       " 'joking': 1396,\n",
       " 'wif': 2898,\n",
       " 'oni': 1864,\n",
       " 'free': 1044,\n",
       " 'entry': 899,\n",
       " 'wkly': 2920,\n",
       " 'comp': 662,\n",
       " 'to': 2661,\n",
       " 'win': 2903,\n",
       " 'fa': 944,\n",
       " 'cup': 725,\n",
       " 'final': 997,\n",
       " 'tkts': 2656,\n",
       " '21st': 82,\n",
       " 'may': 1641,\n",
       " '2005': 79,\n",
       " 'text': 2591,\n",
       " '87121': 182,\n",
       " 'receive': 2144,\n",
       " 'question': 2093,\n",
       " 'std': 2474,\n",
       " 'txt': 2722,\n",
       " 'rate': 2116,\n",
       " 'apply': 309,\n",
       " 'dun': 856,\n",
       " 'say': 2251,\n",
       " 'so': 2403,\n",
       " 'early': 862,\n",
       " 'already': 271,\n",
       " 'then': 2612,\n",
       " 'nah': 1773,\n",
       " 'don': 825,\n",
       " 'think': 2619,\n",
       " 'he': 1221,\n",
       " 'goes': 1138,\n",
       " 'usf': 2775,\n",
       " 'lives': 1519,\n",
       " 'around': 327,\n",
       " 'here': 1235,\n",
       " 'though': 2629,\n",
       " 'freemsg': 1046,\n",
       " 'hey': 1236,\n",
       " 'darling': 745,\n",
       " 'it': 1367,\n",
       " 'been': 400,\n",
       " 'week': 2865,\n",
       " 'now': 1829,\n",
       " 'and': 285,\n",
       " 'no': 1811,\n",
       " 'word': 2932,\n",
       " 'back': 371,\n",
       " 'like': 1497,\n",
       " 'some': 2410,\n",
       " 'fun': 1069,\n",
       " 'you': 2989,\n",
       " 'up': 2755,\n",
       " 'for': 1030,\n",
       " 'still': 2476,\n",
       " 'tb': 2561,\n",
       " 'xxx': 2964,\n",
       " 'send': 2289,\n",
       " '50': 131,\n",
       " 'even': 913,\n",
       " 'my': 1770,\n",
       " 'brother': 498,\n",
       " 'is': 1359,\n",
       " 'not': 1825,\n",
       " 'speak': 2440,\n",
       " 'with': 2914,\n",
       " 'me': 1647,\n",
       " 'they': 2616,\n",
       " 'treat': 2698,\n",
       " 'as': 334,\n",
       " 'per': 1946,\n",
       " 'your': 2990,\n",
       " 'request': 2182,\n",
       " 'melle': 1663,\n",
       " 'oru': 1886,\n",
       " 'minnaminunginte': 1688,\n",
       " 'nurungu': 1836,\n",
       " 'vettam': 2794,\n",
       " 'has': 1211,\n",
       " 'set': 2302,\n",
       " 'callertune': 536,\n",
       " 'all': 266,\n",
       " 'callers': 535,\n",
       " 'press': 2042,\n",
       " 'copy': 691,\n",
       " 'friends': 1054,\n",
       " 'winner': 2905,\n",
       " 'valued': 2785,\n",
       " 'network': 1794,\n",
       " 'customer': 730,\n",
       " 'have': 1215,\n",
       " 'selected': 2282,\n",
       " 'receivea': 2145,\n",
       " '900': 193,\n",
       " 'prize': 2050,\n",
       " 'reward': 2199,\n",
       " 'claim': 624,\n",
       " 'call': 530,\n",
       " 'code': 642,\n",
       " 'valid': 2781,\n",
       " '12': 51,\n",
       " 'hours': 1276,\n",
       " 'had': 1185,\n",
       " 'mobile': 1714,\n",
       " '11': 47,\n",
       " 'months': 1732,\n",
       " 'or': 1877,\n",
       " 'more': 1736,\n",
       " 'entitled': 898,\n",
       " 'update': 2756,\n",
       " 'the': 2607,\n",
       " 'latest': 1453,\n",
       " 'colour': 652,\n",
       " 'mobiles': 1715,\n",
       " 'camera': 543,\n",
       " 'co': 640,\n",
       " 'on': 1860,\n",
       " 'gonna': 1143,\n",
       " 'be': 393,\n",
       " 'home': 1259,\n",
       " 'soon': 2423,\n",
       " 'want': 2838,\n",
       " 'talk': 2553,\n",
       " 'about': 204,\n",
       " 'this': 2623,\n",
       " 'stuff': 2498,\n",
       " 'anymore': 297,\n",
       " 'tonight': 2676,\n",
       " 've': 2789,\n",
       " 'enough': 895,\n",
       " 'today': 2664,\n",
       " 'six': 2374,\n",
       " 'cash': 566,\n",
       " 'from': 1060,\n",
       " '100': 40,\n",
       " '20': 74,\n",
       " '000': 1,\n",
       " 'pounds': 2028,\n",
       " '87575': 185,\n",
       " 'cost': 695,\n",
       " '150p': 63,\n",
       " 'day': 752,\n",
       " '16': 67,\n",
       " 'reply': 2178,\n",
       " 'hl': 1248,\n",
       " 'info': 1331,\n",
       " 'urgent': 2764,\n",
       " 'won': 2926,\n",
       " 'membership': 1666,\n",
       " 'our': 1893,\n",
       " 'www': 2957,\n",
       " 'net': 1792,\n",
       " 'pobox': 2003,\n",
       " 'searching': 2268,\n",
       " 'right': 2202,\n",
       " 'words': 2933,\n",
       " 'thank': 2601,\n",
       " 'promise': 2063,\n",
       " 'wont': 2931,\n",
       " 'take': 2547,\n",
       " 'help': 1233,\n",
       " 'will': 2901,\n",
       " 'wonderful': 2928,\n",
       " 'at': 345,\n",
       " 'times': 2649,\n",
       " 'date': 748,\n",
       " 'sunday': 2518,\n",
       " 'use': 2772,\n",
       " 'credit': 713,\n",
       " 'click': 631,\n",
       " 'wap': 2842,\n",
       " 'link': 1507,\n",
       " 'next': 1802,\n",
       " 'message': 1671,\n",
       " 'http': 1284,\n",
       " 'com': 653,\n",
       " 'oh': 1851,\n",
       " 'watching': 2850,\n",
       " 'eh': 875,\n",
       " 'remember': 2169,\n",
       " 'how': 1278,\n",
       " 'spell': 2445,\n",
       " 'his': 1244,\n",
       " 'name': 1775,\n",
       " 'yes': 2978,\n",
       " 'did': 785,\n",
       " 'naughty': 1783,\n",
       " 'make': 1603,\n",
       " 'wet': 2879,\n",
       " 'fine': 1000,\n",
       " 'if': 1308,\n",
       " 'that': 2605,\n",
       " 'way': 2853,\n",
       " 'feel': 974,\n",
       " 'its': 1369,\n",
       " 'england': 891,\n",
       " 'dont': 827,\n",
       " 'miss': 1697,\n",
       " 'team': 2569,\n",
       " 'news': 1801,\n",
       " 'ur': 2761,\n",
       " 'national': 1780,\n",
       " '87077': 181,\n",
       " 'eg': 872,\n",
       " 'try': 2707,\n",
       " 'wales': 2828,\n",
       " 'scotland': 2261,\n",
       " 'seriously': 2299,\n",
       " 'going': 1140,\n",
       " 'ha': 1184,\n",
       " 'pay': 1933,\n",
       " 'first': 1006,\n",
       " 'when': 2883,\n",
       " 'da': 736,\n",
       " 'stock': 2477,\n",
       " 'comin': 658,\n",
       " 'aft': 236,\n",
       " 'finish': 1002,\n",
       " 'lunch': 1577,\n",
       " 'str': 2487,\n",
       " 'down': 832,\n",
       " 'lor': 1540,\n",
       " 'ard': 317,\n",
       " 'smth': 2399,\n",
       " 'alright': 272,\n",
       " 'can': 545,\n",
       " 'meet': 1659,\n",
       " 'sooner': 2424,\n",
       " 'just': 1406,\n",
       " 'myself': 1771,\n",
       " 'eat': 866,\n",
       " 'really': 2134,\n",
       " 'hungry': 1289,\n",
       " 'tho': 2627,\n",
       " 'sucks': 2510,\n",
       " 'mark': 1621,\n",
       " 'getting': 1115,\n",
       " 'worried': 2939,\n",
       " 'knows': 1435,\n",
       " 'sick': 2349,\n",
       " 'turn': 2716,\n",
       " 'pizza': 1981,\n",
       " 'lol': 1530,\n",
       " 'always': 275,\n",
       " 'catch': 568,\n",
       " 'bus': 512,\n",
       " 'are': 318,\n",
       " 'frying': 1062,\n",
       " 'an': 284,\n",
       " 'egg': 873,\n",
       " 'tea': 2565,\n",
       " 'eating': 869,\n",
       " 'mom': 1722,\n",
       " 'left': 1472,\n",
       " 'over': 1898,\n",
       " 'dinner': 798,\n",
       " 'do': 812,\n",
       " 'love': 1554,\n",
       " 'amp': 282,\n",
       " 'we': 2855,\n",
       " 're': 2122,\n",
       " 'car': 552,\n",
       " 'll': 1521,\n",
       " 'let': 1482,\n",
       " 'know': 1433,\n",
       " 'room': 2217,\n",
       " 'work': 2934,\n",
       " 'what': 2880,\n",
       " 'does': 816,\n",
       " 'wait': 2823,\n",
       " 'clear': 629,\n",
       " 'were': 2878,\n",
       " 'sure': 2530,\n",
       " 'being': 408,\n",
       " 'why': 2896,\n",
       " 'doesn': 817,\n",
       " 'live': 1517,\n",
       " 'us': 2770,\n",
       " 'yeah': 2972,\n",
       " 'was': 2845,\n",
       " 'out': 1894,\n",
       " 'she': 2315,\n",
       " 'child': 608,\n",
       " 'caught': 570,\n",
       " 'till': 2647,\n",
       " 'but': 515,\n",
       " 'doing': 823,\n",
       " 'too': 2678,\n",
       " 'cheers': 604,\n",
       " 'tell': 2576,\n",
       " 'anything': 300,\n",
       " 'fear': 971,\n",
       " 'of': 1844,\n",
       " 'quick': 2096,\n",
       " 'thanks': 2602,\n",
       " 'subscription': 2507,\n",
       " 'ringtone': 2204,\n",
       " 'uk': 2733,\n",
       " 'charged': 591,\n",
       " 'month': 1730,\n",
       " 'please': 1994,\n",
       " 'confirm': 674,\n",
       " 'by': 522,\n",
       " 'replying': 2179,\n",
       " 'yup': 2998,\n",
       " 'look': 1535,\n",
       " 'msg': 1751,\n",
       " 'again': 240,\n",
       " 'xuhui': 2962,\n",
       " 'learn': 1465,\n",
       " '2nd': 98,\n",
       " 'her': 1234,\n",
       " 'lesson': 1480,\n",
       " 'oops': 1869,\n",
       " 'roommate': 2218,\n",
       " 'done': 826,\n",
       " 'see': 2276,\n",
       " 'letter': 1484,\n",
       " 'decide': 763,\n",
       " 'hello': 1232,\n",
       " 'saturday': 2245,\n",
       " 'texting': 2594,\n",
       " 'decided': 764,\n",
       " 'tomo': 2672,\n",
       " 'trying': 2708,\n",
       " 'invite': 1350,\n",
       " 'pls': 1998,\n",
       " 'ahead': 248,\n",
       " 'wanted': 2839,\n",
       " 'weekend': 2866,\n",
       " 'abiola': 202,\n",
       " 'forget': 1035,\n",
       " 'need': 1788,\n",
       " 'crave': 709,\n",
       " 'most': 1740,\n",
       " 'sweet': 2535,\n",
       " 'yummy': 2995,\n",
       " 'tried': 2700,\n",
       " 'sms': 2398,\n",
       " 'nokia': 1815,\n",
       " 'camcorder': 541,\n",
       " '08000930705': 11,\n",
       " 'delivery': 775,\n",
       " 'tomorrow': 2673,\n",
       " 'who': 2892,\n",
       " 'seeing': 2277,\n",
       " 'hope': 1266,\n",
       " 'man': 1610,\n",
       " 'well': 2873,\n",
       " 'am': 277,\n",
       " 'lt': 1572,\n",
       " 'gt': 1174,\n",
       " 'inches': 1322,\n",
       " 'calls': 539,\n",
       " 'messages': 1672,\n",
       " 'missed': 1698,\n",
       " 'didn': 786,\n",
       " 'get': 1112,\n",
       " 'nigeria': 1806,\n",
       " 'fair': 949,\n",
       " 'hopefully': 1267,\n",
       " 'tyler': 2727,\n",
       " 'could': 698,\n",
       " 'maybe': 1643,\n",
       " 'ask': 336,\n",
       " 'bit': 434,\n",
       " 'hospital': 1271,\n",
       " 'kept': 1417,\n",
       " 'telling': 2577,\n",
       " 'weak': 2856,\n",
       " 'time': 2648,\n",
       " 'saw': 2250,\n",
       " 'class': 626,\n",
       " 'gram': 1161,\n",
       " 'usually': 2778,\n",
       " 'runs': 2231,\n",
       " 'half': 1192,\n",
       " 'gets': 1113,\n",
       " 'almost': 268,\n",
       " 'whole': 2893,\n",
       " 'second': 2272,\n",
       " 'fyi': 1074,\n",
       " 'ride': 2201,\n",
       " 'morning': 1738,\n",
       " 'place': 1982,\n",
       " 'wow': 2947,\n",
       " 'never': 1798,\n",
       " 'realized': 2133,\n",
       " 'embarassed': 882,\n",
       " 'thought': 2630,\n",
       " 'liked': 1498,\n",
       " 'since': 2362,\n",
       " 'best': 414,\n",
       " 'seemed': 2279,\n",
       " 'happy': 1207,\n",
       " 'sorry': 2426,\n",
       " 'give': 1126,\n",
       " 'ac': 207,\n",
       " 'new': 1799,\n",
       " 'red': 2152,\n",
       " 'play': 1989,\n",
       " 'ice': 1301,\n",
       " 'correct': 693,\n",
       " 'end': 884,\n",
       " 'yesterday': 2980,\n",
       " 'find': 999,\n",
       " 'url': 2767,\n",
       " 'congrats': 676,\n",
       " 'year': 2973,\n",
       " 'special': 2441,\n",
       " 'cinema': 621,\n",
       " 'pass': 1925,\n",
       " 'yours': 2991,\n",
       " '09061209465': 33,\n",
       " 'suprman': 2528,\n",
       " 'matrix3': 1635,\n",
       " 'starwars3': 2469,\n",
       " 'etc': 909,\n",
       " 'bx420': 521,\n",
       " 'ip4': 1355,\n",
       " '5we': 143,\n",
       " '150pm': 64,\n",
       " 'later': 1452,\n",
       " 'meeting': 1661,\n",
       " 'where': 2886,\n",
       " 'reached': 2124,\n",
       " 'series': 2297,\n",
       " 'pick': 1965,\n",
       " 'burger': 511,\n",
       " 'yourself': 2992,\n",
       " 'move': 1743,\n",
       " 'pain': 1908,\n",
       " 'good': 1144,\n",
       " 'joke': 1394,\n",
       " 'girls': 1124,\n",
       " 'situation': 2373,\n",
       " 'part': 1921,\n",
       " 'checking': 602,\n",
       " 'iq': 1357,\n",
       " 'roommates': 2219,\n",
       " 'took': 2679,\n",
       " 'forever': 1033,\n",
       " 'come': 655,\n",
       " 'double': 831,\n",
       " 'check': 600,\n",
       " 'hair': 1190,\n",
       " 'dresser': 839,\n",
       " 'said': 2237,\n",
       " 'wun': 2956,\n",
       " 'cut': 731,\n",
       " 'short': 2331,\n",
       " 'nice': 1804,\n",
       " 'pleased': 1995,\n",
       " 'advise': 232,\n",
       " 'following': 1024,\n",
       " 'recent': 2148,\n",
       " 'review': 2198,\n",
       " 'mob': 1713,\n",
       " 'awarded': 364,\n",
       " '1500': 62,\n",
       " 'bonus': 458,\n",
       " 'song': 2419,\n",
       " 'which': 2889,\n",
       " 'valuable': 2783,\n",
       " 'frnds': 1058,\n",
       " 'rply': 2224,\n",
       " 'complimentary': 667,\n",
       " 'trip': 2701,\n",
       " '1000': 41,\n",
       " 'dis': 803,\n",
       " '18': 68,\n",
       " '10': 39,\n",
       " 'ls1': 1570,\n",
       " 'hear': 1224,\n",
       " 'comes': 657,\n",
       " 'plane': 1985,\n",
       " 'wah': 2822,\n",
       " 'lucky': 1575,\n",
       " 'save': 2248,\n",
       " 'money': 1728,\n",
       " 'hee': 1228,\n",
       " 'finished': 1003,\n",
       " 'hi': 1238,\n",
       " 'babe': 368,\n",
       " 'im': 1313,\n",
       " 'wanna': 2837,\n",
       " 'something': 2415,\n",
       " 'xx': 2963,\n",
       " 'waiting': 2825,\n",
       " 'machan': 1591,\n",
       " 'once': 1861,\n",
       " 'thats': 2606,\n",
       " 'cool': 690,\n",
       " 'gentleman': 1107,\n",
       " 'dignity': 796,\n",
       " 'respect': 2185,\n",
       " 'very': 2793,\n",
       " 'much': 1760,\n",
       " 'shy': 2347,\n",
       " 'pa': 1901,\n",
       " 'after': 237,\n",
       " 'same': 2241,\n",
       " 'looking': 1538,\n",
       " 'job': 1390,\n",
       " 'ta': 2544,\n",
       " 'ah': 246,\n",
       " 'stop': 2481,\n",
       " 'urgnt': 2766,\n",
       " 'real': 2129,\n",
       " 'yo': 2985,\n",
       " 'tickets': 2644,\n",
       " 'one': 1862,\n",
       " 'used': 2773,\n",
       " 'started': 2466,\n",
       " 'requests': 2183,\n",
       " 'came': 542,\n",
       " 'bed': 398,\n",
       " 'coins': 644,\n",
       " 'gotta': 1153,\n",
       " 'kano': 1411,\n",
       " 'il': 1311,\n",
       " 'download': 833,\n",
       " 'wen': 2875,\n",
       " 'stand': 2461,\n",
       " 'close': 634,\n",
       " 'another': 288,\n",
       " 'night': 1807,\n",
       " 'spent': 2448,\n",
       " 'late': 1451,\n",
       " 'afternoon': 238,\n",
       " 'means': 1651,\n",
       " 'haven': 1216,\n",
       " 'any': 295,\n",
       " 'sheets': 2316,\n",
       " 'smile': 2392,\n",
       " 'pleasure': 1996,\n",
       " 'trouble': 2702,\n",
       " 'rain': 2105,\n",
       " 'sum1': 2515,\n",
       " 'hurts': 1293,\n",
       " 'becoz': 397,\n",
       " 'someone': 2413,\n",
       " 'loves': 1562,\n",
       " 'smiling': 2394,\n",
       " 'service': 2300,\n",
       " 'representative': 2181,\n",
       " '0800': 9,\n",
       " 'between': 418,\n",
       " '10am': 44,\n",
       " '9pm': 197,\n",
       " 'guaranteed': 1175,\n",
       " '5000': 133,\n",
       " 'havent': 1217,\n",
       " 'planning': 1987,\n",
       " 'buy': 517,\n",
       " 'lido': 1489,\n",
       " '530': 137,\n",
       " 'show': 2340,\n",
       " 'collected': 648,\n",
       " 'simply': 2361,\n",
       " 'password': 1928,\n",
       " 'mix': 1705,\n",
       " 'verify': 2791,\n",
       " 'fml': 1021,\n",
       " 'po': 2002,\n",
       " 'box': 478,\n",
       " 'mk17': 1706,\n",
       " 'movie': 1745,\n",
       " 'abt': 205,\n",
       " 'loads': 1523,\n",
       " 'wk': 2918,\n",
       " 'hols': 1258,\n",
       " 'run': 2229,\n",
       " 'forgot': 1036,\n",
       " 'appointment': 310,\n",
       " 'four': 1040,\n",
       " 'shower': 2341,\n",
       " 'cause': 571,\n",
       " 'prob': 2051,\n",
       " 'coffee': 643,\n",
       " 'nothing': 1827,\n",
       " 'else': 878,\n",
       " 'okay': 1854,\n",
       " 'price': 2047,\n",
       " 'long': 1533,\n",
       " 'legal': 1473,\n",
       " 'them': 2610,\n",
       " 'ave': 358,\n",
       " 'gone': 1142,\n",
       " 'driving': 845,\n",
       " 'test': 2589,\n",
       " 'yet': 2981,\n",
       " 'mean': 1649,\n",
       " 'guess': 1178,\n",
       " 'gave': 1094,\n",
       " 'boston': 470,\n",
       " 'men': 1667,\n",
       " 'changed': 587,\n",
       " 'search': 2267,\n",
       " 'nyc': 1840,\n",
       " 'cuz': 734,\n",
       " 'page': 1905,\n",
       " 'says': 2253,\n",
       " 'umma': 2735,\n",
       " 'life': 1491,\n",
       " 'vava': 2788,\n",
       " 'lot': 1546,\n",
       " 'dear': 757,\n",
       " 'wishes': 2911,\n",
       " 'birthday': 432,\n",
       " 'making': 1606,\n",
       " 'truly': 2704,\n",
       " 'aight': 250,\n",
       " 'hit': 1246,\n",
       " 'would': 2945,\n",
       " 'address': 226,\n",
       " 'considering': 680,\n",
       " 'computer': 668,\n",
       " 'isn': 1363,\n",
       " 'old': 1857,\n",
       " 'people': 1945,\n",
       " 'better': 417,\n",
       " 'jokes': 1395,\n",
       " 'worry': 2941,\n",
       " 'busy': 514,\n",
       " 'research': 2184,\n",
       " 'cos': 694,\n",
       " 'things': 2618,\n",
       " 'scared': 2254,\n",
       " 'mah': 1598,\n",
       " 'loud': 1549,\n",
       " 'gent': 1105,\n",
       " 'contact': 682,\n",
       " 'last': 1450,\n",
       " 'weekends': 2867,\n",
       " 'draw': 835,\n",
       " 'shows': 2343,\n",
       " 'k52': 1408,\n",
       " '12hrs': 55,\n",
       " '150ppm': 66,\n",
       " 'wa': 2821,\n",
       " 'sentence': 2294,\n",
       " 'anyway': 302,\n",
       " 'juz': 1407,\n",
       " 'tt': 2712,\n",
       " 'eatin': 868,\n",
       " 'puttin': 2087,\n",
       " 'weight': 2870,\n",
       " 'haha': 1187,\n",
       " 'anythin': 299,\n",
       " 'happened': 1203,\n",
       " 'entered': 897,\n",
       " 'cabin': 524,\n",
       " 'boss': 469,\n",
       " 'felt': 981,\n",
       " 'askd': 337,\n",
       " 'invited': 1351,\n",
       " 'apartment': 305,\n",
       " 'went': 2876,\n",
       " 'specially': 2442,\n",
       " 'holiday': 1256,\n",
       " 'flights': 1017,\n",
       " 'inc': 1321,\n",
       " 'operator': 1871,\n",
       " 'min': 1683,\n",
       " 'must': 1768,\n",
       " 'friday': 1052,\n",
       " 'needed': 1789,\n",
       " 'hmm': 1249,\n",
       " 'uncle': 2739,\n",
       " 'informed': 1334,\n",
       " 'paying': 1934,\n",
       " 'school': 2258,\n",
       " 'directly': 801,\n",
       " 'food': 1026,\n",
       " 'private': 2049,\n",
       " '2004': 78,\n",
       " 'account': 214,\n",
       " 'statement': 2470,\n",
       " '786': 153,\n",
       " 'unredeemed': 2750,\n",
       " 'points': 2010,\n",
       " 'identifier': 1305,\n",
       " '45239': 123,\n",
       " 'expires': 938,\n",
       " '2000': 76,\n",
       " 'caller': 534,\n",
       " '03': 4,\n",
       " 'landline': 1446,\n",
       " 'todays': 2665,\n",
       " 'voda': 2806,\n",
       " 'numbers': 1835,\n",
       " 'ending': 886,\n",
       " '350': 108,\n",
       " 'award': 363,\n",
       " 'match': 1629,\n",
       " '08712300220': 23,\n",
       " 'quoting': 2102,\n",
       " 'standard': 2462,\n",
       " 'rates': 2117,\n",
       " 'app': 307,\n",
       " 'mu': 1759,\n",
       " 'buying': 518,\n",
       " 'yetunde': 2982,\n",
       " 'hasn': 1212,\n",
       " 'sent': 2293,\n",
       " 'bother': 472,\n",
       " 'sending': 2291,\n",
       " 'shouldn': 2337,\n",
       " 'apologise': 306,\n",
       " 'girl': 1122,\n",
       " 'del': 770,\n",
       " 'bak': 376,\n",
       " 'answer': 291,\n",
       " 'sunshine': 2520,\n",
       " 'quiz': 2100,\n",
       " 'top': 2680,\n",
       " 'sony': 2421,\n",
       " 'dvd': 859,\n",
       " 'player': 1991,\n",
       " 'country': 700,\n",
       " 'ansr': 290,\n",
       " '82277': 167,\n",
       " 'sp': 2437,\n",
       " 'tyrone': 2729,\n",
       " 'laid': 1444,\n",
       " 'dogging': 820,\n",
       " 'locations': 1526,\n",
       " 'direct': 800,\n",
       " 'join': 1392,\n",
       " 'largest': 1449,\n",
       " 'bt': 502,\n",
       " 'txting': 2725,\n",
       " 'nt': 1830,\n",
       " 'ec2a': 870,\n",
       " 'haf': 1186,\n",
       " 'yijue': 2983,\n",
       " 'him': 1241,\n",
       " 'rooms': 2220,\n",
       " 'befor': 402,\n",
       " 'activities': 219,\n",
       " 'msgs': 1754,\n",
       " 'chat': 595,\n",
       " 'hardcore': 1209,\n",
       " 'services': 2301,\n",
       " 'age': 242,\n",
       " 'yr': 2993,\n",
       " 'lazy': 1459,\n",
       " 'type': 2728,\n",
       " 'lect': 1470,\n",
       " 'sir': 2367,\n",
       " 'mail': 1600,\n",
       " 'swt': 2540,\n",
       " 'tired': 2651,\n",
       " 'little': 1516,\n",
       " 'lovable': 1553,\n",
       " 'persons': 1952,\n",
       " 'coz': 704,\n",
       " 'those': 2628,\n",
       " 'biggest': 425,\n",
       " 'their': 2609,\n",
       " 'gud': 1176,\n",
       " 'ni8': 1803,\n",
       " 'open': 1870,\n",
       " 'ya': 2967,\n",
       " 'dot': 830,\n",
       " 'whats': 2882,\n",
       " 'staff': 2459,\n",
       " 'taking': 2551,\n",
       " 'replied': 2177,\n",
       " 'sexy': 2308,\n",
       " 'female': 982,\n",
       " 'local': 1525,\n",
       " 'luv': 1578,\n",
       " 'netcollex': 1793,\n",
       " 'ltd': 1573,\n",
       " 'begin': 404,\n",
       " 'qatar': 2089,\n",
       " 'pray': 2036,\n",
       " 'hard': 1208,\n",
       " 'deleted': 771,\n",
       " 'birla': 430,\n",
       " 'soft': 2406,\n",
       " 'wine': 2904,\n",
       " 'thk': 2624,\n",
       " 'floor': 1019,\n",
       " 'shirt': 2323,\n",
       " 'sometimes': 2417,\n",
       " 'dream': 836,\n",
       " 'without': 2916,\n",
       " 'joy': 1399,\n",
       " 'lots': 1548,\n",
       " 'tv': 2718,\n",
       " 'become': 396,\n",
       " 'leaving': 1469,\n",
       " 'house': 1277,\n",
       " 'interview': 1347,\n",
       " 'boy': 482,\n",
       " 'missing': 1700,\n",
       " 'years': 2974,\n",
       " 'arrange': 328,\n",
       " 'keep': 1415,\n",
       " 'safe': 2236,\n",
       " 'because': 395,\n",
       " 'everyone': 918,\n",
       " 'parents': 1916,\n",
       " 'hand': 1195,\n",
       " 'each': 860,\n",
       " 'spend': 2446,\n",
       " 'inviting': 1352,\n",
       " 'friend': 1053,\n",
       " '434': 121,\n",
       " 'frnd': 1057,\n",
       " '62468': 145,\n",
       " 'order': 1881,\n",
       " 'should': 2336,\n",
       " 'content': 684,\n",
       " 'goto': 1152,\n",
       " 'internet': 1346,\n",
       " 'menu': 1669,\n",
       " 'wit': 2913,\n",
       " 'escape': 904,\n",
       " 'fancy': 954,\n",
       " 'needs': 1790,\n",
       " 'completely': 666,\n",
       " 'also': 274,\n",
       " 'waste': 2847,\n",
       " 'bank': 378,\n",
       " 'hmmm': 1250,\n",
       " 'hop': 1265,\n",
       " 'muz': 1769,\n",
       " 'discuss': 805,\n",
       " 'liao': 1486,\n",
       " 'coming': 659,\n",
       " 'bloody': 449,\n",
       " 'hell': 1230,\n",
       " 'cant': 550,\n",
       " 'believe': 409,\n",
       " 'mr': 1748,\n",
       " 'ill': 1312,\n",
       " 'spanish': 2439,\n",
       " 'bath': 384,\n",
       " 'carlos': 561,\n",
       " 'mall': 1609,\n",
       " 'turns': 2717,\n",
       " 'staying': 2473,\n",
       " 'til': 2646,\n",
       " 'smoke': 2395,\n",
       " 'worth': 2943,\n",
       " 'doesnt': 818,\n",
       " 'log': 1527,\n",
       " 'spoke': 2451,\n",
       " 'maneesha': 1616,\n",
       " 'satisfied': 2244,\n",
       " 'experience': 937,\n",
       " 'toll': 2669,\n",
       " 'offer': 1846,\n",
       " 'especially': 906,\n",
       " 'studying': 2497,\n",
       " 'anyways': 303,\n",
       " 'gr8': 1157,\n",
       " 'trust': 2705,\n",
       " 'guys': 1182,\n",
       " 'bye': 523,\n",
       " 'working': 2936,\n",
       " 'towards': 2689,\n",
       " 'mummy': 1762,\n",
       " 'boytoy': 485,\n",
       " 'awesome': 366,\n",
       " 'minute': 1690,\n",
       " 'freephone': 1047,\n",
       " '0808': 15,\n",
       " '145': 58,\n",
       " '4742': 124,\n",
       " '9am': 195,\n",
       " '11pm': 50,\n",
       " 'xmas': 2961,\n",
       " 'radio': 2103,\n",
       " 'jus': 1405,\n",
       " 'bathe': 385,\n",
       " 'sis': 2368,\n",
       " 'using': 2776,\n",
       " 'finishes': 1004,\n",
       " 'unique': 2746,\n",
       " 'august': 353,\n",
       " 'joined': 1393,\n",
       " 'touch': 2685,\n",
       " 'deal': 756,\n",
       " 'personal': 1950,\n",
       " 'finally': 998,\n",
       " 'course': 702,\n",
       " 'itself': 1370,\n",
       " 'however': 1279,\n",
       " 'suggest': 2512,\n",
       " 'able': 203,\n",
       " 'every': 916,\n",
       " 'settled': 2305,\n",
       " 'mrng': 1749,\n",
       " 'hav': 1214,\n",
       " 'story': 2486,\n",
       " 'dead': 755,\n",
       " 'tmr': 2659,\n",
       " 'orchard': 1880,\n",
       " 'mrt': 1750,\n",
       " 'kate': 1413,\n",
       " 'evening': 914,\n",
       " 'found': 1039,\n",
       " 'bucks': 504,\n",
       " 'darlin': 744,\n",
       " 'ive': 1372,\n",
       " 'college': 651,\n",
       " 'successfully': 2509,\n",
       " 'decimal': 765,\n",
       " 'balance': 377,\n",
       " 'rs': 2225,\n",
       " 'transaction': 2694,\n",
       " 'id': 1302,\n",
       " 'goodmorning': 1145,\n",
       " 'sleeping': 2385,\n",
       " 'dat': 747,\n",
       " 'oso': 1888,\n",
       " 'cannot': 549,\n",
       " 'oredi': 1883,\n",
       " 'straight': 2488,\n",
       " 'connection': 679,\n",
       " 'before': 403,\n",
       " 'bill': 426,\n",
       " 'both': 471,\n",
       " 'shoot': 2328,\n",
       " 'big': 423,\n",
       " 'ready': 2128,\n",
       " 'break': 488,\n",
       " 'semester': 2287,\n",
       " 'study': 2496,\n",
       " 'noe': 1814,\n",
       " 'leh': 1475,\n",
       " 'sounds': 2433,\n",
       " 'slept': 2386,\n",
       " 'past': 1930,\n",
       " 'few': 985,\n",
       " 'nights': 1808,\n",
       " 'easy': 865,\n",
       " 'sen': 2288,\n",
       " 'exam': 925,\n",
       " 'march': 1619,\n",
       " 'atm': 348,\n",
       " 'register': 2159,\n",
       " 'os': 1887,\n",
       " 'called': 533,\n",
       " 'important': 1317,\n",
       " 'files': 992,\n",
       " 'system': 2543,\n",
       " 'shop': 2329,\n",
       " 'happen': 1201,\n",
       " 'romantic': 2215,\n",
       " 'nite': 1810,\n",
       " '500': 132,\n",
       " '89545': 189,\n",
       " 'collect': 647,\n",
       " 'tc': 2562,\n",
       " 'biz': 437,\n",
       " '2optout': 100,\n",
       " '087187262701': 29,\n",
       " '50gbp': 134,\n",
       " 'mtmsg18': 1757,\n",
       " 'appreciate': 311,\n",
       " 'partner': 1922,\n",
       " 'career': 556,\n",
       " 'off': 1845,\n",
       " 'start': 2465,\n",
       " 'followed': 1023,\n",
       " 'sign': 2353,\n",
       " 'company': 663,\n",
       " 'than': 2599,\n",
       " 'teacher': 2567,\n",
       " 'bcoz': 390,\n",
       " 'teaches': 2568,\n",
       " 'lessons': 1481,\n",
       " 'walk': 2829,\n",
       " 'cross': 716,\n",
       " ...}"
      ]
     },
     "execution_count": 162,
     "metadata": {},
     "output_type": "execute_result"
    }
   ],
   "source": [
    "vectorizer.vocabulary_ # przypisanie kolumn do slow"
   ]
  },
  {
   "cell_type": "markdown",
   "metadata": {
    "collapsed": true
   },
   "source": [
    "# Cel: zaimplementować w pełni zautomatyzowane znajdowanie najlepszego modelu\n",
    "\n",
    "Na samym początku wydzielić 1000 obserwacji na zbiór testowy, na którym na samym końcu przetestujemy najlepszy model. Podczas szukania najlepszego modelu nie dotykamy tego zbioru!\n",
    "\n",
    "Wejście:\n",
    "- lista modeli w postaci ogólnie, którą podaje się do funkcji Pipeline lub lista pipelinów,\n",
    "- lista siatek parametrów, które chcemy zbadać, dla odpowiadająych modeli,\n",
    "\n",
    "Wyjście \n",
    "- accuracy na zbiorze testowym dla każdego najlepszego wariantu danego modelu."
   ]
  },
  {
   "cell_type": "code",
   "execution_count": 163,
   "metadata": {},
   "outputs": [],
   "source": [
    "X = sms.message\n",
    "y = sms.label"
   ]
  },
  {
   "cell_type": "code",
   "execution_count": 172,
   "metadata": {},
   "outputs": [],
   "source": [
    "#wydzielenie zbiorow\n",
    "X_train, X_test , y_train, y_test = train_test_split(x,y,test_size=1000)"
   ]
  },
  {
   "cell_type": "code",
   "execution_count": 166,
   "metadata": {},
   "outputs": [],
   "source": [
    "models = [LogisticRegression(),DecisionTreeClassifier(),MultinomialNB()]"
   ]
  },
  {
   "cell_type": "code",
   "execution_count": 189,
   "metadata": {},
   "outputs": [
    {
     "name": "stdout",
     "output_type": "stream",
     "text": [
      "0.982\n",
      "0.971\n",
      "0.987\n"
     ]
    }
   ],
   "source": [
    "for model in models:\n",
    "    pipe = Pipeline([(\"scaler\", StandardScaler(with_mean=False)),\n",
    "                 (\"model\", model)])\n",
    "\n",
    "    param_grid = {\"scaler__with_std\": [True, False]}\n",
    "\n",
    "    gs = GridSearchCV(pipe, param_grid, cv = 10, n_jobs=-1)\n",
    "\n",
    "    gs.fit(X_train, y_train)\n",
    "    \n",
    "    #model.fit(X_train, y_train)\n",
    "    print(accuracy_score(y_test, gs.predict(X_test)))"
   ]
  },
  {
   "cell_type": "code",
   "execution_count": 190,
   "metadata": {},
   "outputs": [],
   "source": [
    "# rozwiazanie prowadzacego\n",
    "X,y = sms.message, sms.label\n",
    "X_train, X_test , y_train, y_test = train_test_split(X,y,test_size=1000)"
   ]
  },
  {
   "cell_type": "code",
   "execution_count": 193,
   "metadata": {},
   "outputs": [
    {
     "name": "stdout",
     "output_type": "stream",
     "text": [
      "0.974\n"
     ]
    }
   ],
   "source": [
    "pipeline = Pipeline([\n",
    "    (\"vectorizer\", CountVectorizer()),\n",
    "    (\"scaler\", StandardScaler(with_mean=False)),\n",
    "    (\"model\", LogisticRegression())\n",
    "])\n",
    "param_grid = {\"model__penalty\": [\"l1\",\"l2\"],\n",
    "              \"model__C\": [0.01, 0.1, 1, 10, 100]}\n",
    "\n",
    "gs = GridSearchCV(pipeline, param_grid, cv=10)\n",
    "gs.fit(X_train, y_train)\n",
    "print(accuracy_score(y_test, gs.predict(X_test)))"
   ]
  },
  {
   "cell_type": "code",
   "execution_count": null,
   "metadata": {},
   "outputs": [],
   "source": []
  }
 ],
 "metadata": {
  "kernelspec": {
   "display_name": "Python 3",
   "language": "python",
   "name": "python3"
  },
  "language_info": {
   "codemirror_mode": {
    "name": "ipython",
    "version": 3
   },
   "file_extension": ".py",
   "mimetype": "text/x-python",
   "name": "python",
   "nbconvert_exporter": "python",
   "pygments_lexer": "ipython3",
   "version": "3.7.0"
  }
 },
 "nbformat": 4,
 "nbformat_minor": 2
}
